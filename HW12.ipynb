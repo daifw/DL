{
 "cells": [
  {
   "cell_type": "markdown",
   "metadata": {
    "colab_type": "text"
   },
   "source": [
    "11-2"
   ]
  },
  {
   "cell_type": "markdown",
   "metadata": {},
   "source": [
    "This is a companion notebook for the book [Deep Learning with Python, Second Edition](https://www.manning.com/books/deep-learning-with-python-second-edition?a_aid=keras&a_bid=76564dff). For readability, it only contains runnable code blocks and section titles, and omits everything else in the book: text paragraphs, figures, and pseudocode.\n",
    "\n",
    "**If you want to be able to follow what's going on, I recommend reading the notebook side by side with your copy of the book.**\n",
    "\n",
    "This notebook was generated for TensorFlow 2.6."
   ]
  },
  {
   "cell_type": "markdown",
   "metadata": {
    "colab_type": "text"
   },
   "source": [
    "### Processing words as a sequence: The sequence model approach"
   ]
  },
  {
   "cell_type": "markdown",
   "metadata": {
    "colab_type": "text"
   },
   "source": [
    "#### A first practical example"
   ]
  },
  {
   "cell_type": "markdown",
   "metadata": {
    "colab_type": "text"
   },
   "source": [
    "**Downloading the data**"
   ]
  },
  {
   "cell_type": "code",
   "execution_count": 7,
   "metadata": {
    "colab_type": "code"
   },
   "outputs": [],
   "source": [
    "!curl -O https://ai.stanford.edu/~amaas/data/sentiment/aclImdb_v1.tar.gz\n",
    "!tar -xf aclImdb_v1.tar.gz\n",
    "!rm -r aclImdb/train/unsup"
   ]
  },
  {
   "cell_type": "markdown",
   "metadata": {
    "colab_type": "text"
   },
   "source": [
    "**Preparing the data**"
   ]
  },
  {
   "cell_type": "code",
   "execution_count": 16,
   "metadata": {},
   "outputs": [],
   "source": [
    "import os, pathlib, shutil, random\n",
    "from tensorflow import keras\n",
    "batch_size = 16\n",
    "base_dir = pathlib.Path(\"aclImdb\")\n",
    "val_dir = base_dir / \"val\"\n",
    "train_dir = base_dir / \"train\"\n",
    "for category in (\"neg\", \"pos\"):\n",
    "    os.makedirs(val_dir / category)\n",
    "    files = os.listdir(train_dir / category)\n",
    "    random.Random(1337).shuffle(files)\n",
    "    num_val_samples = int(0.2 * len(files))\n",
    "    val_files = files[-num_val_samples:]\n",
    "    for fname in val_files:\n",
    "        shutil.move(train_dir / category / fname,\n",
    "                    val_dir / category / fname)"
   ]
  },
  {
   "cell_type": "code",
   "execution_count": 17,
   "metadata": {
    "colab_type": "code"
   },
   "outputs": [
    {
     "name": "stdout",
     "output_type": "stream",
     "text": [
      "Found 16000 files belonging to 2 classes.\n",
      "Found 4000 files belonging to 2 classes.\n",
      "Found 25000 files belonging to 2 classes.\n"
     ]
    }
   ],
   "source": [
    "train_ds = keras.utils.text_dataset_from_directory(\n",
    "    \"aclImdb/train\", batch_size=batch_size\n",
    ")\n",
    "val_ds = keras.utils.text_dataset_from_directory(\n",
    "    \"aclImdb/val\", batch_size=batch_size\n",
    ")\n",
    "test_ds = keras.utils.text_dataset_from_directory(\n",
    "    \"aclImdb/test\", batch_size=batch_size\n",
    ")\n",
    "text_only_train_ds = train_ds.map(lambda x, y: x)"
   ]
  },
  {
   "cell_type": "markdown",
   "metadata": {
    "colab_type": "text"
   },
   "source": [
    "**Preparing integer sequence datasets**"
   ]
  },
  {
   "cell_type": "code",
   "execution_count": 18,
   "metadata": {
    "colab_type": "code"
   },
   "outputs": [],
   "source": [
    "from tensorflow.keras import layers\n",
    "\n",
    "max_length = 600\n",
    "max_tokens = 20000\n",
    "text_vectorization = layers.TextVectorization(\n",
    "    max_tokens=max_tokens,\n",
    "    output_mode=\"int\",\n",
    "    output_sequence_length=max_length,\n",
    ")\n",
    "text_vectorization.adapt(text_only_train_ds)\n",
    "\n",
    "int_train_ds = train_ds.map(\n",
    "    lambda x, y: (text_vectorization(x), y),\n",
    "    num_parallel_calls=4)\n",
    "int_val_ds = val_ds.map(\n",
    "    lambda x, y: (text_vectorization(x), y),\n",
    "    num_parallel_calls=4)\n",
    "int_test_ds = test_ds.map(\n",
    "    lambda x, y: (text_vectorization(x), y),\n",
    "    num_parallel_calls=4)"
   ]
  },
  {
   "cell_type": "markdown",
   "metadata": {
    "colab_type": "text"
   },
   "source": [
    "**A sequence model built on one-hot encoded vector sequences**"
   ]
  },
  {
   "cell_type": "markdown",
   "metadata": {},
   "source": [
    "出現錯誤Shape must be at least rank 3 but is rank 2 for '{{node BiasAdd}} = BiasAdd[T=DT_FLOAT, data_format=\"NCHW\"](add, bias)' with input shapes: [?,128], [128]."
   ]
  },
  {
   "cell_type": "code",
   "execution_count": 19,
   "metadata": {},
   "outputs": [],
   "source": [
    "if keras.backend.backend() =='tensorflow':\n",
    "    keras.backend.set_image_data_format(\"channels_last\")"
   ]
  },
  {
   "cell_type": "code",
   "execution_count": 20,
   "metadata": {
    "colab_type": "code"
   },
   "outputs": [
    {
     "name": "stdout",
     "output_type": "stream",
     "text": [
      "Model: \"model_1\"\n",
      "_________________________________________________________________\n",
      "Layer (type)                 Output Shape              Param #   \n",
      "=================================================================\n",
      "input_2 (InputLayer)         [(None, None)]            0         \n",
      "_________________________________________________________________\n",
      "tf.one_hot_1 (TFOpLambda)    (None, None, 20000)       0         \n",
      "_________________________________________________________________\n",
      "bidirectional_1 (Bidirection (None, 64)                5128448   \n",
      "_________________________________________________________________\n",
      "dropout_1 (Dropout)          (None, 64)                0         \n",
      "_________________________________________________________________\n",
      "dense_1 (Dense)              (None, 1)                 65        \n",
      "=================================================================\n",
      "Total params: 5,128,513\n",
      "Trainable params: 5,128,513\n",
      "Non-trainable params: 0\n",
      "_________________________________________________________________\n"
     ]
    }
   ],
   "source": [
    "import tensorflow as tf\n",
    "inputs = keras.Input(shape=(None,), dtype=\"int64\")\n",
    "embedded = tf.one_hot(inputs, depth=max_tokens)\n",
    "x = layers.Bidirectional(layers.LSTM(32))(embedded)\n",
    "x = layers.Dropout(0.5)(x)\n",
    "outputs = layers.Dense(1, activation=\"sigmoid\")(x)\n",
    "model = keras.Model(inputs, outputs)\n",
    "model.compile(optimizer=\"rmsprop\",\n",
    "              loss=\"binary_crossentropy\",\n",
    "              metrics=[\"accuracy\"])\n",
    "model.summary()"
   ]
  },
  {
   "cell_type": "markdown",
   "metadata": {
    "colab_type": "text"
   },
   "source": [
    "**Training a first basic sequence model**"
   ]
  },
  {
   "cell_type": "code",
   "execution_count": 21,
   "metadata": {
    "colab_type": "code"
   },
   "outputs": [
    {
     "name": "stdout",
     "output_type": "stream",
     "text": [
      "Epoch 1/10\n",
      "1000/1000 [==============================] - 110s 107ms/step - loss: 0.5294 - accuracy: 0.7471 - val_loss: 0.4987 - val_accuracy: 0.7997\n",
      "Epoch 2/10\n",
      "1000/1000 [==============================] - 107s 107ms/step - loss: 0.3517 - accuracy: 0.8686 - val_loss: 0.2961 - val_accuracy: 0.8857\n",
      "Epoch 3/10\n",
      "1000/1000 [==============================] - 107s 107ms/step - loss: 0.2834 - accuracy: 0.9016 - val_loss: 0.5636 - val_accuracy: 0.8602\n",
      "Epoch 4/10\n",
      "1000/1000 [==============================] - 107s 107ms/step - loss: 0.2466 - accuracy: 0.9152 - val_loss: 0.3132 - val_accuracy: 0.8783\n",
      "Epoch 5/10\n",
      "1000/1000 [==============================] - 107s 107ms/step - loss: 0.2263 - accuracy: 0.9236 - val_loss: 0.3109 - val_accuracy: 0.8895\n",
      "Epoch 6/10\n",
      "1000/1000 [==============================] - 107s 107ms/step - loss: 0.2016 - accuracy: 0.9335 - val_loss: 0.3390 - val_accuracy: 0.8665\n",
      "Epoch 7/10\n",
      "1000/1000 [==============================] - 107s 107ms/step - loss: 0.1712 - accuracy: 0.9437 - val_loss: 0.3855 - val_accuracy: 0.8558\n",
      "Epoch 8/10\n",
      "1000/1000 [==============================] - 107s 107ms/step - loss: 0.1552 - accuracy: 0.9493 - val_loss: 0.3574 - val_accuracy: 0.8788\n",
      "Epoch 9/10\n",
      "1000/1000 [==============================] - 107s 107ms/step - loss: 0.1328 - accuracy: 0.9582 - val_loss: 0.4180 - val_accuracy: 0.8537\n",
      "Epoch 10/10\n",
      "1000/1000 [==============================] - 107s 107ms/step - loss: 0.1066 - accuracy: 0.9666 - val_loss: 0.4527 - val_accuracy: 0.8770\n",
      "1563/1563 [==============================] - 101s 64ms/step - loss: 0.3122 - accuracy: 0.8755\n",
      "Test acc: 0.876\n"
     ]
    }
   ],
   "source": [
    "callbacks = [\n",
    "    keras.callbacks.ModelCheckpoint(\"one_hot_bidir_lstm.keras\",\n",
    "                                    save_best_only=True)\n",
    "]\n",
    "model.fit(int_train_ds, validation_data=int_val_ds, epochs=10, callbacks=callbacks)\n",
    "model = keras.models.load_model(\"one_hot_bidir_lstm.keras\")\n",
    "print(f\"Test acc: {model.evaluate(int_test_ds)[1]:.3f}\")"
   ]
  },
  {
   "cell_type": "markdown",
   "metadata": {
    "colab_type": "text"
   },
   "source": [
    "#### Understanding word embeddings"
   ]
  },
  {
   "cell_type": "markdown",
   "metadata": {
    "colab_type": "text"
   },
   "source": [
    "#### Learning word embeddings with the Embedding layer"
   ]
  },
  {
   "cell_type": "markdown",
   "metadata": {
    "colab_type": "text"
   },
   "source": [
    "**Instantiating an `Embedding` layer**"
   ]
  },
  {
   "cell_type": "code",
   "execution_count": 22,
   "metadata": {
    "colab_type": "code"
   },
   "outputs": [],
   "source": [
    "embedding_layer = layers.Embedding(input_dim=max_tokens, output_dim=256)"
   ]
  },
  {
   "cell_type": "markdown",
   "metadata": {
    "colab_type": "text"
   },
   "source": [
    "**Model that uses an `Embedding` layer trained from scratch**"
   ]
  },
  {
   "cell_type": "code",
   "execution_count": 23,
   "metadata": {
    "colab_type": "code"
   },
   "outputs": [
    {
     "name": "stdout",
     "output_type": "stream",
     "text": [
      "Model: \"model_2\"\n",
      "_________________________________________________________________\n",
      "Layer (type)                 Output Shape              Param #   \n",
      "=================================================================\n",
      "input_3 (InputLayer)         [(None, None)]            0         \n",
      "_________________________________________________________________\n",
      "embedding_1 (Embedding)      (None, None, 256)         5120000   \n",
      "_________________________________________________________________\n",
      "bidirectional_2 (Bidirection (None, 64)                73984     \n",
      "_________________________________________________________________\n",
      "dropout_2 (Dropout)          (None, 64)                0         \n",
      "_________________________________________________________________\n",
      "dense_2 (Dense)              (None, 1)                 65        \n",
      "=================================================================\n",
      "Total params: 5,194,049\n",
      "Trainable params: 5,194,049\n",
      "Non-trainable params: 0\n",
      "_________________________________________________________________\n",
      "Epoch 1/10\n",
      "1000/1000 [==============================] - 30s 28ms/step - loss: 0.4903 - accuracy: 0.7714 - val_loss: 0.4524 - val_accuracy: 0.8062\n",
      "Epoch 2/10\n",
      "1000/1000 [==============================] - 28s 27ms/step - loss: 0.3223 - accuracy: 0.8813 - val_loss: 0.3032 - val_accuracy: 0.8788\n",
      "Epoch 3/10\n",
      "1000/1000 [==============================] - 28s 27ms/step - loss: 0.2517 - accuracy: 0.9136 - val_loss: 0.3143 - val_accuracy: 0.8802\n",
      "Epoch 4/10\n",
      "1000/1000 [==============================] - 28s 28ms/step - loss: 0.2080 - accuracy: 0.9277 - val_loss: 0.3310 - val_accuracy: 0.8742\n",
      "Epoch 5/10\n",
      "1000/1000 [==============================] - 28s 28ms/step - loss: 0.1707 - accuracy: 0.9423 - val_loss: 0.3684 - val_accuracy: 0.8795\n",
      "Epoch 6/10\n",
      "1000/1000 [==============================] - 27s 27ms/step - loss: 0.1453 - accuracy: 0.9520 - val_loss: 0.3429 - val_accuracy: 0.8790\n",
      "Epoch 7/10\n",
      "1000/1000 [==============================] - 28s 28ms/step - loss: 0.1142 - accuracy: 0.9623 - val_loss: 0.3568 - val_accuracy: 0.8840\n",
      "Epoch 8/10\n",
      "1000/1000 [==============================] - 28s 28ms/step - loss: 0.0960 - accuracy: 0.9712 - val_loss: 0.3953 - val_accuracy: 0.8748\n",
      "Epoch 9/10\n",
      "1000/1000 [==============================] - 28s 28ms/step - loss: 0.0849 - accuracy: 0.9729 - val_loss: 0.4246 - val_accuracy: 0.8813\n",
      "Epoch 10/10\n",
      "1000/1000 [==============================] - 28s 28ms/step - loss: 0.0660 - accuracy: 0.9798 - val_loss: 0.6041 - val_accuracy: 0.8505\n",
      "1563/1563 [==============================] - 18s 11ms/step - loss: 0.3432 - accuracy: 0.8633\n",
      "Test acc: 0.863\n"
     ]
    }
   ],
   "source": [
    "inputs = keras.Input(shape=(None,), dtype=\"int64\")\n",
    "embedded = layers.Embedding(input_dim=max_tokens, output_dim=256)(inputs)\n",
    "x = layers.Bidirectional(layers.LSTM(32))(embedded)\n",
    "x = layers.Dropout(0.5)(x)\n",
    "outputs = layers.Dense(1, activation=\"sigmoid\")(x)\n",
    "model = keras.Model(inputs, outputs)\n",
    "model.compile(optimizer=\"rmsprop\",\n",
    "              loss=\"binary_crossentropy\",\n",
    "              metrics=[\"accuracy\"])\n",
    "model.summary()\n",
    "\n",
    "callbacks = [\n",
    "    keras.callbacks.ModelCheckpoint(\"embeddings_bidir_gru.keras\",\n",
    "                                    save_best_only=True)\n",
    "]\n",
    "model.fit(int_train_ds, validation_data=int_val_ds, epochs=10, callbacks=callbacks)\n",
    "model = keras.models.load_model(\"embeddings_bidir_gru.keras\")\n",
    "print(f\"Test acc: {model.evaluate(int_test_ds)[1]:.3f}\")"
   ]
  },
  {
   "cell_type": "markdown",
   "metadata": {
    "colab_type": "text"
   },
   "source": [
    "#### Understanding padding and masking"
   ]
  },
  {
   "cell_type": "markdown",
   "metadata": {
    "colab_type": "text"
   },
   "source": [
    "**Using an `Embedding` layer with masking enabled**"
   ]
  },
  {
   "cell_type": "code",
   "execution_count": 24,
   "metadata": {
    "colab_type": "code"
   },
   "outputs": [
    {
     "name": "stdout",
     "output_type": "stream",
     "text": [
      "Model: \"model_3\"\n",
      "_________________________________________________________________\n",
      "Layer (type)                 Output Shape              Param #   \n",
      "=================================================================\n",
      "input_4 (InputLayer)         [(None, None)]            0         \n",
      "_________________________________________________________________\n",
      "embedding_2 (Embedding)      (None, None, 256)         5120000   \n",
      "_________________________________________________________________\n",
      "bidirectional_3 (Bidirection (None, 64)                73984     \n",
      "_________________________________________________________________\n",
      "dropout_3 (Dropout)          (None, 64)                0         \n",
      "_________________________________________________________________\n",
      "dense_3 (Dense)              (None, 1)                 65        \n",
      "=================================================================\n",
      "Total params: 5,194,049\n",
      "Trainable params: 5,194,049\n",
      "Non-trainable params: 0\n",
      "_________________________________________________________________\n",
      "Epoch 1/10\n",
      "1000/1000 [==============================] - 38s 34ms/step - loss: 0.4114 - accuracy: 0.8081 - val_loss: 0.3501 - val_accuracy: 0.8503\n",
      "Epoch 2/10\n",
      "1000/1000 [==============================] - 32s 32ms/step - loss: 0.2432 - accuracy: 0.9082 - val_loss: 0.2905 - val_accuracy: 0.8835\n",
      "Epoch 3/10\n",
      "1000/1000 [==============================] - 32s 32ms/step - loss: 0.1746 - accuracy: 0.9353 - val_loss: 0.2978 - val_accuracy: 0.8855\n",
      "Epoch 4/10\n",
      "1000/1000 [==============================] - 32s 32ms/step - loss: 0.1291 - accuracy: 0.9541 - val_loss: 0.3401 - val_accuracy: 0.8852\n",
      "Epoch 5/10\n",
      "1000/1000 [==============================] - 32s 32ms/step - loss: 0.0920 - accuracy: 0.9681 - val_loss: 0.3843 - val_accuracy: 0.8865\n",
      "Epoch 6/10\n",
      "1000/1000 [==============================] - 32s 32ms/step - loss: 0.0714 - accuracy: 0.9753 - val_loss: 0.4150 - val_accuracy: 0.8675\n",
      "Epoch 7/10\n",
      "1000/1000 [==============================] - 32s 32ms/step - loss: 0.0516 - accuracy: 0.9824 - val_loss: 0.5080 - val_accuracy: 0.8562\n",
      "Epoch 8/10\n",
      "1000/1000 [==============================] - 32s 32ms/step - loss: 0.0361 - accuracy: 0.9889 - val_loss: 0.5126 - val_accuracy: 0.8760\n",
      "Epoch 9/10\n",
      "1000/1000 [==============================] - 32s 32ms/step - loss: 0.0264 - accuracy: 0.9918 - val_loss: 0.6303 - val_accuracy: 0.8683\n",
      "Epoch 10/10\n",
      "1000/1000 [==============================] - 32s 32ms/step - loss: 0.0174 - accuracy: 0.9943 - val_loss: 0.6642 - val_accuracy: 0.8522\n",
      "1563/1563 [==============================] - 20s 12ms/step - loss: 0.3160 - accuracy: 0.8708\n",
      "Test acc: 0.871\n"
     ]
    }
   ],
   "source": [
    "inputs = keras.Input(shape=(None,), dtype=\"int64\")\n",
    "embedded = layers.Embedding(\n",
    "    input_dim=max_tokens, output_dim=256, mask_zero=True)(inputs)\n",
    "x = layers.Bidirectional(layers.LSTM(32))(embedded)\n",
    "x = layers.Dropout(0.5)(x)\n",
    "outputs = layers.Dense(1, activation=\"sigmoid\")(x)\n",
    "model = keras.Model(inputs, outputs)\n",
    "model.compile(optimizer=\"rmsprop\",\n",
    "              loss=\"binary_crossentropy\",\n",
    "              metrics=[\"accuracy\"])\n",
    "model.summary()\n",
    "\n",
    "callbacks = [\n",
    "    keras.callbacks.ModelCheckpoint(\"embeddings_bidir_gru_with_masking.keras\",\n",
    "                                    save_best_only=True)\n",
    "]\n",
    "model.fit(int_train_ds, validation_data=int_val_ds, epochs=10, callbacks=callbacks)\n",
    "model = keras.models.load_model(\"embeddings_bidir_gru_with_masking.keras\")\n",
    "print(f\"Test acc: {model.evaluate(int_test_ds)[1]:.3f}\")"
   ]
  },
  {
   "cell_type": "markdown",
   "metadata": {
    "colab_type": "text"
   },
   "source": [
    "#### Using pretrained word embeddings"
   ]
  },
  {
   "cell_type": "code",
   "execution_count": 25,
   "metadata": {
    "colab_type": "code"
   },
   "outputs": [
    {
     "name": "stderr",
     "output_type": "stream",
     "text": [
      "'wget' 不是內部或外部命令、可執行的程式或批次檔。\n",
      "'unzip' 不是內部或外部命令、可執行的程式或批次檔。\n"
     ]
    }
   ],
   "source": [
    "!wget http://nlp.stanford.edu/data/glove.6B.zip\n",
    "!unzip -q glove.6B.zip"
   ]
  },
  {
   "cell_type": "code",
   "execution_count": 29,
   "metadata": {},
   "outputs": [],
   "source": [
    "import os\n",
    "import urllib.request\n",
    "import ssl\n",
    "\n",
    "path = os.getcwd()\n",
    "ssl._create_default_https_context = ssl._create_unverified_context\n",
    "\n",
    "def download_file(url):\n",
    "    files = path + '//' + url.split('/')[-1]\n",
    "    if os.path.isfile(files) == False:\n",
    "        urllib.request.urlretrieve(url, files)\n",
    "    print(files)\n",
    "download_file('http://nlp.stanford.edu/data/glove.6B.zip')"
   ]
  },
  {
   "cell_type": "code",
   "execution_count": 30,
   "metadata": {},
   "outputs": [],
   "source": [
    "import zipfile\n",
    "\n",
    "data_path = os.getcwd()\n",
    "with zipfile.ZipFile('glove.6B.zip', 'r') as zip_ref:\n",
    "    zip_ref.extractall(data_path)\n",
    "    "
   ]
  },
  {
   "cell_type": "markdown",
   "metadata": {
    "colab_type": "text"
   },
   "source": [
    "**Parsing the GloVe word-embeddings file**"
   ]
  },
  {
   "cell_type": "code",
   "execution_count": 33,
   "metadata": {
    "colab_type": "code"
   },
   "outputs": [
    {
     "name": "stdout",
     "output_type": "stream",
     "text": [
      "Found 400000 word vectors.\n"
     ]
    }
   ],
   "source": [
    "import numpy as np\n",
    "path_to_glove_file = \"glove.6B.100d.txt\"\n",
    "\n",
    "embeddings_index = {}\n",
    "with open(path_to_glove_file,encoding=\"utf-8\") as f:\n",
    "    for line in f:\n",
    "        word, coefs = line.split(maxsplit=1)\n",
    "        coefs = np.fromstring(coefs, \"f\", sep=\" \")\n",
    "        embeddings_index[word] = coefs\n",
    "\n",
    "print(f\"Found {len(embeddings_index)} word vectors.\")"
   ]
  },
  {
   "cell_type": "markdown",
   "metadata": {
    "colab_type": "text"
   },
   "source": [
    "**Preparing the GloVe word-embeddings matrix**"
   ]
  },
  {
   "cell_type": "code",
   "execution_count": 34,
   "metadata": {
    "colab_type": "code"
   },
   "outputs": [],
   "source": [
    "embedding_dim = 100\n",
    "\n",
    "vocabulary = text_vectorization.get_vocabulary()\n",
    "word_index = dict(zip(vocabulary, range(len(vocabulary))))\n",
    "\n",
    "embedding_matrix = np.zeros((max_tokens, embedding_dim))\n",
    "for word, i in word_index.items():\n",
    "    if i < max_tokens:\n",
    "        embedding_vector = embeddings_index.get(word)\n",
    "    if embedding_vector is not None:\n",
    "        embedding_matrix[i] = embedding_vector"
   ]
  },
  {
   "cell_type": "code",
   "execution_count": 35,
   "metadata": {
    "colab_type": "code"
   },
   "outputs": [],
   "source": [
    "embedding_layer = layers.Embedding(\n",
    "    max_tokens,\n",
    "    embedding_dim,\n",
    "    embeddings_initializer=keras.initializers.Constant(embedding_matrix),\n",
    "    trainable=False,\n",
    "    mask_zero=True,\n",
    ")"
   ]
  },
  {
   "cell_type": "markdown",
   "metadata": {
    "colab_type": "text"
   },
   "source": [
    "**Model that uses a pretrained Embedding layer**"
   ]
  },
  {
   "cell_type": "code",
   "execution_count": 36,
   "metadata": {
    "colab_type": "code"
   },
   "outputs": [
    {
     "name": "stdout",
     "output_type": "stream",
     "text": [
      "Model: \"model_4\"\n",
      "_________________________________________________________________\n",
      "Layer (type)                 Output Shape              Param #   \n",
      "=================================================================\n",
      "input_5 (InputLayer)         [(None, None)]            0         \n",
      "_________________________________________________________________\n",
      "embedding_3 (Embedding)      (None, None, 100)         2000000   \n",
      "_________________________________________________________________\n",
      "bidirectional_4 (Bidirection (None, 64)                34048     \n",
      "_________________________________________________________________\n",
      "dropout_4 (Dropout)          (None, 64)                0         \n",
      "_________________________________________________________________\n",
      "dense_4 (Dense)              (None, 1)                 65        \n",
      "=================================================================\n",
      "Total params: 2,034,113\n",
      "Trainable params: 34,113\n",
      "Non-trainable params: 2,000,000\n",
      "_________________________________________________________________\n",
      "Epoch 1/10\n",
      "1000/1000 [==============================] - 36s 32ms/step - loss: 0.5637 - accuracy: 0.6989 - val_loss: 0.5588 - val_accuracy: 0.7347\n",
      "Epoch 2/10\n",
      "1000/1000 [==============================] - 30s 30ms/step - loss: 0.4296 - accuracy: 0.8075 - val_loss: 0.4143 - val_accuracy: 0.8123\n",
      "Epoch 3/10\n",
      "1000/1000 [==============================] - 30s 30ms/step - loss: 0.3795 - accuracy: 0.8326 - val_loss: 0.3512 - val_accuracy: 0.8397\n",
      "Epoch 4/10\n",
      "1000/1000 [==============================] - 30s 30ms/step - loss: 0.3454 - accuracy: 0.8540 - val_loss: 0.3424 - val_accuracy: 0.8508\n",
      "Epoch 5/10\n",
      "1000/1000 [==============================] - 30s 30ms/step - loss: 0.3238 - accuracy: 0.8674 - val_loss: 0.3233 - val_accuracy: 0.8562\n",
      "Epoch 6/10\n",
      "1000/1000 [==============================] - 30s 30ms/step - loss: 0.3078 - accuracy: 0.8754 - val_loss: 0.3009 - val_accuracy: 0.8690\n",
      "Epoch 7/10\n",
      "1000/1000 [==============================] - 30s 30ms/step - loss: 0.2882 - accuracy: 0.8836 - val_loss: 0.2954 - val_accuracy: 0.8748\n",
      "Epoch 8/10\n",
      "1000/1000 [==============================] - 30s 30ms/step - loss: 0.2729 - accuracy: 0.8904 - val_loss: 0.3119 - val_accuracy: 0.8655\n",
      "Epoch 9/10\n",
      "1000/1000 [==============================] - 30s 30ms/step - loss: 0.2584 - accuracy: 0.8981 - val_loss: 0.3138 - val_accuracy: 0.8735\n",
      "Epoch 10/10\n",
      "1000/1000 [==============================] - 30s 30ms/step - loss: 0.2417 - accuracy: 0.9046 - val_loss: 0.3048 - val_accuracy: 0.8780\n",
      "1563/1563 [==============================] - 19s 11ms/step - loss: 0.3059 - accuracy: 0.8694\n",
      "Test acc: 0.869\n"
     ]
    }
   ],
   "source": [
    "inputs = keras.Input(shape=(None,), dtype=\"int64\")\n",
    "embedded = embedding_layer(inputs)\n",
    "x = layers.Bidirectional(layers.LSTM(32))(embedded)\n",
    "x = layers.Dropout(0.5)(x)\n",
    "outputs = layers.Dense(1, activation=\"sigmoid\")(x)\n",
    "model = keras.Model(inputs, outputs)\n",
    "model.compile(optimizer=\"rmsprop\",\n",
    "              loss=\"binary_crossentropy\",\n",
    "              metrics=[\"accuracy\"])\n",
    "model.summary()\n",
    "\n",
    "callbacks = [\n",
    "    keras.callbacks.ModelCheckpoint(\"glove_embeddings_sequence_model.keras\",\n",
    "                                    save_best_only=True)\n",
    "]\n",
    "model.fit(int_train_ds, validation_data=int_val_ds, epochs=10, callbacks=callbacks)\n",
    "model = keras.models.load_model(\"glove_embeddings_sequence_model.keras\")\n",
    "print(f\"Test acc: {model.evaluate(int_test_ds)[1]:.3f}\")"
   ]
  },
  {
   "cell_type": "code",
   "execution_count": null,
   "metadata": {},
   "outputs": [],
   "source": []
  }
 ],
 "metadata": {
  "colab": {
   "collapsed_sections": [],
   "name": "chapter11_part02_sequence-models.i",
   "private_outputs": false,
   "provenance": [],
   "toc_visible": true
  },
  "kernelspec": {
   "display_name": "Python 3 (ipykernel)",
   "language": "python",
   "name": "python3"
  },
  "language_info": {
   "codemirror_mode": {
    "name": "ipython",
    "version": 3
   },
   "file_extension": ".py",
   "mimetype": "text/x-python",
   "name": "python",
   "nbconvert_exporter": "python",
   "pygments_lexer": "ipython3",
   "version": "3.8.15"
  }
 },
 "nbformat": 4,
 "nbformat_minor": 4
}
