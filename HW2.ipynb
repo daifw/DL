{
  "cells": [
    {
      "cell_type": "markdown",
      "id": "4023bfc6-22aa-4545-8c19-48b4ae101a3b",
      "metadata": {
        "id": "4023bfc6-22aa-4545-8c19-48b4ae101a3b"
      },
      "source": [
        " Ch02"
      ]
    },
    {
      "cell_type": "code",
      "execution_count": 73,
      "id": "fe262b16-1ad9-4057-8abf-188f9f0ed3dc",
      "metadata": {
        "id": "fe262b16-1ad9-4057-8abf-188f9f0ed3dc"
      },
      "outputs": [],
      "source": [
        "import numpy as np\n",
        "import tensorflow as tf\n",
        "import tensorflow.keras as keras"
      ]
    },
    {
      "cell_type": "code",
      "execution_count": 74,
      "id": "c5f9aa07-85d8-47f3-a8a9-edd2264ea3fb",
      "metadata": {
        "id": "c5f9aa07-85d8-47f3-a8a9-edd2264ea3fb"
      },
      "outputs": [],
      "source": [
        "(xr,yr), (xt,yt)= keras.datasets.mnist.load_data()"
      ]
    },
    {
      "cell_type": "code",
      "execution_count": 76,
      "id": "8c5713fc-00c8-4659-8831-21ba3832f17e",
      "metadata": {
        "colab": {
          "base_uri": "https://localhost:8080/"
        },
        "id": "8c5713fc-00c8-4659-8831-21ba3832f17e",
        "outputId": "5b2ae7f7-b4d3-4e85-8ddd-2b45d75b4ee5"
      },
      "outputs": [
        {
          "output_type": "execute_result",
          "data": {
            "text/plain": [
              "((60000, 28, 28), (60000,), (10000, 28, 28), (10000,))"
            ]
          },
          "metadata": {},
          "execution_count": 76
        }
      ],
      "source": [
        "xr.shape, yr.shape, xt.shape, yt.shape"
      ]
    },
    {
      "cell_type": "code",
      "source": [
        "xr"
      ],
      "metadata": {
        "colab": {
          "base_uri": "https://localhost:8080/"
        },
        "id": "dTdfDehY2MMR",
        "outputId": "c3a44358-3e00-45aa-ec26-c5c75836f304"
      },
      "id": "dTdfDehY2MMR",
      "execution_count": 77,
      "outputs": [
        {
          "output_type": "execute_result",
          "data": {
            "text/plain": [
              "array([[[0, 0, 0, ..., 0, 0, 0],\n",
              "        [0, 0, 0, ..., 0, 0, 0],\n",
              "        [0, 0, 0, ..., 0, 0, 0],\n",
              "        ...,\n",
              "        [0, 0, 0, ..., 0, 0, 0],\n",
              "        [0, 0, 0, ..., 0, 0, 0],\n",
              "        [0, 0, 0, ..., 0, 0, 0]],\n",
              "\n",
              "       [[0, 0, 0, ..., 0, 0, 0],\n",
              "        [0, 0, 0, ..., 0, 0, 0],\n",
              "        [0, 0, 0, ..., 0, 0, 0],\n",
              "        ...,\n",
              "        [0, 0, 0, ..., 0, 0, 0],\n",
              "        [0, 0, 0, ..., 0, 0, 0],\n",
              "        [0, 0, 0, ..., 0, 0, 0]],\n",
              "\n",
              "       [[0, 0, 0, ..., 0, 0, 0],\n",
              "        [0, 0, 0, ..., 0, 0, 0],\n",
              "        [0, 0, 0, ..., 0, 0, 0],\n",
              "        ...,\n",
              "        [0, 0, 0, ..., 0, 0, 0],\n",
              "        [0, 0, 0, ..., 0, 0, 0],\n",
              "        [0, 0, 0, ..., 0, 0, 0]],\n",
              "\n",
              "       ...,\n",
              "\n",
              "       [[0, 0, 0, ..., 0, 0, 0],\n",
              "        [0, 0, 0, ..., 0, 0, 0],\n",
              "        [0, 0, 0, ..., 0, 0, 0],\n",
              "        ...,\n",
              "        [0, 0, 0, ..., 0, 0, 0],\n",
              "        [0, 0, 0, ..., 0, 0, 0],\n",
              "        [0, 0, 0, ..., 0, 0, 0]],\n",
              "\n",
              "       [[0, 0, 0, ..., 0, 0, 0],\n",
              "        [0, 0, 0, ..., 0, 0, 0],\n",
              "        [0, 0, 0, ..., 0, 0, 0],\n",
              "        ...,\n",
              "        [0, 0, 0, ..., 0, 0, 0],\n",
              "        [0, 0, 0, ..., 0, 0, 0],\n",
              "        [0, 0, 0, ..., 0, 0, 0]],\n",
              "\n",
              "       [[0, 0, 0, ..., 0, 0, 0],\n",
              "        [0, 0, 0, ..., 0, 0, 0],\n",
              "        [0, 0, 0, ..., 0, 0, 0],\n",
              "        ...,\n",
              "        [0, 0, 0, ..., 0, 0, 0],\n",
              "        [0, 0, 0, ..., 0, 0, 0],\n",
              "        [0, 0, 0, ..., 0, 0, 0]]], dtype=uint8)"
            ]
          },
          "metadata": {},
          "execution_count": 77
        }
      ]
    },
    {
      "cell_type": "code",
      "execution_count": 78,
      "id": "66533075-600c-49d1-9a29-4f3e5d8d7b03",
      "metadata": {
        "colab": {
          "base_uri": "https://localhost:8080/"
        },
        "id": "66533075-600c-49d1-9a29-4f3e5d8d7b03",
        "outputId": "3c06a084-b489-429b-b66a-58e091da8ded"
      },
      "outputs": [
        {
          "output_type": "stream",
          "name": "stdout",
          "text": [
            "  0  0  0  0  0  0  0  0  0  0  0  0  0  0  0  0  0  0  0  0  0  0  0  0  0  0  0  0\n",
            "  0  0  0  0  0  0  0  0  0  0  0  0  0  0  0  0  0  0  0  0  0  0  0  0  0  0  0  0\n",
            "  0  0  0  0  0  0  0  0  0  0  0  0  0  0  0  0  0  0  0  0  0  0  0  0  0  0  0  0\n",
            "  0  0  0  0  0  0  0  0  0  0  0  0  0  0  0  0  0  0  0  0  0  0  0  0  0  0  0  0\n",
            "  0  0  0  0  0  0  0  0  0  0  0  0  0  0  0  0  0  0  0  0  0  0  0  0  0  0  0  0\n",
            "  0  0  0  0  0  0  0  0  0  0  0  0  3 18 18 18126136175 26166255247127  0  0  0  0\n",
            "  0  0  0  0  0  0  0  0 30 36 94154170253253253253253225172253242195 64  0  0  0  0\n",
            "  0  0  0  0  0  0  0 49238253253253253253253253253251 93 82 82 56 39  0  0  0  0  0\n",
            "  0  0  0  0  0  0  0 18219253253253253253198182247241  0  0  0  0  0  0  0  0  0  0\n",
            "  0  0  0  0  0  0  0  0 80156107253253205 11  0 43154  0  0  0  0  0  0  0  0  0  0\n",
            "  0  0  0  0  0  0  0  0  0 14  1154253 90  0  0  0  0  0  0  0  0  0  0  0  0  0  0\n",
            "  0  0  0  0  0  0  0  0  0  0  0139253190  2  0  0  0  0  0  0  0  0  0  0  0  0  0\n",
            "  0  0  0  0  0  0  0  0  0  0  0 11190253 70  0  0  0  0  0  0  0  0  0  0  0  0  0\n",
            "  0  0  0  0  0  0  0  0  0  0  0  0 35241225160108  1  0  0  0  0  0  0  0  0  0  0\n",
            "  0  0  0  0  0  0  0  0  0  0  0  0  0 81240253253119 25  0  0  0  0  0  0  0  0  0\n",
            "  0  0  0  0  0  0  0  0  0  0  0  0  0  0 45186253253150 27  0  0  0  0  0  0  0  0\n",
            "  0  0  0  0  0  0  0  0  0  0  0  0  0  0  0 16 93252253187  0  0  0  0  0  0  0  0\n",
            "  0  0  0  0  0  0  0  0  0  0  0  0  0  0  0  0  0249253249 64  0  0  0  0  0  0  0\n",
            "  0  0  0  0  0  0  0  0  0  0  0  0  0  0 46130183253253207  2  0  0  0  0  0  0  0\n",
            "  0  0  0  0  0  0  0  0  0  0  0  0 39148229253253253250182  0  0  0  0  0  0  0  0\n",
            "  0  0  0  0  0  0  0  0  0  0 24114221253253253253201 78  0  0  0  0  0  0  0  0  0\n",
            "  0  0  0  0  0  0  0  0 23 66213253253253253198 81  2  0  0  0  0  0  0  0  0  0  0\n",
            "  0  0  0  0  0  0 18171219253253253253195 80  9  0  0  0  0  0  0  0  0  0  0  0  0\n",
            "  0  0  0  0 55172226253253253253244133 11  0  0  0  0  0  0  0  0  0  0  0  0  0  0\n",
            "  0  0  0  0136253253253212135132 16  0  0  0  0  0  0  0  0  0  0  0  0  0  0  0  0\n",
            "  0  0  0  0  0  0  0  0  0  0  0  0  0  0  0  0  0  0  0  0  0  0  0  0  0  0  0  0\n",
            "  0  0  0  0  0  0  0  0  0  0  0  0  0  0  0  0  0  0  0  0  0  0  0  0  0  0  0  0\n",
            "  0  0  0  0  0  0  0  0  0  0  0  0  0  0  0  0  0  0  0  0  0  0  0  0  0  0  0  0\n"
          ]
        }
      ],
      "source": [
        "x= xr[0]\n",
        "#%%\n",
        "for i in range(28):\n",
        "    for j in range(28):\n",
        "        z= x[i,j]\n",
        "        print(f'{z:3d}', end='')\n",
        "    print()"
      ]
    },
    {
      "cell_type": "code",
      "execution_count": 79,
      "id": "0c746e80-cd34-424c-b622-010923ce355a",
      "metadata": {
        "colab": {
          "base_uri": "https://localhost:8080/",
          "height": 283
        },
        "id": "0c746e80-cd34-424c-b622-010923ce355a",
        "outputId": "a65cc03a-52d5-4c2f-8039-9441b52c0be2"
      },
      "outputs": [
        {
          "output_type": "execute_result",
          "data": {
            "text/plain": [
              "<matplotlib.image.AxesImage at 0x7f6fe60ec390>"
            ]
          },
          "metadata": {},
          "execution_count": 79
        },
        {
          "output_type": "display_data",
          "data": {
            "text/plain": [
              "<Figure size 432x288 with 1 Axes>"
            ],
            "image/png": "[encoded data removed]"
          },
          "metadata": {
            "needs_background": "light"
          }
        }
      ],
      "source": [
        "import matplotlib.pyplot as pl\n",
        "pl.imshow(x)"
      ]
    },
    {
      "cell_type": "code",
      "execution_count": 80,
      "id": "ff90b2c5-df90-456c-aa2d-358a8e892c16",
      "metadata": {
        "colab": {
          "base_uri": "https://localhost:8080/"
        },
        "id": "ff90b2c5-df90-456c-aa2d-358a8e892c16",
        "outputId": "e825e64c-b005-4d74-d250-85b178addd35"
      },
      "outputs": [
        {
          "output_type": "stream",
          "name": "stdout",
          "text": [
            "y= 5\n"
          ]
        }
      ],
      "source": [
        "y= yr[0]\n",
        "print(f'{y= }')"
      ]
    },
    {
      "cell_type": "code",
      "execution_count": 81,
      "id": "7ad94416-53ca-4b00-96b6-936e8fe43f25",
      "metadata": {
        "id": "7ad94416-53ca-4b00-96b6-936e8fe43f25"
      },
      "outputs": [],
      "source": [
        "xr1= xr.reshape(-1, 28*28) \n",
        "xt1= xt.reshape(-1, 28*28) "
      ]
    },
    {
      "cell_type": "code",
      "source": [
        "xr1.shape"
      ],
      "metadata": {
        "colab": {
          "base_uri": "https://localhost:8080/"
        },
        "id": "PPOf44NxxB3M",
        "outputId": "cffd27e2-b49f-4696-a4e0-0a3d476ab0fd"
      },
      "id": "PPOf44NxxB3M",
      "execution_count": 82,
      "outputs": [
        {
          "output_type": "execute_result",
          "data": {
            "text/plain": [
              "(60000, 784)"
            ]
          },
          "metadata": {},
          "execution_count": 82
        }
      ]
    },
    {
      "cell_type": "code",
      "execution_count": 83,
      "id": "5c3bc9ff-8e3c-47ce-9061-ebf2f147c207",
      "metadata": {
        "id": "5c3bc9ff-8e3c-47ce-9061-ebf2f147c207"
      },
      "outputs": [],
      "source": [
        "aModel= keras.Sequential([\n",
        "    keras.Input(28*28),\n",
        "    keras.layers.Dense(100),    \n",
        "    keras.layers.Dense(10)   \n",
        "    ])\n",
        "\n",
        "aModel.compile(\n",
        "    loss=     'sparse_categorical_crossentropy',\n",
        "    metrics= ['accuracy']\n",
        "    )"
      ]
    },
    {
      "cell_type": "code",
      "execution_count": 84,
      "id": "089bbcac-dbda-45ce-bd12-6b5608bb8904",
      "metadata": {
        "colab": {
          "base_uri": "https://localhost:8080/",
          "height": 545
        },
        "id": "089bbcac-dbda-45ce-bd12-6b5608bb8904",
        "outputId": "155b84bd-690f-41dc-cf80-c73c99707a0d"
      },
      "outputs": [
        {
          "output_type": "stream",
          "name": "stdout",
          "text": [
            "Model: \"sequential_52\"\n",
            "_________________________________________________________________\n",
            " Layer (type)                Output Shape              Param #   \n",
            "=================================================================\n",
            " dense_119 (Dense)           (None, 100)               78500     \n",
            "                                                                 \n",
            " dense_120 (Dense)           (None, 10)                1010      \n",
            "                                                                 \n",
            "=================================================================\n",
            "Total params: 79,510\n",
            "Trainable params: 79,510\n",
            "Non-trainable params: 0\n",
            "_________________________________________________________________\n"
          ]
        },
        {
          "output_type": "execute_result",
          "data": {
            "image/png": "[encoded data removed]",
            "text/plain": [
              "<IPython.core.display.Image object>"
            ]
          },
          "metadata": {},
          "execution_count": 84
        }
      ],
      "source": [
        "aModel.summary()\n",
        "\n",
        "keras.utils.plot_model(aModel, \n",
        "    show_shapes= True, \n",
        "    show_layer_activations= True)"
      ]
    },
    {
      "cell_type": "code",
      "execution_count": 85,
      "id": "22b7e84f-a229-4e3b-bdd2-a7c7361b126d",
      "metadata": {
        "colab": {
          "base_uri": "https://localhost:8080/"
        },
        "id": "22b7e84f-a229-4e3b-bdd2-a7c7361b126d",
        "outputId": "5507691b-a6f7-4b0d-d6b4-bb82b2c8c3d1"
      },
      "outputs": [
        {
          "output_type": "stream",
          "name": "stdout",
          "text": [
            "Epoch 1/10\n",
            "600/600 [==============================] - 2s 3ms/step - loss: 4.1813 - accuracy: 0.8887\n",
            "Epoch 2/10\n",
            "600/600 [==============================] - 2s 3ms/step - loss: 0.6862 - accuracy: 0.9367\n",
            "Epoch 3/10\n",
            "600/600 [==============================] - 2s 3ms/step - loss: 0.3991 - accuracy: 0.9509\n",
            "Epoch 4/10\n",
            "600/600 [==============================] - 2s 3ms/step - loss: 0.3081 - accuracy: 0.9617\n",
            "Epoch 5/10\n",
            "600/600 [==============================] - 2s 3ms/step - loss: 0.2601 - accuracy: 0.9668\n",
            "Epoch 6/10\n",
            "600/600 [==============================] - 2s 3ms/step - loss: 0.2363 - accuracy: 0.9714\n",
            "Epoch 7/10\n",
            "600/600 [==============================] - 2s 3ms/step - loss: 0.1987 - accuracy: 0.9759\n",
            "Epoch 8/10\n",
            "600/600 [==============================] - 2s 3ms/step - loss: 0.1883 - accuracy: 0.9783\n",
            "Epoch 9/10\n",
            "600/600 [==============================] - 2s 3ms/step - loss: 0.1830 - accuracy: 0.9795\n",
            "Epoch 10/10\n",
            "600/600 [==============================] - 2s 3ms/step - loss: 0.1729 - accuracy: 0.9817\n",
            "313/313 [==============================] - 1s 2ms/step - loss: 0.5815 - accuracy: 0.9646\n"
          ]
        },
        {
          "output_type": "execute_result",
          "data": {
            "text/plain": [
              "[0.5814918279647827, 0.9646000266075134]"
            ]
          },
          "metadata": {},
          "execution_count": 85
        }
      ],
      "source": [
        "aModel= keras.Sequential([\n",
        "    keras.Input(28*28),\n",
        "    keras.layers.Dense(200, activation= 'relu'),    \n",
        "    keras.layers.Dense(10,  activation= 'softmax')\n",
        "    ])\n",
        "\n",
        "aModel.compile(\n",
        "    loss=     'sparse_categorical_crossentropy',\n",
        "    metrics= ['accuracy']\n",
        "    )\n",
        "\n",
        "aModel.fit(xr1, yr, \n",
        "           epochs= 10, \n",
        "           batch_size= 100)\n",
        "\n",
        "aModel.evaluate(xt1, yt)"
      ]
    },
    {
      "cell_type": "code",
      "execution_count": 86,
      "id": "5188adb1-dbc2-42af-97ca-297d0c33ae5f",
      "metadata": {
        "colab": {
          "base_uri": "https://localhost:8080/"
        },
        "id": "5188adb1-dbc2-42af-97ca-297d0c33ae5f",
        "outputId": "90383df0-c2b9-4ab6-a981-f4f7942afcca"
      },
      "outputs": [
        {
          "output_type": "stream",
          "name": "stdout",
          "text": [
            "Epoch 1/10\n",
            "600/600 [==============================] - 2s 3ms/step - loss: 2.6164 - accuracy: 0.8579\n",
            "Epoch 2/10\n",
            "600/600 [==============================] - 2s 3ms/step - loss: 0.5368 - accuracy: 0.9269\n",
            "Epoch 3/10\n",
            "600/600 [==============================] - 2s 3ms/step - loss: 0.3318 - accuracy: 0.9452\n",
            "Epoch 4/10\n",
            "600/600 [==============================] - 2s 3ms/step - loss: 0.2401 - accuracy: 0.9558\n",
            "Epoch 5/10\n",
            "600/600 [==============================] - 2s 3ms/step - loss: 0.1958 - accuracy: 0.9621\n",
            "Epoch 6/10\n",
            "600/600 [==============================] - 2s 3ms/step - loss: 0.1625 - accuracy: 0.9669\n",
            "Epoch 7/10\n",
            "600/600 [==============================] - 2s 3ms/step - loss: 0.1369 - accuracy: 0.9704\n",
            "Epoch 8/10\n",
            "600/600 [==============================] - 2s 3ms/step - loss: 0.1245 - accuracy: 0.9730\n",
            "Epoch 9/10\n",
            "600/600 [==============================] - 2s 3ms/step - loss: 0.1126 - accuracy: 0.9754\n",
            "Epoch 10/10\n",
            "600/600 [==============================] - 2s 3ms/step - loss: 0.1044 - accuracy: 0.9773\n",
            "313/313 [==============================] - 1s 3ms/step - loss: 0.3327 - accuracy: 0.9568\n"
          ]
        },
        {
          "output_type": "execute_result",
          "data": {
            "text/plain": [
              "[0.33271634578704834, 0.9567999839782715]"
            ]
          },
          "metadata": {},
          "execution_count": 86
        }
      ],
      "source": [
        "aModel= keras.Sequential([\n",
        "    keras.Input(28*28),\n",
        "    keras.layers.Dense(100, activation= 'relu'), \n",
        "    keras.layers.Dense(100, activation= 'relu'), \n",
        "    keras.layers.Dense(10,  activation= 'softmax')\n",
        "    ])\n",
        "\n",
        "aModel.compile(\n",
        "    loss=     'sparse_categorical_crossentropy',\n",
        "    metrics= ['accuracy']\n",
        "    )\n",
        "\n",
        "aModel.fit(xr1, yr, \n",
        "           epochs= 10, \n",
        "           batch_size= 100)\n",
        "\n",
        "aModel.evaluate(xt1, yt)"
      ]
    },
    {
      "cell_type": "code",
      "execution_count": 87,
      "id": "c2b2e1b9-b82c-4600-9fc4-9b03e513ea82",
      "metadata": {
        "colab": {
          "base_uri": "https://localhost:8080/",
          "height": 691
        },
        "id": "c2b2e1b9-b82c-4600-9fc4-9b03e513ea82",
        "outputId": "5c71d701-9c09-4e22-d9a1-2d4c7ebf9d25"
      },
      "outputs": [
        {
          "output_type": "stream",
          "name": "stdout",
          "text": [
            "Model: \"sequential_54\"\n",
            "_________________________________________________________________\n",
            " Layer (type)                Output Shape              Param #   \n",
            "=================================================================\n",
            " dense_123 (Dense)           (None, 100)               78500     \n",
            "                                                                 \n",
            " dense_124 (Dense)           (None, 100)               10100     \n",
            "                                                                 \n",
            " dense_125 (Dense)           (None, 10)                1010      \n",
            "                                                                 \n",
            "=================================================================\n",
            "Total params: 89,610\n",
            "Trainable params: 89,610\n",
            "Non-trainable params: 0\n",
            "_________________________________________________________________\n"
          ]
        },
        {
          "output_type": "execute_result",
          "data": {
            "image/png": "[encoded data removed]",
            "text/plain": [
              "<IPython.core.display.Image object>"
            ]
          },
          "metadata": {},
          "execution_count": 87
        }
      ],
      "source": [
        "aModel.summary()\n",
        "\n",
        "keras.utils.plot_model(aModel, \n",
        "    show_shapes= True, \n",
        "    show_layer_activations= True)"
      ]
    },
    {
      "cell_type": "markdown",
      "id": "8b4ee66f-1d7c-4cf2-bc53-6107399974b9",
      "metadata": {
        "id": "8b4ee66f-1d7c-4cf2-bc53-6107399974b9"
      },
      "source": [
        "# 想想看，你能做那些改進來提升正確率 (accuracy) ？\n"
      ]
    },
    {
      "cell_type": "code",
      "execution_count": 88,
      "id": "41d802a2-1411-4e0f-b9e3-8aaba68b5323",
      "metadata": {
        "colab": {
          "base_uri": "https://localhost:8080/"
        },
        "id": "41d802a2-1411-4e0f-b9e3-8aaba68b5323",
        "outputId": "02954794-3b79-4bef-95e1-d7665c49d976"
      },
      "outputs": [
        {
          "output_type": "stream",
          "name": "stdout",
          "text": [
            "Epoch 1/10\n",
            "600/600 [==============================] - 2s 3ms/step - loss: 3.7423 - accuracy: 0.8450\n",
            "Epoch 2/10\n",
            "600/600 [==============================] - 2s 3ms/step - loss: 0.4696 - accuracy: 0.9179\n",
            "Epoch 3/10\n",
            "600/600 [==============================] - 2s 3ms/step - loss: 0.3490 - accuracy: 0.9373\n",
            "Epoch 4/10\n",
            "600/600 [==============================] - 2s 3ms/step - loss: 0.2901 - accuracy: 0.9474\n",
            "Epoch 5/10\n",
            "600/600 [==============================] - 2s 3ms/step - loss: 0.2519 - accuracy: 0.9536\n",
            "Epoch 6/10\n",
            "600/600 [==============================] - 2s 3ms/step - loss: 0.2329 - accuracy: 0.9575\n",
            "Epoch 7/10\n",
            "600/600 [==============================] - 2s 3ms/step - loss: 0.2114 - accuracy: 0.9622\n",
            "Epoch 8/10\n",
            "600/600 [==============================] - 2s 3ms/step - loss: 0.1850 - accuracy: 0.9652\n",
            "Epoch 9/10\n",
            "600/600 [==============================] - 2s 3ms/step - loss: 0.1756 - accuracy: 0.9690\n",
            "Epoch 10/10\n",
            "600/600 [==============================] - 2s 3ms/step - loss: 0.1686 - accuracy: 0.9702\n",
            "313/313 [==============================] - 1s 2ms/step - loss: 0.4072 - accuracy: 0.9586\n"
          ]
        },
        {
          "output_type": "execute_result",
          "data": {
            "text/plain": [
              "[0.4072016477584839, 0.9585999846458435]"
            ]
          },
          "metadata": {},
          "execution_count": 88
        }
      ],
      "source": [
        "aModel= keras.Sequential([\n",
        "    keras.Input(28*28),\n",
        "    keras.layers.Dense(100,  activation= 'relu'), \n",
        "    keras.layers.Dense(10,  activation= 'softmax')\n",
        "    ])\n",
        "\n",
        "aModel.compile(\n",
        "    loss=     'sparse_categorical_crossentropy',\n",
        "    metrics= ['accuracy']\n",
        "    )\n",
        "\n",
        "aModel.fit(xr1, yr, \n",
        "           epochs= 10, \n",
        "           batch_size= 100)\n",
        "\n",
        "aModel.evaluate(xt1, yt)"
      ]
    },
    {
      "cell_type": "code",
      "execution_count": 89,
      "id": "8b26b3a7-bbf2-45b2-966c-328008118f64",
      "metadata": {
        "colab": {
          "base_uri": "https://localhost:8080/"
        },
        "id": "8b26b3a7-bbf2-45b2-966c-328008118f64",
        "outputId": "84078919-3e18-49e1-c10d-bf49a5302d4a"
      },
      "outputs": [
        {
          "output_type": "stream",
          "name": "stdout",
          "text": [
            "Epoch 1/10\n",
            "600/600 [==============================] - 2s 3ms/step - loss: 0.3288 - accuracy: 0.9084\n",
            "Epoch 2/10\n",
            "600/600 [==============================] - 2s 3ms/step - loss: 0.1609 - accuracy: 0.9537\n",
            "Epoch 3/10\n",
            "600/600 [==============================] - 2s 4ms/step - loss: 0.1166 - accuracy: 0.9661\n",
            "Epoch 4/10\n",
            "600/600 [==============================] - 2s 3ms/step - loss: 0.0916 - accuracy: 0.9735\n",
            "Epoch 5/10\n",
            "600/600 [==============================] - 2s 3ms/step - loss: 0.0757 - accuracy: 0.9781\n",
            "Epoch 6/10\n",
            "600/600 [==============================] - 2s 3ms/step - loss: 0.0646 - accuracy: 0.9809\n",
            "Epoch 7/10\n",
            "600/600 [==============================] - 2s 3ms/step - loss: 0.0549 - accuracy: 0.9838\n",
            "Epoch 8/10\n",
            "600/600 [==============================] - 2s 3ms/step - loss: 0.0485 - accuracy: 0.9860\n",
            "Epoch 9/10\n",
            "600/600 [==============================] - 2s 3ms/step - loss: 0.0421 - accuracy: 0.9879\n",
            "Epoch 10/10\n",
            "600/600 [==============================] - 2s 3ms/step - loss: 0.0373 - accuracy: 0.9892\n",
            "313/313 [==============================] - 1s 2ms/step - loss: 0.0839 - accuracy: 0.9754\n"
          ]
        },
        {
          "output_type": "execute_result",
          "data": {
            "text/plain": [
              "[0.08388601988554001, 0.9753999710083008]"
            ]
          },
          "metadata": {},
          "execution_count": 89
        }
      ],
      "source": [
        "xr1= xr.reshape(-1,28*28) /255\n",
        "xt1= xt.reshape(-1,28*28) /255\n",
        "\n",
        "aModel= keras.Sequential([\n",
        "    keras.Input(28*28),\n",
        "    keras.layers.Dense(100,  activation= 'relu'), \n",
        "    keras.layers.Dense(10,  activation= 'softmax')\n",
        "    ])\n",
        "\n",
        "aModel.compile(\n",
        "    loss=     'sparse_categorical_crossentropy',\n",
        "    metrics= ['accuracy']\n",
        "    )\n",
        "\n",
        "aModel.fit(xr1, yr, \n",
        "           epochs= 10, \n",
        "           batch_size= 100)\n",
        "\n",
        "aModel.evaluate(xt1, yt)"
      ]
    },
    {
      "cell_type": "code",
      "source": [
        "aModel= keras.Sequential([\n",
        "    keras.Input(28*28),\n",
        "    keras.layers.Dense(100,  activation= 'relu'), \n",
        "    keras.layers.Dense(20,  activation= 'relu'), \n",
        "    keras.layers.Dense(10,  activation= 'softmax')\n",
        "    ])\n",
        "\n",
        "aModel.compile(\n",
        "    loss=     'sparse_categorical_crossentropy',\n",
        "    metrics= ['accuracy']\n",
        "    )\n",
        "\n",
        "aModel.fit(xr1, yr, \n",
        "           epochs= 10, \n",
        "           batch_size= 100)\n",
        "\n",
        "aModel.evaluate(xt1, yt)"
      ],
      "metadata": {
        "colab": {
          "base_uri": "https://localhost:8080/"
        },
        "id": "1B4cn0kfyJTD",
        "outputId": "b265e13e-f24e-45b5-fffa-3316a36fa2b2"
      },
      "id": "1B4cn0kfyJTD",
      "execution_count": 90,
      "outputs": [
        {
          "output_type": "stream",
          "name": "stdout",
          "text": [
            "Epoch 1/10\n",
            "600/600 [==============================] - 2s 3ms/step - loss: 0.3531 - accuracy: 0.9033\n",
            "Epoch 2/10\n",
            "600/600 [==============================] - 2s 3ms/step - loss: 0.1522 - accuracy: 0.9556\n",
            "Epoch 3/10\n",
            "600/600 [==============================] - 2s 3ms/step - loss: 0.1113 - accuracy: 0.9669\n",
            "Epoch 4/10\n",
            "600/600 [==============================] - 2s 3ms/step - loss: 0.0878 - accuracy: 0.9735\n",
            "Epoch 5/10\n",
            "600/600 [==============================] - 2s 3ms/step - loss: 0.0728 - accuracy: 0.9774\n",
            "Epoch 6/10\n",
            "600/600 [==============================] - 2s 3ms/step - loss: 0.0625 - accuracy: 0.9811\n",
            "Epoch 7/10\n",
            "600/600 [==============================] - 2s 3ms/step - loss: 0.0532 - accuracy: 0.9839\n",
            "Epoch 8/10\n",
            "600/600 [==============================] - 2s 3ms/step - loss: 0.0458 - accuracy: 0.9861\n",
            "Epoch 9/10\n",
            "600/600 [==============================] - 2s 3ms/step - loss: 0.0403 - accuracy: 0.9875\n",
            "Epoch 10/10\n",
            "600/600 [==============================] - 2s 3ms/step - loss: 0.0354 - accuracy: 0.9896\n",
            "313/313 [==============================] - 1s 2ms/step - loss: 0.0927 - accuracy: 0.9741\n"
          ]
        },
        {
          "output_type": "execute_result",
          "data": {
            "text/plain": [
              "[0.09265627712011337, 0.9740999937057495]"
            ]
          },
          "metadata": {},
          "execution_count": 90
        }
      ]
    },
    {
      "cell_type": "code",
      "source": [
        "aModel= keras.Sequential([\n",
        "    keras.Input(28*28),\n",
        "    keras.layers.Dense(300,  activation= 'relu'), \n",
        "    keras.layers.Dense(10,  activation= 'softmax')\n",
        "    ])\n",
        "\n",
        "aModel.compile(\n",
        "    loss=     'sparse_categorical_crossentropy',\n",
        "    metrics= ['accuracy']\n",
        "    )\n",
        "\n",
        "aModel.fit(xr1, yr, \n",
        "           epochs= 10, \n",
        "           batch_size= 100)\n",
        "\n",
        "aModel.evaluate(xt1, yt)"
      ],
      "metadata": {
        "colab": {
          "base_uri": "https://localhost:8080/"
        },
        "id": "J6Fn6BSf89K6",
        "outputId": "221c631c-a0aa-4a5a-cc95-17c890a64a2d"
      },
      "id": "J6Fn6BSf89K6",
      "execution_count": 91,
      "outputs": [
        {
          "output_type": "stream",
          "name": "stdout",
          "text": [
            "Epoch 1/10\n",
            "600/600 [==============================] - 2s 3ms/step - loss: 0.2662 - accuracy: 0.9244\n",
            "Epoch 2/10\n",
            "600/600 [==============================] - 2s 3ms/step - loss: 0.1134 - accuracy: 0.9668\n",
            "Epoch 3/10\n",
            "600/600 [==============================] - 2s 3ms/step - loss: 0.0769 - accuracy: 0.9769\n",
            "Epoch 4/10\n",
            "600/600 [==============================] - 2s 3ms/step - loss: 0.0584 - accuracy: 0.9827\n",
            "Epoch 5/10\n",
            "600/600 [==============================] - 2s 3ms/step - loss: 0.0452 - accuracy: 0.9864\n",
            "Epoch 6/10\n",
            "600/600 [==============================] - 2s 3ms/step - loss: 0.0360 - accuracy: 0.9896\n",
            "Epoch 7/10\n",
            "600/600 [==============================] - 2s 3ms/step - loss: 0.0287 - accuracy: 0.9916\n",
            "Epoch 8/10\n",
            "600/600 [==============================] - 2s 3ms/step - loss: 0.0225 - accuracy: 0.9934\n",
            "Epoch 9/10\n",
            "600/600 [==============================] - 2s 3ms/step - loss: 0.0180 - accuracy: 0.9947\n",
            "Epoch 10/10\n",
            "600/600 [==============================] - 2s 3ms/step - loss: 0.0149 - accuracy: 0.9958\n",
            "313/313 [==============================] - 1s 2ms/step - loss: 0.0761 - accuracy: 0.9797\n"
          ]
        },
        {
          "output_type": "execute_result",
          "data": {
            "text/plain": [
              "[0.07605292648077011, 0.9797000288963318]"
            ]
          },
          "metadata": {},
          "execution_count": 91
        }
      ]
    },
    {
      "cell_type": "code",
      "source": [
        "aModel= keras.Sequential([\n",
        "    keras.Input(28*28),\n",
        "    keras.layers.Dense(500,  activation= 'relu'), \n",
        "    keras.layers.Dense(10,  activation= 'softmax')\n",
        "    ])\n",
        "\n",
        "aModel.compile(\n",
        "    loss=     'sparse_categorical_crossentropy',\n",
        "    metrics= ['accuracy']\n",
        "    )\n",
        "\n",
        "aModel.fit(xr1, yr, \n",
        "           epochs= 10, \n",
        "           batch_size= 100)\n",
        "\n",
        "aModel.evaluate(xt1, yt)"
      ],
      "metadata": {
        "colab": {
          "base_uri": "https://localhost:8080/"
        },
        "id": "Df27YQCh0z-Z",
        "outputId": "48ff63e7-a593-4080-afce-5d6f01687783"
      },
      "id": "Df27YQCh0z-Z",
      "execution_count": 92,
      "outputs": [
        {
          "output_type": "stream",
          "name": "stdout",
          "text": [
            "Epoch 1/10\n",
            "600/600 [==============================] - 2s 3ms/step - loss: 0.2413 - accuracy: 0.9291\n",
            "Epoch 2/10\n",
            "600/600 [==============================] - 2s 3ms/step - loss: 0.0973 - accuracy: 0.9710\n",
            "Epoch 3/10\n",
            "600/600 [==============================] - 2s 3ms/step - loss: 0.0647 - accuracy: 0.9811\n",
            "Epoch 4/10\n",
            "600/600 [==============================] - 2s 3ms/step - loss: 0.0465 - accuracy: 0.9861\n",
            "Epoch 5/10\n",
            "600/600 [==============================] - 2s 3ms/step - loss: 0.0372 - accuracy: 0.9889\n",
            "Epoch 6/10\n",
            "600/600 [==============================] - 2s 3ms/step - loss: 0.0272 - accuracy: 0.9915\n",
            "Epoch 7/10\n",
            "600/600 [==============================] - 2s 3ms/step - loss: 0.0213 - accuracy: 0.9939\n",
            "Epoch 8/10\n",
            "600/600 [==============================] - 2s 3ms/step - loss: 0.0163 - accuracy: 0.9953\n",
            "Epoch 9/10\n",
            "600/600 [==============================] - 1s 2ms/step - loss: 0.0132 - accuracy: 0.9963\n",
            "Epoch 10/10\n",
            "600/600 [==============================] - 2s 3ms/step - loss: 0.0103 - accuracy: 0.9970\n",
            "313/313 [==============================] - 1s 2ms/step - loss: 0.0780 - accuracy: 0.9813\n"
          ]
        },
        {
          "output_type": "execute_result",
          "data": {
            "text/plain": [
              "[0.07802191376686096, 0.9812999963760376]"
            ]
          },
          "metadata": {},
          "execution_count": 92
        }
      ]
    },
    {
      "cell_type": "code",
      "execution_count": 93,
      "id": "94d687ab-36e6-4c47-b181-0ced7cc1fabc",
      "metadata": {
        "colab": {
          "base_uri": "https://localhost:8080/"
        },
        "id": "94d687ab-36e6-4c47-b181-0ced7cc1fabc",
        "outputId": "63a277a5-a027-41c7-d90a-ba5cb5054471"
      },
      "outputs": [
        {
          "output_type": "stream",
          "name": "stdout",
          "text": [
            "Epoch 1/20\n",
            "600/600 [==============================] - 2s 3ms/step - loss: 0.3333 - accuracy: 0.9086\n",
            "Epoch 2/20\n",
            "600/600 [==============================] - 2s 3ms/step - loss: 0.1632 - accuracy: 0.9532\n",
            "Epoch 3/20\n",
            "600/600 [==============================] - 2s 3ms/step - loss: 0.1196 - accuracy: 0.9660\n",
            "Epoch 4/20\n",
            "600/600 [==============================] - 2s 3ms/step - loss: 0.0954 - accuracy: 0.9726\n",
            "Epoch 5/20\n",
            "600/600 [==============================] - 2s 3ms/step - loss: 0.0791 - accuracy: 0.9775\n",
            "Epoch 6/20\n",
            "600/600 [==============================] - 1s 2ms/step - loss: 0.0672 - accuracy: 0.9807\n",
            "Epoch 7/20\n",
            "600/600 [==============================] - 2s 3ms/step - loss: 0.0578 - accuracy: 0.9836\n",
            "Epoch 8/20\n",
            "600/600 [==============================] - 2s 3ms/step - loss: 0.0503 - accuracy: 0.9853\n",
            "Epoch 9/20\n",
            "600/600 [==============================] - 2s 3ms/step - loss: 0.0438 - accuracy: 0.9877\n",
            "Epoch 10/20\n",
            "600/600 [==============================] - 1s 2ms/step - loss: 0.0390 - accuracy: 0.9895\n",
            "Epoch 11/20\n",
            "600/600 [==============================] - 2s 3ms/step - loss: 0.0347 - accuracy: 0.9904\n",
            "Epoch 12/20\n",
            "600/600 [==============================] - 2s 3ms/step - loss: 0.0307 - accuracy: 0.9912\n",
            "Epoch 13/20\n",
            "600/600 [==============================] - 2s 3ms/step - loss: 0.0272 - accuracy: 0.9924\n",
            "Epoch 14/20\n",
            "600/600 [==============================] - 2s 3ms/step - loss: 0.0244 - accuracy: 0.9936\n",
            "Epoch 15/20\n",
            "600/600 [==============================] - 2s 3ms/step - loss: 0.0223 - accuracy: 0.9940\n",
            "Epoch 16/20\n",
            "600/600 [==============================] - 2s 3ms/step - loss: 0.0193 - accuracy: 0.9948\n",
            "Epoch 17/20\n",
            "600/600 [==============================] - 1s 2ms/step - loss: 0.0175 - accuracy: 0.9956\n",
            "Epoch 18/20\n",
            "600/600 [==============================] - 2s 3ms/step - loss: 0.0158 - accuracy: 0.9960\n",
            "Epoch 19/20\n",
            "600/600 [==============================] - 1s 2ms/step - loss: 0.0138 - accuracy: 0.9967\n",
            "Epoch 20/20\n",
            "600/600 [==============================] - 2s 2ms/step - loss: 0.0125 - accuracy: 0.9970\n",
            "313/313 [==============================] - 1s 2ms/step - loss: 0.0914 - accuracy: 0.9778\n"
          ]
        },
        {
          "output_type": "execute_result",
          "data": {
            "text/plain": [
              "[0.09139470756053925, 0.9778000116348267]"
            ]
          },
          "metadata": {},
          "execution_count": 93
        }
      ],
      "source": [
        "aModel= keras.Sequential([\n",
        "    keras.Input(28*28),\n",
        "    keras.layers.Dense(100,  activation= 'relu'), \n",
        "    keras.layers.Dense(10,  activation= 'softmax')\n",
        "    ])\n",
        "\n",
        "aModel.compile(\n",
        "    loss=     'sparse_categorical_crossentropy',\n",
        "    metrics= ['accuracy']\n",
        "    )\n",
        "\n",
        "aModel.fit(xr1, yr, \n",
        "           epochs= 20, \n",
        "           batch_size= 100)\n",
        "\n",
        "aModel.evaluate(xt1, yt)"
      ]
    },
    {
      "cell_type": "code",
      "source": [
        "aModel= keras.Sequential([\n",
        "    keras.Input(28*28),\n",
        "    keras.layers.Dense(500,  activation= 'relu'), \n",
        "    keras.layers.Dense(10,  activation= 'softmax')\n",
        "    ])\n",
        "\n",
        "aModel.compile(\n",
        "    loss=     'sparse_categorical_crossentropy',\n",
        "    metrics= ['accuracy']\n",
        "    )\n",
        "\n",
        "aModel.fit(xr1, yr, \n",
        "           epochs= 20, \n",
        "           batch_size= 120)\n",
        "\n",
        "aModel.evaluate(xt1, yt)"
      ],
      "metadata": {
        "colab": {
          "base_uri": "https://localhost:8080/"
        },
        "id": "ObfemG0C4SlW",
        "outputId": "958812f1-da41-4675-964a-dec13b4ed2c9"
      },
      "id": "ObfemG0C4SlW",
      "execution_count": 94,
      "outputs": [
        {
          "output_type": "stream",
          "name": "stdout",
          "text": [
            "Epoch 1/20\n",
            "500/500 [==============================] - 2s 3ms/step - loss: 0.2547 - accuracy: 0.9261\n",
            "Epoch 2/20\n",
            "500/500 [==============================] - 1s 3ms/step - loss: 0.1034 - accuracy: 0.9697\n",
            "Epoch 3/20\n",
            "500/500 [==============================] - 1s 3ms/step - loss: 0.0678 - accuracy: 0.9797\n",
            "Epoch 4/20\n",
            "500/500 [==============================] - 1s 3ms/step - loss: 0.0499 - accuracy: 0.9850\n",
            "Epoch 5/20\n",
            "500/500 [==============================] - 1s 3ms/step - loss: 0.0377 - accuracy: 0.9888\n",
            "Epoch 6/20\n",
            "500/500 [==============================] - 1s 3ms/step - loss: 0.0295 - accuracy: 0.9911\n",
            "Epoch 7/20\n",
            "500/500 [==============================] - 1s 3ms/step - loss: 0.0220 - accuracy: 0.9934\n",
            "Epoch 8/20\n",
            "500/500 [==============================] - 1s 3ms/step - loss: 0.0170 - accuracy: 0.9949\n",
            "Epoch 9/20\n",
            "500/500 [==============================] - 1s 3ms/step - loss: 0.0136 - accuracy: 0.9961\n",
            "Epoch 10/20\n",
            "500/500 [==============================] - 1s 3ms/step - loss: 0.0103 - accuracy: 0.9970\n",
            "Epoch 11/20\n",
            "500/500 [==============================] - 1s 3ms/step - loss: 0.0085 - accuracy: 0.9976\n",
            "Epoch 12/20\n",
            "500/500 [==============================] - 1s 3ms/step - loss: 0.0062 - accuracy: 0.9984\n",
            "Epoch 13/20\n",
            "500/500 [==============================] - 1s 3ms/step - loss: 0.0051 - accuracy: 0.9986\n",
            "Epoch 14/20\n",
            "500/500 [==============================] - 1s 3ms/step - loss: 0.0038 - accuracy: 0.9989\n",
            "Epoch 15/20\n",
            "500/500 [==============================] - 1s 3ms/step - loss: 0.0028 - accuracy: 0.9993\n",
            "Epoch 16/20\n",
            "500/500 [==============================] - 1s 3ms/step - loss: 0.0023 - accuracy: 0.9994\n",
            "Epoch 17/20\n",
            "500/500 [==============================] - 1s 3ms/step - loss: 0.0018 - accuracy: 0.9995\n",
            "Epoch 18/20\n",
            "500/500 [==============================] - 1s 3ms/step - loss: 0.0014 - accuracy: 0.9996\n",
            "Epoch 19/20\n",
            "500/500 [==============================] - 1s 3ms/step - loss: 0.0010 - accuracy: 0.9997\n",
            "Epoch 20/20\n",
            "500/500 [==============================] - 1s 3ms/step - loss: 8.6788e-04 - accuracy: 0.9997\n",
            "313/313 [==============================] - 1s 2ms/step - loss: 0.0980 - accuracy: 0.9836\n"
          ]
        },
        {
          "output_type": "execute_result",
          "data": {
            "text/plain": [
              "[0.09800577908754349, 0.9836000204086304]"
            ]
          },
          "metadata": {},
          "execution_count": 94
        }
      ]
    },
    {
      "cell_type": "code",
      "source": [
        "aModel= keras.Sequential([\n",
        "    keras.Input(28*28),\n",
        "    keras.layers.Dense(500,  activation= 'relu'), \n",
        "    keras.layers.Dense(100,  activation= 'relu'), \n",
        "    keras.layers.Dense(10,  activation= 'softmax')\n",
        "    ])\n",
        "\n",
        "aModel.compile(\n",
        "    loss=     'sparse_categorical_crossentropy',\n",
        "    metrics= ['accuracy']\n",
        "    )\n",
        "\n",
        "aModel.fit(xr1, yr, \n",
        "           epochs= 20, \n",
        "           batch_size= 120)\n",
        "\n",
        "aModel.evaluate(xt1, yt)"
      ],
      "metadata": {
        "colab": {
          "base_uri": "https://localhost:8080/"
        },
        "id": "tnvVMukaAKp_",
        "outputId": "13de0f91-841c-4258-d852-61fee233c30a"
      },
      "id": "tnvVMukaAKp_",
      "execution_count": 95,
      "outputs": [
        {
          "output_type": "stream",
          "name": "stdout",
          "text": [
            "Epoch 1/20\n",
            "500/500 [==============================] - 2s 3ms/step - loss: 0.2321 - accuracy: 0.9298\n",
            "Epoch 2/20\n",
            "500/500 [==============================] - 2s 4ms/step - loss: 0.0873 - accuracy: 0.9729\n",
            "Epoch 3/20\n",
            "500/500 [==============================] - 1s 3ms/step - loss: 0.0566 - accuracy: 0.9820\n",
            "Epoch 4/20\n",
            "500/500 [==============================] - 1s 3ms/step - loss: 0.0414 - accuracy: 0.9868\n",
            "Epoch 5/20\n",
            "500/500 [==============================] - 1s 3ms/step - loss: 0.0308 - accuracy: 0.9905\n",
            "Epoch 6/20\n",
            "500/500 [==============================] - 1s 3ms/step - loss: 0.0229 - accuracy: 0.9929\n",
            "Epoch 7/20\n",
            "500/500 [==============================] - 1s 3ms/step - loss: 0.0176 - accuracy: 0.9945\n",
            "Epoch 8/20\n",
            "500/500 [==============================] - 1s 3ms/step - loss: 0.0150 - accuracy: 0.9955\n",
            "Epoch 9/20\n",
            "500/500 [==============================] - 1s 3ms/step - loss: 0.0117 - accuracy: 0.9963\n",
            "Epoch 10/20\n",
            "500/500 [==============================] - 1s 3ms/step - loss: 0.0105 - accuracy: 0.9967\n",
            "Epoch 11/20\n",
            "500/500 [==============================] - 1s 3ms/step - loss: 0.0078 - accuracy: 0.9977\n",
            "Epoch 12/20\n",
            "500/500 [==============================] - 1s 3ms/step - loss: 0.0077 - accuracy: 0.9973\n",
            "Epoch 13/20\n",
            "500/500 [==============================] - 1s 3ms/step - loss: 0.0055 - accuracy: 0.9983\n",
            "Epoch 14/20\n",
            "500/500 [==============================] - 1s 3ms/step - loss: 0.0067 - accuracy: 0.9980\n",
            "Epoch 15/20\n",
            "500/500 [==============================] - 1s 3ms/step - loss: 0.0049 - accuracy: 0.9985\n",
            "Epoch 16/20\n",
            "500/500 [==============================] - 1s 3ms/step - loss: 0.0045 - accuracy: 0.9985\n",
            "Epoch 17/20\n",
            "500/500 [==============================] - 1s 3ms/step - loss: 0.0043 - accuracy: 0.9987\n",
            "Epoch 18/20\n",
            "500/500 [==============================] - 1s 3ms/step - loss: 0.0033 - accuracy: 0.9989\n",
            "Epoch 19/20\n",
            "500/500 [==============================] - 1s 3ms/step - loss: 0.0031 - accuracy: 0.9989\n",
            "Epoch 20/20\n",
            "500/500 [==============================] - 1s 3ms/step - loss: 0.0041 - accuracy: 0.9988\n",
            "313/313 [==============================] - 1s 2ms/step - loss: 0.1401 - accuracy: 0.9828\n"
          ]
        },
        {
          "output_type": "execute_result",
          "data": {
            "text/plain": [
              "[0.14007939398288727, 0.9828000068664551]"
            ]
          },
          "metadata": {},
          "execution_count": 95
        }
      ]
    },
    {
      "cell_type": "markdown",
      "source": [
        "透過調整部分地方\n"
      ],
      "metadata": {
        "id": "9PktpcbK8s_b"
      },
      "id": "9PktpcbK8s_b"
    },
    {
      "cell_type": "markdown",
      "source": [
        "可以發現提高dense層的時候數據會較原本的好一些(從原本的95.8%大約提升到最高的98.3%)"
      ],
      "metadata": {
        "id": "CS1e27Mj9aDy"
      },
      "id": "CS1e27Mj9aDy"
    },
    {
      "cell_type": "markdown",
      "source": [
        "而單獨提高epoch或增加layer的影響較小但對於較複雜的訓練來說或許有一定的效益"
      ],
      "metadata": {
        "id": "dJX3MknE9sD5"
      },
      "id": "dJX3MknE9sD5"
    }
  ],
  "metadata": {
    "kernelspec": {
      "display_name": "Python 3 (ipykernel)",
      "language": "python",
      "name": "python3"
    },
    "language_info": {
      "codemirror_mode": {
        "name": "ipython",
        "version": 3
      },
      "file_extension": ".py",
      "mimetype": "text/x-python",
      "name": "python",
      "nbconvert_exporter": "python",
      "pygments_lexer": "ipython3",
      "version": "3.9.12"
    },
    "colab": {
      "provenance": [],
      "collapsed_sections": [],
      "toc_visible": true
    },
    "accelerator": "GPU"
  },
  "nbformat": 4,
  "nbformat_minor": 5
}