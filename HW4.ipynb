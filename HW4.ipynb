{
 "cells": [
  {
   "cell_type": "markdown",
   "metadata": {
    "colab_type": "text"
   },
   "source": [
    "This is a companion notebook for the book [Deep Learning with Python, Second Edition](https://www.manning.com/books/deep-learning-with-python-second-edition?a_aid=keras&a_bid=76564dff). For readability, it only contains runnable code blocks and section titles, and omits everything else in the book: text paragraphs, figures, and pseudocode.\n",
    "\n",
    "**If you want to be able to follow what's going on, I recommend reading the notebook side by side with your copy of the book.**\n",
    "\n",
    "This notebook was generated for TensorFlow 2.6."
   ]
  },
  {
   "cell_type": "code",
   "execution_count": 508,
   "metadata": {},
   "outputs": [
    {
     "name": "stdout",
     "output_type": "stream",
     "text": [
      "# packages in environment at C:\\Users\\user\\anaconda3\\envs\\DL:\n",
      "#\n",
      "# Name                    Version                   Build  Channel\n",
      "absl-py                   1.2.0                    pypi_0    pypi\n",
      "anyio                     3.5.0            py37haa95532_0  \n",
      "argon2-cffi               21.3.0             pyhd3eb1b0_0  \n",
      "argon2-cffi-bindings      21.2.0           py37h2bbff1b_0  \n",
      "astor                     0.8.1                    pypi_0    pypi\n",
      "attrs                     21.4.0             pyhd3eb1b0_0  \n",
      "babel                     2.9.1              pyhd3eb1b0_0  \n",
      "backcall                  0.2.0              pyhd3eb1b0_0  \n",
      "beautifulsoup4            4.11.1           py37haa95532_0  \n",
      "bleach                    4.1.0              pyhd3eb1b0_0  \n",
      "brotlipy                  0.7.0           py37h2bbff1b_1003  \n",
      "ca-certificates           2022.07.19           haa95532_0  \n",
      "certifi                   2022.9.14        py37haa95532_0  \n",
      "cffi                      1.15.1           py37h2bbff1b_0  \n",
      "charset-normalizer        2.0.4              pyhd3eb1b0_0  \n",
      "colorama                  0.4.5            py37haa95532_0  \n",
      "cryptography              37.0.1           py37h21b164f_0  \n",
      "cycler                    0.11.0                   pypi_0    pypi\n",
      "cython                    0.29.32                  pypi_0    pypi\n",
      "debugpy                   1.5.1            py37hd77b12b_0  \n",
      "decorator                 5.1.1              pyhd3eb1b0_0  \n",
      "defusedxml                0.7.1              pyhd3eb1b0_0  \n",
      "entrypoints               0.4              py37haa95532_0  \n",
      "fonttools                 4.37.4                   pypi_0    pypi\n",
      "gast                      0.5.3                    pypi_0    pypi\n",
      "glib                      2.69.1               h5dc1a3c_1  \n",
      "grpcio                    1.49.1                   pypi_0    pypi\n",
      "gst-plugins-base          1.18.5               h9e645db_0  \n",
      "gstreamer                 1.18.5               hd78058f_0  \n",
      "h5py                      3.7.0                    pypi_0    pypi\n",
      "icu                       58.2                 ha925a31_3  \n",
      "idna                      3.3                pyhd3eb1b0_0  \n",
      "importlib-metadata        5.0.0                    pypi_0    pypi\n",
      "importlib_metadata        4.11.3               hd3eb1b0_0  \n",
      "importlib_resources       5.2.0              pyhd3eb1b0_1  \n",
      "ipykernel                 6.15.2           py37haa95532_0  \n",
      "ipython                   7.31.1           py37haa95532_1  \n",
      "ipython_genutils          0.2.0              pyhd3eb1b0_1  \n",
      "ipywidgets                7.6.5              pyhd3eb1b0_1  \n",
      "jedi                      0.18.1           py37haa95532_1  \n",
      "jinja2                    3.0.3              pyhd3eb1b0_0  \n",
      "jpeg                      9e                   h2bbff1b_0  \n",
      "json5                     0.9.6              pyhd3eb1b0_0  \n",
      "jsonschema                4.16.0           py37haa95532_0  \n",
      "jupyter                   1.0.0            py37haa95532_8  \n",
      "jupyter_client            7.3.5            py37haa95532_0  \n",
      "jupyter_console           6.4.3              pyhd3eb1b0_0  \n",
      "jupyter_core              4.10.0           py37haa95532_0  \n",
      "jupyter_server            1.18.1           py37haa95532_0  \n",
      "jupyterlab                3.4.4            py37haa95532_0  \n",
      "jupyterlab_pygments       0.1.2                      py_0  \n",
      "jupyterlab_server         2.15.2           py37haa95532_0  \n",
      "jupyterlab_widgets        1.0.0              pyhd3eb1b0_1  \n",
      "keras-applications        1.0.8                    pypi_0    pypi\n",
      "keras-preprocessing       1.1.2                    pypi_0    pypi\n",
      "kiwisolver                1.4.4                    pypi_0    pypi\n",
      "libclang                  12.0.0          default_h627e005_2  \n",
      "libffi                    3.4.2                hd77b12b_4  \n",
      "libiconv                  1.16                 h2bbff1b_2  \n",
      "libogg                    1.3.5                h2bbff1b_1  \n",
      "libpng                    1.6.37               h2a8f88b_0  \n",
      "libprotobuf               3.20.1               h23ce68f_0  \n",
      "libsodium                 1.0.18               h62dcd97_0  \n",
      "libvorbis                 1.3.7                he774522_0  \n",
      "libwebp                   1.2.2                h2bbff1b_0  \n",
      "libxml2                   2.9.14               h0ad7f3c_0  \n",
      "libxslt                   1.1.35               h2bbff1b_0  \n",
      "lz4-c                     1.9.3                h2bbff1b_1  \n",
      "markdown                  3.4.1                    pypi_0    pypi\n",
      "markupsafe                2.1.1            py37h2bbff1b_0  \n",
      "matplotlib                3.5.3                    pypi_0    pypi\n",
      "matplotlib-inline         0.1.6            py37haa95532_0  \n",
      "mistune                   0.8.4           py37hfa6e2cd_1001  \n",
      "mock                      4.0.3                    pypi_0    pypi\n",
      "nbclassic                 0.3.5              pyhd3eb1b0_0  \n",
      "nbclient                  0.5.13           py37haa95532_0  \n",
      "nbconvert                 6.4.4            py37haa95532_0  \n",
      "nbformat                  5.5.0            py37haa95532_0  \n",
      "nest-asyncio              1.5.5            py37haa95532_0  \n",
      "notebook                  6.4.12           py37haa95532_0  \n",
      "numpy                     1.21.6                   pypi_0    pypi\n",
      "openssl                   1.1.1q               h2bbff1b_0  \n",
      "packaging                 21.3               pyhd3eb1b0_0  \n",
      "pandocfilters             1.5.0              pyhd3eb1b0_0  \n",
      "parso                     0.8.3              pyhd3eb1b0_0  \n",
      "pcre                      8.45                 hd77b12b_0  \n",
      "pickleshare               0.7.5           pyhd3eb1b0_1003  \n",
      "pillow                    9.2.0                    pypi_0    pypi\n",
      "pip                       22.2.2           py37haa95532_0  \n",
      "pkgutil-resolve-name      1.3.10           py37haa95532_0  \n",
      "ply                       3.11                     py37_0  \n",
      "prometheus_client         0.14.1           py37haa95532_0  \n",
      "prompt-toolkit            3.0.20             pyhd3eb1b0_0  \n",
      "prompt_toolkit            3.0.20               hd3eb1b0_0  \n",
      "protobuf                  4.21.7                   pypi_0    pypi\n",
      "psutil                    5.9.0            py37h2bbff1b_0  \n",
      "pycparser                 2.21               pyhd3eb1b0_0  \n",
      "pygments                  2.11.2             pyhd3eb1b0_0  \n",
      "pyopenssl                 22.0.0             pyhd3eb1b0_0  \n",
      "pyparsing                 3.0.9            py37haa95532_0  \n",
      "pyqt                      5.15.7           py37hd77b12b_0  \n",
      "pyqt5-sip                 12.11.0          py37hd77b12b_0  \n",
      "pyrsistent                0.18.0           py37h196d8e1_0  \n",
      "pysocks                   1.7.1                    py37_1  \n",
      "python                    3.7.13               h6244533_0  \n",
      "python-dateutil           2.8.2              pyhd3eb1b0_0  \n",
      "python-fastjsonschema     2.16.2           py37haa95532_0  \n",
      "pytz                      2022.1           py37haa95532_0  \n",
      "pywin32                   302              py37h2bbff1b_2  \n",
      "pywinpty                  2.0.2            py37h5da7b33_0  \n",
      "pyzmq                     23.2.0           py37hd77b12b_0  \n",
      "qt-main                   5.15.2               he8e5bd7_7  \n",
      "qt-webengine              5.15.9               hb9a9bb5_4  \n",
      "qtconsole                 5.3.2            py37haa95532_0  \n",
      "qtpy                      2.2.0            py37haa95532_0  \n",
      "qtwebkit                  5.212                h3ad3cdb_4  \n",
      "requests                  2.28.1           py37haa95532_0  \n",
      "send2trash                1.8.0              pyhd3eb1b0_1  \n",
      "setuptools                63.4.1           py37haa95532_0  \n",
      "sip                       6.6.2            py37hd77b12b_0  \n",
      "six                       1.16.0             pyhd3eb1b0_1  \n",
      "sniffio                   1.2.0            py37haa95532_1  \n",
      "soupsieve                 2.3.1              pyhd3eb1b0_0  \n",
      "sqlite                    3.39.3               h2bbff1b_0  \n",
      "tensorboard               1.13.1                   pypi_0    pypi\n",
      "tensorflow                1.13.1                   pypi_0    pypi\n",
      "tensorflow-estimator      1.13.0                   pypi_0    pypi\n",
      "tensorflow-gpu            1.13.1                   pypi_0    pypi\n",
      "termcolor                 2.0.1                    pypi_0    pypi\n",
      "terminado                 0.13.1           py37haa95532_0  \n",
      "testpath                  0.6.0            py37haa95532_0  \n",
      "toml                      0.10.2             pyhd3eb1b0_0  \n",
      "tornado                   6.2              py37h2bbff1b_0  \n",
      "traitlets                 5.1.1              pyhd3eb1b0_0  \n",
      "typing-extensions         4.3.0            py37haa95532_0  \n",
      "typing_extensions         4.3.0            py37haa95532_0  \n",
      "urllib3                   1.26.11          py37haa95532_0  \n",
      "vc                        14.2                 h21ff451_1  \n",
      "vs2015_runtime            14.27.29016          h5e58377_2  \n",
      "wcwidth                   0.2.5              pyhd3eb1b0_0  \n",
      "webencodings              0.5.1                    py37_1  \n",
      "websocket-client          0.58.0           py37haa95532_4  \n",
      "werkzeug                  2.2.2                    pypi_0    pypi\n",
      "wheel                     0.37.1                   pypi_0    pypi\n",
      "widgetsnbextension        3.5.2            py37haa95532_0  \n",
      "win_inet_pton             1.1.0            py37haa95532_0  \n",
      "wincertstore              0.2              py37haa95532_2  \n",
      "winpty                    0.4.3                         4  \n",
      "zeromq                    4.3.4                hd77b12b_0  \n",
      "zipp                      3.8.1                    pypi_0    pypi\n",
      "zlib                      1.2.12               h8cc25b3_3  \n",
      "zstd                      1.5.2                h19a0ad4_0  \n",
      "\n",
      "Note: you may need to restart the kernel to use updated packages.\n"
     ]
    }
   ],
   "source": [
    "conda list"
   ]
  },
  {
   "cell_type": "code",
   "execution_count": 509,
   "metadata": {},
   "outputs": [
    {
     "name": "stdout",
     "output_type": "stream",
     "text": [
      "[name: \"/device:CPU:0\"\n",
      "device_type: \"CPU\"\n",
      "memory_limit: 268435456\n",
      "locality {\n",
      "}\n",
      "incarnation: 14885286329684789778\n",
      ", name: \"/device:GPU:0\"\n",
      "device_type: \"GPU\"\n",
      "memory_limit: 10005613773\n",
      "locality {\n",
      "  bus_id: 1\n",
      "  links {\n",
      "  }\n",
      "}\n",
      "incarnation: 14843803954077907793\n",
      "physical_device_desc: \"device: 0, name: NVIDIA GeForce RTX 2080 Ti, pci bus id: 0000:01:00.0, compute capability: 7.5\"\n",
      "]\n"
     ]
    }
   ],
   "source": [
    "from tensorflow.python.client import device_lib\n",
    "print(device_lib.list_local_devices())"
   ]
  },
  {
   "cell_type": "markdown",
   "metadata": {
    "colab_type": "text"
   },
   "source": [
    "# Getting started with neural networks: Classification and regression"
   ]
  },
  {
   "cell_type": "markdown",
   "metadata": {
    "colab_type": "text"
   },
   "source": [
    "## Classifying movie reviews: A binary classification example"
   ]
  },
  {
   "cell_type": "markdown",
   "metadata": {
    "colab_type": "text"
   },
   "source": [
    "### The IMDB dataset"
   ]
  },
  {
   "cell_type": "markdown",
   "metadata": {
    "colab_type": "text"
   },
   "source": [
    "**Loading the IMDB dataset**"
   ]
  },
  {
   "cell_type": "code",
   "execution_count": 510,
   "metadata": {},
   "outputs": [],
   "source": [
    "#Lib/site-packages/tensorflow/python/keras/datasets/imdb.py\n",
    "#with np.load(path) as f: -> with np.load(path, allow_pickle=True) as f:\n",
    "\n",
    "from tensorflow.keras.datasets import imdb\n",
    "(train_data, train_labels), (test_data, test_labels) = imdb.load_data(\n",
    "    num_words=10000)"
   ]
  },
  {
   "cell_type": "code",
   "execution_count": 511,
   "metadata": {
    "colab_type": "code"
   },
   "outputs": [
    {
     "data": {
      "text/plain": [
       "[1,\n",
       " 14,\n",
       " 22,\n",
       " 16,\n",
       " 43,\n",
       " 530,\n",
       " 973,\n",
       " 1622,\n",
       " 1385,\n",
       " 65,\n",
       " 458,\n",
       " 4468,\n",
       " 66,\n",
       " 3941,\n",
       " 4,\n",
       " 173,\n",
       " 36,\n",
       " 256,\n",
       " 5,\n",
       " 25,\n",
       " 100,\n",
       " 43,\n",
       " 838,\n",
       " 112,\n",
       " 50,\n",
       " 670,\n",
       " 2,\n",
       " 9,\n",
       " 35,\n",
       " 480,\n",
       " 284,\n",
       " 5,\n",
       " 150,\n",
       " 4,\n",
       " 172,\n",
       " 112,\n",
       " 167,\n",
       " 2,\n",
       " 336,\n",
       " 385,\n",
       " 39,\n",
       " 4,\n",
       " 172,\n",
       " 4536,\n",
       " 1111,\n",
       " 17,\n",
       " 546,\n",
       " 38,\n",
       " 13,\n",
       " 447,\n",
       " 4,\n",
       " 192,\n",
       " 50,\n",
       " 16,\n",
       " 6,\n",
       " 147,\n",
       " 2025,\n",
       " 19,\n",
       " 14,\n",
       " 22,\n",
       " 4,\n",
       " 1920,\n",
       " 4613,\n",
       " 469,\n",
       " 4,\n",
       " 22,\n",
       " 71,\n",
       " 87,\n",
       " 12,\n",
       " 16,\n",
       " 43,\n",
       " 530,\n",
       " 38,\n",
       " 76,\n",
       " 15,\n",
       " 13,\n",
       " 1247,\n",
       " 4,\n",
       " 22,\n",
       " 17,\n",
       " 515,\n",
       " 17,\n",
       " 12,\n",
       " 16,\n",
       " 626,\n",
       " 18,\n",
       " 2,\n",
       " 5,\n",
       " 62,\n",
       " 386,\n",
       " 12,\n",
       " 8,\n",
       " 316,\n",
       " 8,\n",
       " 106,\n",
       " 5,\n",
       " 4,\n",
       " 2223,\n",
       " 5244,\n",
       " 16,\n",
       " 480,\n",
       " 66,\n",
       " 3785,\n",
       " 33,\n",
       " 4,\n",
       " 130,\n",
       " 12,\n",
       " 16,\n",
       " 38,\n",
       " 619,\n",
       " 5,\n",
       " 25,\n",
       " 124,\n",
       " 51,\n",
       " 36,\n",
       " 135,\n",
       " 48,\n",
       " 25,\n",
       " 1415,\n",
       " 33,\n",
       " 6,\n",
       " 22,\n",
       " 12,\n",
       " 215,\n",
       " 28,\n",
       " 77,\n",
       " 52,\n",
       " 5,\n",
       " 14,\n",
       " 407,\n",
       " 16,\n",
       " 82,\n",
       " 2,\n",
       " 8,\n",
       " 4,\n",
       " 107,\n",
       " 117,\n",
       " 5952,\n",
       " 15,\n",
       " 256,\n",
       " 4,\n",
       " 2,\n",
       " 7,\n",
       " 3766,\n",
       " 5,\n",
       " 723,\n",
       " 36,\n",
       " 71,\n",
       " 43,\n",
       " 530,\n",
       " 476,\n",
       " 26,\n",
       " 400,\n",
       " 317,\n",
       " 46,\n",
       " 7,\n",
       " 4,\n",
       " 2,\n",
       " 1029,\n",
       " 13,\n",
       " 104,\n",
       " 88,\n",
       " 4,\n",
       " 381,\n",
       " 15,\n",
       " 297,\n",
       " 98,\n",
       " 32,\n",
       " 2071,\n",
       " 56,\n",
       " 26,\n",
       " 141,\n",
       " 6,\n",
       " 194,\n",
       " 7486,\n",
       " 18,\n",
       " 4,\n",
       " 226,\n",
       " 22,\n",
       " 21,\n",
       " 134,\n",
       " 476,\n",
       " 26,\n",
       " 480,\n",
       " 5,\n",
       " 144,\n",
       " 30,\n",
       " 5535,\n",
       " 18,\n",
       " 51,\n",
       " 36,\n",
       " 28,\n",
       " 224,\n",
       " 92,\n",
       " 25,\n",
       " 104,\n",
       " 4,\n",
       " 226,\n",
       " 65,\n",
       " 16,\n",
       " 38,\n",
       " 1334,\n",
       " 88,\n",
       " 12,\n",
       " 16,\n",
       " 283,\n",
       " 5,\n",
       " 16,\n",
       " 4472,\n",
       " 113,\n",
       " 103,\n",
       " 32,\n",
       " 15,\n",
       " 16,\n",
       " 5345,\n",
       " 19,\n",
       " 178,\n",
       " 32]"
      ]
     },
     "execution_count": 511,
     "metadata": {},
     "output_type": "execute_result"
    }
   ],
   "source": [
    "#列出第一篇文章的字的編號和長度\n",
    "train_data[0]"
   ]
  },
  {
   "cell_type": "code",
   "execution_count": 512,
   "metadata": {
    "colab_type": "code"
   },
   "outputs": [
    {
     "data": {
      "text/plain": [
       "218"
      ]
     },
     "execution_count": 512,
     "metadata": {},
     "output_type": "execute_result"
    }
   ],
   "source": [
    "len(train_data[0])"
   ]
  },
  {
   "cell_type": "code",
   "execution_count": 513,
   "metadata": {},
   "outputs": [
    {
     "data": {
      "text/plain": [
       "1"
      ]
     },
     "execution_count": 513,
     "metadata": {},
     "output_type": "execute_result"
    }
   ],
   "source": [
    "#正面或負面\n",
    "train_labels[0]"
   ]
  },
  {
   "cell_type": "code",
   "execution_count": 514,
   "metadata": {
    "colab_type": "code"
   },
   "outputs": [
    {
     "data": {
      "text/plain": [
       "9999"
      ]
     },
     "execution_count": 514,
     "metadata": {},
     "output_type": "execute_result"
    }
   ],
   "source": [
    "#限制長度\n",
    "max([max(sequence) for sequence in train_data])"
   ]
  },
  {
   "cell_type": "code",
   "execution_count": 515,
   "metadata": {},
   "outputs": [
    {
     "data": {
      "text/plain": [
       "38479"
      ]
     },
     "execution_count": 515,
     "metadata": {},
     "output_type": "execute_result"
    }
   ],
   "source": [
    "#單字表\n",
    "a = imdb.get_word_index()\n",
    "\n",
    "#a['app']: 38479\n",
    "a['app']"
   ]
  },
  {
   "cell_type": "markdown",
   "metadata": {
    "colab_type": "text"
   },
   "source": [
    "**Decoding reviews back to text**"
   ]
  },
  {
   "cell_type": "code",
   "execution_count": 548,
   "metadata": {
    "colab_type": "code"
   },
   "outputs": [],
   "source": [
    "word_index = imdb.get_word_index()\n",
    "reverse_word_index = dict(\n",
    "    [(value, key) for (key, value) in word_index.items()])\n",
    "\n",
    "#reverse索引 a['app']: 38479 -> 38479: a['app']\n",
    "#reverse_word_index"
   ]
  },
  {
   "cell_type": "code",
   "execution_count": 549,
   "metadata": {},
   "outputs": [
    {
     "data": {
      "text/plain": [
       "\"? this film was just brilliant casting location scenery story direction everyone's really suited the part they played and you could just imagine being there robert ? is an amazing actor and now the same being director ? father came from the same scottish island as myself so i loved the fact there was a real connection with this film the witty remarks throughout the film were great it was just brilliant so much that i bought the film as soon as it was released for ? and would recommend it to everyone to watch and the fly fishing was amazing really cried at the end it was so sad and you know what they say if you cry at a film it must have been good and this definitely was also ? to the two little boy's that played the ? of norman and paul they were just brilliant children are often left out of the ? list i think because the stars that play them all grown up are such a big profile for the whole film but these children are amazing and should be praised for what they have done don't you think the whole story was so lovely because it was true and was someone's life after all that was shared with us all\""
      ]
     },
     "execution_count": 549,
     "metadata": {},
     "output_type": "execute_result"
    }
   ],
   "source": [
    "#過濾字詞\n",
    "decoded_review = \" \".join(\n",
    "    [reverse_word_index.get(i - 3, \"?\") for i in train_data[0]])\n",
    "\n",
    "decoded_review "
   ]
  },
  {
   "cell_type": "code",
   "execution_count": 550,
   "metadata": {},
   "outputs": [],
   "source": [
    "#取第100~199篇文章\n",
    "Alist = []\n",
    "for i in range(100):\n",
    "    i = i + 100\n",
    "    decoded_review = \" \".join(\n",
    "        [reverse_word_index.get(i - 3, \"?\") for i in train_data[i]])\n",
    "    Alist.append([i,decoded_review])\n",
    "    "
   ]
  },
  {
   "cell_type": "code",
   "execution_count": 551,
   "metadata": {
    "scrolled": true
   },
   "outputs": [
    {
     "name": "stdout",
     "output_type": "stream",
     "text": [
      "[100, \"? i am a great fan of david lynch and have everything that he's made on dvd except for hotel room the 2 hour twin peaks movie so when i found out about this i immediately grabbed it and and what is this it's a bunch of ? drawn black and white cartoons that are loud and foul mouthed and unfunny maybe i don't know what's good but maybe this is just a bunch of crap that was ? on the public under the name of david lynch to make a few bucks too let me make it clear that i didn't care about the foul language part but had to keep ? the sound because my neighbors might have all in all this is a highly disappointing release and may well have just been left in the ? box set as a curiosity i highly recommend you don't spend your money on this 2 out of 10\"] \n",
      "\n",
      "\n",
      "[101, '? whoever wrote up ? as a great car movie must be getting paid off by daniel ? to promote this ultra crappy ? steaming pile of amateur crap easily the worst ? movie or any movie ever made this makes ? look like citizen kane br br take every cheesy cliché out of an 80s action tv series put in some really crappy special effects and lame characters with no relevance and you have living proof that daniel ? should not write screenplays and produce movies but should remain in the real estate business br br this is such a lame movie with such a lame plot and the most contrived action sequences ever what ? me is not that the makers of this film are idiots but that they consider the movie going public to be idiots enough to fall for this crap'] \n",
      "\n",
      "\n",
      "[102, \"? near the closing stages of baby mama one of the central characters goes on to describe the basic outline of everything that came before and ? that it ? all just a ? i really couldn't say it any better than that and while the feature does have its odd ray of hope every now and again the vast majority of what is present is too ? to be considered relevant and too ? to be worth anyone's time a ? cast mundane script and vague caricature characters ensure that baby mama certainly isn't ? on the ol' ? but it never makes up for this through its ? sense of humour ? mainly of very routine cliché jokes based around an odd couple rich and poor trying to live with each other as they prepare to bring a baby into the world the film is far too ? to deliver laughs outside its very thin ? br br as a story on finding love it's not that bad but playing this plot line as a side story of sorts to work alongside the comedy ? odd couple ? characterisation is notably weak resulting in a ? romance that never ? as characters themselves both central figures are mildly amusing when put together in small spaces but when left alone quickly unravel and bare their ? so while we may eventually come to find the character's interactions with each other amusing at times the comedy never ? beyond distant chuckles we don't feel for the characters and don't find them ? interesting but rather their dynamic unfortunately however although this dynamic works best or at least better than the individual ? as mentioned above it rarely ? outside of the typical confines of the odd couple formula br br kate tina ? is a successful business woman who has hired working class dumb blonde angie amy ? to be her unlikely surrogate and after angie decides to leave hopeless husband carl ? shepard both eventually have to learn to live together despite their obvious differences yes it's the typical odd couple premise and one that we have already seen in this year's what happens in vegas yet what baby mama lacks that the aforementioned movie had is both chemistry between performers and semi layered characters kate and angie both fail to ever show much of a personality outside of their two dimensional outline and as such both performers are neglected to play out roles that demand chemistry to produce out of thin air in fact the movie's only real engaging performance and character comes from the underused talents of ? ? who gets ? with playing a door man of the few times that i laughed during baby mama most of those moments were because of this man and the remainder usually fell to shepard br br it's a rare thing of course to find a movie which ? its ? themes in the way which its world is shot and presented to us through the camera and yet director michael ? goes from page to screen effectively enough yet for a film about babies multi million dollar business and cultural stereotyping this isn't necessarily a good thing baby mama is grade a hammy plastic ? town with capital bore topped with sugar so not only did i feel emotionally distant to the characters because of their two dimensional nature but i simply didn't care for the world they inhabited the dialogue along with sets costumes and the ? general themes are painted in ? blues and ? so much that all shades of humanity are lost in the director's ? need to make his movie feel like a ? fantasy these aren't characters and that isn't our world in any ? so why should i care at the end of the day however a romantic ? ultimate ? of success or failure comes down purely to its chemistry between its love interests and the ? of its laughs baby mama has little going on in any of these ? of course to say that the film is without any value at all would be unfair i'm sure female audiences in a similar boat as lead character kate may get a slight kick out of the proceedings but anyone else will probably just feel ? and probably bored in this respect baby mama avoids being unbearable but never convinces in being anything remarkable or worthy of a look to anyone outside of its immediate audience a comedic dud and a romantic ? baby mama is too light headed to be interesting and too shallow to be entertaining br br a review by jamie robert ward http www ? net\"] \n",
      "\n",
      "\n",
      "[103, \"? film starts in ? japan in which a man ? his wife and her lover to death and the commits suicide it's a very gory bloody sequence then it jumps to present day well 1982 to be precise ted edward albert wife laura susan george and their annoying little kid move to japan for ? work they rent a house and surprise surprise it just happens to be the house where the murders took place the three dead people are around as ghosts the makeup is hysterically bad and make life hell for the family br br sounds ok but it's really hopeless there's a bloody opening and ending and nothing happens in between there is an attack by giant ? which is just ? they look so fake i swear i saw the strings pulling one along and they're ? there's a pointless sex sequence in the first 20 minutes probably just to show off ? body another one about 40 minutes later but that was necessary to the plot and a really silly ? towards the end the fight scene between albert and doug ? must be seen to be believed br br as for acting albert was ok as the husband and ? was pretty good as a family friend but george as always is terrific in a lousy film she gives this film a much needed lift but can't save it i'm giving this a 2 just for her and the gory opening and closing that aside this is a very boring film\"] \n",
      "\n",
      "\n",
      "[104, \"? corbin bernsen gives a ? intense and riveting performance as dr alan feinstone a wealthy and successful beverly hills dentist who's obsessed with perfection when he discovers that his lovely blonde babe ? wife has been cheating on him and the irs start ? him about tax problems feinstone cracks under the pressure and goes violently around the bend director brian ? working from a suitably dark witty and demented script by stuart gordon dennis ? and charles ? exposes the ? ? and ? ? underneath the ? clean well ? surface of respectable ? rich america with deliciously ? glee moreover ? further ? up the grisly goings on with a ? twisted sense of pitch black ? humor bernsen positively shines as dr feinstone he expertly projects a truly unnerving underlying creepiness that's right beneath ? ? calm and assured ? the supporting cast are likewise excellent linda hoffman as ? bitchy ? wife brooke earl ? as smarmy ? irs agent marvin goldblum molly ? as ? assistant jessica patty toy as ? assistant karen jan ? as jolly office manager candy ? ? as sweet ? teenager sarah ken ? as ? no nonsense detective ? tony ? as ? equally ? partner detective sunshine michael ? as ? stud ? pool ? matt and mark ? as on the make ? steve ? the first rate make up f x are every bit as gory gross and ? as they ought to be the polished cinematography by ? ? boasts lots of great crazy ? camera angles and a few tasty zoom in close ups alan ? spirited ? score also hits the flesh ? spot an ? ? treat\"] \n",
      "\n",
      "\n",
      "[105, '? this film is advertised as a clever romantic comedy it is neither clever nor romantic and it is definitely not an effective comedy the ? of the well meaning yet pathetic character tom ? from one extremely embarrassing disaster to another the only saving ? are the competent performance by toni ? and the ? with which we glimpse ? pleasant face overall to be avoided'] \n",
      "\n",
      "\n",
      "[106, '? this film was horrible the script is completely unrealistic yet it is written to take place in the real world the editing and lighting effects are worse than most first projects in film school br br i do not recommend this film to anyone who a knows any detail about the world of police or ? ? b knows any detail about film making or appreciation br br i do recommend this film to the average or below average mind i think it would be enjoyable if i was a dumber if you must watch this film on a full mind i highly recommend some kind of ? br br it is a total waste of what little production value it has'] \n",
      "\n",
      "\n",
      "[107, \"? sometimes a film comes along that is unique the ? ? is one such film the ? ? is like no other film i have ever seen unfortunately for the ? ? myself it's unique for different reasons than what the filmmakers had originally intended read on all shall hopefully become clear the ? ? as it's ? know although it was apparently filmed under the title the ? starts with some extremely dull shots of an american town somewhere streets ? that sort of thing as the opening credits play when the ? ? begins proper we the viewer that is are introduced to a real loser named joe ? carl ? who is in his 40's he lives on his own in a crappy little apartment where he watches t v eats ? ? dog food ? to old ? records as he dances with a blow up rubber sex doll joe likes teenage girls he has various porn magazines but enjoys the real thing even more however being an ugly ? joe can't ? any young ladies to go out with him or do anything else with him for that matter one ? day an old homeless vietnam vet ? ? sees the agony pain that joe has to go through actually he sees joe being spoken to by the cops for ? a teenage girl decides to help him out he tells joe about an ? that he learned from the ? in vietnam that will ? ? appearance into whatever he likes a process he calls ? but at the same time he warns joe that ? makes you crazy if you do it too ? that night joe decides to give it a try in a public place on a ? for some reason joe says a few words does an extremely silly dance starts ? joe finishes off by ? london bridge is falling down listen yeah i ain't making this up either at first joe is ? disappointed when nothing significant happens to ? himself joe tries to buy a porn ? but is shocked when the clerk kevin ? refuses to sell it to an ? girl joe the bright spark that he is realises what has happened talks his her way out of it by claiming his her dad had sent him her to buy it joe who now calls his alter ego ? ann ? senses the possibilities heads straight for the local high school joe befriends four teenage girls jennifer armstrong laura ? ? ? ? ? tracy ? ? m ? brenda ? ? ? while under his disguise oh joe manages to become a ? at the school simply by asking the sports teacher miss van dyke ? ? at first joe seems harmless enough he just likes to hang around the girls ? stuff like that but things soon change as joe brutally murders brenda ? dad vince armstrong edward ? is a detective so along with his partner ed simpson clyde ? walt spencer bruce ? the ? is determined to catch the ? responsible for killing his daughter's friends but will they succeed before joe strikes again the imdb listing for the ? ? is wrong i watched it mere hours ago it clearly states that it's directed by mark ? who was also a co producer definitely not patrick j ? who was credited as a co producer the cinematographer not that it makes much difference i'd have though that ? would have been more than happy for ? to take the ? for making this piece of crap no one involved in the making of the ? ? should be allowed to go anywhere near a camera again ever the ? ? is easily one of the worst films i've ever seen that's saying something it's absolutely terrible in every possible way imaginable the script by steven ? is atrocious there's no narrative structure excitement tension drama character development the things that do happen are so mind numbingly dumb it's untrue the plot devices chain of events in the ? ? are totally incomprehensible the scene where joe finds out the prostitute steven andrews he hired is in fact a man joe starts to chase him around his apartment with two ? ? is simply jaw dropping stuff the subsequent scene when the ? reports the incident to the police is hilariously written had me ? laughing at the dialogue i hated the ending as well not only was it predictable but it leaves the door open for a sequel i ? ? at the mere thought on a technical level the ? ? is awful point hope photography bland inappropriate music forgettable locations poorly edited brenda is killed in the kitchen yet her blood ? on the t v screen that was clearly in the opposite room some of the worst acting i've sat through very unimpressive special effects which consist of a few cut off rubber fingers a ? throat a quick scene where joe eats some flesh it comes as no surprise that the cast crew who worked on the ? ? have virtually no imdb credits for anything before or after even at ? odd minutes the ? ? is far to long really boring to sit through i could go on on all day long about how bad the ? ? is i really could one thing i can't quite work out is was all this intentional by the filmmakers the ? ? is indeed a unique film unique in it's awfulness incompetence in the the case of the ? ? i hope it remains unique too having said that it's still not the worst film i've ever seen but it comes close that's for sure definitely one to avoid\"] \n",
      "\n",
      "\n",
      "[108, \"? riff ? is a wildly obsessed fan of the rock group the ramones and so are most of the students in the school but a new ? of a principal ms ? thinks rock ? roll is a bad influence on the students especially the music from the ramones so when riff finds out they're performing in town she ? class for a couple of days to get tickets for herself and her friends but when ms ? discovers why she really took those days off she ? the tickets while this is happening tom roberts is totally love struck over riff but ? friend kate ? feels the same way about tom but riff has her eyes set only on the lead singer joe ? and hopefully in getting to that concert to get them to play her song br br fun fun fun yep that's right ? n roll high ? doesn't drift away from it main ? a ? ? romp it wasn't what i was expecting that's for sure everyone ? in this dandy project looks like they're having a great time and the relaxing nature of it shows on screen with the energy providing such a glowing spirit which makes it a priceless experience that's not to say i think its art and the plot is as pointless as can be but watching this ? crazy ride that ? into some good harmless high ? i just couldn't wipe the grin off my face it's tacky very cheesy ? chaotic but damn it's funky ? br br this low budget b grade feature from producer roger corman and john ? who was co writer and plus he co directed some scenes when director allan ? was ? on the last day shoot is basically a glorious homage on the ? 1950s flicks by sticking with the ? clichés and throwing into the ? the teenage rebellion tag because of the generation gap between them and the adults who always know best these features might not be particularly fresh but they do rack up some appeal because of the ? gusto treatment the film has just one thing on mind to go out on a bang and they manage to do that courtesy of 'the ? who play themselves really you could say its one big trendy video clip since it's all about the ? well most of it anyway i see a lot ? towards the ? acting ability these are musicians not actors which means it's not about their acting here it's the music we're suppose to dig they're here to perform which they deliver in that front with some kick ass tracks that ? the film to create a totally upbeat vibe especially their flamboyant concert performances the ? soundtrack also had some killer tunes from some other artists such as ? the ? underground ? ? mack eddie and the hot ? and alice cooper but these jumping tracks ? in well with the ? feel and even the score was worked in rather well especially in the scenes involving ms ? with the score ? the right mood that ? her mind set the playful mood of the film is pretty much like a roller coaster ride with such a ? pace between the ? tunes and comical segments ranging from scattered slapstick routines to it's sometimes clever tongue in cheek dialogue thrown in for good measure is a variety of light and heavy gags which i found very ? and it gave it such a wider range to express itself br br what else gave the film an added boost had to be the divine ? soles better known for her performance in halloween who gave such a bang up performance as the ? riff ? other ? performances were ? young as the extremely cute kate ? vincent van ? as the ? tom roberts and the go to man ? who's ? played by clint howard also some top ? corman ? pop up with great send up performances by mary ? who's excellent as the demanding ms ? who's pushing her unfair reign on the students paul ? as mr ? and a small support role from dick ? towards the end the enthusiastic acting is pretty campy but that goes down well with the material and there's a certain ? ? from these characters but we totally despise ms ? and her hall ? ? br br there's no beating around the bush here when i say ? ? roll high ? is an ? hoot of a ? time\"] \n",
      "\n",
      "\n",
      "[109, \"? this is quite a dull movie well shot with realistic performances especially a very good one from depardieu as a ? and bad boy with realistic locations mood and art house ? all over it fails because the director takes no position stand or critical commentary on the topic he ? one of ? ? and regular working partner on films with depardieu i believe they made 7 together ? fails to engage it seems to be a ? on why women fall for the bad boy who will hurt when they have a ready caring boyfriend and good hearted husband around isabelle ? who plays the ? with ? distinction offers ? answers like i don't know i like his arms i like the way he makes love to her ? husband who tries to kick her out of the house but ? and ? because i assume he loves her so he accepts and hope for what that she will one day wake up and come to her senses things like this are not answered in ? condescending ? drama style with long speeches and even longer scenes that don't add up i know the answers do not add up but please take a stand jules et jim this is not the final shot as cold as the movie we have just watched is a ? and headache only to the most ?\"] \n",
      "\n",
      "\n",
      "[110, \"? br br i saw this on the sci fi channel it came on right after the first one for some reason this movie kept me interested i don't know why stop asking br br spoilers okay it was cheesy how this guy got involved with the making of the movie in the first movie he had a reason to kill people but in this ? half of the killings attempted killings were ? for no reason stanley killed the director due to creative differences he captured the co writer due to creative differences but what was the deal with trying to kill off the cast no cast no movie he wanted it to look real when they died if this was supposed to be such a high budget movie use the special effects man of course like the first one the captured girl gets away and stanley ends up getting messed up and ? ? sarcasm this movie had potential and the saddest thing of all the really sad part i would watch a cabin by the lake 3 only because i like judd nelson and he's the only good part about this ?\"] \n",
      "\n",
      "\n",
      "[111, \"? when people ask me why do i like movies so much i usually respond have you seen the art gallery sequence in de palma's dressed to kill that scene alone pretty much represents everything i want to see in a film if i was a film director that would be the kind of thing i'd like to do pure cinema is one way of describing that sequence and it is truly amazing to see how director de palma's entire movie works at the same high artistic ? of that scene it is a dream like movie clever as hell and with more ? and intelligence than a dozen films put together i think the movie raises an important point that will always be a topic of ? discussion could a movie rely solely on technique and still be considered an artistic success the film has no message to speak of acting is great but it is at the service of the style and the script is short on logic de palma's movie makes a really good case that style when handled properly can sustain a feature length film sure michael caine angie dickinson nancy allen and keith gordon give ? performances but this is a director's movie all the way to the ? it is a sensational ? of the possibilities of the film medium i won't tell you what hitchcock movie the film pays homage to i don't want to spoil any surprises but i think de palma ? the story's arc and he manages to create a film that pretty much ? his entire career not for the faint of heart\"] \n",
      "\n",
      "\n",
      "[112, \"? there will be a time where kids will have grown up without ever seeing the one and only bugs bunny kiss technically another man on the lips there will be a time where it won't be duck or rabbit season there will be a time where the ? devil will be dubbed politically incorrect br br but so help me now is not that time br br nobody really wants an ? version of our beloved loony characters whoever it is in marketing who comes up with corn nuts corn gone wrong and extreme ? and evidently this ? turd should know that just because they have a degree in business or advertising or whatever doesn't mean they know jack about kids br br i think that they're doing a ? to children ? them of one of the greatest and most iconic shows of all time this show ? me and it's not just the dated artwork or terrible dialogue they ? good voice talent like phil ? michael clarke ? ? milo and so many others it lacks style humor character development and most importantly heart br br the show like it's ? characters slam ? ? runner ace bunny is but a shadow of it's former timeless and beautiful self\"] \n",
      "\n",
      "\n",
      "[113, \"? a pleasant surprise i expected a further ? along the line the rock 9 con air 7 ? 4 especially for such an ? film perhaps that's the reason so few ? of this new type of bruckheimer fare clever dialogue instead of snappy one liners decent background motivation instead of shake n ? stereotypes and when the chase came you really ? for it ? expecting an ? ? stay away this is one for the more intelligent action fans it didn't even bother me jolie appeared so little\"] \n",
      "\n",
      "\n",
      "[114, \"? i saw this movie during a ? themed ? class during my ? year of college i was ? unfortunately close to the screen and my professor chose me to serve as a ? boy everyone else was laughing but they weren't within constant ? br br let's get it out of the way the peter jackson ? of the ? films do owe something to the bakshi film in jackson's version of the ? of the ring for instance the scene in which the black riders assault the empty ? ? is almost a complete ? copy of the scene in bakshi's film shot by shot you could call this ? or homage depending on your agenda br br i'm sure the similarities don't stop there i'm not going to do any research to find out what they are because that would imply i have some ? of respect for this film i'm sure others have ? the similarities look around br br this movie is a complete train wreck in every sense of the metaphor and many many people died in the accident i've decided to list what i can remember in a more or less ? fashion if i've left out anything else that offended me it's because i'm completely overwhelmed confronted with a wealth of failure and at high points mediocrity br br due to heavy use of ? ? is no longer a gentle wise wizard but a wildly ? prophet of doom whose hat inexplicably changes color once or twice during the course of the film br br ? the white is sometimes referred to as ? during the film without explanation he wears purple and red for some mysterious reason br br sam is flat out hideous the portrayal of his friendship with ? is strangely ? and unsatisfying yes ? are small like children but they are not children br br merry and ? are never introduced they simply appear during a scene change with a one sentence explanation the film is filled with sloppy editing like this br br ? sam ? and merry are singing ? as they skip through along the road one of the ? ? a ? at least twice as large as he is from behind his back which was not visible before and begins ? in typical fantasy ? fashion as they all break into la la la s awful br br ? apparently is a native american dressed in an extremely stereotypical fantasy ? no pants complete with huge square ? belt ? he is arguably the worst ? in the entire movie ? he gets one ? swing in before being knocked flat on his ass br br the black riders appear more like ? than menacing ? of evil they limp everywhere they go at a painfully slow pace this is disturbing to be sure but not frightening br br the scene before the black riders attempt to cross the ford of ? in which they stare at ? who is on the other side on ? goes on forever during which time the riders rear their horses in a vaguely threatening manner and do nothing else the scene was probably intended to illustrate ? ? decline as he ? to his wound it turns out to be more plodding than anything else br br ? the dwarf is just as tall as ? the ? he's a dwarf there is simply no excuse for that he also looks like a ? david the ? it's a crude but accurate description br br ? appears to have ? elmer ? golden ? armor from that bugs bunny opera episode he looks ridiculous br br despite the similarity to ? ? the ? is ? inducing and the least threatening villain in the entire film it looks like someone wearing pink bedroom ? and it's barely ? than ? ? may prefer this ? but i'll take jackson's version any day br br the battle scenes are awkward and embarrassing almost none of the characters display any level of ? with their ? i'm not asking for action packed scenes like those in jackson's film but they are supposed to be fighting br br ? makes a very short appearance and i was sorry he bothered to show up at all watch the film you'll see what i mean br br alright now for the good parts of the film br br some of the voice acting is pretty good it isn't that ? sounds bad he just looks kind of like the jolly green giant br br ? is somewhat interesting in this portrayal like tom ? she seems ? to the ? powers of temptation and her voice actress isn't horrible either br br ? death isn't as heart wrenching as in jackson's portrayal of the same scene but it's still appropriately dramatic and more true to his death in the book though i don't believe jackson made a mistake shooting it the way he did br br as my professor pointed out between ? ? the ? mainly at ? deep if i'm correct resemble the war ? corpses of soldiers a political statement that works pretty well if you realize what's being attempted br br while this isn't really a positive point about the film bakshi can't be blamed for the majority of the failures in this movie or so i've been told the project was on a tight budget and late in its production he lost creative control to some of the higher ups who i'm sure hadn't read the books br br let me be clear i respect bakshi for even attempting something of this ? i simply have a hard time believing he was happy with the final product br br overall i cannot in any way recommend this ? adaptation of ? classic trilogy even for laughs unless you've already read the books and have your own ? of the characters places and events i'm sure somebody somewhere will pick a copy of this up in confusion if you do keep an open mind and ? what good you can from it\"] \n",
      "\n",
      "\n",
      "[115, \"? note i couldn't force myself to actually write up a ? review of prom night it just can't be done instead i went through what i thought about while watching the movie br br things that i thought about while watching prom night br br i'm so tired of those dreams where these elaborate deaths will take place only for the main character to wake up right before she bites it of course when i say elaborate deaths i mean off screen throat ? or stabs in the stomach didn't the whole it's just a dream thing get ruined by dallas speaking of which i wonder if a couple stabs in the gut will cause immediate death br br the film is only ten minutes into and i can already count the horror clichés on two hands not a good sign br br even after just meeting the ? boyfriend i'm convinced he will die anybody want to place ? br br the killer in this movie is a teacher that is obsessed with the main character donna by the way does anybody think that donna is a horrible name for a main character in a horror film he spends three years in a maximum security prison before breaking out and finds donna celebrating her high school prom while there is no ? for taste i seriously wonder who would take all that time to stalk somebody as dull as donna br br high schools allow ? to take place at ? and doesn't keep track of the students apparently students are perfectly able to buy a hotel room and go in and out as they please i suppose if this plot point wasn't in place the movie would be 90 minutes of people being bored out of their mind and randomly biting the dust whenever they go to the bathroom i suppose the trade off for their excitement is my utter boredom with everything i've already played count the pieces of ? bubble ? under the seat and guess how much money i have in my ? and i'm only in the 20 minute mark how else will i entertain myself br br note to self don't forget milk and bread on the way home br br dear screenwriter you've used up enough false scares to get through this movie and every other horror remake this year br br the 1980 version of this film wasn't that good but compared to this remake it was like citizen kane or at least the godfather it had jamie lee curtis in one of her many post halloween horror flicks and it did have a little twist at the end i miss jamie lee i wish she'd act more br br apparently at prom there isn't much dancing going on instead the girls get in fights with their boyfriends over where they plan to attend college i hear all these ? being brought up by name and i can't help but wonder who these girls have to cheat off of on the entrance ? to get in br br the killer must carry a bag of really effective cleaning supplies and ? up his mess between scenes that's the only logical explanation for why he could stab somebody to death on the carpet or in the bathroom and by the time somebody goes up to the hotel room there is no trace of a struggle on another side note this is a very lazy killer michael myers went hunting after his victims just saying br br it's official the entire audience in the theater is rooting on the killer what ? it was it whenever donna went back up to her hotel room while ? were going off ? everybody to exit the building was it her constant dreams and how even after going through something dramatic in said dream she insisted on ? her steps to a ? or was it ? ? unconvincing performance i'll have to say it was all of the above br br okay who had he dies off screen in the third act you win the pot br br finally the movie is over my friend turns to me and says donna wasn't too smart that's the understatement of the week kind of like saying that a ? is a small ? of wind or a week long power ? is a slight ? br br i can't wait to get on rotten tomatoes and see if anybody gave this move a ? review br br i can't recommend this i refuse to recommend this this is as lazy of a horror film as any and the only way to enjoy its cheese ? plot is if you are under the influence of at least ten beers and unfortunately for theater ? alcohol isn't served br br rating out of\"] \n",
      "\n",
      "\n",
      "[116, '? as a another reviewer states ? war is an outstanding film about an outstanding person ? ? ? who would become the jewish joan of arc unfortunately i ? in opinion not ? that miss ? as the lead is too beautiful to be taken seriously as a resistance fighter in truth for me her performance is not held back by her beauty but makes it all the more stark in the terror of the sadistic brutality as a ? she faces ? ? performance is brave poignant heartfelt or understood and totally believable in other words for me in the zone from the opening credits if you would like to learn about the suffering of someone else for something they believe in and be ? entertained give ? war with ? ? a try my hat is off also to ellen ? as ? mother a much well known and famous actress who could have made effort to walk off with the film in that it is a team effort perhaps of two ? but not an all about eve situation'] \n",
      "\n",
      "\n",
      "[117, \"? there are three movies with this animation style that i ? remember from my youth this movie the last ? flight of dragons and the ? i own copies of both dragons and the ? both excellent and i hadn't seen the last ? in more than a decade that was until today and now i wish i hadn't what bothered me the most was the script it was incredibly choppy and often inane things would happen for no reason and other things would happen without explanation we're not just talking about little things here either we're talking about key plot points the story itself isn't that great to begin with but it could have worked had the script been decent not even close on top of that the music was awful i know that music in movies such as these rarely have what one would call classic pieces but the music in this movie made me want to knock myself unconscious with a ? ball this was one of those films that i was going to show to my kids some day but it just got cut i don't think i could ever sit through that crap fest again disappointed is putting it mildly\"] \n",
      "\n",
      "\n",
      "[118, '? a series of shorts ? dumb tv shows groove tube hits and misses a lot overall i do really like this movie unfortunately a couple of the segments are totally boring a few really great clips make up for this a predecessor to such classics like kentucky fried movie'] \n",
      "\n",
      "\n",
      "[119, '? i am a huge fan of simon pegg and have watched plenty of his movies until now and none of them have ? to make me laugh neither did how to lose friends and alienate people br br this movie is essentially about a man good as ? people off however he has an ? set of ? that ? him from doing things that might just make him famous but in the end he ends up doing them the culture of life br br the movie is well toned with humor romance good acting and also a bit of a lap dance its one of those movies where you could just be happy when it ends'] \n",
      "\n",
      "\n",
      "[120, '? this film is like an allegory of the ? it has such direct honesty and innocence you can not possibly believe it was made after the world war when italy was ? and ? and was filled with a huge homeless ? population it is a ? to the best qualities of the human spirit as well as to the endless creative resources of that land of inspiration br br ? is a character like ? idiot a modern christ finding his way in a big city he is goodness and ? ? by love and his acts change the people he encounters as much as the miracle working ? the story is told in a natural manner and simple style yet ? with a magic that is almost a ? of ? ? fantasies it is one of the most inspiring uplifting movies ever made'] \n",
      "\n",
      "\n",
      "[121, \"? i also having endured hundreds of children's movies in the past consider this to be one of the worst i have ever seen br br 1 i ? in this day and age having to explain to my children that russia is not the bad guys also that mocking russian names like ? is inappropriate br br 2 the grandfather ? birthday party scene contained a quasi sexist joke in which he implied that males drink beer and women talk on the phone two other flies also needlessly use the word crap twice br br 3 the whole movie largely ? of 1950's stereotypes and propaganda that i thought we as a nation were proud to have ? above br br in all it's just crude badly animated even more badly written and not worth wasting the time to view\"] \n",
      "\n",
      "\n",
      "[122, '? the pros of this film are the astonishing fighting scenes absolutely incredible sword moves and martial art show off a true john woo masterpiece the story tends to be a bit week though but it never ? the overwhelming display of ? martial art action if you are into martial art movies you are going to love this one'] \n",
      "\n",
      "\n",
      "[123, '? beautiful and touching movie rich colors great settings good acting and one of the most charming movies i have seen in a while i never saw such an interesting setting when i was in china my wife liked it so much she asked me to ? on and rate it so other would enjoy too'] \n",
      "\n",
      "\n",
      "[124, \"? sometimes it takes a film making master like kubrick to bring that extra little something that unique ? and ? ? that transforms a great movie or a great script into a masterpiece one for the ages br br it's not just that stephen king's story has enough meat and ? making it difficult for even the most ? of directors to miss heck even king himself didn't fare so bad it's how kubrick ? king's universe how he transforms the page into screen time that ? the shining both a visual feast and a ? ? in directing br br kubrick's miss en scene is as usually terrific the movie progresses with a ? sharp lively pace even though it's neither fast nor heavily edited and it ? at no less than ? minutes the camera ? through the lavish corridors of the overlook hotel like it is some kind of ? ? ? for exploration linear tracking shots exposing the ? ? interiors in all their ? there's a ? and ? approach in how kubrick ? space that reminds me very much of how japanese directors worked in the sixties as if what is depicted is ? to how all the different elements are balanced inside the frame br br certain images definitely stand out the first shot of jack's ? accompanied off screen from the ? of a ball like drums of doom coming from some other floor or produced by the ? itself as though it is an ? of doom all by itself later on proving to be nothing short of just that a red river flowing through the ? ? in slow motion jack hitting the door with the axe the camera moving along with him tracking the action as it happens instead of remaining static as though it's the camera ? through the door and not the axe the ultra fast zoom in the kid's face ? us inside his head before we see the two dead girls from his ? and of course the bathroom scene br br much has been said of jack ? ? overacting his mad is not entirely successful because well he's jack nicholson the guy looks half mad anyway playing mad turns him into an exaggerated caricature of himself shelley duvall on the other hand is one of the most inspired casting choices kubrick ever had coming from a streak of fantastic performances for robert altman in the seventies 3 women thieves like us ? she brings to her character the right amounts of ? and emotional distress a terrific and very underrated actress\"] \n",
      "\n",
      "\n",
      "[125, \"? in a time when the ? and principals the united states were ? on are ? ? by an administration desperate to distract attention from its own internal problems where the ? convention human rights and foreign ? are ? ? a thriller about the state taking illegal action that far ? that of the terrorists they are ? might seem appropriate however if you want to see a film about that try ed ? flawed the siege instead because ? is one of the most ? ? thrillers ever made like robert altman's ? a porter the director has taken on a subject he seems completely ignorant of and ? his ignorance on almost every frame br br his terrorists are a wildly unconvincing group of stereotypes ? ? dresses as if he were ? for mad ? ? vs ? strip michel ? behaves like an absurd kids in the hall send up of the ? professor from hell ? ? a cardboard middle class revolutionary wannabe who behave at every unconvincing plot turn as if they want to be caught the corrupt authorities fare a little better but are still painted in ? broad ? br br it is possible to make a smart film about dumb people ? election but this is a moronic film about dumb people made by people who think they're ? who are talking down to the masses in truth were one to ? ? ? and ? with jim ? johnny ? and shannon ? the result would actually be to raise the intellectual content of the film not lower it br br ? might just have got away with his characters and events if he took them seriously but his staging is so inept the fight scenes would embarrass a ? class while the shooting of the kidnapping is more inept than the kidnapping itself and his inability to get his cast to perform with at least some ? of ? human behaviour so blatant that it is actually embarrassing to watch special mention must be made here of ? so very good in ? ? la ? ? he is stunningly bad here in a performance that is so far over the top it's back again br br ? has made some fine films but you would never guess it from this amateurish mess a newcomer to his work would never want to see another of his films after this which would be a great shame utter drivel and a sad waste of a potentially interesting material one star out of ten and that's being very generous\"] \n",
      "\n",
      "\n",
      "[126, '? i agree with those reviews i have read here and i have no words to define such a turkey like this but despite everything i still can find a reason for movies like this to exist do you ? those happy days in which video was a ? business and a lot of movies were made with the only reason of filling the shelves of the video stores this movie comes from that period and i can imagine that was the only reason for which it was produced and the same happened with many many many other ? do you remember rambo ? and so many slashers of z grade i still feel nostalgia for that period about this movie i can say i ? waste my time watching it because i pressed the fast forward button after the first fifteen minutes just to find a very funny scene in which a guy was pushing an axe against heads which ? because as you perfectly notice they were made of plastic and about the end well it was so badly filmed i could not understand what happened ? the same i had not followed the non existing plot at all but boy video age was a great age despite movies like this'] \n",
      "\n",
      "\n",
      "[127, \"? this movie was terrible to say the least i was hoping for a lot better after seeing high school musical the whole entire movie was a complete rip off of the simple life only it wasn't a reality show br br the acting was not good at all amanda ? had her moments when she wasn't that terrible on the other hand ? ? was bad all the way through chris ? who played the love interest of amanda was playing a french guy but had an awful accent one good thing about this movie was the completely adorable michael ? who played ? love interest just something to keep in mind if this movie had been aired before high school musical it probably would not have seemed as bad but it was no comparison br br overall i give it a 2\"] \n",
      "\n",
      "\n",
      "[128, \"? there are so many stupid moments in ? of ? ? of death ? that you really wonder if it's a spoof at times it felt like i was watching a sequel to kung ? rather than a bruce lee film br br to be honest this film has ? all to do with ? of ? if anything it's more a sequel remake of ? the ? ? many elements of that film particularly the actual footage bruce lee's character billy lo apparently ? the sudden death of his friend and encounters a piece of film that was left with the man's daughter when the body is stolen during the funeral billy is also killed and it's up to his ? brother to avenge both men's deaths br br ? long stars as brother bobby lo and doesn't really have the sort of charisma to carry the film his fighting abilities are very good however bruce lee obviously turns up thanks to no longer deleted footage simply to cash in on the legacy saying that on the whole the footage is actually edited in better than in ? of ? but it doesn't stop the film from being a mess br br ok so the fights are actually very entertaining dare i say mind blowing and make the film at least watchable but there are so many ? elements to this film that it really ? your patience first off there's the supposed villain who lives on his ? estate or is that mental institution seriously the ? eats raw ? drinks ? blood carries a monkey on his shoulder and owns some ? and lions this attempt to make him look tough and intelligent just makes you feel sorry for him you half expect someone to ? him back to his room br br in fact this middle section is awful and when the scene involving a naked hooker and a lion suit arrived i turned it off however i did finish the film and was kind of glad i did because the fight scene towards the end much like ? was the whole reason for watching while the story is an embarrassment the action is very good and contains excellent choreography br br but even the finale disappoints if the premise was anything to go by what we were told was that the ? of ? was a ? that was upside down and underground this sounded great like a twist on bruce lee's original idea with different styles of fighting on each level could this be the ? of ? that was originally planned no the film should have been named ? room of death because thats as far as the tower goes of yes there were indeed one or two ? styles there were foil clad ? ? skinned henchman and stupid monk it's as though enter the dragon had never been made with the plot being a poor imitation br br worth watching once for the fast paced fight scenes but so stupid sometimes that it hurts if this was intended then fine thumbs up however for ? that ? room scene from ? the ?\"] \n",
      "\n",
      "\n",
      "[129, \"? i'm giving this movie a 1 because there are no negative numbers in imdb rating system this movie was horrible it was very badly acted the story was poorly written the action was unbelievable i doubt even the salvation army could battle as poorly as the troops did in this film i won't even write any plot spoilers because the movie just isn't good enough for plot spoilers to write comments on the plot would be pointless if i were to compare this movie i'd have to compare it to reign of fire however although i didn't like reign of fire either that movie at least was better than this one br br some of the people in the theater left before the movie was even halfway done the only reason i didn't was because i simply didn't think to do it i was hoping for a feast of cgi and fighting masterfully done but that isn't what happened the martial arts lasted all of 30 seconds and that was from an exercise routine done during the flash back scene very disappointing the cgi was not done well either one scene comes to mind during one of the earlier tank battles the troops are firing away at nothing someone forgot to cue the animation guys on that bit of film so the street was totally devoid of bad guys i'm also thinking the bad guy's voice was dubbed by the voice over of ? from the mummy movies had that same ? ? thing going on someone ? some ? here since i mentioned the fight scene i'll say yeah that might be considered a spoiler but only to the ? i suppose br br don't go see it don't buy the dvd when it comes out either you have been warned\"] \n",
      "\n",
      "\n",
      "[130, \"? typical thriller has been done many times before simple plot outline cop liotta becomes obsessed with ? wife and he tries to ? off good ol' kurt so he can have her this is beyond predictable it doesn't even try to make you guess the plot is the plot and there's no thinking outside the box here i guess then the only reason to watch it is to see how it develops but nothing is done originally or interestingly there's not really anything to say about this film it's not particularly bad but there's no good points either russell plays russell and you know what you're gonna get when you see him in a film ? liotta ? has an annoying cher ? voice i read the plot outline and i could see the film in my head it was so obvious and basic i watched it and it rolled out in front of my eyes exactly as i had imagined i felt not a drop of emotion throughout i have no feeling towards this film it's as if i never even watched it considering this it's a pretty pointless film isn't it still i'll give it 3 10 for some reason\"] \n",
      "\n",
      "\n",
      "[131, \"? i'm the sort of person who went down to the local library and read books on ? difference engine whilst my ? were playing football etc so if there is any such thing as a target audience for this film then i guess i'd probably be included in that br br maybe i just need to watch it again a previous reviewer mentioned not to watch this film whilst being tired maybe that was my mistake br br i tried my best to enjoy this film and there are aspects of it that i do like but overall i found it amateurish and quite plodding br br being somewhat of a self ? computer nerd i just can't help but pick up on the exact time frame when the movie was actually made and how the employed graphics reflect that time i e 1997 having played games of the era c f mind ? to ? one example this film cannot escape that 16 bit colour low ? ? explosion of that time now thankfully this has somewhat ? in more recent years in the ? world at least in favour of actual game play br br having to resort to watching this movie via a german ? satellite channel as i don't think it's ever been aired on uk ? tv well not recently anyway i was mildly amused to see the end credits note ? god dog had 4 people working on it's design maybe it's mean spirited of me to be amused by this given that ten years have ? since the movie was made nevertheless the end result makes movie graphics from the eighties look good by comparison br br but as for the main story i agree that the format isn't the best idea like others i agree that ? deserves a film without the sci fi angle and a more straightforward ? approach would perhaps be better suited to covering the life story of this remarkable lady br br there are fundamental mistakes that ? my enjoyment of this movie first of all the underlying idea that somehow lost real world information from the past can be accurately ? through some sort of ? via ? based intelligent agents seems somehow ludicrous br br also the theme running through the movie that a ? device can indeed predict the ? of all things through the course of time e g the winds is now known not to be the case br br ok so the ? may have held this view but the 20th century works of ? proving that no ? system can be complete ? works on the limits of ? not to mention chaos theory and quantum ? have all completely ? these ideas which seem central to how the modern day ? ? is supposed to work br br finally the ? of the mouse in the air to mean programming is also just plain wrong as previously mentioned br br this film maybe could have been ok but at least some technical and scientific ? would have given the film some much needed credit in the believability stakes br br i won't forget the film though as like ? it is clearly a unique work but with too many fatal mistakes for me to truly enjoy it 3 10 from me\"] \n",
      "\n",
      "\n",
      "[132, \"? this was the worst movie i have ever seen molly molly hall could not act at all she had no emotion it was all blah blah blah like she was reading out of a boring text book the smart kid and the kid who loves food there names weren't worth remembering were so annoying it drove me crazy when ever the talked it was about some scientific thing or food ? dad didn't show enough emotion about his daughter missing the police officer and ? dad said the same thing like four times it was just horrible everything was repeated way to much ? should have had something bad happen to her for being so mean i just wasted a moment in my life by watching this movie\"] \n",
      "\n",
      "\n",
      "[133, \"? the first ? may not have been a great movie but at least it was original there is no such novelty to this one the acting is worse in my opinion and the story is slower and nothing special i also didn't like the dialogue and the special effects are no better than in the original this is movie is inferior to the first one in all ways the only thing different about it is that it is loud and chaotic at times but that doesn't make a good movie if they had done something better with the story and made it interesting this could have been a decent movie i actually couldn't get through it all without fast ? through it to me this is a forgettable movie and not much more despite all that there are worse movies being in a generous mood i'll give ? 2 a 4 10\"] \n",
      "\n",
      "\n",
      "[134, '? this appalling film somehow saw the light of day in 1988 it looks and sounds as if it had been produced 20 or 30 years earlier and features some of the worst songs ever included in a major motion picture i ? for the parents and children who paid top dollar to see this'] \n",
      "\n",
      "\n",
      "[135, '? whenever a columbo story ? from the familiar plot colorful killer commits crime columbo ? out killer columbo becomes a ? in the process the writers somehow are never able to match the quality and interest of most traditional episodes this episode ? in the extreme and the result is a major flop br br would you believe columbo never faces the villain till the very end br br frankly i was tempted to turn it off about two thirds through br br oh the sacrifices we self ? reviewers make'] \n",
      "\n",
      "\n",
      "[136, \"? christopher ? must have been taught by a ? awful nun because he just can't let go of the concept the play sister mary ? explains it all for you was presented at least in hollywood in precisely the same tone as diane keaton's lecture scenes here sister mary was an exaggeration a lampoon a bitter satire of a ? confident ? and highly ? nun and as played by ? redgrave she was hilarious but the movie insists that we take this exaggeration absolutely seriously while as mentioned maintaining the same tone in the explains it all scenes the two approaches clash ? and in the last twenty minutes the movie goes off the track ? into the ? and explodes there are no survivors it could have worked if the tone of the scenes with the four former students and their encounter with sister mary been pitched the same as the sister mary scenes or if the sister mary scenes been presented more realistically this way simply doesn't work at all\"] \n",
      "\n",
      "\n",
      "[137, \"? 1st watched 8 26 2001 3 out of 10 ? tobe hooper scary yet sadistic which makes sense portrayal of a relative of the marquis de ? carrying out the same sadistic acts and enjoying it that supposedly his predecessor did this tobe hooper film really doesn't do a whole lot different than his similar in style freddy krueger movies with the same star freddy himself robert englund playing a ? role the marquis de ? and his relative it is also seems like it wants to really poke at christianity but then loses that in the end much to my ? but leaving an inconsistent feel to the movie could have been much worse if ? were taken in sex and violence but they try to keep this at a minimal despite some disgusting scenes my final thought is why would hooper want to make this movie it obviously took awhile to actually get distributed then it has to be advertised ? and with ? name in the title to hopefully make some money on his name and his gore it's obvious this didn't work\"] \n",
      "\n",
      "\n",
      "[138, \"? being a fan of the manga and anime of go ? devil man devil lady violence jack etc i was looking forward to this one i'd seen neither the manga nor the anime so i had no ? notions going in good thing too what we have here is a series of silly ? movies of the type that used to turn up with ? ? on cable channels late at night while it's tame compared to what gets ? down the throats of regular cable viewers our hero's naughty bits are either ? ? away behind a ? glued on ? or ? with a ridiculous ? effect there are prolonged scenes of bondage and torture that lend the proceedings just enough ? to make it ? for the ? while i have nothing whatsoever against nude female heroes i do dislike ? made movies there are at least four in this series on the plus side there's at least one stunningly beautiful actress in each of the four episodes i saw it's no wonder ? ? boy never made it\"] \n",
      "\n",
      "\n",
      "[139, '? this a rip roaring western and i have watched it many times and it entertains on every level however if your after the true facts about such legends as ? cody and ? jane then look elsewhere as john ford suggested this is the west when the truth becomes legend print the legend the story moves with a cracking pace and there is some great dialogue between gary cooper and jean arthur two very watchable stars who help to make this movie the sharp eyed amongst you might just spot ? hayes as an indian ? also there is a very young anthony quinn making his debut as ? warrior he actually married one of ? daughters in real life indeed its ? character who informs cooper of the massacre of ? told in flash back the finale is well done and when the credits roll it ? the american west with american history so please take time out to watch this classic western'] \n",
      "\n",
      "\n",
      "[140, \"? this is a wonderful movie with a fun clever story and the dynamics of culture differences and the running theme of what's important in life make this a very under appreciated movie don't let the ? of the world ? you from seeing this keaton has wonderful moments and i wonder at the fact that comedy is never appreciated because actors like keaton make going from humor to serious bits look tremendously easy great movie all around\"] \n",
      "\n",
      "\n",
      "[141, \"? the only thing that an ? truth proves is that al gore is still an idiot these ? experts are ? because a response to their inane ? is generally beneath real science this is mostly false science folks the greatest source of ? ? ? is people we ? it and unless you're willing to start ? your ? to save the world there's not a darn thing to be done we've heard how the world was going to end as the result of man for more than 50 years fools ? a time line for their ? and when the time passes nothing has happened an ? truth is just another vehicle with which a ? ? of american society can ? their ? br br and as to al leaving the ? business because of his sister's death from cancer that is a load too al couldn't run his farm any better than he could run the country he was losing money on the operation because he didn't care to farm when he could make more on speaking ? the only global warming that is ? is the hot air produced by this ?\"] \n",
      "\n",
      "\n",
      "[142, \"? while i would say i enjoy the show i expected something completely different from when i first saw ? i like about ? i expected to find something along the lines of ? ? i am not sure if it is going on anymore but i have to say i do like the show and while i don't ? it as a breakthrough show it is very charming and i do like the chemistry between the characters as well including the supporting cast br br i would definitely say that it is great to see wesley jonathan back on the screen because i really loved him in city guy i had also seen the woman who plays ? friend in popular and while i think that was an okay show i do not really like her character in this show because she's just not my cup of tea but she rounds it out pretty well\"] \n",
      "\n",
      "\n",
      "[143, \"? i myself am a kid at heart meaning i love watching cartoons still do i remember watching bugs bunny when i was a kid he was my favourite still is i thought man this was a great new show on tv and than my dad said bugs bunny i remember watching him when i was younger and i'm like dad bugs didn't exist when you were younger so i guess he's definitely pleased more than one generation possibly 3 i love the show it's great for kids and adults ok everybody it's very funny me and my husband both in our ? love watching the shows and we don't mind the re runs either this show brings back a lot of memories happy ones i love the christmas special too with ? as tiny tim it's cute i can't pick my favourite looney ? character because they've changed over the years when i was little it was bugs of course and ? pig ? is cool i always loved him actually i have to say there all my favourite i'm giving this show a 10 out of 10 because it's a great show for all ages very funny voice acting is incredible the only flaw is that unfortunately it came to an end 2 decades ago but the re runs are great\"] \n",
      "\n",
      "\n",
      "[144, \"? writer director co star adam jones is headed for great things that is the thought i had after seeing his feature film cross eyed rarely does an independent film leave me feeling as good as his did cleverly written and masterfully directed cross eyed keeps you involved from beginning to end adam jones may not be a well known name yet but he will be if this movie had one or two named actors it would be a box office sensation i think it still has a chance to get seen by a main stream audience if just one film ? takes the time to work this movie regardless of where it ends up if you get a chance to see it you won't be disappointed\"] \n",
      "\n",
      "\n",
      "[145, \"? this movie is simply wonderful it's got it all laughter sorrow beauty poetry truth all in a simple yet intense story like life you won't get distracted for a second br br 10 10 br br p s somebody tell hollywood you need a good story to make a good movie and there are so many good stories out there\"] \n",
      "\n",
      "\n",
      "[146, \"? when i heard that the dukes of hazzard was going to be remade with current actors and a solid script i was like alright i'll give it a chance it's not going to be better than the first but we'll see what happens well i saw what happened i saw a great late 70's 80's show that was a classic basically ? by hollywood it's so sad to see that hollywood ? cannot come up with something original these days they are seeming to take a great show that had a great target audience and try to remake the classic show heads up hollywood it ain't ? anyway more about the show i think they could have casted a better actor than sean william scott ? from american pie to play bo i'm sure that john schneider is definitely disappointed with how his character was portrayed and taken advantage of also get for real johnny ? as luke duke how low can you go a crappy jackass actor to play lovable luke this ? me also i'll give jessica simpson is a beautiful woman but her acting sucks catherine bach who played the original daisy was smart sexy strong ? and a good ? southern girl she was every little girls role model growing up i owned the doll and the ? thank you very much anyway jessica simpson played a smart ass 2 bit slut as daisy duke daisy never was blonde why did they have to cast her jessica alba would have played a great daisy duke she can speak with a great southern accent and she is gorgeous and would have done a wonderful job anyway i'd like to say that this movie blew something fierce i feel like i got ripped off by paying 8 50 for tickets and they should ? my money if you like the dukes of hazzard the original series don't see this movie it'll just upset you ? country music television plays the reruns of the dukes all the time later at night so set your ? and go with the real thing not the imitation on the big screen in hollywood\"] \n",
      "\n",
      "\n",
      "[147, \"? apart from the usual stereotypes of the thirties eugene ? as the gruff police detective jack la ? as the ? italian and of course james lee as the chinese cook this film is the great mystery of a murder in a locked room for an early 1930's film this step by step ? of the ? of the mystery is similar to the columbo series except in this film you don't have the advantage of knowing who the killer was in advance\"] \n",
      "\n",
      "\n",
      "[148, '? the film gets my ? of ? the scene in the museum demands acting without dialogue this is one of the most interesting and unique scenes in the history of film ? character kate is very well developed and her performance is felt throughout the entire film the best work angie dickinson did since point blank'] \n",
      "\n",
      "\n",
      "[149, \"? contrary to most reviews i've read i didn't feel this followed any of the other rock movies spinal tap etc the story was more unique although i feel most people wanted to see the sex drugs rock and roll ? that the band kept ? to br br as an american i knew a few of the actors ? ? rea surprised to find out brian bruce robinson was in ? ? classic romeo juliet guess i'll have to rent that next br br the flame still burns my wife who ? from mexico didn't follow the english british language too well missed some of the jokes which i ? explained but she cried her eyes out at the concert scene she loves the song so much now br br funny that amazon com has the soundtrack for 30 ? when i bought the dvd in the bargain bin at wal mart for 5 ? price non ? i first saw this on late night cable and have been dying to find it ever since\"] \n",
      "\n",
      "\n",
      "[150, \"? and this is a very disturbing film i may be wrong but this is the last film where i considered burt reynolds an actual actor who transformed the role and delivered a message br br jon voight and ned beatty are also excellent they are ? and unaware ? wanting to enjoy the country little did they know what would happen next br br the photography and sets are realistic and natural this was before the days of wes craven br br what is most disturbing about this film is the fact that places like this still exist in america country folk still ? city people it is almost a century and a half since the civil war br br you will enjoy this film it was filmed in the rural sections of south georgia which still exist just don't drive past that to mobile ? that area still has not been ? since ? ? 10 10\"] \n",
      "\n",
      "\n",
      "[151, '? its not braveheart thankfully but it is fine entertainment with engaging characters and good acting all around i enjoyed this film when it was released and upon viewing it again last week find it has held up well over time not a classic film but a very fine and watchable movie to enjoy as great entertainment'] \n",
      "\n",
      "\n",
      "[152, \"? watching it now it's still as ? and sexist as i remember comes from a time when girls were ? birds and basically men's ? it's hard to take in that it is from the hammer studios and the fact it's available on dvd when good films are not our nations shame where the working class are portrayed as work shy ? or worse trouble is you can't help feeling nostalgic for a ? on a bus try to hold your stomach ? when you see ? in a ? blue ? ? or something similar like shirley ? used to wear for a concert in 1972 warning this film shows the illegal practice of ? a motorcycle ? by a red double ? bus which i've been informed is not a ? but a ? br br look just don't bother watch something decent instead like ? or ? army or a fly ? up a wall\"] \n",
      "\n",
      "\n",
      "[153, \"? i really looked forward to this program for two reasons i really liked jan michael vincent and i am an ? nut and have a serious love affair with ? i don't like this program because it takes fantasy to an unbelievable level the world speed record for ? was set at ? ? by a ? ? several years ago the only ? that was ever faster was the experimental ? ? in the 1960's it hit over 300 and was a compound helicopter which means it had a ? ? at the end of its ? providing thrust br br in short no helicopter can fly much over ? because of the principle of ? wing flight and the bell ? the actor that portrayed ? wasn't very fast even by helicopter standards and it didn't stay in production very long br br there was a movie that came out during this time period called blue thunder that was much more realistic\"] \n",
      "\n",
      "\n",
      "[154, \"? in order to stop her homosexual friend albert perry king from being ? back to ? stella meg foster decides to marry him the only other problem with that is that stella herself is a lesbian the two have their separate lives when one night after ? birthday party they fall into bed and then into love later in the film after falling in love stella suspects albert of cheating and shows up at his job one night late after closing what she finds will leave the viewer stunned this is a great film very original perry king and meg foster are so good in their roles that it is amazing that they were not better recognized for their work here very controversial upon its release in 1978 the r rated film is now pg in this much more liberal time br br recently released on dvd the disc contains a making of segment on the special features and in it it's stated that the film was based on an actual story so the viewers who say the film is not real are mistaken everyone is an individual and different people fall in love for different reasons these are the issues explored in this wonderful film for everyone who has ever loved\"] \n",
      "\n",
      "\n",
      "[155, \"? this is real character and story driven drama at a level that ? most of what we see on tv at the mo br br i was impressed right from the start don't be put off if your not a sci fi nut like me this could be happening on earth the fact that its in another galaxy just makes the show more interesting there are no space ships or laser guns none yet anyway so far i've seen up to ? ? and i'm ? and wondering whats going to happen next as there are so many possibilities br br the cast play there roles with ? eric ? is especially strong br br this show really stands alone well it doesn't matter if you watched bsg or not in fact they are quite different i've read some negative reviews from sci fi ? who expected less drama and more aliens and ray guns etc but i would say ignore them br br this is a really positive start to a show lets hope they don't ? it after 1 or 2 seasons like they normally do with good shows these days\"] \n",
      "\n",
      "\n",
      "[156, \"? what i hate about this show is how poorly the leads are written these women have no self respect or dignity the entire plot is them throwing themselves at guys amanda ? talent is completely wasted she was brilliant on all that and her own show why they would write her and jenny ? as vapid ? desperate men chasing old maid ? is beyond me br br their plots and dialog remind me of the ? homer says whenever his cartoon character ? is not on screen everyone should ask where's ? all the talk centers on whining about some guy and then whining to some guy sometimes they change it up and the guy ? instead then they get back together or break up at the end the 2 women are either shallow stupid or sex ? the only word i can think of is sucks\"] \n",
      "\n",
      "\n",
      "[157, \"? watching this was like getting a large ? slapped in your face over and over again even when you thought that ? surely can't be coming around again slap there it was i'm not sure what they were thinking this is the sort of pilot i watched and wondered did the actors know they were on a doomed ship destined to never be made into a series not only black stereotypes but swedish and indian ones as well and while blazing ? made these stereotypes into a mix of comedy and ? these stereotypes were just downright offensive there was no plot line the ending was slapped on and the jokes aren't still if you are a student of comedy watch this pilot to see what you shouldn't do\"] \n",
      "\n",
      "\n",
      "[158, \"? as gently as i can i sincerely believe this movie is a waste of time i did not find it the ? emotionally ? film others did i found it boring with music that distracted from the film the story was thin the characters ? and the direction pedestrian br br ? br br now i'm going to write some more about this movie so i make the 10 line minimum there really isn't more to be said and ? is important but imdb has its ? so here goes br br young eager kid finds ? talent seeks time with aging ? mentor in spite of father's cartoonish ? aging ? mentor turns out to drink a lot and teach very little conflict ? while i don't think this is a spoiler i've added the warning in case someone feels this much information is too much br br mostly i just found the film boring and pretentious a waste of my time i honestly don't understand what little fuss there seems to be mostly on this web site about the ? quality of this movie i think it's really worth avoiding but as dennis miller used to say maybe i'm wrong\"] \n",
      "\n",
      "\n",
      "[159, '? a rating of 1 does not begin to express how dull depressing and relentlessly bad this movie is'] \n",
      "\n",
      "\n",
      "[160, \"? pathetic worse than a bad made for tv movie i can't believe that spacey and freeman were in this flick for some reason morgan ? character is constantly talking about and saying ? when referring to ? boy's girlfriend morgan freeman calling women ? is just awkward what the hell were the people behind this film thinking too many plot holes to imagine combined with the horrid acting confusing camera angles a lame script and cheap background music made this movie absolutely unbearable br br i rented this flop with low expectations but well it really sucked\"] \n",
      "\n",
      "\n",
      "[161, '? aaron spelling produced this made for television western that gets awfully ? for a ? three minute film it plays like a ? failed series pilot br br handsome clint walker is u s ? dave ? who wanders into ? arizona territory in time to kill one of the brothers of the local ? ? who is out on a trail drive br br walker takes the other brother to jail walker also meets a cute homeless mexican kid who sleeps at the ? one night ? is ? when a villain and another man dressed in army blue take the remaining brother into the street and kill him ? the murder on walker not good for your first twenty four hours on the job walker visits the local army ? and ? the chains of the commander the ? hears of his ? deaths and rides back to town in time to get his chains ? as well the local native population who get short changed by the army on their ? also get ? in the chains area with all these chains getting ? walker still has time to woo the local hotel owner the army guy involved in the murder ends up dead the local cattle ? is ? the indians do a lot of ? ? and the climax brings about an unlikely showdown as walker must prove to the town that the villainous cattle ? had a boss someone we have suspected as being too helpful all along br br there is a semi subplot involving the death of ? family at the hands of army ? and i think this would have been the force behind the series had it been picked up instead the film ends abruptly and i kept waiting for scenes from next ? exciting episode because of the fade outs for nonexistent commercial breaks the pacing is all off on this and its story jumps in fits br br walker is handsome rugged and has a voice deeper than a well the rest of the cast is full of television actors you have probably seen in other television movies much of the action is pretty lame and the violence is tepid the first brother killed gets a shotgun blast ? and falls without a scratch on him i did not expect ? dogs but this is the wrong film to use to teach children about the evil of guns speaking of children the mexican kid here goes from cute to ? inducing annoyance very quickly br br if you dislike westerns then you will dislike ? if you like westerns then you will still dislike ? i cannot recommend it br br this is ? but contains physical violence and gun violence br br'] \n",
      "\n",
      "\n",
      "[162, '? i pulled down a vhs box from my vast collection many unseen and picked out a movie based on the box art i thought would be fun and yes bad prison had that 80s cheesy look all over that box i sat down and watched and lo and behold found that sometimes we do indeed sit down to a movie with ? expectations in mind fortunately i ? mine quickly and soon realized i was sitting down not just to an okay film but a rather good movie in total prison tells the story of an old ? prison being ? to save on ? concerns it looks creepy as all empty and filled with prisoners the prison used as a set is incredibly atmospheric and easily the most important character in the film the story using the prison as its central setting tells in a prologue of a man being killed via the electric chair we see lane smith as a guard ? away a ? before sending the man to his maker we then go to present day first with a government board at a meeting deciding to open the prison and send a beautiful doctor in to make sure that conditions are acceptable as she ? ? against re opening the old prison then we see the new warden lane smith haunted by a nightmare in bed and given the new job of opening a prison he has not been to in years well the rest follows suit prisoners and guards arrive with plenty of stereotypes ? we are given some character depth and several of the prisoners are interesting characters the acting is better than one might expect with lane smith doing as always a ? job viggo ? as a very different prisoner being solid tom everett tiny ? and ? kane really exploring the boundaries of their stereotypical characters ? field is okay as the female lead the best performance is by lincoln ? an underrated character actor as ? a prisoner who had been in that very same prison years ago when the man had been executed with some kind of terrible secret prison is not the next best thing to ? bread or anything like that but it is definitely worth a look and definitely better than most would expect from it i was pleasantly surprised at the way director ? ? created a story so visually atmospheric the film has a tense taut pace and ? knows how to build his scenes there are a few ? shot gore scenes the one with the ? wire was a bit much as was the one with all the ? but these scenes are visually creative and interesting the acting is uniformly decent the script actually much more cohesive than one usually gets from films like these that may in part be credited to irwin ? who wrote the story you may remember he came up with the idea of making halloween scary as a holiday here he makes ? a hell of a lot more scarier than it already is give prison a break get it'] \n",
      "\n",
      "\n",
      "[163, \"? i thought it was pretty interesting my social studies language arts teacher was the police chief guy that was holding the ? on the water barrel part d i was excited my teacher is in some commercials he was in a gas coffee phone play station commercial its nice seeing him on tv he was also on everybody hates chris except he always get the small part la la why do we have to right 10 lines thats so stupid i think i'm done never mind i'm still not done what is this a joke why do we have to go all the way to line ten really what's the point of it i will just right random words for now ? story is fun i love my friends\"] \n",
      "\n",
      "\n",
      "[164, \"? this film was so disappointing from the ? that made me decide to see phantom love why is it called this i had expected something arty and thoughtful with beautiful imagery it did have some interesting images but these often seemed random and made no sense in fact they seemed like they were inserted to fill in time in the end the effect was ? br br i believe the film was meant to be atmospheric but it just wasn't the lack of a coherent plot did not help matters you might say it was mysterious but i think it was just incoherent with no atmosphere br br the main character seemed to be disturbed but the plot did not draw me in enough to care about her situation without looking at the cast list i would not have known that you see the main character as a child the film has very little context for the time place or character i am not a ? but the sex scenes there were several seemed pointless and confused me further i ? ? but i was not sure if it was the same man different men a lover her husband or was she a prostitute it was only when i saw the credits that i discovered the hairy back was meant to belong to her lover this film did manage to make what should have been shocking dream sequences involving ? mother seem a bit boring br br the nail ? actually made more sense as it did give some indication of ? emotional state i will not fault the actors as i don't they had a lot to work on br br i do not know if the lack of context or flow in the film was because of ? or because it was pretentious but the end result was dull br br i can't be bothered talking about it anymore\"] \n",
      "\n",
      "\n",
      "[165, '? return to the lost world was filmed back to back with the 1992 version of the lost world br br in this sequel the same five people lead by ? return to the ? where a group has started ? for oil which is threatening to destroy the land ? has something to do with this they manage to defeat the ? and the ? is saved much to the delight of the natives br br like in the lost world what few dinosaurs we see are made of rubber and these include a t rex and ? br br john ? davies and david warner ? their roles as ? and ? and three of the other actors are also back br br despite reading several bad reviews of this and those cheap looking rubber dinosaurs i enjoyed return to the lost world br br rating 3 stars out of 5'] \n",
      "\n",
      "\n",
      "[166, \"? it's a bad season for bollywood with all the big releases with a massive hype surrounding proving to be ? at the box office london dreams is no exception to that let's ? it it's all about chasing your dreams and how far will you go to achieve it sounds impressive right but unfortunately the film is not br br ? ajay ? is an aspiring musician who wants to make it big someday his dream is to perform in ? stadium in front of a cheering 90 000 audience calling out his name he is joined by two brothers ? ? ? ? roy ? and a ravishing ? ? together they form london dreams their dream band after ? the chief of a record company they become overnight ? ? is secretly in love with ? which he doesn't want to reveal till he achieves his goal ? then brings his childhood friend ? ? aka ? salman khan a ? ? guy who has got no ambitions in life to join their band ? is a trained musician and a real talent for whom later ? become ? for ? superior skills and his affair with ? ? with the help of ? plans to ? ? what happens next forms the rest of the movies br br coming to the technical aspects we feel only the shadow of ? ? ? whom we have admired in ? london felt like he simply ? the screenplay to cut it short a ? cameraman screenplay by ? ? ? even though it has its moments defined in a predictable fashion the screenplay bore you to stiff camera work was awesome in capturing the beauty of london it's the only entertaining part while watching songs br br few songs are ? while others are passable ? fare ajay was the one who stole the show with his negative character salman is monotonous and he ? you ? is forgettable and i don't that she will make it big in bollywood ? roy is impressive while ? is strictly ok ? as the bitch is what we have seen in ? movies ? is ongoing with the proceedings i don't want to pen down about the flaws as it will be a ? task br br finally let me put it simple and straight london dreams is a soulless movie which you may better enjoy on dvd\"] \n",
      "\n",
      "\n",
      "[167, \"? people forget that there have been several king kong ? ? king kong vs godzilla king kong 1976 they all ripoff one another but yeti stands on its own it only borrows one element from king kong and that is the ? attraction with one female br br the yeti myth is based on bigfoot not like king kong and ? have been fascinated it at one time they did exist but there is no scientific data to prove it br br this movie is hard to find but its worth watching it the first time i watched it was on ? mistress of the dark shows in the early 1980's it sent chills down my spine as a kid especially when the yeti got mad i saw it again around 1 ? on abc about 2 to ? ago seeing it again made me appreciate it more it has some overall good effects for its time and the story involves a mute boy and his dog and an evil businessman person who wants to kill the yeti for his own purposes also the music is pretty cool its very yeti like br br ? ? and the ? creates a great monster like atmosphere br br vote 7 and half out of 10\"] \n",
      "\n",
      "\n",
      "[168, \"? alright normally i am not as harsh on sequels especially if the first film is done well and was ultimately a good movie as for 1999 i feel that one of the top five films was cruel intentions it had everything a great movie should have except for an original story being adapted from a novel it was still damn good on to cruel intentions 2 which was supposed to actually just be the opener for a series based on the film called ? ? which must not have happened actually after seeing this ? of a film i can understand before the thing started i was like at least the writer and director roger ? did this one also well 1 minute into this movie i was disappointed it starts off with a rehash of the opening of the original with a different twist sebastian instead of putting the ? daughter's naked picture on the net he puts the schools principals wife in the school ? naked this would have been alright if the lady was not like 50 and basically the rest of the movie is a wannabe ? copy of the original which i understand the if there is nothing wrong with it leave it the way it was but you can not do that with a movie this actually being a prequel i gave it a chance just to see how they turned out like they did in part 1 but with sebastian being more or less just a ? and kathryn being a herself and turning sebastian into the sexual predator he was in the real story this movie had no foundation to it whoever did the casting on this thing was way off they could have at least tried to get people who looked like the original cast but no they just hired a bunch of not even really good looking actors i am using this term although i dont know why they for sure didnt do any in this movie br br all this movie is a bunch of one liners that dont even match the wit that the original had well some of them did but that was just because they were from part 1 another bad point was in part one you could understand the need for them to act out for attention because there was no involvement from ? parents this one had them in it and they were poorly used as if to show why the kids are like this it didnt work though the best thing though about the original was that the cast had chemistry they took you into this world the on screen tension that was there made the film what it was this thing really ruins the experience of the first one stay way from this\"] \n",
      "\n",
      "\n",
      "[169, \"? going into this i was expecting anything really good but after the damage this ? on me i'm just happy to think ? it's hard to think what the film makers ha this was a good movie the stories and i use the world loosely are incoherent and do make any sense at all there just stupid things that happen at random the acting if can be called acting is horrible i've seen ? acting in toy ads i know it's a low budget video bin ? but still even it's not like they tried will after ? thought it i feel very sleepy and still ? do i'm going to go lie down br br ? do not ? to drive walk read or do any after watching ? other side ? may ? lose of any or all metal ?\"] \n",
      "\n",
      "\n",
      "[170, \"? kurt russell whose career started when he kicked the real elvis in it happened at the world's fair will probably never top his performance as the king in this biopic ? by slash and shock ? carpenter there are times you feel that you're watching elvis until something ? you back to reality perhaps memories of a hapless don johnson in elvis and the beauty queen all the performances here are excellent season ? as ? pat ? as the colonel even shelley winters brings the right level of nerves and ? to her rendering of ? ? br br ? dad bing is here playing ? father ? and there's a fine understated performance from robert gray as ? buddy and bodyguard red west br br a must see for rock n roll fans\"] \n",
      "\n",
      "\n",
      "[171, \"? i get tired of my 4 and 5 year old daughters constantly being subjected to watch ? disney and the like it all seems to be the same old tired cartoons ? over and over again when my daughters couldn't go to the fair this afternoon because one of them was sick i wanted them to just relax and rest for a while i ? the tv on and in searching for something different i ? the channels my finger stopped channel surfing the moment i heard ? voice i adore every single ? thing this man has done and when i saw that he was doing voice over work for a little duck well i couldn't change the channel my daughters were instantly ? by the cartoon and the more we watched the show together the more i grew to love it along with the message that was being portrayed it's not necessarily a ? for gay rights but rather for anyone who has ever been ? as a child for anything i had friends who were picked on for one thing or another too fat too skinny too feminine being a bully not being smart enough only having one parent you name it kids as a rule can be very very cruel to one another so i was happy to see an entertaining cartoon that actually conveyed a life message to its audience my girls already accept others as they are and don't pick on others for being different my older daughter actually stands up for her friends if they're picked on one happens to have a single mom and that little girl is picked on quite often it ? my heart when ? stands up for her br br so those of you who are ? this show because you feel that it's an ? for gay rights or are being forced to accept certain views you clearly and completely missed the point of this poignant little cartoon br br and if you need it explained to you well you need more help than any television show could ever offer\"] \n",
      "\n",
      "\n",
      "[172, \"? a beautiful piece of children's cinema buried in a world of ? ? setting the story around the famous book of ? believed to have been comprised by monks from the small island of ? off the western coast of scotland br br telling the tale of a young ? apprentice who goes off into the forest in search of ? ? the fierce ? ? of ? mythology in hopes of recovering a lost ? br br the films true beauty lies in its' animation cell ? in a bright and inspirational style of deep complexity resulting in a look of seem less simplicity ? much from the artistic style of the brilliant cartoon network series ? ? for its genius use of mark making and background depth the secret of ? creates a consistently ? ? world living under the shadow of ? invasion br br the history may be intensely inaccurate and the ways of life portrayed lacking realism but these facts are utterly irrelevant as the film sets itself in a world of fantasy and ? ? ? the girl of the forest is a wonderful addition and in my opinion makes the picture what it is as she ? from branch to branch appearing and disappearing like a mysterious ? with qualities resembling the legendary ? cat from alice and wonderland br br the secret of ? is an absolute treat for all ? all ages it's a lovely piece of family cinema br br don't expect to be ? but instead pleasantly impressed\"] \n",
      "\n",
      "\n",
      "[173, \"? i never wanted to see this film then one day for a joke i watched it to see how bad it was my ? were confirmed br br for starters i'd like to question the politics of the film it hides behind of mask of women ? it big in the ? but the only way that women can make it big is through using their sexuality rather than their intelligence or skills these women are nothing more the ? are slightly less attractive girls not allowed to be successful this is not the only right wing message of the film there are hundreds of shots of american ? and huge ? of cash a fine example of how the only powerful thing in america is capitalism and anything of spiritual moral or artistic value is not even given a look in of this film money is depicted as the only important thing to young people br br the ? of the bar states that she does not allow drug users in her bar and then she goes on to poor ? of hard ? down her own neck and then the ? of her staff and customers any one who knows anything about ? will know that ? can be just as dangerous as heroin and more dangerous than most illegal drugs br br and finally why are scenes in which the lead character is a point of sexual interest to the audience when she is getting ? or with her boyfriend is her father always involved we watch get her ? with the camera virtually ? her legs while she is one the phone to her father she ? her father just as she ? her boyfriend i find this most strange br br in conclusion this film is ? ? ? to women and frankly disturbing but what else do you expect from jerry ?\"] \n",
      "\n",
      "\n",
      "[174, \"? i loved watching ? hunt ? back in the day i was in ? school and would get home do my ? and by 4 30 would be ready to watch ? hunt ? and mike nelson in his underwater adventures i loved it he took to you a place not very accessible at that time under the great blue sea pre ? ? or even before ? became common there was mike nelson ? the imagination of kids i'd be willing to ? that more than a few kids developed their passion for ? or ? or one of the ? from watching this show underwater photography also progressed the fascination for exploration is easily ? thru watching this show watch and enjoy\"] \n",
      "\n",
      "\n",
      "[175, \"? first things first the female lead is too gorgeous to be missed now actress wang zu ? the one who played ? ? in the movie is ? years old and well aged it's always good to review these glorious times when seeing old school ? productions like this br br the movie is one of the most influential titles made in 1980s the art set decoration and other aesthetic ? are all mesmerizing more fantastically the movie had a total black humorous ? in it it feels like a horror movie but ultimately it's not ? but only fun br br i had the experience of ? the second script of a chinese ? story and i thought that script was a decent write however when i saw the movie i firstly was disappointed in seeing the movie different from the script like in a smaller scale and involving more comic roles however it turned out to be better executed in terms of being entertaining br br if you have seen the lord of the rings you will notice the similarities in this movie to lotr the climax is like a mirror of miranda otto fighting with the ring witch it's definitely a laugh out loud bravo\"] \n",
      "\n",
      "\n",
      "[176, \"? an actress making a movie in africa is kidnapped and taken into the jungle where she is held for ? the producer hires some one to go and bring her back ? everything are the cannibals in the jungle who worship a really ugly looking god who likes to eat naked women br br this is a gory sleazy movie there is ? amounts of nudity and violence not to mention violence against nude people its an exploitation film designed to appeal to the deepest darkest parts of our being and if the movie wasn't so boring this film would be a classic lets face it despite the gore the nasty sex and abuse and the ugly monster this movie is a ? the pacing is all off ? and it puts you out there are multiple plot lines that all seem to be happening ? from each other even though its ultimately all one story worst of all almost no one says anything most of the minimal dialog concerns the cruelty or one characters ? that i'll do what i want its such a quiet and dull movie that if it weren't for the frequent screams of the victims i'd recommend this as a sleep ? br br this is a movie to avoid unless you need sleep or unless you need to see every euro cannibal movie br br an aside ? just released this as part of their terror tales series their print is oddly letter ? which looks to be the result of taking their print from a japanese source there is ? that was ? to remove the subtitles their print also has no opening titles\"] \n",
      "\n",
      "\n",
      "[177, \"? set in japan ? is the story of demons taking over the earth the premise is far more complicated but the ? storyline should not be forgotten japan is in turmoil with demons ? human form ? the lands generally speaking demons look and act like humans but are evil the japanese word they use is not just demons but rather the classical form of ? which is a ? creature of some historic stature we're talking about creatures that would appear more like gods than simple ugly child eating monsters br br however in human form all that remains is the green eyes and green teeth which appear when put under any sort of stress in order to save the world from demons there are demon ? trained and skilled warriors who can spot and defeat most every kind of demon and who guard the passage way between the realm of hell and that of the real world these are the basic premises br br the story begins with a festival in a local town amid these ? 3 men ride in dressed in all black seemingly intent on doing harm the villagers run ? those which are demonic in nature who turn green eyed and try to kill them the demon ? end up killing off the majority of the demons from here the story gets interesting the whole essence of the story begins when at the gate to hell a fortune telling demon appears before the 3 gate ? revealing the arrival of ? with it comes the end of the reign of man and begins the reign of demons ? however requires some form of ? process the first step of which occurred during the opening battle but which won't be revealed to you until you see the film the 3 demon ? are a wise old man a powerful yet ? man and a skilled and compassionate warrior immediately you can see the split between them the old man wanting to stop the demons the powerful one wanting to bend them to his increasing ego ? wishes and the third looking to stop the second along the way he meets a woman who he begins to take fancy to and believes himself to have a special relationship with she in turn is a ? who is good natured sought after by authorities when the two finally meet face to face he places his hand on her shoulder and suddenly she is ? by a mark on her shoulder needless to say the mark is not a good sign what ensues is a battle for earth a battle between both good and evil as it should be but also between good and good itself br br the point for me of this film became something other than what i thought it would i came in thinking it would either be a fast paced action style film with demons or a horror film with macabre evil and foul creatures the likes of which would be seen in ? and ? on i was however mistaken in the best possible way the story it seemed to me is an adaptation of a very old japanese play and it plays itself out as such combining the essentially action driven ? scenes with a great concept an amazing narrative and a style which makes you compelled to think rather than just sit ? in gore many scenes are painted with ? dialogue between two characters the likes of which will never be seen in a hollywood film it becomes a practically theatrical experience which takes your breath away br br the film makes use of some ? scenery and camera work comparable to many great samurai films of our days but adding to it a well thought and classical plot with great acting great music and thoroughly stunning scenes its a must watch in my book br br that being said it does need the ? that it is not for everyone its not cheap thrills horror its not balls to the wall action its a horror style play thats been filmed it has very much to say and takes the time to do so flying in the face of the conventional one liners like japanese plays the ? between the characters can last for many minutes before they come together for a quick yet marvelous battle scene if you can enjoy such a thing this is a masterpiece if your idea of a good film is slasher flicks with little plot and excessive nudity then you can easily watch something else br br overall this film to me is a unique and amazing one which keeps you ? and amused it has good writing good acting and good direction it is all in all a ? great film\"] \n",
      "\n",
      "\n",
      "[178, \"? this is a really good film and one that i've enjoyed watching several times michael ? awesome as always michael caine has received kind of a reputation for taking any role in any movie no matter what the quality or lack of same but he does a good turn in playing sidney from the start it's so well written who would have thought that ira ? who wrote such creepy stuff as the boys from brazil and rosemary's baby could write something this witty let's face it michael caine chris reeve ? cannon henry jones how are you going to go wrong with a cast this good directed by sidney lumet br br i'm really ? to go on because if anyone were to give away anything about this film it would be a crime just watch it and adore it\"] \n",
      "\n",
      "\n",
      "[179, \"? steve carell plays dan burns newspaper agony uncle and dedicated single father to three girls at a large family ? dan meets his perfect woman only to find out that she is in a relationship with his brother br br what's a man to do br br i rather liked dan in real life but i would imagine the success or otherwise of this flick is going to be down to whether you are willing to accept steve carell playing a part relatively straight and restrained rather than going through the broad comedy moves that have made him so successful if you cannot accept it fear not get smart will be along later in the year but for the record i thought he was very good br br dan in real life starts off like your typical incidentally amusing family drama but it gets funnier and funnier as it goes along and ? frustration with his situation grows it's not ? original but if you only saw movies with original ideas cinematic ? would be very ? indeed wouldn't they but dan in real life is entertaining and a good cast who wouldn't fall in love at first sight with the ? juliette ? make the most of an insightful enough script that contains many a ? on the meaning and passion of love br br i hope that steve carell pushes himself and does something as interesting again\"] \n",
      "\n",
      "\n",
      "[180, \"? this is indeed a funny show done in a creepy sort of way much like a tim burton film it's worth a look as it's far more creative than most of the shows this season best of all it's not a reality show i'm wondering why the viewing public is so ready to accept shows like that which lack creativity and ignore wonderful shows like this that actually have a creative bent br br while some ? the premise i think it's really unusual much more enjoyable than ghost ? and medium i think it's the funniest thing on the tube since my name is earl br br oh and the narration and music are wonderful if you enjoy shows that are a bit off the beaten path i'd recommend it it's not as strange as twin peaks was but it's got a serious ? to it\"] \n",
      "\n",
      "\n",
      "[181, \"? where's michael caine when you need him i've seen most of the many seasons of mst3k but this rare pre 1st season flick ? k 20 is easily one of the worst movies ever made three stars lee ? chris ? and burgess meredith struggle through the worst ? of cinematography ever delivering lines which must have been written by a secret dick ? style ? composed of ? and ? lawyers trying to cut funding for mass ? and energy ? research looks like it was filmed in almost total darkness possibly on super 8 makes ? run look like the cinematic ? ? crossed with shakespeare i can't imagine watching it without the commentary of crow and ? since it's unwatchable even with it clearly what's needed in hollywood is some sort of ? which ? the need for actors to take on bad movies like this in order to pay for their health care with its rights to ? and drive theme by the end i'm half expecting to see a charlton heston cameo where he delivers his cold dead hands speech lee i could have forgiven you for this in 1989 but 1981\"] \n",
      "\n",
      "\n",
      "[182, '? ? girls ? lawrence and dorothy west receive some terrific news at the local post office unaware they are being stalked by ? charles ? meanwhile father david miles receives a message from young robert harron which ? daddy leaving home so when the young women return they can ? home alone as the vulnerable pair bed down for the evening the local grand ball of the black and ? gets ? and a dark skinned ? ? additional danger for d w ? dynamic ? br br mr ? has one of his better ? roles stealing the film from the girls and daddy ironically director griffith appears as one of the black faced extras at the black and ? ball ? girls lawrence and west are suggestive of later griffith girls ? and dorothy ? especially in ? of the storm ? and they are ? ? in bed the racist tone is unfortunate since the story of a ? redeemed by saving his potential victims from a greater danger is intriguing br br the girls and daddy 2 1 ? d w griffith ? lawrence dorothy west charles ?'] \n",
      "\n",
      "\n",
      "[183, '? unless somebody ? me i really have no idea what this movie is about it looks like a picture with a message but it´s far from it this movie tells pointless story of a new york press agent and about his problems and ? basically all when that agent is played by pacino one must think that it must be something important but it takes no hard thinking to figure out how meaningless and dull this movie is to one of the best actors in the world al pacino this is the second movie of the year the other is ? that deserves the title the most boring and the most pointless motion picture of the year so ? going on al'] \n",
      "\n",
      "\n",
      "[184, \"? this film has to be the worst i have ever seen the title of the film ? the audience into thinking there maybe hope the story line of the film is laughable at best with the acting so poor you just have to cringe the title ? ? implies a ? of zombies when in fact there are six in total this cannot be ? as a horror film due to the introduction of cheesy 80's music when the zombies ? the zombies actually talk and act like human beings in the film with the only difference being the make up which looks like something out a la ? video if you ever get the chance to buy this film then do so then burn the copy\"] \n",
      "\n",
      "\n",
      "[185, \"? anyone who doesn't think bill and ted's bogus journey is one of the greatest movies of all time needs their head checked it somehow manages to be both completely inane and no ? but also terrifying knowing and clever at the same time one of those rare films that actually ? upon it predecessor bogus journey can be enjoyed again and again notable highlights include the duel with death and the ending which is highly emotional keanu wants to forget all that matrix rubbish and get down to doing what he does best ted theodore logan in bill and ted the return\"] \n",
      "\n",
      "\n",
      "[186, \"? this is an ? and ? piece of garbage that no doubt wants to be a friday the 13th 1980 clone the poster for this movie makes it look like there's going to be some sort of a cross between jason and freddy which is likely to attract movie goers there is nothing good or entertaining about this movie about this movie it just makes me sad just thinking that some people are going to stumble upon ? camp ii unhappy ? 1988 on video or dvd and waste their time with this sad cynical depressing movie br br angela baker pamela ? is a camp ? at camp rolling hills who hopes that the other ? are as nice as she is and that they stay out of trouble meanwhile the other ? are realizing that people are disappearing one by one with angela making up the excuse that she had to send them home could angela be the killer who was once a man who ? a sex change operation years earlier who knows who cares br br the 1980s was home to a lot of movies that made the cross between the mad slasher and dead teenager genres in which a mad killer goes ? some have a plot some don't but they're all about as bad as this one ? camp ii unhappy ? is 80 minutes of teenagers being introduced and then being stabbed ? ? chopped up burned alive and ? that's all this movie is it is just mindless bloody violence br br watching this movie i was reminded of the friday the 13th movies in which the message for its viewers was that the primary function of teenagers is to be ? to death the filmmakers of ? camp ii have every right to be ashamed of themselves imagine the sick message that this movie offers for its teen viewers the world is a totally evil place this movie tells you and it'll kill you it doesn't matter what your dreams or your hopes are it doesn't matter if you have a new boyfriend or a new girlfriend it doesn't matter what you think what you do or what your plans for the future are you can forget those plans because you're just going to wind up dead br br and the ? thing is and by not giving too much away the movie simply sets up room for a sequel well why not they've probably and already taken the bucket to the ? by making three or four of these movies i missed out on the original ? camp 1983 and after watching its first sequel i will hopefully stay away from the other sequels as well as the original and for parents if you know kids who actually like this movie do not let them date your children\"] \n",
      "\n",
      "\n",
      "[187, \"? the great vincent price has done many fantastic horror films some of which range among the greatest genre gems of all time ? greatest achievements were ? his films in the 60s with films such as roger ? brilliant poe cycle still the greatest horror cycle of all time michael ? ? general 1968 or ? ? the last man on earth 1964 ? the ultimate highlights of this brilliant man's career the films that made the man famous and thereby made him the immortal horror icon he is however date back to the 50s with house of wax 1953 ? his rise to stardom the mad magician of 1954 follows a plot that is very similar to that of its successful predecessor this is not to say however that this film isn't an original delightfully macabre and absolutely wonderful gem itself as the lines above may suggest vincent price is my favorite actor and while i personally would not allow myself to miss anything the man has been in none of my fellow fans of the man may miss this little gem br br price stars as don ? aka ? the great an underrated master magician and ? of magic devices whose boss a sleazy businessman stole his wife eva ? from him when the boss takes away one of ? ingenious ? and gives it to his rival the great ? john ? ? ? and a murderous spree of revenge begins br br don't we love vincent price when he's out for revenge some of his most famous and greatest films such as the ? dr ? 1971 or theater of blood 1973 were about absurd and delightfully macabre revenge murders and this earlier film in his horror career is another proof that no one takes revenge as vincent price does this film provides a wonderfully eccentric leading role for price who as always delivers a brilliant performance and ? 70 minutes of outrageously entertaining and macabre fun for every horror fan another must see for my fellow price fans\"] \n",
      "\n",
      "\n",
      "[188, '? the story concerns a ? ? mel harris who is hired by her ? ? like ? queen aunt her aunt by marriage we are left to presume is trying to track down her long lost family in europe all they have to go on is a photo of a young girl standing by an ? music box the ? heads to europe and ? her search in places like ? ? and vienna the scenery is the real thing and is actually shot on location unlike a murder she wrote where jessica is supposed to be visiting a far ? locale and lansbury never left ? anyway she meets a young man who is also searching to solve a family mystery of his own and they team up to track down clues and menace bad guys the dialogue particularly the romantic dialogue is terrible i watched this because of the scenery but the script was so bad that i stayed on just to see if it would get worse it did acting was also off i can see why mel ? career never really took off after ? but she is adequate seems too old for her co star though but the supporting players are straight out of the community ? i also lost count of how many times they say ? to each other yes it is ? ? a ? we know okay i realized halfway into the film that this had to be one of those ? movies and sure enough it is guess that says it all'] \n",
      "\n",
      "\n",
      "[189, '? isabelle ? is a wonderful actor the director of la ? understands this providing the viewer with long takes of ? face and these are a pleasure to see ? is not an animated actor she ? emotion with the smallest lift of an ? or ? of a smile br br other than the enjoyment of watching an experienced actor ? in her profession there is nothing in this movie that makes me want to recommend it well if you enjoy self ? ? ? and bizarre behavior la ? might work for you other than these attributes i could not find any redeeming value in it br br buried in all this strange material there is a ? of truth people who compete at the very highest level ? ? whatever begin as strange people and are shaped into stranger people by the ? environment br br not worth a trip to a movie theater to ? this life lesson br br'] \n",
      "\n",
      "\n",
      "[190, '? the movie starts quite with an intriguing scene three people are drinking and making small talk in a bar all of them are making up a bit outrageous stories as the movie unfolds it turns out that the most outrageous story is true however beyond that the movie is not very interesting except for the scene in the bar and the scene where main secret is revealed this revelation happens barely half time into the movie and frankly not much is left to be seen the rest of the time director is lingering in a god ? russian village full of pitiful and creepy old ladies sure these are fascinating and a bit shocking images but ? them goes on way too long ? any possible plot or character development i found this movie as another example of either lousy or lazy movie making where instead of trying to make an interesting story movie makers concentrate on ? fascinating imagery and through in a few almost unrelated stories case in point meat ? story to leave the ? to figure out all odds and ends on a surface it has artsy appearance but in this particular case is nothing more than lack of talent'] \n",
      "\n",
      "\n",
      "[191, \"? i read all the reviews here after watching this piece of cinematic garbage and it took me at least 2 pages to find out that somebody else didn't think that this ? unfunny montage wasn't the ? of humour in the 70s or indeed in any other era if this isn't the least funny set of sketch comedy i've ever seen it'll do till it comes along half of the skits had already been done and infinitely better by acts such as monty python and woody allen if i was to say that a nice piece of animation that lasts about 90 seconds is the highlight of this film it would still not get close to ? up just how mindless and drivel ridden this waste of 75 minutes is ? comedy only in the world where ? really does mean ? ? humour only in a world where ? is actually ? ? jokes only if by that we mean that this is a ? of how not to do comedy tits and ? and the odd ? nice if you are a ? boy with at least one hand free and haven't found out that playboy exists give it a break because it was the early 70s no way there had been sketch comedy going back at least ten years prior the only way i could even forgive this film even being made is if it was at ? retro hardly sketches about ? subtly ? children may be cutting edge in some circles and it could actually have been funny but it just comes off as really quite sad what kept me going throughout the entire 75 minutes sheer belief that they may have saved a genuinely funny skit for the end i gave the film a 1 because there was no lower score and i can only recommend it to ? or coma patients or perhaps people suffering from ? their jaws would finally drop open in disbelief\"] \n",
      "\n",
      "\n",
      "[192, \"? i can't believe the likes of ? del toro and kim ? got involved ins this piece of garbage the script is so poorly written and the directing so weak both by the same person that its hard to find more one dimension characters in a film the dialogs are so lame that this so called thriller got laughs out of the few fools that got into the theatre the setup it's ? ? you to believe you are going to watch a chilling thriller and suddenly it turns out into the most stupid ? film ? character is so dumb that she actually stops to scream to god where are you so the people after her can follow and then takes a ? and then she apparently got into the smallest wood in the world i mean she runs all over the place and the killers never loose track of her and this happens in the middle of the night it really makes me wonder is that really the best writing people in hollywood can find that they spend millions producing it\"] \n",
      "\n",
      "\n",
      "[193, '? yes the southern star features a pretty forgettable title tune sung by that heavy set ? matt ? it pretty much ? the tone for this ? and rather dull feature stunningly miscast with george segal and ursula ? as an adventurous couple in search of a large diamond add in harry andrews with a strange accent no less chasing an ? tons of stock footage of ? and poorly composed and dull photography by ? ? and you end up with a thoroughly ? romp through the ? of ?'] \n",
      "\n",
      "\n",
      "[194, \"? yesterday i saw the movie ? and my girlfriend told me it was the worst movie she's ever seen since i thought it was pretty awful as well it got me thinking which film was the worst film i had ever seen and this was the only film that came to mind br br unfortunately it was a couple of years since i've seen it but i remember the horribly miscast dean cain as cocky military man pretty boy cain doesn't do cocky very well the strange deal with the cgi helicopter when it would probably be cheaper to rent a ? than to hire some cgi guys to make it but my guess is that they found the ? as a free ? for some cgi program or the ? son liked to play with his new computer and how did it look awful and when the dragon charges through the corridors of the complex then ? the same shots over and over looks very cheap br br avoid this movie it is truly awful\"] \n",
      "\n",
      "\n",
      "[195, \"? i watched this series when it first came out in the 70s i was 14 years old and i watched it at my best friends house as my dad didn't want to watch it it became a weekly ritual every sunday and as anyone will tell you for two ? year olds to watch a documentary in almost ? silence must mean that this was something special br br the broad ? of the events of world war 2 makes for a difficult subject to document so the makers broke it down into what they considered to be the most significant key happenings and devoted one episode to each some episodes covered long periods such as ? ? which covered nearly all six years of the battle of the atlantic while the battle of ? had one episode to itself br br this documentary could not be made today quite simply because most of those interviewed are dead the list of significant players appearing gives an amazing insight into the thinking at the time anthony ? the foreign secretary carl ? head of the u ? albert ? pet architect confident and later ? minister for hitler in one of the later episodes we see ? ? hitler's secretary who was with him in the ? and it was to her that he ? his last will and testament she left the ? after hitler's suicide and escaped through the russian lines these and many others play a major role in the realism of the events portrayed br br if i have any criticism of the series it is that the code ? of ? park are not included but the revelations of their part in the war only emerged after the series had been made so i cannot blame the programme makers br br the opening titles and music are magnificent and lawrence ? narration lends a natural gravity to the script br br the best documentary series ever made without doubt ?\"] \n",
      "\n",
      "\n",
      "[196, \"? it is a superb swedish film it was the first swedish film i've seen it is simple deep what a great combination br br michael ? did a great performance as a famous conductor who seeks peace in his hometown br br ? ? was great as his inspirational girlfriend to help him to carry on never give up br br the fight between the conductor and the ? priest who loses his battle with michael when his wife confronts him and ? michael's noble cause to help his hometown people finding their own peace in music br br the only thing that i didn't like was the ending it wasn't that good but it has some deep meaning\"] \n",
      "\n",
      "\n",
      "[197, \"? a true dark noir movie and a very graphic film nice storyline of a man pursuing redemption that may have just left it all too late visually there are some really nice scenes artistically amazing as to what can be done with a minimal budget full marks to ? ? roberts and team i look forward to the next project with new ideas although hopefully more british actors would be great lisa ray looked lovely not seen her before and hope to see her again in the future subject all interesting sex drugs and violence bring it on i would definitely say to rent this one and check it out if you're in the mood for a semi moody noir\"] \n",
      "\n",
      "\n",
      "[198, \"? in the tradition of ? and ? try a shameless ripoff of not only those two films but 'the evil ? and 'the ? as well ' that said they really don't make bad horror movies like this anymore and that's a shame 'cause it's a gas br br ? ? is the ? substitute here and although she barely does more than ? her lines and occasionally scream you're ugly ' into her haunted mirror she's ? way before it's ? so you have to respect her and she's quite creative about it too ? with black leather ? and a kind of black ? painted ? punch guy hat eat your heart out cher br br karen black overacts a bit but she's not totally without dignity and you can't help but sympathize with her unless you're a certain friend of mine who asked who is that horse lips from ? a s ? ' the first time she came ? br br there are decent supporting performances by ? ? as the square chick who befriends ? ricky ? ? in his ? ? hunk role and william larry ? and ? ? as some kind of pet undertaker or something but it's sad to see the once ? ? ? reduced to playing what can only be thought of as the charlotte ? part br br the eighties were the ? for hilarious ? dumb horror movies like this and mirror ? was one of the last of its kind definitely worth a look\"] \n",
      "\n",
      "\n",
      "[199, \"? this movie is about ? a gladiator who is brought back from the dead to ? ? a gladiator who must be brought back from the dead ? we learn after about an hour is also called ? this adds much needed depth to the screenplay and calls into question our ? about identity psychology and ourselves br br the spirit of ? ? his little to do list killing some people and saying repetitive phrases in latin by ? the body of a college guy he uses a magic mind control helmet to do this which the college boy willingly puts on his head and then at several points in the movie takes off and puts back on br br maria performs ? sex on a poor man's sean ? scott and ? wears the ? ? ? has his own green ? for no reason and has apparently been sitting next to cg fire in an ancient ? tunnel for centuries like this utter misfortune br br this movie is empty and will hurt you see it\"] \n",
      "\n",
      "\n"
     ]
    }
   ],
   "source": [
    "#列出文章\n",
    "for n in range(len(Alist)):\n",
    "    print(Alist[n],'\\n\\n')"
   ]
  },
  {
   "cell_type": "code",
   "execution_count": 552,
   "metadata": {},
   "outputs": [],
   "source": [
    "#自己猜的答案\n",
    "my_answer = [0,0,0,0,1,0,0,0,1,0,0,1,1,0,0,0,1,0,0,0,\n",
    "          1,0,1,1,1,0,0,0,0,0,0,0,0,0,0,0,0,0,0,1,\n",
    "          1,0,1,1,1,1,1,1,1,1,1,1,0,1,1,1,0,0,0,0,\n",
    "          0,0,0,1,0,0,0,1,0,1,1,1,1,0,1,1,0,1,1,1,\n",
    "          1,0,0,0,0,0,0,1,0,0,1,0,0,0,0,1,1,1,1,0]\n",
    "\n"
   ]
  },
  {
   "cell_type": "code",
   "execution_count": 553,
   "metadata": {},
   "outputs": [
    {
     "name": "stdout",
     "output_type": "stream",
     "text": [
      "[ True  True  True  True  True  True  True  True  True False  True  True\n",
      " False False  True  True  True  True False False  True  True  True  True\n",
      "  True  True  True  True  True  True  True  True  True  True  True  True\n",
      "  True  True  True  True  True  True  True  True  True  True False  True\n",
      "  True  True  True  True  True False  True  True  True  True  True  True\n",
      "  True  True False  True  True False  True  True  True False  True  True\n",
      "  True  True  True  True  True  True  True  True  True  True  True  True\n",
      "  True False  True  True  True  True False  True  True  True  True  True\n",
      "  True  True False  True]\n"
     ]
    },
    {
     "data": {
      "text/plain": [
       "87"
      ]
     },
     "execution_count": 553,
     "metadata": {},
     "output_type": "execute_result"
    }
   ],
   "source": [
    "print(train_labels[100:200] == my_answer)\n",
    "sum(train_labels[100:200] == my_answer)"
   ]
  },
  {
   "cell_type": "code",
   "execution_count": 554,
   "metadata": {},
   "outputs": [
    {
     "data": {
      "text/plain": [
       "array([1, 0, 1, 0, 1, 1, 0, 1, 1, 0, 1, 0, 1, 1, 0, 1, 1, 0, 0, 0, 1, 0,\n",
       "       0, 0, 0, 1, 0, 0, 0, 1, 0, 1, 0, 1, 1, 1, 1, 1, 0, 1, 0, 0, 1, 0,\n",
       "       0, 1, 0, 1, 1, 0, 1, 0, 0, 0, 1, 1, 0, 0, 1, 1, 1, 1, 0, 0, 1, 0,\n",
       "       1, 1, 1, 1, 1, 0, 0, 1, 1, 1, 1, 0, 1, 1, 0, 1, 1, 0, 0, 1, 0, 0,\n",
       "       1, 1, 1, 1, 1, 0, 0, 0, 1, 0, 1, 0])"
      ]
     },
     "execution_count": 554,
     "metadata": {},
     "output_type": "execute_result"
    }
   ],
   "source": [
    "#隨機產生的答案\n",
    "import numpy as np\n",
    "random_answer = np.random.choice([0,1],size=100)\n",
    "random_answer"
   ]
  },
  {
   "cell_type": "code",
   "execution_count": 555,
   "metadata": {},
   "outputs": [
    {
     "data": {
      "text/plain": [
       "45"
      ]
     },
     "execution_count": 555,
     "metadata": {},
     "output_type": "execute_result"
    }
   ],
   "source": [
    "sum(train_labels[100:200] == random_answer)"
   ]
  },
  {
   "cell_type": "markdown",
   "metadata": {
    "colab_type": "text"
   },
   "source": [
    "### Preparing the data"
   ]
  },
  {
   "cell_type": "markdown",
   "metadata": {
    "colab_type": "text"
   },
   "source": [
    "**Encoding the integer sequences via multi-hot encoding**"
   ]
  },
  {
   "cell_type": "code",
   "execution_count": 556,
   "metadata": {
    "colab_type": "code"
   },
   "outputs": [],
   "source": [
    "import numpy as np\n",
    "def vectorize_sequences(sequences, dimension=10000):\n",
    "    results = np.zeros((len(sequences), dimension))\n",
    "    for i, sequence in enumerate(sequences):\n",
    "        for j in sequence:\n",
    "            results[i, j] = 1.\n",
    "    return results\n",
    "x_train = vectorize_sequences(train_data)\n",
    "x_test = vectorize_sequences(test_data)"
   ]
  },
  {
   "cell_type": "code",
   "execution_count": 557,
   "metadata": {
    "colab_type": "code"
   },
   "outputs": [
    {
     "data": {
      "text/plain": [
       "array([0., 1., 1., ..., 0., 0., 0.])"
      ]
     },
     "execution_count": 557,
     "metadata": {},
     "output_type": "execute_result"
    }
   ],
   "source": [
    "x_train[0]"
   ]
  },
  {
   "cell_type": "code",
   "execution_count": 558,
   "metadata": {},
   "outputs": [
    {
     "data": {
      "text/plain": [
       "10000"
      ]
     },
     "execution_count": 558,
     "metadata": {},
     "output_type": "execute_result"
    }
   ],
   "source": [
    "len(x_train)\n",
    "len(x_train[0])"
   ]
  },
  {
   "cell_type": "code",
   "execution_count": 559,
   "metadata": {
    "colab_type": "code"
   },
   "outputs": [],
   "source": [
    "y_train = np.asarray(train_labels).astype(\"float32\")\n",
    "y_test = np.asarray(test_labels).astype(\"float32\")"
   ]
  },
  {
   "cell_type": "markdown",
   "metadata": {
    "colab_type": "text"
   },
   "source": [
    "### Building your model"
   ]
  },
  {
   "cell_type": "markdown",
   "metadata": {
    "colab_type": "text"
   },
   "source": [
    "**Model definition**"
   ]
  },
  {
   "cell_type": "code",
   "execution_count": 560,
   "metadata": {
    "colab_type": "code"
   },
   "outputs": [],
   "source": [
    "from tensorflow import keras\n",
    "from tensorflow.keras import layers\n",
    "\n",
    "model = keras.Sequential([\n",
    "    layers.Dense(16, activation=\"relu\"),\n",
    "    layers.Dense(16, activation=\"relu\"),\n",
    "    layers.Dense(1, activation=\"sigmoid\")\n",
    "])"
   ]
  },
  {
   "cell_type": "markdown",
   "metadata": {
    "colab_type": "text"
   },
   "source": [
    "**Compiling the model**"
   ]
  },
  {
   "cell_type": "code",
   "execution_count": 561,
   "metadata": {
    "colab_type": "code"
   },
   "outputs": [],
   "source": [
    "model.compile(optimizer=\"rmsprop\",\n",
    "              loss=\"binary_crossentropy\",\n",
    "              metrics=[\"accuracy\"])"
   ]
  },
  {
   "cell_type": "markdown",
   "metadata": {
    "colab_type": "text"
   },
   "source": [
    "### Validating your approach"
   ]
  },
  {
   "cell_type": "markdown",
   "metadata": {
    "colab_type": "text"
   },
   "source": [
    "**Setting aside a validation set**"
   ]
  },
  {
   "cell_type": "code",
   "execution_count": 562,
   "metadata": {
    "colab_type": "code"
   },
   "outputs": [],
   "source": [
    "x_val = x_train[:10000]\n",
    "partial_x_train = x_train[10000:]\n",
    "y_val = y_train[:10000]\n",
    "partial_y_train = y_train[10000:]"
   ]
  },
  {
   "cell_type": "markdown",
   "metadata": {
    "colab_type": "text"
   },
   "source": [
    "**Training your model**"
   ]
  },
  {
   "cell_type": "code",
   "execution_count": 563,
   "metadata": {
    "colab_type": "code"
   },
   "outputs": [
    {
     "name": "stdout",
     "output_type": "stream",
     "text": [
      "Train on 15000 samples, validate on 10000 samples\n",
      "Epoch 1/20\n",
      "15000/15000 [==============================] - 3s 185us/sample - loss: 0.5486 - acc: 0.7575 - val_loss: 0.4515 - val_acc: 0.8108\n",
      "Epoch 2/20\n",
      "15000/15000 [==============================] - 2s 102us/sample - loss: 0.3526 - acc: 0.8964 - val_loss: 0.3391 - val_acc: 0.8855\n",
      "Epoch 3/20\n",
      "15000/15000 [==============================] - 1s 96us/sample - loss: 0.2558 - acc: 0.9277 - val_loss: 0.2981 - val_acc: 0.8881\n",
      "Epoch 4/20\n",
      "15000/15000 [==============================] - 2s 100us/sample - loss: 0.2007 - acc: 0.9409 - val_loss: 0.2874 - val_acc: 0.8864\n",
      "Epoch 5/20\n",
      "15000/15000 [==============================] - 1s 100us/sample - loss: 0.1599 - acc: 0.9542 - val_loss: 0.2913 - val_acc: 0.8831\n",
      "Epoch 6/20\n",
      "15000/15000 [==============================] - 2s 103us/sample - loss: 0.1295 - acc: 0.9635 - val_loss: 0.2917 - val_acc: 0.8841\n",
      "Epoch 7/20\n",
      "15000/15000 [==============================] - 1s 91us/sample - loss: 0.1132 - acc: 0.9674 - val_loss: 0.3099 - val_acc: 0.8814\n",
      "Epoch 8/20\n",
      "15000/15000 [==============================] - 2s 103us/sample - loss: 0.0902 - acc: 0.9773 - val_loss: 0.3347 - val_acc: 0.8763\n",
      "Epoch 9/20\n",
      "15000/15000 [==============================] - 1s 95us/sample - loss: 0.0777 - acc: 0.9809 - val_loss: 0.3411 - val_acc: 0.8794\n",
      "Epoch 10/20\n",
      "15000/15000 [==============================] - 2s 103us/sample - loss: 0.0644 - acc: 0.9848 - val_loss: 0.3633 - val_acc: 0.8786\n",
      "Epoch 11/20\n",
      "15000/15000 [==============================] - 1s 98us/sample - loss: 0.0540 - acc: 0.9884 - val_loss: 0.3871 - val_acc: 0.8773\n",
      "Epoch 12/20\n",
      "15000/15000 [==============================] - 1s 93us/sample - loss: 0.0469 - acc: 0.9903 - val_loss: 0.4115 - val_acc: 0.8742\n",
      "Epoch 13/20\n",
      "15000/15000 [==============================] - 1s 92us/sample - loss: 0.0396 - acc: 0.9919 - val_loss: 0.4351 - val_acc: 0.8730\n",
      "Epoch 14/20\n",
      "15000/15000 [==============================] - 1s 96us/sample - loss: 0.0294 - acc: 0.9956 - val_loss: 0.4864 - val_acc: 0.8670\n",
      "Epoch 15/20\n",
      "15000/15000 [==============================] - 1s 89us/sample - loss: 0.0264 - acc: 0.9959 - val_loss: 0.4927 - val_acc: 0.8682\n",
      "Epoch 16/20\n",
      "15000/15000 [==============================] - 1s 100us/sample - loss: 0.0222 - acc: 0.9967 - val_loss: 0.5154 - val_acc: 0.8695\n",
      "Epoch 17/20\n",
      "15000/15000 [==============================] - 1s 93us/sample - loss: 0.0189 - acc: 0.9969 - val_loss: 0.5453 - val_acc: 0.8662\n",
      "Epoch 18/20\n",
      "15000/15000 [==============================] - 1s 94us/sample - loss: 0.0136 - acc: 0.9985 - val_loss: 0.5688 - val_acc: 0.8671\n",
      "Epoch 19/20\n",
      "15000/15000 [==============================] - 2s 103us/sample - loss: 0.0157 - acc: 0.9968 - val_loss: 0.6008 - val_acc: 0.8666\n",
      "Epoch 20/20\n",
      "15000/15000 [==============================] - 2s 102us/sample - loss: 0.0082 - acc: 0.9991 - val_loss: 0.6259 - val_acc: 0.8649\n"
     ]
    }
   ],
   "source": [
    "history = model.fit(partial_x_train,\n",
    "                    partial_y_train,\n",
    "                    epochs=20,\n",
    "                    batch_size=512,\n",
    "                    validation_data=(x_val, y_val))"
   ]
  },
  {
   "cell_type": "code",
   "execution_count": 564,
   "metadata": {
    "colab_type": "code"
   },
   "outputs": [
    {
     "data": {
      "text/plain": [
       "dict_keys(['loss', 'acc', 'val_loss', 'val_acc'])"
      ]
     },
     "execution_count": 564,
     "metadata": {},
     "output_type": "execute_result"
    }
   ],
   "source": [
    "history_dict = history.history\n",
    "history_dict.keys()"
   ]
  },
  {
   "cell_type": "markdown",
   "metadata": {
    "colab_type": "text"
   },
   "source": [
    "**Plotting the training and validation loss**"
   ]
  },
  {
   "cell_type": "code",
   "execution_count": 565,
   "metadata": {
    "colab_type": "code"
   },
   "outputs": [
    {
     "data": {
      "image/png": "[encoded data removed]",
      "text/plain": [
       "<Figure size 640x480 with 1 Axes>"
      ]
     },
     "metadata": {},
     "output_type": "display_data"
    }
   ],
   "source": [
    "\n",
    "import matplotlib.pyplot as plt\n",
    "history_dict = history.history\n",
    "loss_values = history_dict[\"loss\"]\n",
    "val_loss_values = history_dict[\"val_loss\"]\n",
    "epochs = range(1, len(loss_values) + 1)\n",
    "plt.plot(epochs, loss_values, \"bo\", label=\"Training loss\")\n",
    "plt.plot(epochs, val_loss_values, \"b\", label=\"Validation loss\")\n",
    "plt.title(\"Training and validation loss\")\n",
    "plt.xlabel(\"Epochs\")\n",
    "plt.ylabel(\"Loss\")\n",
    "plt.legend()\n",
    "plt.show()"
   ]
  },
  {
   "cell_type": "markdown",
   "metadata": {
    "colab_type": "text"
   },
   "source": [
    "**Plotting the training and validation accuracy**"
   ]
  },
  {
   "cell_type": "code",
   "execution_count": 566,
   "metadata": {
    "colab_type": "code"
   },
   "outputs": [
    {
     "data": {
      "image/png": "[encoded data removed]",
      "text/plain": [
       "<Figure size 640x480 with 1 Axes>"
      ]
     },
     "metadata": {},
     "output_type": "display_data"
    }
   ],
   "source": [
    "#\"accuracy\"&\"val_accuracy\" -> \"acc\"&\"val_acc\"\n",
    "plt.clf()\n",
    "acc = history_dict[\"acc\"]\n",
    "val_acc = history_dict[\"val_acc\"]\n",
    "plt.plot(epochs, acc, \"bo\", label=\"Training acc\")\n",
    "plt.plot(epochs, val_acc, \"b\", label=\"Validation acc\")\n",
    "plt.title(\"Training and validation accuracy\")\n",
    "plt.xlabel(\"Epochs\")\n",
    "plt.ylabel(\"Accuracy\")\n",
    "plt.legend()\n",
    "plt.show()"
   ]
  },
  {
   "cell_type": "markdown",
   "metadata": {
    "colab_type": "text"
   },
   "source": [
    "**Retraining a model from scratch**"
   ]
  },
  {
   "cell_type": "code",
   "execution_count": 567,
   "metadata": {
    "colab_type": "code"
   },
   "outputs": [
    {
     "name": "stdout",
     "output_type": "stream",
     "text": [
      "Epoch 1/4\n",
      "25000/25000 [==============================] - 2s 85us/sample - loss: 0.4444 - acc: 0.8223\n",
      "Epoch 2/4\n",
      "25000/25000 [==============================] - 2s 66us/sample - loss: 0.2581 - acc: 0.9115\n",
      "Epoch 3/4\n",
      "25000/25000 [==============================] - 2s 64us/sample - loss: 0.2009 - acc: 0.9280\n",
      "Epoch 4/4\n",
      "25000/25000 [==============================] - 2s 65us/sample - loss: 0.1688 - acc: 0.9404\n",
      "25000/25000 [==============================] - 4s 162us/sample - loss: 0.2918 - acc: 0.8839\n"
     ]
    }
   ],
   "source": [
    "model = keras.Sequential([\n",
    "    layers.Dense(16, activation=\"relu\"),\n",
    "    layers.Dense(16, activation=\"relu\"),\n",
    "    layers.Dense(1, activation=\"sigmoid\")\n",
    "])\n",
    "model.compile(optimizer=\"rmsprop\",\n",
    "              loss=\"binary_crossentropy\",\n",
    "              metrics=[\"accuracy\"])\n",
    "model.fit(x_train, y_train, epochs=4, batch_size=512)\n",
    "results = model.evaluate(x_test, y_test)"
   ]
  },
  {
   "cell_type": "code",
   "execution_count": 568,
   "metadata": {
    "colab_type": "code"
   },
   "outputs": [
    {
     "data": {
      "text/plain": [
       "[0.29184034982681273, 0.88392]"
      ]
     },
     "execution_count": 568,
     "metadata": {},
     "output_type": "execute_result"
    }
   ],
   "source": [
    "results"
   ]
  },
  {
   "cell_type": "markdown",
   "metadata": {
    "colab_type": "text"
   },
   "source": [
    "### Using a trained model to generate predictions on new data"
   ]
  },
  {
   "cell_type": "code",
   "execution_count": 569,
   "metadata": {
    "colab_type": "code"
   },
   "outputs": [
    {
     "data": {
      "text/plain": [
       "array([[0.16966075],\n",
       "       [0.9997202 ],\n",
       "       [0.8318329 ],\n",
       "       ...,\n",
       "       [0.11555609],\n",
       "       [0.05144799],\n",
       "       [0.48652953]], dtype=float32)"
      ]
     },
     "execution_count": 569,
     "metadata": {},
     "output_type": "execute_result"
    }
   ],
   "source": [
    "model.predict(x_test)"
   ]
  },
  {
   "cell_type": "markdown",
   "metadata": {
    "colab_type": "text"
   },
   "source": [
    "### Further experiments"
   ]
  },
  {
   "cell_type": "code",
   "execution_count": 570,
   "metadata": {},
   "outputs": [
    {
     "name": "stdout",
     "output_type": "stream",
     "text": [
      "Epoch 1/4\n",
      "25000/25000 [==============================] - 2s 84us/sample - loss: 0.5667 - acc: 0.7825\n",
      "Epoch 2/4\n",
      "25000/25000 [==============================] - 1s 60us/sample - loss: 0.3775 - acc: 0.8850\n",
      "Epoch 3/4\n",
      "25000/25000 [==============================] - 1s 60us/sample - loss: 0.2832 - acc: 0.9068\n",
      "Epoch 4/4\n",
      "25000/25000 [==============================] - 1s 59us/sample - loss: 0.2286 - acc: 0.9230\n",
      "25000/25000 [==============================] - 4s 155us/sample - loss: 0.2864 - acc: 0.8877\n"
     ]
    }
   ],
   "source": [
    "#修改一些增加batch size\n",
    "model = keras.Sequential([\n",
    "    layers.Dense(8, activation=\"relu\"),\n",
    "    layers.Dense(32, activation=\"relu\"),\n",
    "    layers.Dense(1, activation=\"sigmoid\")\n",
    "])\n",
    "model.compile(optimizer=\"rmsprop\",\n",
    "              loss=\"binary_crossentropy\",\n",
    "              metrics=[\"accuracy\"])\n",
    "model.fit(x_train, y_train, epochs=4, batch_size=1024)\n",
    "results = model.evaluate(x_test, y_test)"
   ]
  },
  {
   "cell_type": "code",
   "execution_count": 571,
   "metadata": {},
   "outputs": [
    {
     "data": {
      "text/plain": [
       "[0.28642670197486875, 0.88768]"
      ]
     },
     "execution_count": 571,
     "metadata": {},
     "output_type": "execute_result"
    }
   ],
   "source": [
    "results"
   ]
  },
  {
   "cell_type": "markdown",
   "metadata": {
    "colab_type": "text"
   },
   "source": [
    "### Wrapping up"
   ]
  },
  {
   "cell_type": "markdown",
   "metadata": {
    "colab_type": "text"
   },
   "source": [
    "## Classifying newswires: A multiclass classification example"
   ]
  },
  {
   "cell_type": "markdown",
   "metadata": {
    "colab_type": "text"
   },
   "source": [
    "### The Reuters dataset"
   ]
  },
  {
   "cell_type": "markdown",
   "metadata": {
    "colab_type": "text"
   },
   "source": [
    "**Loading the Reuters dataset**"
   ]
  },
  {
   "cell_type": "code",
   "execution_count": 572,
   "metadata": {
    "colab_type": "code"
   },
   "outputs": [],
   "source": [
    "\n",
    "from tensorflow.keras.datasets import reuters\n",
    "(train_data, train_labels), (test_data, test_labels) = reuters.load_data(\n",
    "    num_words=10000)"
   ]
  },
  {
   "cell_type": "code",
   "execution_count": 573,
   "metadata": {
    "colab_type": "code"
   },
   "outputs": [
    {
     "data": {
      "text/plain": [
       "8982"
      ]
     },
     "execution_count": 573,
     "metadata": {},
     "output_type": "execute_result"
    }
   ],
   "source": [
    "len(train_data)"
   ]
  },
  {
   "cell_type": "code",
   "execution_count": 574,
   "metadata": {
    "colab_type": "code"
   },
   "outputs": [
    {
     "data": {
      "text/plain": [
       "2246"
      ]
     },
     "execution_count": 574,
     "metadata": {},
     "output_type": "execute_result"
    }
   ],
   "source": [
    "len(test_data)"
   ]
  },
  {
   "cell_type": "code",
   "execution_count": 575,
   "metadata": {
    "colab_type": "code"
   },
   "outputs": [
    {
     "data": {
      "text/plain": [
       "[1,\n",
       " 245,\n",
       " 273,\n",
       " 207,\n",
       " 156,\n",
       " 53,\n",
       " 74,\n",
       " 160,\n",
       " 26,\n",
       " 14,\n",
       " 46,\n",
       " 296,\n",
       " 26,\n",
       " 39,\n",
       " 74,\n",
       " 2979,\n",
       " 3554,\n",
       " 14,\n",
       " 46,\n",
       " 4689,\n",
       " 4329,\n",
       " 86,\n",
       " 61,\n",
       " 3499,\n",
       " 4795,\n",
       " 14,\n",
       " 61,\n",
       " 451,\n",
       " 4329,\n",
       " 17,\n",
       " 12]"
      ]
     },
     "execution_count": 575,
     "metadata": {},
     "output_type": "execute_result"
    }
   ],
   "source": [
    "train_data[10]"
   ]
  },
  {
   "cell_type": "markdown",
   "metadata": {
    "colab_type": "text"
   },
   "source": [
    "**Decoding newswires back to text**"
   ]
  },
  {
   "cell_type": "code",
   "execution_count": 576,
   "metadata": {
    "colab_type": "code"
   },
   "outputs": [],
   "source": [
    "word_index = reuters.get_word_index()\n",
    "reverse_word_index = dict([(value, key) for (key, value) in word_index.items()])\n",
    "decoded_newswire = \" \".join([reverse_word_index.get(i - 3, \"?\") for i in\n",
    "    train_data[0]])"
   ]
  },
  {
   "cell_type": "code",
   "execution_count": 577,
   "metadata": {
    "colab_type": "code"
   },
   "outputs": [
    {
     "data": {
      "text/plain": [
       "3"
      ]
     },
     "execution_count": 577,
     "metadata": {},
     "output_type": "execute_result"
    }
   ],
   "source": [
    "train_labels[10]"
   ]
  },
  {
   "cell_type": "markdown",
   "metadata": {
    "colab_type": "text"
   },
   "source": [
    "### Preparing the data"
   ]
  },
  {
   "cell_type": "markdown",
   "metadata": {
    "colab_type": "text"
   },
   "source": [
    "**Encoding the input data**"
   ]
  },
  {
   "cell_type": "code",
   "execution_count": 578,
   "metadata": {
    "colab_type": "code"
   },
   "outputs": [],
   "source": [
    "x_train = vectorize_sequences(train_data)\n",
    "x_test = vectorize_sequences(test_data)"
   ]
  },
  {
   "cell_type": "markdown",
   "metadata": {
    "colab_type": "text"
   },
   "source": [
    "**Encoding the labels**"
   ]
  },
  {
   "cell_type": "code",
   "execution_count": 579,
   "metadata": {
    "colab_type": "code"
   },
   "outputs": [],
   "source": [
    "def to_one_hot(labels, dimension=46):\n",
    "    results = np.zeros((len(labels), dimension))\n",
    "    for i, label in enumerate(labels):\n",
    "        results[i, label] = 1.\n",
    "    return results\n",
    "y_train = to_one_hot(train_labels)\n",
    "y_test = to_one_hot(test_labels)"
   ]
  },
  {
   "cell_type": "code",
   "execution_count": 580,
   "metadata": {
    "colab_type": "code"
   },
   "outputs": [],
   "source": [
    "from tensorflow.keras.utils import to_categorical\n",
    "y_train = to_categorical(train_labels)\n",
    "y_test = to_categorical(test_labels)"
   ]
  },
  {
   "cell_type": "markdown",
   "metadata": {
    "colab_type": "text"
   },
   "source": [
    "### Building your model"
   ]
  },
  {
   "cell_type": "markdown",
   "metadata": {
    "colab_type": "text"
   },
   "source": [
    "**Model definition**"
   ]
  },
  {
   "cell_type": "code",
   "execution_count": 581,
   "metadata": {
    "colab_type": "code"
   },
   "outputs": [],
   "source": [
    "model = keras.Sequential([\n",
    "    layers.Dense(64, activation=\"relu\"),\n",
    "    layers.Dense(64, activation=\"relu\"),\n",
    "    layers.Dense(46, activation=\"softmax\")\n",
    "])"
   ]
  },
  {
   "cell_type": "markdown",
   "metadata": {
    "colab_type": "text"
   },
   "source": [
    "**Compiling the model**"
   ]
  },
  {
   "cell_type": "code",
   "execution_count": 582,
   "metadata": {
    "colab_type": "code"
   },
   "outputs": [],
   "source": [
    "model.compile(optimizer=\"rmsprop\",\n",
    "              loss=\"categorical_crossentropy\",\n",
    "              metrics=[\"accuracy\"])"
   ]
  },
  {
   "cell_type": "markdown",
   "metadata": {
    "colab_type": "text"
   },
   "source": [
    "### Validating your approach"
   ]
  },
  {
   "cell_type": "markdown",
   "metadata": {
    "colab_type": "text"
   },
   "source": [
    "**Setting aside a validation set**"
   ]
  },
  {
   "cell_type": "code",
   "execution_count": 583,
   "metadata": {
    "colab_type": "code"
   },
   "outputs": [],
   "source": [
    "x_val = x_train[:1000]\n",
    "partial_x_train = x_train[1000:]\n",
    "y_val = y_train[:1000]\n",
    "partial_y_train = y_train[1000:]"
   ]
  },
  {
   "cell_type": "markdown",
   "metadata": {
    "colab_type": "text"
   },
   "source": [
    "**Training the model**"
   ]
  },
  {
   "cell_type": "code",
   "execution_count": 584,
   "metadata": {
    "colab_type": "code"
   },
   "outputs": [
    {
     "name": "stdout",
     "output_type": "stream",
     "text": [
      "Train on 7982 samples, validate on 1000 samples\n",
      "Epoch 1/20\n",
      "7982/7982 [==============================] - 2s 199us/sample - loss: 2.8690 - acc: 0.4665 - val_loss: 1.8726 - val_acc: 0.6540\n",
      "Epoch 2/20\n",
      "7982/7982 [==============================] - 1s 81us/sample - loss: 1.4904 - acc: 0.7130 - val_loss: 1.3387 - val_acc: 0.7200\n",
      "Epoch 3/20\n",
      "7982/7982 [==============================] - 1s 75us/sample - loss: 1.0752 - acc: 0.7821 - val_loss: 1.1425 - val_acc: 0.7640\n",
      "Epoch 4/20\n",
      "7982/7982 [==============================] - 1s 73us/sample - loss: 0.8492 - acc: 0.8202 - val_loss: 1.0713 - val_acc: 0.7680\n",
      "Epoch 5/20\n",
      "7982/7982 [==============================] - 1s 73us/sample - loss: 0.6855 - acc: 0.8567 - val_loss: 0.9694 - val_acc: 0.8060\n",
      "Epoch 6/20\n",
      "7982/7982 [==============================] - 1s 72us/sample - loss: 0.5521 - acc: 0.8839 - val_loss: 0.9281 - val_acc: 0.8080\n",
      "Epoch 7/20\n",
      "7982/7982 [==============================] - 1s 73us/sample - loss: 0.4495 - acc: 0.9027 - val_loss: 0.9066 - val_acc: 0.8090\n",
      "Epoch 8/20\n",
      "7982/7982 [==============================] - 1s 72us/sample - loss: 0.3688 - acc: 0.9199 - val_loss: 0.9062 - val_acc: 0.8160\n",
      "Epoch 9/20\n",
      "7982/7982 [==============================] - 1s 73us/sample - loss: 0.3022 - acc: 0.9339 - val_loss: 0.9040 - val_acc: 0.8140\n",
      "Epoch 10/20\n",
      "7982/7982 [==============================] - 1s 72us/sample - loss: 0.2559 - acc: 0.9414 - val_loss: 0.9150 - val_acc: 0.8120\n",
      "Epoch 11/20\n",
      "7982/7982 [==============================] - 1s 74us/sample - loss: 0.2252 - acc: 0.9463 - val_loss: 0.9001 - val_acc: 0.8140\n",
      "Epoch 12/20\n",
      "7982/7982 [==============================] - 1s 73us/sample - loss: 0.1907 - acc: 0.9503 - val_loss: 0.9196 - val_acc: 0.8160\n",
      "Epoch 13/20\n",
      "7982/7982 [==============================] - 1s 73us/sample - loss: 0.1725 - acc: 0.9530 - val_loss: 0.9429 - val_acc: 0.8150\n",
      "Epoch 14/20\n",
      "7982/7982 [==============================] - 1s 72us/sample - loss: 0.1571 - acc: 0.9534 - val_loss: 0.9686 - val_acc: 0.8120\n",
      "Epoch 15/20\n",
      "7982/7982 [==============================] - 1s 75us/sample - loss: 0.1473 - acc: 0.9555 - val_loss: 0.9734 - val_acc: 0.8090\n",
      "Epoch 16/20\n",
      "7982/7982 [==============================] - 1s 72us/sample - loss: 0.1367 - acc: 0.9546 - val_loss: 1.0161 - val_acc: 0.8030\n",
      "Epoch 17/20\n",
      "7982/7982 [==============================] - 1s 77us/sample - loss: 0.1294 - acc: 0.9557 - val_loss: 1.0156 - val_acc: 0.8130\n",
      "Epoch 18/20\n",
      "7982/7982 [==============================] - 1s 79us/sample - loss: 0.1268 - acc: 0.9570 - val_loss: 1.0357 - val_acc: 0.8160\n",
      "Epoch 19/20\n",
      "7982/7982 [==============================] - 0s 62us/sample - loss: 0.1175 - acc: 0.9565 - val_loss: 1.0347 - val_acc: 0.8070\n",
      "Epoch 20/20\n",
      "7982/7982 [==============================] - 1s 63us/sample - loss: 0.1166 - acc: 0.9580 - val_loss: 1.0703 - val_acc: 0.8060\n"
     ]
    }
   ],
   "source": [
    "history = model.fit(partial_x_train,\n",
    "                    partial_y_train,\n",
    "                    epochs=20,\n",
    "                    batch_size=512,\n",
    "                    validation_data=(x_val, y_val))"
   ]
  },
  {
   "cell_type": "markdown",
   "metadata": {
    "colab_type": "text"
   },
   "source": [
    "**Plotting the training and validation loss**"
   ]
  },
  {
   "cell_type": "code",
   "execution_count": 585,
   "metadata": {
    "colab_type": "code"
   },
   "outputs": [
    {
     "data": {
      "image/png": "[encoded data removed]",
      "text/plain": [
       "<Figure size 640x480 with 1 Axes>"
      ]
     },
     "metadata": {},
     "output_type": "display_data"
    }
   ],
   "source": [
    "loss = history.history[\"loss\"]\n",
    "val_loss = history.history[\"val_loss\"]\n",
    "epochs = range(1, len(loss) + 1)\n",
    "plt.plot(epochs, loss, \"bo\", label=\"Training loss\")\n",
    "plt.plot(epochs, val_loss, \"b\", label=\"Validation loss\")\n",
    "plt.title(\"Training and validation loss\")\n",
    "plt.xlabel(\"Epochs\")\n",
    "plt.ylabel(\"Loss\")\n",
    "plt.legend()\n",
    "plt.show()"
   ]
  },
  {
   "cell_type": "markdown",
   "metadata": {
    "colab_type": "text"
   },
   "source": [
    "**Plotting the training and validation accuracy**"
   ]
  },
  {
   "cell_type": "code",
   "execution_count": 586,
   "metadata": {
    "colab_type": "code"
   },
   "outputs": [
    {
     "data": {
      "image/png": "[encoded data removed]",
      "text/plain": [
       "<Figure size 640x480 with 1 Axes>"
      ]
     },
     "metadata": {},
     "output_type": "display_data"
    }
   ],
   "source": [
    "plt.clf()\n",
    "acc = history.history[\"acc\"]\n",
    "val_acc = history.history[\"val_acc\"]\n",
    "plt.plot(epochs, acc, \"bo\", label=\"Training accuracy\")\n",
    "plt.plot(epochs, val_acc, \"b\", label=\"Validation accuracy\")\n",
    "plt.title(\"Training and validation accuracy\")\n",
    "plt.xlabel(\"Epochs\")\n",
    "plt.ylabel(\"Accuracy\")\n",
    "plt.legend()\n",
    "plt.show()"
   ]
  },
  {
   "cell_type": "markdown",
   "metadata": {
    "colab_type": "text"
   },
   "source": [
    "**Retraining a model from scratch**"
   ]
  },
  {
   "cell_type": "code",
   "execution_count": 587,
   "metadata": {
    "colab_type": "code"
   },
   "outputs": [
    {
     "name": "stdout",
     "output_type": "stream",
     "text": [
      "Epoch 1/9\n",
      "8982/8982 [==============================] - 1s 123us/sample - loss: 2.4199 - acc: 0.5553\n",
      "Epoch 2/9\n",
      "8982/8982 [==============================] - 1s 68us/sample - loss: 1.2848 - acc: 0.7267\n",
      "Epoch 3/9\n",
      "8982/8982 [==============================] - 1s 67us/sample - loss: 0.9675 - acc: 0.7916\n",
      "Epoch 4/9\n",
      "8982/8982 [==============================] - 1s 66us/sample - loss: 0.7587 - acc: 0.8386\n",
      "Epoch 5/9\n",
      "8982/8982 [==============================] - 1s 69us/sample - loss: 0.6013 - acc: 0.8747\n",
      "Epoch 6/9\n",
      "8982/8982 [==============================] - 1s 68us/sample - loss: 0.4819 - acc: 0.9000\n",
      "Epoch 7/9\n",
      "8982/8982 [==============================] - 1s 67us/sample - loss: 0.3867 - acc: 0.9178\n",
      "Epoch 8/9\n",
      "8982/8982 [==============================] - 1s 71us/sample - loss: 0.3207 - acc: 0.9316\n",
      "Epoch 9/9\n",
      "8982/8982 [==============================] - 1s 64us/sample - loss: 0.2651 - acc: 0.9401\n",
      "2246/2246 [==============================] - 1s 366us/sample - loss: 0.9537 - acc: 0.7943\n"
     ]
    }
   ],
   "source": [
    "model = keras.Sequential([\n",
    "  layers.Dense(64, activation=\"relu\"),\n",
    "  layers.Dense(64, activation=\"relu\"),\n",
    "  layers.Dense(46, activation=\"softmax\")\n",
    "])\n",
    "model.compile(optimizer=\"rmsprop\",\n",
    "              loss=\"categorical_crossentropy\",\n",
    "              metrics=[\"accuracy\"])\n",
    "model.fit(x_train,\n",
    "          y_train,\n",
    "          epochs=9,\n",
    "          batch_size=512)\n",
    "results = model.evaluate(x_test, y_test)"
   ]
  },
  {
   "cell_type": "code",
   "execution_count": 588,
   "metadata": {
    "colab_type": "code"
   },
   "outputs": [
    {
     "data": {
      "text/plain": [
       "[0.9536699269991948, 0.794301]"
      ]
     },
     "execution_count": 588,
     "metadata": {},
     "output_type": "execute_result"
    }
   ],
   "source": [
    "results"
   ]
  },
  {
   "cell_type": "code",
   "execution_count": 589,
   "metadata": {
    "colab_type": "code"
   },
   "outputs": [
    {
     "data": {
      "text/plain": [
       "0.19100623330365094"
      ]
     },
     "execution_count": 589,
     "metadata": {},
     "output_type": "execute_result"
    }
   ],
   "source": [
    "import copy\n",
    "test_labels_copy = copy.copy(test_labels)\n",
    "np.random.shuffle(test_labels_copy)\n",
    "hits_array = np.array(test_labels) == np.array(test_labels_copy)\n",
    "hits_array.mean()"
   ]
  },
  {
   "cell_type": "markdown",
   "metadata": {
    "colab_type": "text"
   },
   "source": [
    "### Generating predictions on new data"
   ]
  },
  {
   "cell_type": "code",
   "execution_count": 590,
   "metadata": {
    "colab_type": "code"
   },
   "outputs": [],
   "source": [
    "predictions = model.predict(x_test)"
   ]
  },
  {
   "cell_type": "code",
   "execution_count": 591,
   "metadata": {
    "colab_type": "code"
   },
   "outputs": [
    {
     "data": {
      "text/plain": [
       "(46,)"
      ]
     },
     "execution_count": 591,
     "metadata": {},
     "output_type": "execute_result"
    }
   ],
   "source": [
    "predictions[0].shape"
   ]
  },
  {
   "cell_type": "code",
   "execution_count": 592,
   "metadata": {
    "colab_type": "code"
   },
   "outputs": [
    {
     "data": {
      "text/plain": [
       "0.99999976"
      ]
     },
     "execution_count": 592,
     "metadata": {},
     "output_type": "execute_result"
    }
   ],
   "source": [
    "np.sum(predictions[0])"
   ]
  },
  {
   "cell_type": "code",
   "execution_count": 593,
   "metadata": {
    "colab_type": "code"
   },
   "outputs": [
    {
     "data": {
      "text/plain": [
       "3"
      ]
     },
     "execution_count": 593,
     "metadata": {},
     "output_type": "execute_result"
    }
   ],
   "source": [
    "np.argmax(predictions[0])"
   ]
  },
  {
   "cell_type": "markdown",
   "metadata": {
    "colab_type": "text"
   },
   "source": [
    "### A different way to handle the labels and the loss"
   ]
  },
  {
   "cell_type": "code",
   "execution_count": 594,
   "metadata": {
    "colab_type": "code"
   },
   "outputs": [],
   "source": [
    "y_train = np.array(train_labels)\n",
    "y_test = np.array(test_labels)"
   ]
  },
  {
   "cell_type": "code",
   "execution_count": 595,
   "metadata": {
    "colab_type": "code"
   },
   "outputs": [],
   "source": [
    "model.compile(optimizer=\"rmsprop\",\n",
    "              loss=\"sparse_categorical_crossentropy\",\n",
    "              metrics=[\"accuracy\"])"
   ]
  },
  {
   "cell_type": "markdown",
   "metadata": {
    "colab_type": "text"
   },
   "source": [
    "### The importance of having sufficiently large intermediate layers"
   ]
  },
  {
   "cell_type": "markdown",
   "metadata": {
    "colab_type": "text"
   },
   "source": [
    "**A model with an information bottleneck**"
   ]
  },
  {
   "cell_type": "code",
   "execution_count": 596,
   "metadata": {
    "colab_type": "code"
   },
   "outputs": [
    {
     "name": "stdout",
     "output_type": "stream",
     "text": [
      "Train on 7982 samples, validate on 1000 samples\n",
      "Epoch 1/20\n",
      "7982/7982 [==============================] - 2s 240us/sample - loss: 2.7323 - acc: 0.4533 - val_loss: 1.9863 - val_acc: 0.6010\n",
      "Epoch 2/20\n",
      "7982/7982 [==============================] - 1s 98us/sample - loss: 1.6751 - acc: 0.6229 - val_loss: 1.5939 - val_acc: 0.6160\n",
      "Epoch 3/20\n",
      "7982/7982 [==============================] - 1s 92us/sample - loss: 1.3625 - acc: 0.6427 - val_loss: 1.4715 - val_acc: 0.6340\n",
      "Epoch 4/20\n",
      "7982/7982 [==============================] - 1s 96us/sample - loss: 1.2038 - acc: 0.6716 - val_loss: 1.3965 - val_acc: 0.6590\n",
      "Epoch 5/20\n",
      "7982/7982 [==============================] - 1s 100us/sample - loss: 1.0851 - acc: 0.7020 - val_loss: 1.4036 - val_acc: 0.6750\n",
      "Epoch 6/20\n",
      "7982/7982 [==============================] - 1s 91us/sample - loss: 0.9810 - acc: 0.7373 - val_loss: 1.4026 - val_acc: 0.6810\n",
      "Epoch 7/20\n",
      "7982/7982 [==============================] - 1s 92us/sample - loss: 0.8912 - acc: 0.7626 - val_loss: 1.3855 - val_acc: 0.6890\n",
      "Epoch 8/20\n",
      "7982/7982 [==============================] - 1s 99us/sample - loss: 0.8118 - acc: 0.7805 - val_loss: 1.4011 - val_acc: 0.7010\n",
      "Epoch 9/20\n",
      "7982/7982 [==============================] - 1s 92us/sample - loss: 0.7466 - acc: 0.7980 - val_loss: 1.4062 - val_acc: 0.7030\n",
      "Epoch 10/20\n",
      "7982/7982 [==============================] - 1s 94us/sample - loss: 0.6870 - acc: 0.8142 - val_loss: 1.4514 - val_acc: 0.7090\n",
      "Epoch 11/20\n",
      "7982/7982 [==============================] - 1s 98us/sample - loss: 0.6367 - acc: 0.8265 - val_loss: 1.4823 - val_acc: 0.7130\n",
      "Epoch 12/20\n",
      "7982/7982 [==============================] - 1s 91us/sample - loss: 0.5964 - acc: 0.8383 - val_loss: 1.4951 - val_acc: 0.7090\n",
      "Epoch 13/20\n",
      "7982/7982 [==============================] - 1s 96us/sample - loss: 0.5575 - acc: 0.8445 - val_loss: 1.5021 - val_acc: 0.7210\n",
      "Epoch 14/20\n",
      "7982/7982 [==============================] - 1s 108us/sample - loss: 0.5281 - acc: 0.8538 - val_loss: 1.5669 - val_acc: 0.7170\n",
      "Epoch 15/20\n",
      "7982/7982 [==============================] - 1s 88us/sample - loss: 0.4995 - acc: 0.8584 - val_loss: 1.6185 - val_acc: 0.7120\n",
      "Epoch 16/20\n",
      "7982/7982 [==============================] - 1s 94us/sample - loss: 0.4745 - acc: 0.8653 - val_loss: 1.6177 - val_acc: 0.7130\n",
      "Epoch 17/20\n",
      "7982/7982 [==============================] - 1s 91us/sample - loss: 0.4565 - acc: 0.8723 - val_loss: 1.6520 - val_acc: 0.7160\n",
      "Epoch 18/20\n",
      "7982/7982 [==============================] - 1s 90us/sample - loss: 0.4360 - acc: 0.8775 - val_loss: 1.6991 - val_acc: 0.7130\n",
      "Epoch 19/20\n",
      "7982/7982 [==============================] - 1s 90us/sample - loss: 0.4198 - acc: 0.8800 - val_loss: 1.7337 - val_acc: 0.7230\n",
      "Epoch 20/20\n",
      "7982/7982 [==============================] - 1s 97us/sample - loss: 0.4069 - acc: 0.8866 - val_loss: 1.7558 - val_acc: 0.7110\n"
     ]
    },
    {
     "data": {
      "text/plain": [
       "<tensorflow.python.keras.callbacks.History at 0x1dd183e69c8>"
      ]
     },
     "execution_count": 596,
     "metadata": {},
     "output_type": "execute_result"
    }
   ],
   "source": [
    "model = keras.Sequential([\n",
    "    layers.Dense(64, activation=\"relu\"),\n",
    "    layers.Dense(4, activation=\"relu\"),\n",
    "    layers.Dense(46, activation=\"softmax\")\n",
    "])\n",
    "model.compile(optimizer=\"rmsprop\",\n",
    "              loss=\"categorical_crossentropy\",\n",
    "              metrics=[\"accuracy\"])\n",
    "model.fit(partial_x_train,\n",
    "          partial_y_train,\n",
    "          epochs=20,\n",
    "          batch_size=128,\n",
    "          validation_data=(x_val, y_val))"
   ]
  },
  {
   "cell_type": "markdown",
   "metadata": {
    "colab_type": "text"
   },
   "source": [
    "### Further experiments"
   ]
  },
  {
   "cell_type": "markdown",
   "metadata": {
    "colab_type": "text"
   },
   "source": [
    "### Wrapping up"
   ]
  },
  {
   "cell_type": "markdown",
   "metadata": {
    "colab_type": "text"
   },
   "source": [
    "## Predicting house prices: A regression example"
   ]
  },
  {
   "cell_type": "markdown",
   "metadata": {
    "colab_type": "text"
   },
   "source": [
    "### The Boston Housing Price dataset"
   ]
  },
  {
   "cell_type": "markdown",
   "metadata": {
    "colab_type": "text"
   },
   "source": [
    "**Loading the Boston housing dataset**"
   ]
  },
  {
   "cell_type": "code",
   "execution_count": 597,
   "metadata": {
    "colab_type": "code"
   },
   "outputs": [],
   "source": [
    "from tensorflow.keras.datasets import boston_housing\n",
    "(train_data, train_targets), (test_data, test_targets) = boston_housing.load_data()"
   ]
  },
  {
   "cell_type": "code",
   "execution_count": 598,
   "metadata": {
    "colab_type": "code"
   },
   "outputs": [
    {
     "data": {
      "text/plain": [
       "(404, 13)"
      ]
     },
     "execution_count": 598,
     "metadata": {},
     "output_type": "execute_result"
    }
   ],
   "source": [
    "train_data.shape"
   ]
  },
  {
   "cell_type": "code",
   "execution_count": 599,
   "metadata": {
    "colab_type": "code"
   },
   "outputs": [
    {
     "data": {
      "text/plain": [
       "(102, 13)"
      ]
     },
     "execution_count": 599,
     "metadata": {},
     "output_type": "execute_result"
    }
   ],
   "source": [
    "test_data.shape"
   ]
  },
  {
   "cell_type": "code",
   "execution_count": 600,
   "metadata": {
    "colab_type": "code"
   },
   "outputs": [
    {
     "data": {
      "text/plain": [
       "array([15.2, 42.3, 50. , 21.1, 17.7, 18.5, 11.3, 15.6, 15.6, 14.4, 12.1,\n",
       "       17.9, 23.1, 19.9, 15.7,  8.8, 50. , 22.5, 24.1, 27.5, 10.9, 30.8,\n",
       "       32.9, 24. , 18.5, 13.3, 22.9, 34.7, 16.6, 17.5, 22.3, 16.1, 14.9,\n",
       "       23.1, 34.9, 25. , 13.9, 13.1, 20.4, 20. , 15.2, 24.7, 22.2, 16.7,\n",
       "       12.7, 15.6, 18.4, 21. , 30.1, 15.1, 18.7,  9.6, 31.5, 24.8, 19.1,\n",
       "       22. , 14.5, 11. , 32. , 29.4, 20.3, 24.4, 14.6, 19.5, 14.1, 14.3,\n",
       "       15.6, 10.5,  6.3, 19.3, 19.3, 13.4, 36.4, 17.8, 13.5, 16.5,  8.3,\n",
       "       14.3, 16. , 13.4, 28.6, 43.5, 20.2, 22. , 23. , 20.7, 12.5, 48.5,\n",
       "       14.6, 13.4, 23.7, 50. , 21.7, 39.8, 38.7, 22.2, 34.9, 22.5, 31.1,\n",
       "       28.7, 46. , 41.7, 21. , 26.6, 15. , 24.4, 13.3, 21.2, 11.7, 21.7,\n",
       "       19.4, 50. , 22.8, 19.7, 24.7, 36.2, 14.2, 18.9, 18.3, 20.6, 24.6,\n",
       "       18.2,  8.7, 44. , 10.4, 13.2, 21.2, 37. , 30.7, 22.9, 20. , 19.3,\n",
       "       31.7, 32. , 23.1, 18.8, 10.9, 50. , 19.6,  5. , 14.4, 19.8, 13.8,\n",
       "       19.6, 23.9, 24.5, 25. , 19.9, 17.2, 24.6, 13.5, 26.6, 21.4, 11.9,\n",
       "       22.6, 19.6,  8.5, 23.7, 23.1, 22.4, 20.5, 23.6, 18.4, 35.2, 23.1,\n",
       "       27.9, 20.6, 23.7, 28. , 13.6, 27.1, 23.6, 20.6, 18.2, 21.7, 17.1,\n",
       "        8.4, 25.3, 13.8, 22.2, 18.4, 20.7, 31.6, 30.5, 20.3,  8.8, 19.2,\n",
       "       19.4, 23.1, 23. , 14.8, 48.8, 22.6, 33.4, 21.1, 13.6, 32.2, 13.1,\n",
       "       23.4, 18.9, 23.9, 11.8, 23.3, 22.8, 19.6, 16.7, 13.4, 22.2, 20.4,\n",
       "       21.8, 26.4, 14.9, 24.1, 23.8, 12.3, 29.1, 21. , 19.5, 23.3, 23.8,\n",
       "       17.8, 11.5, 21.7, 19.9, 25. , 33.4, 28.5, 21.4, 24.3, 27.5, 33.1,\n",
       "       16.2, 23.3, 48.3, 22.9, 22.8, 13.1, 12.7, 22.6, 15. , 15.3, 10.5,\n",
       "       24. , 18.5, 21.7, 19.5, 33.2, 23.2,  5. , 19.1, 12.7, 22.3, 10.2,\n",
       "       13.9, 16.3, 17. , 20.1, 29.9, 17.2, 37.3, 45.4, 17.8, 23.2, 29. ,\n",
       "       22. , 18. , 17.4, 34.6, 20.1, 25. , 15.6, 24.8, 28.2, 21.2, 21.4,\n",
       "       23.8, 31. , 26.2, 17.4, 37.9, 17.5, 20. ,  8.3, 23.9,  8.4, 13.8,\n",
       "        7.2, 11.7, 17.1, 21.6, 50. , 16.1, 20.4, 20.6, 21.4, 20.6, 36.5,\n",
       "        8.5, 24.8, 10.8, 21.9, 17.3, 18.9, 36.2, 14.9, 18.2, 33.3, 21.8,\n",
       "       19.7, 31.6, 24.8, 19.4, 22.8,  7.5, 44.8, 16.8, 18.7, 50. , 50. ,\n",
       "       19.5, 20.1, 50. , 17.2, 20.8, 19.3, 41.3, 20.4, 20.5, 13.8, 16.5,\n",
       "       23.9, 20.6, 31.5, 23.3, 16.8, 14. , 33.8, 36.1, 12.8, 18.3, 18.7,\n",
       "       19.1, 29. , 30.1, 50. , 50. , 22. , 11.9, 37.6, 50. , 22.7, 20.8,\n",
       "       23.5, 27.9, 50. , 19.3, 23.9, 22.6, 15.2, 21.7, 19.2, 43.8, 20.3,\n",
       "       33.2, 19.9, 22.5, 32.7, 22. , 17.1, 19. , 15. , 16.1, 25.1, 23.7,\n",
       "       28.7, 37.2, 22.6, 16.4, 25. , 29.8, 22.1, 17.4, 18.1, 30.3, 17.5,\n",
       "       24.7, 12.6, 26.5, 28.7, 13.3, 10.4, 24.4, 23. , 20. , 17.8,  7. ,\n",
       "       11.8, 24.4, 13.8, 19.4, 25.2, 19.4, 19.4, 29.1])"
      ]
     },
     "execution_count": 600,
     "metadata": {},
     "output_type": "execute_result"
    }
   ],
   "source": [
    "train_targets"
   ]
  },
  {
   "cell_type": "markdown",
   "metadata": {
    "colab_type": "text"
   },
   "source": [
    "### Preparing the data"
   ]
  },
  {
   "cell_type": "markdown",
   "metadata": {
    "colab_type": "text"
   },
   "source": [
    "**Normalizing the data**"
   ]
  },
  {
   "cell_type": "code",
   "execution_count": 601,
   "metadata": {
    "colab_type": "code"
   },
   "outputs": [],
   "source": [
    "mean = train_data.mean(axis=0)\n",
    "train_data -= mean\n",
    "std = train_data.std(axis=0)\n",
    "train_data /= std\n",
    "test_data -= mean\n",
    "test_data /= std"
   ]
  },
  {
   "cell_type": "markdown",
   "metadata": {
    "colab_type": "text"
   },
   "source": [
    "### Building your model"
   ]
  },
  {
   "cell_type": "markdown",
   "metadata": {
    "colab_type": "text"
   },
   "source": [
    "**Model definition**"
   ]
  },
  {
   "cell_type": "code",
   "execution_count": 602,
   "metadata": {
    "colab_type": "code"
   },
   "outputs": [],
   "source": [
    "def build_model():\n",
    "    model = keras.Sequential([\n",
    "        layers.Dense(64, activation=\"relu\"),\n",
    "        layers.Dense(64, activation=\"relu\"),\n",
    "        layers.Dense(1)\n",
    "    ])\n",
    "    model.compile(optimizer=\"rmsprop\", loss=\"mse\", metrics=[\"mae\"])\n",
    "    return model"
   ]
  },
  {
   "cell_type": "markdown",
   "metadata": {
    "colab_type": "text"
   },
   "source": [
    "### Validating your approach using K-fold validation"
   ]
  },
  {
   "cell_type": "markdown",
   "metadata": {
    "colab_type": "text"
   },
   "source": [
    "**K-fold validation**"
   ]
  },
  {
   "cell_type": "code",
   "execution_count": 603,
   "metadata": {
    "colab_type": "code"
   },
   "outputs": [
    {
     "name": "stdout",
     "output_type": "stream",
     "text": [
      "Processing fold #0\n",
      "Processing fold #1\n",
      "Processing fold #2\n",
      "Processing fold #3\n"
     ]
    }
   ],
   "source": [
    "k = 4\n",
    "num_val_samples = len(train_data) // k\n",
    "num_epochs = 100\n",
    "all_scores = []\n",
    "for i in range(k):\n",
    "    print(f\"Processing fold #{i}\")\n",
    "    val_data = train_data[i * num_val_samples: (i + 1) * num_val_samples]\n",
    "    val_targets = train_targets[i * num_val_samples: (i + 1) * num_val_samples]\n",
    "    partial_train_data = np.concatenate(\n",
    "        [train_data[:i * num_val_samples],\n",
    "         train_data[(i + 1) * num_val_samples:]],\n",
    "        axis=0)\n",
    "    partial_train_targets = np.concatenate(\n",
    "        [train_targets[:i * num_val_samples],\n",
    "         train_targets[(i + 1) * num_val_samples:]],\n",
    "        axis=0)\n",
    "    model = build_model()\n",
    "    model.fit(partial_train_data, partial_train_targets,\n",
    "              epochs=num_epochs, batch_size=16, verbose=0)\n",
    "    val_mse, val_mae = model.evaluate(val_data, val_targets, verbose=0)\n",
    "    all_scores.append(val_mae)"
   ]
  },
  {
   "cell_type": "code",
   "execution_count": 604,
   "metadata": {
    "colab_type": "code"
   },
   "outputs": [
    {
     "data": {
      "text/plain": [
       "[1.9748722, 2.4865928, 2.4756703, 2.4063497]"
      ]
     },
     "execution_count": 604,
     "metadata": {},
     "output_type": "execute_result"
    }
   ],
   "source": [
    "all_scores"
   ]
  },
  {
   "cell_type": "code",
   "execution_count": 605,
   "metadata": {
    "colab_type": "code"
   },
   "outputs": [
    {
     "data": {
      "text/plain": [
       "2.3358712"
      ]
     },
     "execution_count": 605,
     "metadata": {},
     "output_type": "execute_result"
    }
   ],
   "source": [
    "np.mean(all_scores)"
   ]
  },
  {
   "cell_type": "markdown",
   "metadata": {
    "colab_type": "text"
   },
   "source": [
    "**Saving the validation logs at each fold**"
   ]
  },
  {
   "cell_type": "code",
   "execution_count": 606,
   "metadata": {
    "colab_type": "code"
   },
   "outputs": [
    {
     "name": "stdout",
     "output_type": "stream",
     "text": [
      "Processing fold #0\n",
      "Processing fold #1\n",
      "Processing fold #2\n",
      "Processing fold #3\n"
     ]
    }
   ],
   "source": [
    "#把 history.history[\"val_mae\"] ->  history.history[\"val_mean_absolute_error\"]\n",
    "num_epochs = 500\n",
    "all_mae_histories = []\n",
    "for i in range(k):\n",
    "    print(f\"Processing fold #{i}\")\n",
    "    val_data = train_data[i * num_val_samples: (i + 1) * num_val_samples]\n",
    "    val_targets = train_targets[i * num_val_samples: (i + 1) * num_val_samples]\n",
    "    partial_train_data = np.concatenate(\n",
    "        [train_data[:i * num_val_samples],\n",
    "         train_data[(i + 1) * num_val_samples:]],\n",
    "        axis=0)\n",
    "    partial_train_targets = np.concatenate(\n",
    "        [train_targets[:i * num_val_samples],\n",
    "         train_targets[(i + 1) * num_val_samples:]],\n",
    "        axis=0)\n",
    "    model = build_model()\n",
    "    history = model.fit(partial_train_data, partial_train_targets,\n",
    "                        validation_data=(val_data, val_targets),\n",
    "                        epochs=num_epochs, batch_size=16, verbose=0)\n",
    "    mae_history = history.history[\"val_mean_absolute_error\"]\n",
    "    all_mae_histories.append(mae_history)"
   ]
  },
  {
   "cell_type": "markdown",
   "metadata": {
    "colab_type": "text"
   },
   "source": [
    "**Building the history of successive mean K-fold validation scores**"
   ]
  },
  {
   "cell_type": "code",
   "execution_count": 607,
   "metadata": {
    "colab_type": "code"
   },
   "outputs": [
    {
     "name": "stdout",
     "output_type": "stream",
     "text": [
      "[[18.960749, 15.267867, 10.592019, 6.7331386, 5.095595, 4.2191935, 3.6648538, 3.3265648, 3.139289, 2.964738, 2.8664098, 2.8327432, 2.6583765, 2.5926657, 2.5919678, 2.4530246, 2.405354, 2.3695025, 2.4466076, 2.37773, 2.4870522, 2.359183, 2.363707, 2.2276554, 2.2304132, 2.142363, 2.1245131, 2.2147357, 2.139465, 2.0594764, 2.2606423, 2.084131, 2.0576036, 2.1822891, 2.1146967, 2.0913608, 2.3021045, 2.2076104, 2.0845482, 2.0723503, 2.2549036, 2.117873, 1.970836, 2.005084, 2.066233, 2.013065, 2.0543506, 2.1678019, 1.9821069, 1.9111685, 1.9815904, 2.04463, 2.1667516, 1.9306272, 1.953062, 2.2032192, 1.8614122, 1.9559987, 1.9330703, 1.9857805, 2.021632, 1.866284, 2.0400643, 1.8732797, 1.905939, 1.9147953, 2.0070078, 1.918613, 1.9954343, 1.9530917, 1.924582, 1.9349434, 1.9313788, 1.9169091, 2.005514, 1.9823941, 1.9528826, 1.8747873, 2.1810443, 1.8187453, 1.9362407, 1.86528, 1.9844415, 1.9092236, 1.8739208, 1.8618333, 1.9537646, 1.8658363, 1.9370167, 1.9055074, 1.9733601, 1.8616083, 1.8325635, 1.8477004, 1.9483145, 1.8696753, 1.8655906, 1.9059681, 2.1493185, 1.9053531, 1.8580624, 1.8387899, 1.9417443, 1.9027586, 1.9003713, 1.9864198, 1.9345489, 1.8904159, 1.9921926, 2.0246432, 2.0539308, 1.8582951, 1.8711594, 1.8827131, 1.8443967, 2.141243, 2.1422257, 1.8617315, 1.8936287, 1.9768384, 1.9406681, 1.8835038, 1.8534161, 1.8266171, 1.9864964, 1.9487778, 2.0681481, 1.9115131, 1.9715625, 1.9943718, 1.9175923, 2.0991592, 1.905351, 1.9845061, 1.9024711, 1.8601838, 2.0729256, 1.9949119, 2.03457, 1.9213334, 2.130727, 1.8515992, 2.0191245, 2.0021768, 1.8870245, 1.8697051, 1.963896, 1.9592111, 1.8855932, 1.9763436, 1.8817852, 1.8554093, 1.9745146, 2.0091667, 1.903503, 1.9608846, 2.102637, 1.9095476, 1.9147581, 2.0618603, 1.9270805, 2.122815, 2.000588, 1.9588224, 1.9203547, 1.9941772, 1.8845699, 1.9267296, 1.9155757, 1.9459575, 2.038042, 2.1162941, 1.9570775, 2.1973357, 2.1348484, 1.9766521, 2.0575778, 1.9566225, 2.0084438, 1.9260044, 2.0830703, 1.9535975, 1.9359157, 2.0356102, 1.9715827, 1.9333568, 1.9493076, 1.9350169, 2.1165698, 2.2659507, 1.9194088, 2.109417, 2.0203485, 2.1337845, 1.980045, 1.9755228, 1.9532144, 2.0208867, 2.0292966, 2.1478696, 1.9782792, 2.163226, 2.0655007, 2.0171242, 2.0081434, 2.018938, 2.0427437, 2.015222, 2.0448215, 2.1255462, 2.0876045, 2.0234752, 2.1616976, 2.0354292, 2.036454, 2.014345, 2.0511653, 2.003416, 2.0858293, 2.0583303, 2.2775574, 2.0564106, 2.045743, 2.059852, 2.033747, 2.0247693, 2.3085742, 2.1058633, 2.0705523, 2.1033912, 2.066944, 2.0823317, 2.2005982, 2.1083088, 2.1241467, 2.08425, 2.1357267, 2.3491263, 2.197571, 2.0595558, 2.1146963, 2.056376, 2.2582302, 2.0835772, 2.2206995, 2.2192287, 2.1153438, 2.2026033, 2.1430662, 2.1500738, 2.0700302, 2.0416565, 2.237774, 2.32659, 2.1989048, 2.0997267, 2.1397939, 2.1555862, 2.0876741, 2.1513853, 2.1216538, 2.1671278, 2.1238937, 2.1771705, 2.3914511, 2.0702996, 2.2294993, 2.188525, 2.2188373, 2.1766, 2.2449355, 2.0845206, 2.381548, 2.0969605, 2.1631777, 2.2142494, 2.3314579, 2.1274836, 2.117244, 2.1284664, 2.142427, 2.143491, 2.1174355, 2.166834, 2.2413535, 2.17198, 2.1934671, 2.1784437, 2.1460624, 2.2551122, 2.1292403, 2.2759962, 2.1243417, 2.164021, 2.3084311, 2.3181732, 2.3599672, 2.246926, 2.175371, 2.1341484, 2.1539223, 2.1145408, 2.1826246, 2.160536, 2.1742735, 2.3028927, 2.161367, 2.1345036, 2.1663039, 2.1997318, 2.153181, 2.204402, 2.3711975, 2.1904433, 2.2117178, 2.1073837, 2.442117, 2.16888, 2.2207627, 2.1454036, 2.1662867, 2.375523, 2.1312582, 2.287271, 2.2192137, 2.2157104, 2.1356585, 2.2070928, 2.2440903, 2.1589975, 2.2202568, 2.1637657, 2.5347242, 2.2165656, 2.1629908, 2.2674217, 2.342911, 2.1552289, 2.2455623, 2.1464767, 2.3957953, 2.2550533, 2.253189, 2.397161, 2.13028, 2.2819686, 2.3302226, 2.1770422, 2.292865, 2.2315679, 2.25605, 2.240117, 2.1941779, 2.2110803, 2.3099077, 2.3271239, 2.1931906, 2.1900475, 2.2116218, 2.3049688, 2.2463005, 2.252615, 2.28828, 2.2192357, 2.1821773, 2.2457113, 2.1703765, 2.200983, 2.5624454, 2.2390344, 2.3224661, 2.2910333, 2.2312279, 2.2196653, 2.209234, 2.2299242, 2.1926668, 2.214811, 2.159427, 2.2215261, 2.1882925, 2.2632737, 2.2643728, 2.3248725, 2.2378364, 2.2898796, 2.1925058, 2.2317026, 2.270788, 2.2005825, 2.256202, 2.358306, 2.2273405, 2.2223005, 2.2353592, 2.2399054, 2.270268, 2.4207766, 2.2974942, 2.3924322, 2.2940407, 2.448214, 2.245315, 2.4168715, 2.2355413, 2.366239, 2.2688282, 2.2930415, 2.2459939, 2.2342465, 2.2976317, 2.2234204, 2.2453275, 2.287002, 2.190668, 2.24277, 2.2668488, 2.2928753, 2.2677536, 2.4102623, 2.244227, 2.1875863, 2.2448957, 2.184448, 2.4213586, 2.2234652, 2.2449338, 2.2800922, 2.2167232, 2.3323448, 2.2988126, 2.255329, 2.2808332, 2.2988408, 2.2534623, 2.3164036, 2.3601148, 2.2635837, 2.3046787, 2.2471802, 2.284549, 2.382689, 2.3549013, 2.2460935, 2.277759, 2.3159223, 2.232957, 2.3844626, 2.2946427, 2.2948408, 2.2889364, 2.3154871, 2.2442763, 2.2613804, 2.260702, 2.2715478, 2.2296484, 2.350016, 2.3343995, 2.3463426, 2.2840126, 2.2090552, 2.2971935, 2.276642, 2.4243264, 2.4437091, 2.3450224, 2.2446628, 2.2431433, 2.4465165, 2.4484024, 2.2923903, 2.3288665, 2.3476155, 2.4513433, 2.3256955, 2.4869325, 2.3824725, 2.2671134, 2.3201466, 2.416744, 2.3384774, 2.246527, 2.2992034, 2.3035867, 2.4553266, 2.221041, 2.3250294, 2.469485, 2.3333175, 2.2447677, 2.3374493, 2.2825642, 2.2796404, 2.248069, 2.2541325, 2.3788846, 2.2814827, 2.2903814, 2.3000195], [17.964174, 13.347906, 9.062232, 6.166841, 5.0059633, 4.1429386, 3.657862, 3.4576743, 3.2947016, 3.1199057, 3.136156, 3.0058067, 2.9584036, 2.9393523, 2.8363671, 2.654737, 2.6154053, 2.6005788, 2.586973, 2.5621781, 2.5542524, 2.5769124, 2.550346, 2.568462, 2.5283444, 2.5251157, 2.5426657, 2.5592575, 2.4366944, 2.4650598, 2.4806297, 2.5253353, 2.468777, 2.5230756, 2.428602, 2.4065301, 2.5398967, 2.4325185, 2.4754229, 2.55781, 2.4097095, 2.4146447, 2.3897614, 2.4044363, 2.4638083, 2.4192338, 2.4420774, 2.378891, 2.493902, 2.6064093, 2.394594, 2.6080456, 2.4428732, 2.4544725, 2.4701643, 2.3783436, 2.4679246, 2.388994, 2.4494195, 2.4909544, 2.3627217, 2.3887913, 2.4201698, 2.5378473, 2.4483304, 2.4038253, 2.4186108, 2.3962808, 2.3384452, 2.4533193, 2.3788347, 2.3434386, 2.3647506, 2.5403678, 2.3685973, 2.3664374, 2.3842573, 2.4040332, 2.5456555, 2.4507923, 2.6316812, 2.3637338, 2.4727757, 2.3675213, 2.3819644, 2.469438, 2.4475837, 2.4142132, 2.4094388, 2.493052, 2.385629, 2.3759146, 2.344639, 2.405414, 2.3648036, 2.3399553, 2.346637, 2.3452206, 2.3829806, 2.4632883, 2.511473, 2.3740864, 2.3505788, 2.4942527, 2.3406699, 2.3870275, 2.4387589, 2.3546383, 2.3987603, 2.3611808, 2.3502872, 2.4171336, 2.4390364, 2.3325975, 2.306476, 2.3055158, 2.423749, 2.4362886, 2.3458333, 2.3277392, 2.3349175, 2.474913, 2.3352144, 2.384528, 2.3293862, 2.3854299, 2.2944179, 2.4667795, 2.3043435, 2.416591, 2.4727726, 2.4380655, 2.3372571, 2.364791, 2.4144697, 2.4336805, 2.514132, 2.4589314, 2.3263292, 2.3302832, 2.485947, 2.4012985, 2.3155231, 2.249787, 2.3464687, 2.3442123, 2.2666478, 2.4046519, 2.314157, 2.380571, 2.410922, 2.4214, 2.242789, 2.304465, 2.3808534, 2.344709, 2.2771742, 2.3738198, 2.277169, 2.2648082, 2.264233, 2.4114568, 2.2689087, 2.500367, 2.3322694, 2.2959652, 2.4860172, 2.4592264, 2.4190145, 2.5488248, 2.346859, 2.3212645, 2.3141062, 2.3102882, 2.3680916, 2.327598, 2.3478925, 2.2741585, 2.4285347, 2.3940086, 2.427031, 2.375101, 2.4561098, 2.3966186, 2.6652336, 2.2729356, 2.3279953, 2.3294272, 2.3395178, 2.424311, 2.3717673, 2.386669, 2.2486687, 2.5267189, 2.4962933, 2.560374, 2.4128985, 2.4318845, 2.4299788, 2.5599186, 2.3090014, 2.3370812, 2.4881442, 2.3165581, 2.3517144, 2.373406, 2.313175, 2.4323347, 2.3950894, 2.3440182, 2.4591653, 2.3015473, 2.3098927, 2.49887, 2.3427327, 2.3549843, 2.3114192, 2.4009883, 2.4473162, 2.4577408, 2.336138, 2.4017072, 2.3761878, 2.4333026, 2.575069, 2.4171932, 2.5199912, 2.444297, 2.5420568, 2.4864583, 2.6673458, 2.3953896, 2.4577909, 2.3570566, 2.324714, 2.397581, 2.3829274, 2.6452143, 2.6529632, 2.493455, 2.4051812, 2.340146, 2.6009479, 2.372071, 2.3996387, 2.5454533, 2.387287, 2.3310099, 2.3935583, 2.347794, 2.440346, 2.4442933, 2.4696844, 2.3972154, 2.3855455, 2.3864179, 2.3413367, 2.6058125, 2.5586917, 2.382595, 2.4564855, 2.62386, 2.4310746, 2.3812501, 2.4034348, 2.5874445, 2.53735, 2.428296, 2.350236, 2.481641, 2.3897014, 2.4640799, 2.3825705, 2.3898935, 2.6941304, 2.5484567, 2.4795299, 2.375982, 2.7083716, 2.454538, 2.4011192, 2.4422767, 2.404202, 2.4332354, 2.5447056, 2.6794865, 2.4858894, 2.404219, 2.5098813, 2.519014, 2.3934803, 2.5266166, 2.6642365, 2.544834, 2.432787, 2.4474485, 2.408884, 2.4323733, 2.4344566, 2.4364166, 2.3806167, 2.5464985, 2.3963435, 2.3859181, 2.5343258, 2.4121673, 2.3994787, 2.449761, 2.4282143, 2.460083, 2.4210825, 2.5978827, 2.4494886, 2.4954658, 2.513618, 2.477157, 2.5510347, 2.53474, 2.575039, 2.5336158, 2.5774217, 2.4266117, 2.4737043, 2.586949, 2.4601338, 2.4297404, 2.4860892, 2.556083, 2.49808, 2.504936, 2.5720403, 2.5509996, 2.5488584, 2.4836755, 2.4753354, 2.7529445, 2.449421, 2.5362659, 2.6755404, 2.5477693, 2.5011156, 2.4961348, 2.4578807, 2.6005042, 2.4804115, 2.5264354, 2.4357271, 2.4695766, 2.5830426, 2.515467, 2.56714, 2.5562732, 2.7047503, 2.6235273, 2.4901848, 2.5996196, 2.6150124, 2.527797, 2.6090403, 2.5123942, 2.5030308, 2.5887568, 2.7372806, 2.6424286, 2.5905545, 2.6635146, 2.5846791, 2.4813375, 2.407346, 2.5715203, 2.5113163, 2.8535995, 2.559826, 2.5835094, 2.6255305, 2.519787, 2.4924607, 2.5291235, 2.592292, 2.615928, 2.4954977, 2.7405825, 2.445246, 2.5439813, 2.5000691, 2.7838805, 2.5097208, 2.5276904, 2.5720465, 2.5267584, 2.6305764, 2.4914877, 2.6214094, 2.5203695, 2.542014, 2.5835028, 2.511072, 2.6431227, 2.5741043, 2.7092931, 2.6970248, 2.782793, 2.570054, 2.5109491, 2.502709, 2.6424785, 2.4950247, 2.6127543, 2.61327, 2.7884128, 2.742822, 2.639555, 2.6385372, 2.6123688, 2.6629303, 2.585875, 2.677253, 2.509359, 2.670253, 2.5792155, 2.734923, 2.5309803, 2.5724325, 2.6567326, 2.6807985, 2.5993102, 2.5574598, 2.7297745, 2.5495355, 2.6197228, 2.5140986, 2.7257113, 2.6320212, 2.5579448, 2.6668127, 2.546236, 2.6295087, 2.4850426, 2.7739706, 2.8538423, 2.6535897, 2.7621198, 2.560072, 2.5533302, 2.4905574, 2.80903, 2.648347, 2.5554411, 2.5178974, 2.6204145, 2.5684965, 2.703552, 2.5608432, 2.530414, 2.700278, 2.5003247, 2.5129676, 2.547829, 2.5852647, 2.6148286, 2.8038826, 2.4613633, 2.6404507, 2.5255492, 2.4621203, 2.4808857, 2.5508862, 2.6204178, 2.6634068, 2.5611732, 2.5057714, 2.6287088, 2.6684268, 2.6945753, 2.5141575, 2.6279714, 2.5218692, 2.713328, 2.597654, 2.6519504, 2.6472392, 2.7800562, 2.586045, 2.484607, 2.6925611, 2.5738442, 2.6361823, 2.4744961, 2.6078935, 2.9086921, 2.6372309, 2.585974, 2.543112, 2.4387462, 2.4413269, 2.5571935, 2.5614467, 2.6229258, 2.7226677, 2.8861923], [17.577724, 14.062183, 9.983975, 7.2435737, 5.387286, 4.315496, 3.6615982, 3.3625536, 3.1353202, 3.016961, 2.929589, 2.824014, 2.8139777, 2.6767654, 2.7608538, 2.6495516, 2.6530523, 2.6138456, 2.6606822, 2.602517, 2.6490622, 2.6002367, 2.6816046, 2.6436381, 2.5908475, 2.6021657, 2.6003428, 2.6968403, 2.5950704, 2.621704, 2.6218994, 2.5655859, 2.6431673, 2.5506988, 2.5967693, 2.5787196, 2.583954, 2.6320229, 2.580624, 2.5572822, 2.648049, 2.5820515, 2.6674953, 2.5761855, 2.6085892, 2.5892704, 2.5509923, 2.5605009, 2.588924, 2.578652, 2.693597, 2.6325471, 2.6033633, 2.5580525, 2.6094766, 2.6641657, 2.6187556, 2.5956714, 2.578568, 2.5719335, 2.6393244, 2.5641122, 2.570802, 2.6566277, 2.5979738, 2.5865512, 2.6034553, 2.6843407, 2.6265414, 2.6714616, 2.5997956, 2.6093678, 2.6159227, 2.7010782, 2.5944147, 2.6562707, 2.6298547, 2.6271133, 2.6272457, 2.5510898, 2.5705585, 2.6967912, 2.593501, 2.8125036, 2.6507595, 2.614843, 2.7135684, 2.590213, 2.5879009, 2.6546135, 2.547036, 2.6195652, 2.6370976, 2.6502292, 2.6229236, 2.610158, 2.6263394, 2.70012, 2.7367783, 2.6960044, 2.5993164, 2.6431878, 2.5614097, 2.5925307, 2.6979203, 2.6360686, 2.653949, 2.6439586, 2.5829298, 2.6848586, 2.6938603, 2.6101186, 2.6250103, 2.6437862, 2.6203673, 2.602556, 2.5861225, 2.640648, 2.640443, 2.7117867, 2.7285802, 2.676587, 2.598325, 2.5680714, 2.6426969, 2.6199582, 2.5586784, 2.587307, 2.605594, 2.5406225, 2.6193535, 2.561118, 2.5521402, 2.5928369, 2.5777643, 2.6233196, 2.6008353, 2.569049, 2.6661193, 2.5716765, 2.5700157, 2.631345, 2.603089, 2.5700514, 2.6325097, 2.5821247, 2.6464326, 2.5944228, 2.6734366, 2.627194, 2.557518, 2.6964293, 2.5958023, 2.5798926, 2.5682554, 2.6236641, 2.555707, 2.659418, 2.6147397, 2.606676, 2.634904, 2.596985, 2.6000068, 2.5694919, 2.6019988, 2.560181, 2.621814, 2.589499, 2.5737805, 2.562428, 2.5668538, 2.6003802, 2.6193004, 2.5893805, 2.5348196, 2.594076, 2.6431355, 2.5827503, 2.6061492, 2.6150627, 2.6240065, 2.5653405, 2.6155634, 2.5828, 2.5483873, 2.603033, 2.6030138, 2.5619054, 2.5715196, 2.6249337, 2.6024384, 2.588194, 2.5805244, 2.5976632, 2.5548398, 2.6060905, 2.5795326, 2.5764375, 2.675204, 2.5829644, 2.612283, 2.7051938, 2.6479526, 2.6576483, 2.667327, 2.5821602, 2.5458314, 2.5747612, 2.5595384, 2.5992446, 2.6109385, 2.5732844, 2.5314538, 2.6208725, 2.5761836, 2.5595207, 2.554611, 2.5859642, 2.587657, 2.5598924, 2.5710912, 2.640375, 2.650976, 2.5645752, 2.658635, 2.7249475, 2.6139123, 2.5739734, 2.5925245, 2.5898087, 2.6038415, 2.593055, 2.6024456, 2.5584028, 2.5730567, 2.5669422, 2.6382115, 2.5790427, 2.6001866, 2.6254005, 2.6475232, 2.6588364, 2.5975883, 2.5852323, 2.5569336, 2.6117609, 2.595298, 2.66883, 2.6273088, 2.6253948, 2.6210802, 2.6641538, 2.671509, 2.6367037, 2.6122088, 2.643354, 2.6043155, 2.6657648, 2.6352456, 2.6420364, 2.6553154, 2.6447675, 2.6501486, 2.785517, 2.6399128, 2.7154644, 2.6564624, 2.6067064, 2.692993, 2.6861029, 2.6081755, 2.60808, 2.739686, 2.613585, 2.7567286, 2.6458864, 2.6553986, 2.6408203, 2.6818168, 2.643498, 2.6085649, 2.6561065, 2.6153681, 2.675761, 2.7085855, 2.6544898, 2.672432, 2.651601, 2.6420593, 2.6990025, 2.6400957, 2.621449, 2.662321, 2.7372184, 2.7078555, 2.6266901, 2.6979814, 2.6726313, 2.6530602, 2.6356933, 2.6645234, 2.6671233, 2.632267, 2.6870685, 2.7419658, 2.6544292, 2.662008, 2.6271315, 2.684481, 2.6946905, 2.7041414, 2.657936, 2.660342, 2.6655412, 2.6763442, 2.7045064, 2.6554146, 2.7174351, 2.7192776, 2.7226672, 2.704588, 2.6882195, 2.6668372, 2.6474342, 2.6892183, 2.6871848, 2.6444218, 2.647233, 2.6642463, 2.691544, 2.6796923, 2.6909583, 2.6666646, 2.661512, 2.7857718, 2.7285573, 2.7120128, 2.698126, 2.7131486, 2.6760647, 2.6456106, 2.6972215, 2.6884513, 2.7033458, 2.6850133, 2.6828315, 2.729118, 2.663676, 2.6769357, 2.7144892, 2.7191374, 2.6731405, 2.6646228, 2.7213721, 2.767392, 2.7373962, 2.7835832, 2.7097166, 2.74044, 2.79083, 2.705279, 2.6714323, 2.7197154, 2.6847827, 2.6814313, 2.7065475, 2.7237172, 2.7749994, 2.7273355, 2.6585793, 2.6836355, 2.8143895, 2.7569995, 2.7059913, 2.769628, 2.714289, 2.7610261, 2.6944747, 2.711725, 2.78133, 2.7217002, 2.752991, 2.7861917, 2.6903005, 2.6945798, 2.7376506, 2.6790183, 2.7626705, 2.7133033, 2.797317, 2.7097383, 2.6985812, 2.6865494, 2.7235334, 2.6826038, 2.6998804, 2.6966486, 2.714481, 2.7418077, 2.6986094, 2.722035, 2.7206848, 2.6930697, 2.698621, 2.7056553, 2.67616, 2.7125309, 2.6858804, 2.6994472, 2.7018816, 2.7499247, 2.7117317, 2.8253279, 2.724866, 2.7022147, 2.6764631, 2.714549, 2.7509632, 2.7234497, 2.7966897, 2.7345817, 2.716792, 2.7150567, 2.7224925, 2.6995792, 2.7252254, 2.678761, 2.6778624, 2.7109106, 2.7291903, 2.7099373, 2.677079, 2.774603, 2.7314906, 2.7430153, 2.704392, 2.734533, 2.7398105, 2.6955838, 2.6913664, 2.7234328, 2.6993024, 2.7251024, 2.708853, 2.7653663, 2.749616, 2.7302527, 2.7620823, 2.7729738, 2.7068198, 2.7374806, 2.7012622, 2.7749262, 2.70423, 2.7583823, 2.7362008, 2.8466947, 2.7166317, 2.7614272, 2.739739, 2.6765895, 2.7243981, 2.719088, 2.7398396, 2.7213259, 2.7601852, 2.7123947, 2.774427, 2.7559166, 2.7617211, 2.6949577, 2.732955, 2.7839663, 2.705466, 2.744866, 2.7460895, 2.824171, 2.7622147, 2.749403, 2.723741, 2.7371151, 2.7277095, 2.7195559, 2.7422116, 2.718209, 2.7980113, 2.7353086, 2.8002331, 2.7240102, 2.7846048, 2.7360008, 2.7915025, 2.7522576, 2.7069275, 2.7131212, 2.761137, 2.7341726, 2.7045982, 2.7250998, 2.7685795], [21.567005, 18.222208, 13.739214, 9.245044, 7.373027, 6.2695174, 5.4231787, 4.7825603, 4.398401, 4.1713195, 3.9905708, 3.7757864, 3.6610436, 3.4646592, 3.3541675, 3.2738345, 3.2630923, 3.0669456, 3.0850403, 2.9845455, 2.8600302, 2.7542152, 2.7326221, 2.8106046, 2.716442, 2.6915112, 2.624743, 2.6043115, 2.6144602, 2.6667528, 2.749994, 2.5302877, 2.5732765, 2.6580453, 2.5616589, 2.5093753, 2.6012044, 2.5553777, 2.5762258, 2.5174077, 2.5922527, 2.4981914, 2.4803703, 2.475038, 2.4845934, 2.4766161, 2.4456544, 2.5904272, 2.5164366, 2.634144, 2.493798, 2.4144273, 2.3844614, 2.4759605, 2.3867073, 2.416049, 2.3934035, 2.3754902, 2.4601574, 2.3947356, 2.380674, 2.3697457, 2.4568841, 2.4301686, 2.4930947, 2.3596206, 2.420383, 2.458466, 2.3891673, 2.4584432, 2.493476, 2.4504426, 2.4412816, 2.3917155, 2.3708274, 2.4064672, 2.396947, 2.4298854, 2.4332771, 2.3767521, 2.4129584, 2.37531, 2.4383574, 2.3350866, 2.3677857, 2.4171593, 2.4201467, 2.4311929, 2.4120882, 2.3898332, 2.5292888, 2.3451252, 2.3940415, 2.4175525, 2.4140317, 2.3966722, 2.337544, 2.3661308, 2.4078004, 2.4310086, 2.45848, 2.350224, 2.4160504, 2.365203, 2.441908, 2.522962, 2.3162134, 2.299098, 2.416875, 2.3258247, 2.3692563, 2.3715649, 2.3154626, 2.4788268, 2.3267086, 2.350728, 2.3189273, 2.4073129, 2.3477745, 2.421361, 2.3617532, 2.3291726, 2.3631449, 2.3952718, 2.4270165, 2.3251579, 2.3680377, 2.3456888, 2.445619, 2.3216176, 2.3259242, 2.4899237, 2.358341, 2.3268414, 2.3235955, 2.350808, 2.3010552, 2.3503883, 2.2770963, 2.3818326, 2.4739292, 2.2802455, 2.253627, 2.2615783, 2.2826602, 2.274572, 2.4101608, 2.3382893, 2.334169, 2.328959, 2.3971555, 2.4511662, 2.3681703, 2.3531046, 2.3739648, 2.257737, 2.373492, 2.3926353, 2.556575, 2.2788792, 2.3892655, 2.2816427, 2.3190975, 2.3982406, 2.3368676, 2.407999, 2.3431485, 2.3043792, 2.287498, 2.3760102, 2.5056887, 2.2892327, 2.309439, 2.2958338, 2.3932798, 2.391786, 2.5267668, 2.2811835, 2.3545666, 2.2551599, 2.3835099, 2.2969003, 2.5141606, 2.339606, 2.3144557, 2.2840652, 2.3236558, 2.4141176, 2.454923, 2.329256, 2.513216, 2.3475058, 2.2754302, 2.2834628, 2.320008, 2.3100486, 2.3250349, 2.284598, 2.2602751, 2.359966, 2.4479268, 2.2866654, 2.4352012, 2.3102107, 2.3911726, 2.3168848, 2.331028, 2.3071294, 2.3520613, 2.2884755, 2.2908018, 2.4287775, 2.2709026, 2.2537196, 2.245456, 2.2071204, 2.27337, 2.3479164, 2.3763232, 2.3431194, 2.3211849, 2.238983, 2.363863, 2.3875332, 2.341502, 2.3319232, 2.3990242, 2.3364947, 2.3357682, 2.5674722, 2.4173038, 2.3559325, 2.2516782, 2.3401177, 2.3554008, 2.2970488, 2.2559156, 2.3813074, 2.2816374, 2.2420099, 2.5710976, 2.3139634, 2.3415117, 2.2880175, 2.3153965, 2.3268006, 2.2541518, 2.2897048, 2.3159747, 2.2741382, 2.3926716, 2.3867142, 2.40313, 2.2811973, 2.3213167, 2.369052, 2.4661942, 2.3280556, 2.2750354, 2.385033, 2.3638403, 2.3581386, 2.3406122, 2.3158991, 2.4042237, 2.2936811, 2.3344908, 2.324947, 2.2904687, 2.3356364, 2.2858546, 2.2688007, 2.3638468, 2.3008516, 2.4742644, 2.264934, 2.4109473, 2.2959208, 2.3315156, 2.2960508, 2.4419715, 2.4025905, 2.2816126, 2.4441555, 2.3362389, 2.3661766, 2.4554222, 2.3666604, 2.4246402, 2.3655908, 2.3145754, 2.3544319, 2.436422, 2.4714963, 2.3842802, 2.5195205, 2.3280015, 2.422571, 2.3482432, 2.4951558, 2.4673898, 2.4251764, 2.4171684, 2.4284558, 2.3855762, 2.4327319, 2.4240074, 2.3332374, 2.415083, 2.3710172, 2.342075, 2.4002254, 2.4239166, 2.5743158, 2.4168103, 2.3920677, 2.351524, 2.5600588, 2.5066972, 2.4295871, 2.4576168, 2.4475484, 2.3624594, 2.3291798, 2.455084, 2.4631727, 2.394931, 2.3319974, 2.332257, 2.3971741, 2.5219872, 2.432012, 2.5134954, 2.4813163, 2.5329642, 2.5186949, 2.4687183, 2.3585796, 2.4521866, 2.3052206, 2.43462, 2.4190497, 2.3348074, 2.3457396, 2.3501182, 2.395884, 2.3286326, 2.3771234, 2.3321316, 2.3992434, 2.3771389, 2.4605606, 2.420594, 2.364778, 2.5863163, 2.3463528, 2.285954, 2.355, 2.4564269, 2.508686, 2.4148126, 2.3375869, 2.3411317, 2.4426532, 2.4596, 2.3381562, 2.3123431, 2.4597583, 2.3795242, 2.3929818, 2.3081322, 2.3728478, 2.4691741, 2.3854458, 2.3682559, 2.4551256, 2.3388724, 2.3692675, 2.3494186, 2.361358, 2.4489644, 2.3980844, 2.332062, 2.2841313, 2.416015, 2.390437, 2.3857875, 2.303069, 2.3839464, 2.322194, 2.6000664, 2.3166165, 2.3957975, 2.376161, 2.419152, 2.351031, 2.5475981, 2.3755558, 2.3838694, 2.5669298, 2.389775, 2.6977298, 2.3971596, 2.442862, 2.419303, 2.4005582, 2.475014, 2.375614, 2.3776813, 2.4359453, 2.4390383, 2.4007077, 2.4891884, 2.5186746, 2.3414037, 2.4009082, 2.2918348, 2.4684067, 2.4099567, 2.5012164, 2.4795663, 2.5671287, 2.4475806, 2.4664347, 2.5012774, 2.4515793, 2.5803947, 2.4908495, 2.4016309, 2.4504294, 2.32431, 2.5566494, 2.4109719, 2.3582842, 2.4523664, 2.3735185, 2.3463693, 2.4143343, 2.3754935, 2.456042, 2.4306922, 2.3761315, 2.348516, 2.49629, 2.352449, 2.3638558, 2.372317, 2.5491753, 2.4725273, 2.4185364, 2.4118924, 2.383273, 2.4739048, 2.4099689, 2.4924772, 2.3947368, 2.6514935, 2.3639846, 2.4003627, 2.452919, 2.3915238, 2.4585776, 2.4544497, 2.3415434, 2.3846037, 2.3860419, 2.47878, 2.411145, 2.444019, 2.4256358, 2.4835408, 2.3986807, 2.5421855, 2.4248857, 2.475149, 2.3207657, 2.5521545, 2.5331311, 2.5872905, 2.5258446, 2.4850988, 2.4047616, 2.513755, 2.4902241, 2.4175928, 2.4940867, 2.4627674, 2.679474, 2.5241117, 2.536253, 2.473308, 2.4521663, 2.329009, 2.587532, 2.4968994, 2.4417706, 2.4148426, 2.5178175, 2.3295884, 2.72498]]\n"
     ]
    }
   ],
   "source": [
    "print(all_mae_histories)\n",
    "average_mae_history = [\n",
    "    np.mean([x[i] for x in all_mae_histories]) for i in range(num_epochs)]"
   ]
  },
  {
   "cell_type": "markdown",
   "metadata": {
    "colab_type": "text"
   },
   "source": [
    "**Plotting validation scores**"
   ]
  },
  {
   "cell_type": "code",
   "execution_count": 608,
   "metadata": {
    "colab_type": "code"
   },
   "outputs": [
    {
     "data": {
      "image/png": "[encoded data removed]",
      "text/plain": [
       "<Figure size 640x480 with 1 Axes>"
      ]
     },
     "metadata": {},
     "output_type": "display_data"
    }
   ],
   "source": [
    "plt.plot(range(1, len(average_mae_history) + 1), average_mae_history)\n",
    "plt.xlabel(\"Epochs\")\n",
    "plt.ylabel(\"Validation MAE\")\n",
    "plt.show()"
   ]
  },
  {
   "cell_type": "markdown",
   "metadata": {
    "colab_type": "text"
   },
   "source": [
    "**Plotting validation scores, excluding the first 10 data points**"
   ]
  },
  {
   "cell_type": "code",
   "execution_count": 609,
   "metadata": {
    "colab_type": "code"
   },
   "outputs": [
    {
     "data": {
      "image/png": "[encoded data removed]",
      "text/plain": [
       "<Figure size 640x480 with 1 Axes>"
      ]
     },
     "metadata": {},
     "output_type": "display_data"
    }
   ],
   "source": [
    "truncated_mae_history = average_mae_history[10:]\n",
    "plt.plot(range(1, len(truncated_mae_history) + 1), truncated_mae_history)\n",
    "plt.xlabel(\"Epochs\")\n",
    "plt.ylabel(\"Validation MAE\")\n",
    "plt.show()"
   ]
  },
  {
   "cell_type": "markdown",
   "metadata": {
    "colab_type": "text"
   },
   "source": [
    "**Training the final model**"
   ]
  },
  {
   "cell_type": "code",
   "execution_count": 610,
   "metadata": {
    "colab_type": "code"
   },
   "outputs": [
    {
     "name": "stdout",
     "output_type": "stream",
     "text": [
      "102/102 [==============================] - 0s 5ms/sample - loss: 16.9704 - mean_absolute_error: 2.7060\n"
     ]
    }
   ],
   "source": [
    "model = build_model()\n",
    "model.fit(train_data, train_targets,\n",
    "          epochs=130, batch_size=16, verbose=0)\n",
    "test_mse_score, test_mae_score = model.evaluate(test_data, test_targets)"
   ]
  },
  {
   "cell_type": "code",
   "execution_count": 611,
   "metadata": {
    "colab_type": "code"
   },
   "outputs": [
    {
     "data": {
      "text/plain": [
       "2.706011"
      ]
     },
     "execution_count": 611,
     "metadata": {},
     "output_type": "execute_result"
    }
   ],
   "source": [
    "test_mae_score"
   ]
  },
  {
   "cell_type": "markdown",
   "metadata": {
    "colab_type": "text"
   },
   "source": [
    "### Generating predictions on new data"
   ]
  },
  {
   "cell_type": "code",
   "execution_count": 612,
   "metadata": {
    "colab_type": "code"
   },
   "outputs": [
    {
     "data": {
      "text/plain": [
       "array([9.089033], dtype=float32)"
      ]
     },
     "execution_count": 612,
     "metadata": {},
     "output_type": "execute_result"
    }
   ],
   "source": [
    "predictions = model.predict(test_data)\n",
    "predictions[0]"
   ]
  },
  {
   "cell_type": "markdown",
   "metadata": {
    "colab_type": "text"
   },
   "source": [
    "### Wrapping up"
   ]
  },
  {
   "cell_type": "markdown",
   "metadata": {
    "colab_type": "text"
   },
   "source": [
    "## Summary"
   ]
  },
  {
   "cell_type": "code",
   "execution_count": 613,
   "metadata": {},
   "outputs": [],
   "source": [
    "#TypeError: Descriptors cannot not be created directly.\n",
    "#install protoc >= 3.19.0.\n",
    "#conda install protobuf==3.20.*"
   ]
  },
  {
   "cell_type": "code",
   "execution_count": 614,
   "metadata": {},
   "outputs": [],
   "source": [
    "#ValueError: Object arrays cannot be loaded when allow_pickle=False"
   ]
  },
  {
   "cell_type": "code",
   "execution_count": 615,
   "metadata": {},
   "outputs": [
    {
     "name": "stdout",
     "output_type": "stream",
     "text": [
      "# packages in environment at C:\\Users\\user\\anaconda3\\envs\\DL:\n",
      "#\n",
      "# Name                    Version                   Build  Channel\n",
      "absl-py                   1.2.0                    pypi_0    pypi\n",
      "anyio                     3.5.0            py37haa95532_0  \n",
      "argon2-cffi               21.3.0             pyhd3eb1b0_0  \n",
      "argon2-cffi-bindings      21.2.0           py37h2bbff1b_0  \n",
      "astor                     0.8.1                    pypi_0    pypi\n",
      "attrs                     21.4.0             pyhd3eb1b0_0  \n",
      "babel                     2.9.1              pyhd3eb1b0_0  \n",
      "backcall                  0.2.0              pyhd3eb1b0_0  \n",
      "beautifulsoup4            4.11.1           py37haa95532_0  \n",
      "bleach                    4.1.0              pyhd3eb1b0_0  \n",
      "brotlipy                  0.7.0           py37h2bbff1b_1003  \n",
      "ca-certificates           2022.07.19           haa95532_0  \n",
      "certifi                   2022.9.14        py37haa95532_0  \n",
      "cffi                      1.15.1           py37h2bbff1b_0  \n",
      "charset-normalizer        2.0.4              pyhd3eb1b0_0  \n",
      "colorama                  0.4.5            py37haa95532_0  \n",
      "cryptography              37.0.1           py37h21b164f_0  \n",
      "cycler                    0.11.0                   pypi_0    pypi\n",
      "cython                    0.29.32                  pypi_0    pypi\n",
      "debugpy                   1.5.1            py37hd77b12b_0  \n",
      "decorator                 5.1.1              pyhd3eb1b0_0  \n",
      "defusedxml                0.7.1              pyhd3eb1b0_0  \n",
      "entrypoints               0.4              py37haa95532_0  \n",
      "fonttools                 4.37.4                   pypi_0    pypi\n",
      "gast                      0.5.3                    pypi_0    pypi\n",
      "glib                      2.69.1               h5dc1a3c_1  \n",
      "grpcio                    1.49.1                   pypi_0    pypi\n",
      "gst-plugins-base          1.18.5               h9e645db_0  \n",
      "gstreamer                 1.18.5               hd78058f_0  \n",
      "h5py                      3.7.0                    pypi_0    pypi\n",
      "icu                       58.2                 ha925a31_3  \n",
      "idna                      3.3                pyhd3eb1b0_0  \n",
      "importlib-metadata        5.0.0                    pypi_0    pypi\n",
      "importlib_metadata        4.11.3               hd3eb1b0_0  \n",
      "importlib_resources       5.2.0              pyhd3eb1b0_1  \n",
      "ipykernel                 6.15.2           py37haa95532_0  \n",
      "ipython                   7.31.1           py37haa95532_1  \n",
      "ipython_genutils          0.2.0              pyhd3eb1b0_1  \n",
      "ipywidgets                7.6.5              pyhd3eb1b0_1  \n",
      "jedi                      0.18.1           py37haa95532_1  \n",
      "jinja2                    3.0.3              pyhd3eb1b0_0  \n",
      "jpeg                      9e                   h2bbff1b_0  \n",
      "json5                     0.9.6              pyhd3eb1b0_0  \n",
      "jsonschema                4.16.0           py37haa95532_0  \n",
      "jupyter                   1.0.0            py37haa95532_8  \n",
      "jupyter_client            7.3.5            py37haa95532_0  \n",
      "jupyter_console           6.4.3              pyhd3eb1b0_0  \n",
      "jupyter_core              4.10.0           py37haa95532_0  \n",
      "jupyter_server            1.18.1           py37haa95532_0  \n",
      "jupyterlab                3.4.4            py37haa95532_0  \n",
      "jupyterlab_pygments       0.1.2                      py_0  \n",
      "jupyterlab_server         2.15.2           py37haa95532_0  \n",
      "jupyterlab_widgets        1.0.0              pyhd3eb1b0_1  \n",
      "keras-applications        1.0.8                    pypi_0    pypi\n",
      "keras-preprocessing       1.1.2                    pypi_0    pypi\n",
      "kiwisolver                1.4.4                    pypi_0    pypi\n",
      "libclang                  12.0.0          default_h627e005_2  \n",
      "libffi                    3.4.2                hd77b12b_4  \n",
      "libiconv                  1.16                 h2bbff1b_2  \n",
      "libogg                    1.3.5                h2bbff1b_1  \n",
      "libpng                    1.6.37               h2a8f88b_0  \n",
      "libprotobuf               3.20.1               h23ce68f_0  \n",
      "libsodium                 1.0.18               h62dcd97_0  \n",
      "libvorbis                 1.3.7                he774522_0  \n",
      "libwebp                   1.2.2                h2bbff1b_0  \n",
      "libxml2                   2.9.14               h0ad7f3c_0  \n",
      "libxslt                   1.1.35               h2bbff1b_0  \n",
      "lz4-c                     1.9.3                h2bbff1b_1  \n",
      "markdown                  3.4.1                    pypi_0    pypi\n",
      "markupsafe                2.1.1            py37h2bbff1b_0  \n",
      "matplotlib                3.5.3                    pypi_0    pypi\n",
      "matplotlib-inline         0.1.6            py37haa95532_0  \n",
      "mistune                   0.8.4           py37hfa6e2cd_1001  \n",
      "mock                      4.0.3                    pypi_0    pypi\n",
      "nbclassic                 0.3.5              pyhd3eb1b0_0  \n",
      "nbclient                  0.5.13           py37haa95532_0  \n",
      "nbconvert                 6.4.4            py37haa95532_0  \n",
      "nbformat                  5.5.0            py37haa95532_0  \n",
      "nest-asyncio              1.5.5            py37haa95532_0  \n",
      "notebook                  6.4.12           py37haa95532_0  \n",
      "numpy                     1.21.6                   pypi_0    pypi\n",
      "openssl                   1.1.1q               h2bbff1b_0  \n",
      "packaging                 21.3               pyhd3eb1b0_0  \n",
      "pandocfilters             1.5.0              pyhd3eb1b0_0  \n",
      "parso                     0.8.3              pyhd3eb1b0_0  \n",
      "pcre                      8.45                 hd77b12b_0  \n",
      "pickleshare               0.7.5           pyhd3eb1b0_1003  \n",
      "pillow                    9.2.0                    pypi_0    pypi\n",
      "pip                       22.2.2           py37haa95532_0  \n",
      "pkgutil-resolve-name      1.3.10           py37haa95532_0  \n",
      "ply                       3.11                     py37_0  \n",
      "prometheus_client         0.14.1           py37haa95532_0  \n",
      "prompt-toolkit            3.0.20             pyhd3eb1b0_0  \n",
      "prompt_toolkit            3.0.20               hd3eb1b0_0  \n",
      "protobuf                  4.21.7                   pypi_0    pypi\n",
      "psutil                    5.9.0            py37h2bbff1b_0  \n",
      "pycparser                 2.21               pyhd3eb1b0_0  \n",
      "pygments                  2.11.2             pyhd3eb1b0_0  \n",
      "pyopenssl                 22.0.0             pyhd3eb1b0_0  \n",
      "pyparsing                 3.0.9            py37haa95532_0  \n",
      "pyqt                      5.15.7           py37hd77b12b_0  \n",
      "pyqt5-sip                 12.11.0          py37hd77b12b_0  \n",
      "pyrsistent                0.18.0           py37h196d8e1_0  \n",
      "pysocks                   1.7.1                    py37_1  \n",
      "python                    3.7.13               h6244533_0  \n",
      "python-dateutil           2.8.2              pyhd3eb1b0_0  \n",
      "python-fastjsonschema     2.16.2           py37haa95532_0  \n",
      "pytz                      2022.1           py37haa95532_0  \n",
      "pywin32                   302              py37h2bbff1b_2  \n",
      "pywinpty                  2.0.2            py37h5da7b33_0  \n",
      "pyzmq                     23.2.0           py37hd77b12b_0  \n",
      "qt-main                   5.15.2               he8e5bd7_7  \n",
      "qt-webengine              5.15.9               hb9a9bb5_4  \n",
      "qtconsole                 5.3.2            py37haa95532_0  \n",
      "qtpy                      2.2.0            py37haa95532_0  \n",
      "qtwebkit                  5.212                h3ad3cdb_4  \n",
      "requests                  2.28.1           py37haa95532_0  \n",
      "send2trash                1.8.0              pyhd3eb1b0_1  \n",
      "setuptools                63.4.1           py37haa95532_0  \n",
      "sip                       6.6.2            py37hd77b12b_0  \n",
      "six                       1.16.0             pyhd3eb1b0_1  \n",
      "sniffio                   1.2.0            py37haa95532_1  \n",
      "soupsieve                 2.3.1              pyhd3eb1b0_0  \n",
      "sqlite                    3.39.3               h2bbff1b_0  \n",
      "tensorboard               1.13.1                   pypi_0    pypi\n",
      "tensorflow                1.13.1                   pypi_0    pypi\n",
      "tensorflow-estimator      1.13.0                   pypi_0    pypi\n",
      "tensorflow-gpu            1.13.1                   pypi_0    pypi\n",
      "termcolor                 2.0.1                    pypi_0    pypi\n",
      "terminado                 0.13.1           py37haa95532_0  \n",
      "testpath                  0.6.0            py37haa95532_0  \n",
      "toml                      0.10.2             pyhd3eb1b0_0  \n",
      "tornado                   6.2              py37h2bbff1b_0  \n",
      "traitlets                 5.1.1              pyhd3eb1b0_0  \n",
      "typing-extensions         4.3.0            py37haa95532_0  \n",
      "typing_extensions         4.3.0            py37haa95532_0  \n",
      "urllib3                   1.26.11          py37haa95532_0  \n",
      "vc                        14.2                 h21ff451_1  \n",
      "vs2015_runtime            14.27.29016          h5e58377_2  \n",
      "wcwidth                   0.2.5              pyhd3eb1b0_0  \n",
      "webencodings              0.5.1                    py37_1  \n",
      "websocket-client          0.58.0           py37haa95532_4  \n",
      "werkzeug                  2.2.2                    pypi_0    pypi\n",
      "wheel                     0.37.1                   pypi_0    pypi\n",
      "widgetsnbextension        3.5.2            py37haa95532_0  \n",
      "win_inet_pton             1.1.0            py37haa95532_0  \n",
      "wincertstore              0.2              py37haa95532_2  \n",
      "winpty                    0.4.3                         4  \n",
      "zeromq                    4.3.4                hd77b12b_0  \n",
      "zipp                      3.8.1                    pypi_0    pypi\n",
      "zlib                      1.2.12               h8cc25b3_3  \n",
      "zstd                      1.5.2                h19a0ad4_0  \n",
      "\n",
      "Note: you may need to restart the kernel to use updated packages.\n"
     ]
    }
   ],
   "source": [
    "conda list"
   ]
  },
  {
   "cell_type": "code",
   "execution_count": 616,
   "metadata": {},
   "outputs": [
    {
     "name": "stdout",
     "output_type": "stream",
     "text": [
      "[name: \"/device:CPU:0\"\n",
      "device_type: \"CPU\"\n",
      "memory_limit: 268435456\n",
      "locality {\n",
      "}\n",
      "incarnation: 5562830539849384572\n",
      ", name: \"/device:GPU:0\"\n",
      "device_type: \"GPU\"\n",
      "memory_limit: 10005613773\n",
      "locality {\n",
      "  bus_id: 1\n",
      "  links {\n",
      "  }\n",
      "}\n",
      "incarnation: 10558842541703111442\n",
      "physical_device_desc: \"device: 0, name: NVIDIA GeForce RTX 2080 Ti, pci bus id: 0000:01:00.0, compute capability: 7.5\"\n",
      "]\n"
     ]
    }
   ],
   "source": [
    "from tensorflow.python.client import device_lib\n",
    "print(device_lib.list_local_devices())"
   ]
  },
  {
   "cell_type": "code",
   "execution_count": null,
   "metadata": {},
   "outputs": [],
   "source": []
  }
 ],
 "metadata": {
  "colab": {
   "collapsed_sections": [],
   "name": "chapter04_getting-started-with-neural-networks.i",
   "private_outputs": false,
   "provenance": [],
   "toc_visible": true
  },
  "kernelspec": {
   "display_name": "Python 3 (ipykernel)",
   "language": "python",
   "name": "python3"
  },
  "language_info": {
   "codemirror_mode": {
    "name": "ipython",
    "version": 3
   },
   "file_extension": ".py",
   "mimetype": "text/x-python",
   "name": "python",
   "nbconvert_exporter": "python",
   "pygments_lexer": "ipython3",
   "version": "3.7.13"
  }
 },
 "nbformat": 4,
 "nbformat_minor": 1
}
