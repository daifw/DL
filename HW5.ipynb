{
 "cells": [
  {
   "cell_type": "markdown",
   "metadata": {
    "colab_type": "text"
   },
   "source": [
    "This is a companion notebook for the book [Deep Learning with Python, Second Edition](https://www.manning.com/books/deep-learning-with-python-second-edition?a_aid=keras&a_bid=76564dff). For readability, it only contains runnable code blocks and section titles, and omits everything else in the book: text paragraphs, figures, and pseudocode.\n",
    "\n",
    "**If you want to be able to follow what's going on, I recommend reading the notebook side by side with your copy of the book.**\n",
    "\n",
    "This notebook was generated for TensorFlow 2.6."
   ]
  },
  {
   "cell_type": "markdown",
   "metadata": {
    "colab_type": "text"
   },
   "source": [
    "# Fundamentals of machine learning"
   ]
  },
  {
   "cell_type": "markdown",
   "metadata": {
    "colab_type": "text"
   },
   "source": [
    "## Generalization: The goal of machine learning"
   ]
  },
  {
   "cell_type": "markdown",
   "metadata": {
    "colab_type": "text"
   },
   "source": [
    "### Underfitting and overfitting"
   ]
  },
  {
   "cell_type": "markdown",
   "metadata": {
    "colab_type": "text"
   },
   "source": [
    "#### Noisy training data"
   ]
  },
  {
   "cell_type": "markdown",
   "metadata": {
    "colab_type": "text"
   },
   "source": [
    "#### Ambiguous features"
   ]
  },
  {
   "cell_type": "markdown",
   "metadata": {
    "colab_type": "text"
   },
   "source": [
    "#### Rare features and spurious correlations"
   ]
  },
  {
   "cell_type": "markdown",
   "metadata": {
    "colab_type": "text"
   },
   "source": [
    "**Adding white-noise channels or all-zeros channels to MNIST**"
   ]
  },
  {
   "cell_type": "code",
   "execution_count": 1,
   "metadata": {
    "colab_type": "code"
   },
   "outputs": [],
   "source": [
    "from tensorflow.keras.datasets import mnist\n",
    "import numpy as np\n",
    "\n",
    "(train_images, train_labels), _ = mnist.load_data()\n",
    "train_images = train_images.reshape((60000, 28 * 28))\n",
    "train_images = train_images.astype(\"float32\") / 255\n",
    "\n",
    "train_images_with_noise_channels = np.concatenate(\n",
    "    [train_images, np.random.random((len(train_images), 784))], axis=1)\n",
    "\n",
    "train_images_with_zeros_channels = np.concatenate(\n",
    "    [train_images, np.zeros((len(train_images), 784))], axis=1)"
   ]
  },
  {
   "cell_type": "markdown",
   "metadata": {
    "colab_type": "text"
   },
   "source": [
    "**Training the same model on MNIST data with noise channels or all-zero channels**"
   ]
  },
  {
   "cell_type": "code",
   "execution_count": 3,
   "metadata": {
    "colab_type": "code"
   },
   "outputs": [
    {
     "name": "stdout",
     "output_type": "stream",
     "text": [
      "Train on 48000 samples, validate on 12000 samples\n",
      "Epoch 1/10\n",
      "48000/48000 [==============================] - 7s 148us/sample - loss: 0.6223 - acc: 0.8129 - val_loss: 0.2813 - val_acc: 0.9197\n",
      "Epoch 2/10\n",
      "48000/48000 [==============================] - 1s 22us/sample - loss: 0.2438 - acc: 0.9243 - val_loss: 0.2066 - val_acc: 0.9368\n",
      "Epoch 3/10\n",
      "48000/48000 [==============================] - 1s 24us/sample - loss: 0.1583 - acc: 0.9509 - val_loss: 0.1374 - val_acc: 0.9592\n",
      "Epoch 4/10\n",
      "48000/48000 [==============================] - 1s 24us/sample - loss: 0.1133 - acc: 0.9648 - val_loss: 0.1349 - val_acc: 0.9618\n",
      "Epoch 5/10\n",
      "48000/48000 [==============================] - 1s 25us/sample - loss: 0.0811 - acc: 0.9742 - val_loss: 0.1363 - val_acc: 0.9621\n",
      "Epoch 6/10\n",
      "48000/48000 [==============================] - 1s 24us/sample - loss: 0.0608 - acc: 0.9805 - val_loss: 0.1521 - val_acc: 0.9592\n",
      "Epoch 7/10\n",
      "48000/48000 [==============================] - 1s 24us/sample - loss: 0.0446 - acc: 0.9853 - val_loss: 0.1501 - val_acc: 0.9607\n",
      "Epoch 8/10\n",
      "48000/48000 [==============================] - 1s 24us/sample - loss: 0.0322 - acc: 0.9897 - val_loss: 0.1168 - val_acc: 0.9692\n",
      "Epoch 9/10\n",
      "48000/48000 [==============================] - 1s 25us/sample - loss: 0.0240 - acc: 0.9924 - val_loss: 0.1304 - val_acc: 0.9678\n",
      "Epoch 10/10\n",
      "48000/48000 [==============================] - 1s 25us/sample - loss: 0.0200 - acc: 0.9932 - val_loss: 0.1324 - val_acc: 0.9683\n",
      "Train on 48000 samples, validate on 12000 samples\n",
      "Epoch 1/10\n",
      "48000/48000 [==============================] - 1s 27us/sample - loss: 0.2908 - acc: 0.9147 - val_loss: 0.1557 - val_acc: 0.9549\n",
      "Epoch 2/10\n",
      "48000/48000 [==============================] - 1s 24us/sample - loss: 0.1223 - acc: 0.9642 - val_loss: 0.1036 - val_acc: 0.9685\n",
      "Epoch 3/10\n",
      "48000/48000 [==============================] - 1s 24us/sample - loss: 0.0792 - acc: 0.9767 - val_loss: 0.0869 - val_acc: 0.9750\n",
      "Epoch 4/10\n",
      "48000/48000 [==============================] - 1s 24us/sample - loss: 0.0577 - acc: 0.9834 - val_loss: 0.0822 - val_acc: 0.9758\n",
      "Epoch 5/10\n",
      "48000/48000 [==============================] - 1s 25us/sample - loss: 0.0423 - acc: 0.9874 - val_loss: 0.0745 - val_acc: 0.9781\n",
      "Epoch 6/10\n",
      "48000/48000 [==============================] - 1s 24us/sample - loss: 0.0319 - acc: 0.9904 - val_loss: 0.0769 - val_acc: 0.9772\n",
      "Epoch 7/10\n",
      "48000/48000 [==============================] - 1s 24us/sample - loss: 0.0240 - acc: 0.9927 - val_loss: 0.0855 - val_acc: 0.9760\n",
      "Epoch 8/10\n",
      "48000/48000 [==============================] - 1s 23us/sample - loss: 0.0186 - acc: 0.9946 - val_loss: 0.0825 - val_acc: 0.9779\n",
      "Epoch 9/10\n",
      "48000/48000 [==============================] - 1s 25us/sample - loss: 0.0137 - acc: 0.9961 - val_loss: 0.0857 - val_acc: 0.9783\n",
      "Epoch 10/10\n",
      "48000/48000 [==============================] - 1s 24us/sample - loss: 0.0110 - acc: 0.9968 - val_loss: 0.0824 - val_acc: 0.9791\n"
     ]
    }
   ],
   "source": [
    "from tensorflow import keras\n",
    "from tensorflow.keras import layers\n",
    "\n",
    "def get_model():\n",
    "    model = keras.Sequential([\n",
    "        layers.Dense(512, activation=\"relu\"),\n",
    "        layers.Dense(10, activation=\"softmax\")\n",
    "    ])\n",
    "    model.compile(optimizer=\"rmsprop\",\n",
    "                  loss=\"sparse_categorical_crossentropy\",\n",
    "                  metrics=[\"accuracy\"])\n",
    "    return model\n",
    "\n",
    "model = get_model()\n",
    "history_noise = model.fit(\n",
    "    train_images_with_noise_channels, train_labels,\n",
    "    epochs=10,\n",
    "    batch_size=128,\n",
    "    validation_split=0.2)\n",
    "\n",
    "model = get_model()\n",
    "history_zeros = model.fit(\n",
    "    train_images_with_zeros_channels, train_labels,\n",
    "    epochs=10,\n",
    "    batch_size=128,\n",
    "    validation_split=0.2)"
   ]
  },
  {
   "cell_type": "markdown",
   "metadata": {
    "colab_type": "text"
   },
   "source": [
    "**Plotting a validation accuracy comparison**"
   ]
  },
  {
   "cell_type": "code",
   "execution_count": 4,
   "metadata": {
    "colab_type": "code"
   },
   "outputs": [
    {
     "data": {
      "text/plain": [
       "<matplotlib.legend.Legend at 0x2c568f88988>"
      ]
     },
     "execution_count": 4,
     "metadata": {},
     "output_type": "execute_result"
    },
    {
     "data": {
      "image/png": "[encoded data removed]",
      "text/plain": [
       "<Figure size 640x480 with 1 Axes>"
      ]
     },
     "metadata": {},
     "output_type": "display_data"
    }
   ],
   "source": [
    "import matplotlib.pyplot as plt\n",
    "val_acc_noise = history_noise.history[\"val_acc\"]\n",
    "val_acc_zeros = history_zeros.history[\"val_acc\"]\n",
    "epochs = range(1, 11)\n",
    "plt.plot(epochs, val_acc_noise, \"b-\",\n",
    "         label=\"Validation accuracy with noise channels\")\n",
    "plt.plot(epochs, val_acc_zeros, \"b--\",\n",
    "         label=\"Validation accuracy with zeros channels\")\n",
    "plt.title(\"Effect of noise channels on validation accuracy\")\n",
    "plt.xlabel(\"Epochs\")\n",
    "plt.ylabel(\"Accuracy\")\n",
    "plt.legend()"
   ]
  },
  {
   "cell_type": "markdown",
   "metadata": {
    "colab_type": "text"
   },
   "source": [
    "### The nature of generalization in deep learning"
   ]
  },
  {
   "cell_type": "markdown",
   "metadata": {
    "colab_type": "text"
   },
   "source": [
    "**Fitting a MNIST model with randomly shuffled labels**"
   ]
  },
  {
   "cell_type": "code",
   "execution_count": 5,
   "metadata": {
    "colab_type": "code"
   },
   "outputs": [
    {
     "name": "stdout",
     "output_type": "stream",
     "text": [
      "['__call__', '__class__', '__delattr__', '__dict__', '__dir__', '__doc__', '__eq__', '__format__', '__ge__', '__getattribute__', '__gt__', '__hash__', '__init__', '__init_subclass__', '__le__', '__lt__', '__module__', '__ne__', '__new__', '__reduce__', '__reduce_ex__', '__repr__', '__setattr__', '__sizeof__', '__str__', '__subclasshook__', '__weakref__', '_activity_regularizer', '_add_inbound_node', '_add_unique_metric_name', '_add_variable_with_custom_getter', '_all_metrics_tensors', '_all_stateful_metrics_tensors', '_base_init', '_build_input_shape', '_cache_output_metric_attributes', '_call_and_compute_mask', '_call_convention', '_call_is_graph_friendly', '_check_trainable_weights_consistency', '_checkpoint_dependencies', '_checkpointable_saver', '_clear_losses', '_compute_output_and_mask_jointly', '_dataset_iterator_cache', '_default_save_signature', '_deferred_dependencies', '_determine_call_convention', '_distribution_standardize_user_data', '_distribution_strategy', '_dtype', '_eager_add_metric', '_eager_losses', '_expects_training_arg', '_gather_children_attribute', '_gather_saveables_for_checkpoint', '_get_callback_model', '_get_existing_metric', '_get_iterator_get_next_tensors', '_get_node_attribute_at_index', '_graph', '_handle_activity_regularization', '_handle_deferred_dependencies', '_handle_metrics', '_handle_per_output_metrics', '_handle_weight_regularization', '_inbound_nodes', '_init_graph_network', '_init_metric_attributes', '_init_set_name', '_init_subclassed_network', '_inputs_from_call_args', '_is_compiled', '_is_graph_network', '_iterator_get_next', '_layers', '_lookup_dependency', '_losses', '_make_callback_model', '_make_eval_function', '_make_execution_function', '_make_fit_function', '_make_predict_function', '_make_test_function', '_make_test_function_helper', '_make_train_function', '_make_train_function_helper', '_maybe_build', '_maybe_initialize_checkpointable', '_metrics', '_metrics_tensors', '_name', '_name_based_attribute_restore', '_name_based_restores', '_name_scope', '_no_dependency', '_non_trainable_weights', '_outbound_nodes', '_preload_simple_restoration', '_restore_from_checkpoint_position', '_reuse', '_run_eagerly', '_run_internal_graph', '_scope', '_set_connectivity_metadata_', '_set_inputs', '_set_mask_metadata', '_set_metric_attributes', '_set_per_output_metric_attributes', '_set_sample_weight_attributes', '_setattr_tracking', '_single_restoration_from_checkpoint_position', '_standardize_user_data', '_static_graph_friendly', '_symbolic_add_metric', '_tf_api_names', '_tf_api_names_v1', '_track_checkpointable', '_track_layers', '_trainable_weights', '_unconditional_checkpoint_dependencies', '_unconditional_deferred_dependencies', '_unconditional_dependency_names', '_unfiltered_losses', '_unfiltered_updates', '_update_uid', '_updated_config', '_updates', '_validate_graph_inputs_and_outputs', '_validate_or_infer_batch_size', 'activity_regularizer', 'add', 'add_loss', 'add_metric', 'add_update', 'add_variable', 'add_weight', 'apply', 'build', 'built', 'call', 'compile', 'compute_mask', 'compute_output_shape', 'count_params', 'dtype', 'evaluate', 'evaluate_generator', 'fit', 'fit_generator', 'from_config', 'get_config', 'get_input_at', 'get_input_mask_at', 'get_input_shape_at', 'get_layer', 'get_losses_for', 'get_output_at', 'get_output_mask_at', 'get_output_shape_at', 'get_updates_for', 'get_weights', 'inbound_nodes', 'input', 'input_mask', 'input_shape', 'input_spec', 'inputs', 'layers', 'load_weights', 'losses', 'metrics', 'metrics_names', 'name', 'non_trainable_variables', 'non_trainable_weights', 'optimizer', 'outbound_nodes', 'output', 'output_mask', 'output_shape', 'outputs', 'pop', 'predict', 'predict_classes', 'predict_generator', 'predict_on_batch', 'predict_proba', 'reset_metrics', 'reset_states', 'run_eagerly', 'save', 'save_weights', 'set_weights', 'state_updates', 'stateful', 'summary', 'supports_masking', 'test_on_batch', 'to_json', 'to_yaml', 'train_on_batch', 'trainable', 'trainable_variables', 'trainable_weights', 'updates', 'variables', 'weights']\n",
      "Train on 48000 samples, validate on 12000 samples\n",
      "Epoch 1/100\n",
      "48000/48000 [==============================] - 1s 21us/sample - loss: 2.3173 - acc: 0.1010 - val_loss: 2.3078 - val_acc: 0.1031\n",
      "Epoch 2/100\n",
      "48000/48000 [==============================] - 1s 14us/sample - loss: 2.3004 - acc: 0.1157 - val_loss: 2.3171 - val_acc: 0.1018\n",
      "Epoch 3/100\n",
      "48000/48000 [==============================] - 1s 14us/sample - loss: 2.2911 - acc: 0.1277 - val_loss: 2.3169 - val_acc: 0.1022\n",
      "Epoch 4/100\n",
      "48000/48000 [==============================] - 1s 14us/sample - loss: 2.2787 - acc: 0.1377 - val_loss: 2.3292 - val_acc: 0.0988\n",
      "Epoch 5/100\n",
      "48000/48000 [==============================] - 1s 14us/sample - loss: 2.2615 - acc: 0.1527 - val_loss: 2.3399 - val_acc: 0.1054\n",
      "Epoch 6/100\n",
      "48000/48000 [==============================] - 1s 16us/sample - loss: 2.2419 - acc: 0.1676 - val_loss: 2.3530 - val_acc: 0.1033\n",
      "Epoch 7/100\n",
      "48000/48000 [==============================] - 1s 15us/sample - loss: 2.2193 - acc: 0.1813 - val_loss: 2.3667 - val_acc: 0.1022\n",
      "Epoch 8/100\n",
      "48000/48000 [==============================] - 1s 15us/sample - loss: 2.1938 - acc: 0.1943 - val_loss: 2.3753 - val_acc: 0.1007\n",
      "Epoch 9/100\n",
      "48000/48000 [==============================] - 1s 15us/sample - loss: 2.1656 - acc: 0.2095 - val_loss: 2.3997 - val_acc: 0.1016\n",
      "Epoch 10/100\n",
      "48000/48000 [==============================] - 1s 14us/sample - loss: 2.1359 - acc: 0.2248 - val_loss: 2.4133 - val_acc: 0.1006\n",
      "Epoch 11/100\n",
      "48000/48000 [==============================] - 1s 15us/sample - loss: 2.1047 - acc: 0.2421 - val_loss: 2.4437 - val_acc: 0.0989\n",
      "Epoch 12/100\n",
      "48000/48000 [==============================] - 1s 15us/sample - loss: 2.0734 - acc: 0.2547 - val_loss: 2.4733 - val_acc: 0.1011\n",
      "Epoch 13/100\n",
      "48000/48000 [==============================] - 1s 14us/sample - loss: 2.0400 - acc: 0.2710 - val_loss: 2.4921 - val_acc: 0.1042\n",
      "Epoch 14/100\n",
      "48000/48000 [==============================] - 1s 15us/sample - loss: 2.0066 - acc: 0.2870 - val_loss: 2.5117 - val_acc: 0.0990\n",
      "Epoch 15/100\n",
      "48000/48000 [==============================] - 1s 15us/sample - loss: 1.9747 - acc: 0.3033 - val_loss: 2.5360 - val_acc: 0.0998\n",
      "Epoch 16/100\n",
      "48000/48000 [==============================] - 1s 14us/sample - loss: 1.9427 - acc: 0.3141 - val_loss: 2.5795 - val_acc: 0.1013\n",
      "Epoch 17/100\n",
      "48000/48000 [==============================] - 1s 14us/sample - loss: 1.9092 - acc: 0.3290 - val_loss: 2.5970 - val_acc: 0.1005\n",
      "Epoch 18/100\n",
      "48000/48000 [==============================] - 1s 14us/sample - loss: 1.8770 - acc: 0.3398 - val_loss: 2.6504 - val_acc: 0.0996\n",
      "Epoch 19/100\n",
      "48000/48000 [==============================] - 1s 15us/sample - loss: 1.8458 - acc: 0.3531 - val_loss: 2.6677 - val_acc: 0.1013\n",
      "Epoch 20/100\n",
      "48000/48000 [==============================] - 1s 16us/sample - loss: 1.8167 - acc: 0.3634 - val_loss: 2.7143 - val_acc: 0.0972\n",
      "Epoch 21/100\n",
      "48000/48000 [==============================] - 1s 15us/sample - loss: 1.7854 - acc: 0.3753 - val_loss: 2.7362 - val_acc: 0.1018\n",
      "Epoch 22/100\n",
      "48000/48000 [==============================] - 1s 15us/sample - loss: 1.7554 - acc: 0.3881 - val_loss: 2.7735 - val_acc: 0.1053\n",
      "Epoch 23/100\n",
      "48000/48000 [==============================] - 1s 15us/sample - loss: 1.7260 - acc: 0.3995 - val_loss: 2.7997 - val_acc: 0.0995\n",
      "Epoch 24/100\n",
      "48000/48000 [==============================] - 1s 13us/sample - loss: 1.6979 - acc: 0.4118 - val_loss: 2.8513 - val_acc: 0.1028\n",
      "Epoch 25/100\n",
      "48000/48000 [==============================] - 1s 13us/sample - loss: 1.6705 - acc: 0.4218 - val_loss: 2.8762 - val_acc: 0.1025\n",
      "Epoch 26/100\n",
      "48000/48000 [==============================] - 1s 14us/sample - loss: 1.6412 - acc: 0.4338 - val_loss: 2.9189 - val_acc: 0.1037\n",
      "Epoch 27/100\n",
      "48000/48000 [==============================] - 1s 13us/sample - loss: 1.6158 - acc: 0.4416 - val_loss: 2.9539 - val_acc: 0.0998\n",
      "Epoch 28/100\n",
      "48000/48000 [==============================] - 1s 14us/sample - loss: 1.5886 - acc: 0.4504 - val_loss: 3.0252 - val_acc: 0.1009\n",
      "Epoch 29/100\n",
      "48000/48000 [==============================] - 1s 14us/sample - loss: 1.5643 - acc: 0.4614 - val_loss: 3.0448 - val_acc: 0.1023\n",
      "Epoch 30/100\n",
      "48000/48000 [==============================] - 1s 14us/sample - loss: 1.5396 - acc: 0.4680 - val_loss: 3.1005 - val_acc: 0.1057\n",
      "Epoch 31/100\n",
      "48000/48000 [==============================] - 1s 14us/sample - loss: 1.5144 - acc: 0.4800 - val_loss: 3.1298 - val_acc: 0.1010\n",
      "Epoch 32/100\n",
      "48000/48000 [==============================] - 1s 15us/sample - loss: 1.4896 - acc: 0.4900 - val_loss: 3.1752 - val_acc: 0.0993\n",
      "Epoch 33/100\n",
      "48000/48000 [==============================] - 1s 14us/sample - loss: 1.4667 - acc: 0.4962 - val_loss: 3.2089 - val_acc: 0.0992\n",
      "Epoch 34/100\n",
      "48000/48000 [==============================] - 1s 14us/sample - loss: 1.4439 - acc: 0.5067 - val_loss: 3.2718 - val_acc: 0.0988\n",
      "Epoch 35/100\n",
      "48000/48000 [==============================] - 1s 15us/sample - loss: 1.4210 - acc: 0.5126 - val_loss: 3.2987 - val_acc: 0.0985\n",
      "Epoch 36/100\n",
      "48000/48000 [==============================] - 1s 13us/sample - loss: 1.3987 - acc: 0.5209 - val_loss: 3.3641 - val_acc: 0.1006\n",
      "Epoch 37/100\n",
      "48000/48000 [==============================] - 1s 14us/sample - loss: 1.3771 - acc: 0.5308 - val_loss: 3.3740 - val_acc: 0.1013\n",
      "Epoch 38/100\n",
      "48000/48000 [==============================] - 1s 14us/sample - loss: 1.3547 - acc: 0.5380 - val_loss: 3.4296 - val_acc: 0.1024\n",
      "Epoch 39/100\n",
      "48000/48000 [==============================] - 1s 13us/sample - loss: 1.3356 - acc: 0.5461 - val_loss: 3.4834 - val_acc: 0.1011\n",
      "Epoch 40/100\n",
      "48000/48000 [==============================] - 1s 13us/sample - loss: 1.3151 - acc: 0.5549 - val_loss: 3.5465 - val_acc: 0.0986\n",
      "Epoch 41/100\n",
      "48000/48000 [==============================] - 1s 14us/sample - loss: 1.2935 - acc: 0.5605 - val_loss: 3.5596 - val_acc: 0.0988\n",
      "Epoch 42/100\n",
      "48000/48000 [==============================] - 1s 13us/sample - loss: 1.2776 - acc: 0.5659 - val_loss: 3.6259 - val_acc: 0.0975\n",
      "Epoch 43/100\n",
      "48000/48000 [==============================] - 1s 13us/sample - loss: 1.2557 - acc: 0.5736 - val_loss: 3.6853 - val_acc: 0.0973\n",
      "Epoch 44/100\n",
      "48000/48000 [==============================] - 1s 14us/sample - loss: 1.2380 - acc: 0.5825 - val_loss: 3.7216 - val_acc: 0.1002\n",
      "Epoch 45/100\n",
      "48000/48000 [==============================] - 1s 13us/sample - loss: 1.2207 - acc: 0.5869 - val_loss: 3.7734 - val_acc: 0.1004\n",
      "Epoch 46/100\n",
      "48000/48000 [==============================] - 1s 13us/sample - loss: 1.2025 - acc: 0.5938 - val_loss: 3.8385 - val_acc: 0.1046\n",
      "Epoch 47/100\n",
      "48000/48000 [==============================] - 1s 14us/sample - loss: 1.1830 - acc: 0.6015 - val_loss: 3.8891 - val_acc: 0.1026\n",
      "Epoch 48/100\n",
      "48000/48000 [==============================] - 1s 13us/sample - loss: 1.1678 - acc: 0.6072 - val_loss: 3.9232 - val_acc: 0.0988\n",
      "Epoch 49/100\n",
      "48000/48000 [==============================] - 1s 13us/sample - loss: 1.1471 - acc: 0.6133 - val_loss: 3.9563 - val_acc: 0.1005\n",
      "Epoch 50/100\n",
      "48000/48000 [==============================] - 1s 14us/sample - loss: 1.1311 - acc: 0.6186 - val_loss: 3.9999 - val_acc: 0.1024\n",
      "Epoch 51/100\n",
      "48000/48000 [==============================] - 1s 13us/sample - loss: 1.1154 - acc: 0.6246 - val_loss: 4.0838 - val_acc: 0.1013\n",
      "Epoch 52/100\n",
      "48000/48000 [==============================] - 1s 13us/sample - loss: 1.1012 - acc: 0.6299 - val_loss: 4.1322 - val_acc: 0.0990\n",
      "Epoch 53/100\n",
      "48000/48000 [==============================] - 1s 13us/sample - loss: 1.0839 - acc: 0.6353 - val_loss: 4.1844 - val_acc: 0.1013\n",
      "Epoch 54/100\n",
      "48000/48000 [==============================] - 1s 15us/sample - loss: 1.0690 - acc: 0.6425 - val_loss: 4.2066 - val_acc: 0.1005\n",
      "Epoch 55/100\n",
      "48000/48000 [==============================] - 1s 13us/sample - loss: 1.0514 - acc: 0.6477 - val_loss: 4.2778 - val_acc: 0.0976\n",
      "Epoch 56/100\n",
      "48000/48000 [==============================] - 1s 13us/sample - loss: 1.0402 - acc: 0.6526 - val_loss: 4.3231 - val_acc: 0.1000\n",
      "Epoch 57/100\n",
      "48000/48000 [==============================] - 1s 13us/sample - loss: 1.0253 - acc: 0.6570 - val_loss: 4.3781 - val_acc: 0.1013\n",
      "Epoch 58/100\n",
      "48000/48000 [==============================] - 1s 14us/sample - loss: 1.0105 - acc: 0.6632 - val_loss: 4.4468 - val_acc: 0.1011\n",
      "Epoch 59/100\n",
      "48000/48000 [==============================] - 1s 14us/sample - loss: 0.9953 - acc: 0.6656 - val_loss: 4.4515 - val_acc: 0.1005\n",
      "Epoch 60/100\n",
      "48000/48000 [==============================] - 1s 15us/sample - loss: 0.9809 - acc: 0.6726 - val_loss: 4.5141 - val_acc: 0.1008\n",
      "Epoch 61/100\n",
      "48000/48000 [==============================] - 1s 15us/sample - loss: 0.9685 - acc: 0.6778 - val_loss: 4.5856 - val_acc: 0.1000\n",
      "Epoch 62/100\n",
      "48000/48000 [==============================] - 1s 14us/sample - loss: 0.9543 - acc: 0.6827 - val_loss: 4.6341 - val_acc: 0.0966\n",
      "Epoch 63/100\n",
      "48000/48000 [==============================] - 1s 13us/sample - loss: 0.9440 - acc: 0.6845 - val_loss: 4.6866 - val_acc: 0.1004\n",
      "Epoch 64/100\n",
      "48000/48000 [==============================] - 1s 14us/sample - loss: 0.9281 - acc: 0.6905 - val_loss: 4.7180 - val_acc: 0.0972\n",
      "Epoch 65/100\n",
      "48000/48000 [==============================] - 1s 14us/sample - loss: 0.9146 - acc: 0.6957 - val_loss: 4.7641 - val_acc: 0.1005\n",
      "Epoch 66/100\n",
      "48000/48000 [==============================] - 1s 14us/sample - loss: 0.9031 - acc: 0.7012 - val_loss: 4.8367 - val_acc: 0.0992\n",
      "Epoch 67/100\n",
      "48000/48000 [==============================] - 1s 15us/sample - loss: 0.8915 - acc: 0.7036 - val_loss: 4.8877 - val_acc: 0.1015\n",
      "Epoch 68/100\n",
      "48000/48000 [==============================] - 1s 14us/sample - loss: 0.8790 - acc: 0.7089 - val_loss: 4.9415 - val_acc: 0.0982\n",
      "Epoch 69/100\n",
      "48000/48000 [==============================] - 1s 14us/sample - loss: 0.8686 - acc: 0.7110 - val_loss: 4.9817 - val_acc: 0.0979\n",
      "Epoch 70/100\n",
      "48000/48000 [==============================] - 1s 14us/sample - loss: 0.8563 - acc: 0.7150 - val_loss: 5.0499 - val_acc: 0.0992\n",
      "Epoch 71/100\n",
      "48000/48000 [==============================] - 1s 14us/sample - loss: 0.8453 - acc: 0.7218 - val_loss: 5.1044 - val_acc: 0.0968\n",
      "Epoch 72/100\n",
      "48000/48000 [==============================] - 1s 13us/sample - loss: 0.8332 - acc: 0.7255 - val_loss: 5.1280 - val_acc: 0.0996\n",
      "Epoch 73/100\n",
      "48000/48000 [==============================] - 1s 13us/sample - loss: 0.8215 - acc: 0.7287 - val_loss: 5.2235 - val_acc: 0.0971\n",
      "Epoch 74/100\n",
      "48000/48000 [==============================] - 1s 15us/sample - loss: 0.8114 - acc: 0.7312 - val_loss: 5.2920 - val_acc: 0.0997\n",
      "Epoch 75/100\n",
      "48000/48000 [==============================] - 1s 13us/sample - loss: 0.8026 - acc: 0.7344 - val_loss: 5.2784 - val_acc: 0.0996\n",
      "Epoch 76/100\n",
      "48000/48000 [==============================] - 1s 14us/sample - loss: 0.7894 - acc: 0.7408 - val_loss: 5.3462 - val_acc: 0.0988\n",
      "Epoch 77/100\n",
      "48000/48000 [==============================] - 1s 14us/sample - loss: 0.7804 - acc: 0.7426 - val_loss: 5.4117 - val_acc: 0.0991\n",
      "Epoch 78/100\n",
      "48000/48000 [==============================] - 1s 13us/sample - loss: 0.7683 - acc: 0.7460 - val_loss: 5.4460 - val_acc: 0.1002\n",
      "Epoch 79/100\n",
      "48000/48000 [==============================] - 1s 13us/sample - loss: 0.7586 - acc: 0.7491 - val_loss: 5.5116 - val_acc: 0.0990\n",
      "Epoch 80/100\n",
      "48000/48000 [==============================] - 1s 14us/sample - loss: 0.7477 - acc: 0.7527 - val_loss: 5.5701 - val_acc: 0.0998\n",
      "Epoch 81/100\n",
      "48000/48000 [==============================] - 1s 13us/sample - loss: 0.7401 - acc: 0.7557 - val_loss: 5.6189 - val_acc: 0.0970\n",
      "Epoch 82/100\n",
      "48000/48000 [==============================] - 1s 13us/sample - loss: 0.7293 - acc: 0.7591 - val_loss: 5.6406 - val_acc: 0.0985\n",
      "Epoch 83/100\n",
      "48000/48000 [==============================] - 1s 15us/sample - loss: 0.7200 - acc: 0.7629 - val_loss: 5.6906 - val_acc: 0.0962\n",
      "Epoch 84/100\n",
      "48000/48000 [==============================] - 1s 13us/sample - loss: 0.7113 - acc: 0.7660 - val_loss: 5.7724 - val_acc: 0.0979\n",
      "Epoch 85/100\n",
      "48000/48000 [==============================] - 1s 13us/sample - loss: 0.7008 - acc: 0.7691 - val_loss: 5.8067 - val_acc: 0.0990\n",
      "Epoch 86/100\n",
      "48000/48000 [==============================] - 1s 13us/sample - loss: 0.6921 - acc: 0.7727 - val_loss: 5.8444 - val_acc: 0.1015\n",
      "Epoch 87/100\n",
      "48000/48000 [==============================] - 1s 14us/sample - loss: 0.6851 - acc: 0.7765 - val_loss: 5.8970 - val_acc: 0.1018\n",
      "Epoch 88/100\n",
      "48000/48000 [==============================] - 1s 13us/sample - loss: 0.6749 - acc: 0.7789 - val_loss: 5.9114 - val_acc: 0.1034\n",
      "Epoch 89/100\n",
      "48000/48000 [==============================] - 1s 14us/sample - loss: 0.6657 - acc: 0.7819 - val_loss: 5.9671 - val_acc: 0.0976\n",
      "Epoch 90/100\n",
      "48000/48000 [==============================] - 1s 14us/sample - loss: 0.6576 - acc: 0.7862 - val_loss: 6.0620 - val_acc: 0.0992\n",
      "Epoch 91/100\n",
      "48000/48000 [==============================] - 1s 13us/sample - loss: 0.6513 - acc: 0.7876 - val_loss: 6.0919 - val_acc: 0.0992\n",
      "Epoch 92/100\n",
      "48000/48000 [==============================] - 1s 13us/sample - loss: 0.6419 - acc: 0.7913 - val_loss: 6.1466 - val_acc: 0.1023\n",
      "Epoch 93/100\n",
      "48000/48000 [==============================] - 1s 14us/sample - loss: 0.6337 - acc: 0.7926 - val_loss: 6.1704 - val_acc: 0.1006\n",
      "Epoch 94/100\n",
      "48000/48000 [==============================] - 1s 13us/sample - loss: 0.6227 - acc: 0.7972 - val_loss: 6.2319 - val_acc: 0.0989\n",
      "Epoch 95/100\n",
      "48000/48000 [==============================] - 1s 13us/sample - loss: 0.6172 - acc: 0.7998 - val_loss: 6.2978 - val_acc: 0.0993\n",
      "Epoch 96/100\n",
      "48000/48000 [==============================] - 1s 14us/sample - loss: 0.6071 - acc: 0.8019 - val_loss: 6.3225 - val_acc: 0.1014\n",
      "Epoch 97/100\n",
      "48000/48000 [==============================] - 1s 13us/sample - loss: 0.6019 - acc: 0.8048 - val_loss: 6.4081 - val_acc: 0.0993\n",
      "Epoch 98/100\n",
      "48000/48000 [==============================] - 1s 14us/sample - loss: 0.5929 - acc: 0.8077 - val_loss: 6.4487 - val_acc: 0.1007\n",
      "Epoch 99/100\n",
      "48000/48000 [==============================] - 1s 14us/sample - loss: 0.5876 - acc: 0.8091 - val_loss: 6.4632 - val_acc: 0.0987\n",
      "Epoch 100/100\n",
      "48000/48000 [==============================] - 1s 13us/sample - loss: 0.5802 - acc: 0.8124 - val_loss: 6.5029 - val_acc: 0.0998\n"
     ]
    },
    {
     "data": {
      "text/plain": [
       "<tensorflow.python.keras.callbacks.History at 0x2c3d3f0e288>"
      ]
     },
     "execution_count": 5,
     "metadata": {},
     "output_type": "execute_result"
    }
   ],
   "source": [
    "(train_images, train_labels), _ = mnist.load_data()\n",
    "train_images = train_images.reshape((60000, 28 * 28))\n",
    "train_images = train_images.astype(\"float32\") / 255\n",
    "\n",
    "random_train_labels = train_labels[:]\n",
    "np.random.shuffle(random_train_labels)\n",
    "\n",
    "model = keras.Sequential([\n",
    "    layers.Dense(512, activation=\"relu\"),\n",
    "    layers.Dense(10, activation=\"softmax\")\n",
    "])\n",
    "\n",
    "#print(dir(model))\n",
    "\n",
    "model.compile(optimizer=\"rmsprop\",\n",
    "              loss=\"sparse_categorical_crossentropy\",\n",
    "              metrics=[\"accuracy\"])\n",
    "model.fit(train_images, random_train_labels,\n",
    "          epochs=100,\n",
    "          batch_size=128,\n",
    "          validation_split=0.2)"
   ]
  },
  {
   "cell_type": "markdown",
   "metadata": {
    "colab_type": "text"
   },
   "source": [
    "#### The manifold hypothesis"
   ]
  },
  {
   "cell_type": "markdown",
   "metadata": {
    "colab_type": "text"
   },
   "source": [
    "#### Interpolation as a source of generalization"
   ]
  },
  {
   "cell_type": "markdown",
   "metadata": {
    "colab_type": "text"
   },
   "source": [
    "#### Why deep learning works"
   ]
  },
  {
   "cell_type": "markdown",
   "metadata": {
    "colab_type": "text"
   },
   "source": [
    "#### Training data is paramount"
   ]
  },
  {
   "cell_type": "markdown",
   "metadata": {
    "colab_type": "text"
   },
   "source": [
    "## Evaluating machine-learning models"
   ]
  },
  {
   "cell_type": "markdown",
   "metadata": {
    "colab_type": "text"
   },
   "source": [
    "### Training, validation, and test sets"
   ]
  },
  {
   "cell_type": "markdown",
   "metadata": {
    "colab_type": "text"
   },
   "source": [
    "#### Simple hold-out validation"
   ]
  },
  {
   "cell_type": "markdown",
   "metadata": {
    "colab_type": "text"
   },
   "source": [
    "#### K-fold validation"
   ]
  },
  {
   "cell_type": "markdown",
   "metadata": {
    "colab_type": "text"
   },
   "source": [
    "#### Iterated K-fold validation with shuffling"
   ]
  },
  {
   "cell_type": "markdown",
   "metadata": {
    "colab_type": "text"
   },
   "source": [
    "### Beating a common-sense baseline"
   ]
  },
  {
   "cell_type": "markdown",
   "metadata": {
    "colab_type": "text"
   },
   "source": [
    "### Things to keep in mind about model evaluation"
   ]
  },
  {
   "cell_type": "markdown",
   "metadata": {
    "colab_type": "text"
   },
   "source": [
    "## Improving model fit"
   ]
  },
  {
   "cell_type": "markdown",
   "metadata": {
    "colab_type": "text"
   },
   "source": [
    "### Tuning key gradient descent parameters"
   ]
  },
  {
   "cell_type": "markdown",
   "metadata": {
    "colab_type": "text"
   },
   "source": [
    "**Training a MNIST model with an incorrectly high learning rate**"
   ]
  },
  {
   "cell_type": "code",
   "execution_count": 5,
   "metadata": {
    "colab_type": "code"
   },
   "outputs": [
    {
     "name": "stdout",
     "output_type": "stream",
     "text": [
      "Train on 48000 samples, validate on 12000 samples\n",
      "Epoch 1/10\n",
      "48000/48000 [==============================] - 1s 16us/sample - loss: 14.4310 - acc: 0.1026 - val_loss: 14.4499 - val_acc: 0.1035\n",
      "Epoch 2/10\n",
      "48000/48000 [==============================] - 1s 13us/sample - loss: 14.4764 - acc: 0.1019 - val_loss: 14.4499 - val_acc: 0.1035\n",
      "Epoch 3/10\n",
      "48000/48000 [==============================] - 1s 14us/sample - loss: 14.4764 - acc: 0.1019 - val_loss: 14.4499 - val_acc: 0.1035\n",
      "Epoch 4/10\n",
      "48000/48000 [==============================] - 1s 14us/sample - loss: 14.4764 - acc: 0.1019 - val_loss: 14.4499 - val_acc: 0.1035\n",
      "Epoch 5/10\n",
      "48000/48000 [==============================] - 1s 13us/sample - loss: 14.4764 - acc: 0.1019 - val_loss: 14.4499 - val_acc: 0.1035\n",
      "Epoch 6/10\n",
      "48000/48000 [==============================] - 1s 13us/sample - loss: 14.4764 - acc: 0.1019 - val_loss: 14.4499 - val_acc: 0.1035\n",
      "Epoch 7/10\n",
      "48000/48000 [==============================] - 1s 13us/sample - loss: 14.4764 - acc: 0.1019 - val_loss: 14.4499 - val_acc: 0.1035\n",
      "Epoch 8/10\n",
      "48000/48000 [==============================] - 1s 13us/sample - loss: 14.4764 - acc: 0.1019 - val_loss: 14.4499 - val_acc: 0.1035\n",
      "Epoch 9/10\n",
      "48000/48000 [==============================] - 1s 13us/sample - loss: 14.4764 - acc: 0.1019 - val_loss: 14.4499 - val_acc: 0.1035\n",
      "Epoch 10/10\n",
      "48000/48000 [==============================] - 1s 14us/sample - loss: 14.4764 - acc: 0.1019 - val_loss: 14.4499 - val_acc: 0.1035\n"
     ]
    },
    {
     "data": {
      "text/plain": [
       "<tensorflow.python.keras.callbacks.History at 0x2588ca3f988>"
      ]
     },
     "execution_count": 5,
     "metadata": {},
     "output_type": "execute_result"
    }
   ],
   "source": [
    "(train_images, train_labels), _ = mnist.load_data()\n",
    "train_images = train_images.reshape((60000, 28 * 28))\n",
    "train_images = train_images.astype(\"float32\") / 255\n",
    "\n",
    "model = keras.Sequential([\n",
    "    layers.Dense(512, activation=\"relu\"),\n",
    "    layers.Dense(10, activation=\"softmax\")\n",
    "])\n",
    "model.compile(optimizer=keras.optimizers.RMSprop(1.),\n",
    "              loss=\"sparse_categorical_crossentropy\",\n",
    "              metrics=[\"accuracy\"])\n",
    "model.fit(train_images, train_labels,\n",
    "          epochs=10,\n",
    "          batch_size=128,\n",
    "          validation_split=0.2)"
   ]
  },
  {
   "cell_type": "markdown",
   "metadata": {
    "colab_type": "text"
   },
   "source": [
    "**The same model with a more appropriate learning rate**"
   ]
  },
  {
   "cell_type": "code",
   "execution_count": 6,
   "metadata": {
    "colab_type": "code"
   },
   "outputs": [
    {
     "name": "stdout",
     "output_type": "stream",
     "text": [
      "Train on 48000 samples, validate on 12000 samples\n",
      "Epoch 1/10\n",
      "48000/48000 [==============================] - 1s 15us/sample - loss: 0.4411 - acc: 0.9067 - val_loss: 0.1829 - val_acc: 0.9506\n",
      "Epoch 2/10\n",
      "48000/48000 [==============================] - 1s 13us/sample - loss: 0.1463 - acc: 0.9639 - val_loss: 0.1659 - val_acc: 0.9643\n",
      "Epoch 3/10\n",
      "48000/48000 [==============================] - 1s 13us/sample - loss: 0.1172 - acc: 0.9729 - val_loss: 0.1542 - val_acc: 0.9700\n",
      "Epoch 4/10\n",
      "48000/48000 [==============================] - 1s 13us/sample - loss: 0.1020 - acc: 0.9780 - val_loss: 0.2199 - val_acc: 0.9625\n",
      "Epoch 5/10\n",
      "48000/48000 [==============================] - 1s 12us/sample - loss: 0.0909 - acc: 0.9812 - val_loss: 0.2030 - val_acc: 0.9677\n",
      "Epoch 6/10\n",
      "48000/48000 [==============================] - 1s 12us/sample - loss: 0.0860 - acc: 0.9837 - val_loss: 0.2244 - val_acc: 0.9693\n",
      "Epoch 7/10\n",
      "48000/48000 [==============================] - 1s 12us/sample - loss: 0.0867 - acc: 0.9850 - val_loss: 0.2260 - val_acc: 0.9735\n",
      "Epoch 8/10\n",
      "48000/48000 [==============================] - 1s 13us/sample - loss: 0.0776 - acc: 0.9868 - val_loss: 0.2200 - val_acc: 0.9743\n",
      "Epoch 9/10\n",
      "48000/48000 [==============================] - 1s 13us/sample - loss: 0.0797 - acc: 0.9873 - val_loss: 0.2216 - val_acc: 0.9734\n",
      "Epoch 10/10\n",
      "48000/48000 [==============================] - 1s 12us/sample - loss: 0.0697 - acc: 0.9890 - val_loss: 0.2156 - val_acc: 0.9744\n"
     ]
    },
    {
     "data": {
      "text/plain": [
       "<tensorflow.python.keras.callbacks.History at 0x2588cdded88>"
      ]
     },
     "execution_count": 6,
     "metadata": {},
     "output_type": "execute_result"
    }
   ],
   "source": [
    "model = keras.Sequential([\n",
    "    layers.Dense(512, activation=\"relu\"),\n",
    "    layers.Dense(10, activation=\"softmax\")\n",
    "])\n",
    "model.compile(optimizer=keras.optimizers.RMSprop(1e-2),\n",
    "              loss=\"sparse_categorical_crossentropy\",\n",
    "              metrics=[\"accuracy\"])\n",
    "model.fit(train_images, train_labels,\n",
    "          epochs=10,\n",
    "          batch_size=128,\n",
    "          validation_split=0.2)"
   ]
  },
  {
   "cell_type": "markdown",
   "metadata": {
    "colab_type": "text"
   },
   "source": [
    "### Leveraging better architecture priors"
   ]
  },
  {
   "cell_type": "markdown",
   "metadata": {
    "colab_type": "text"
   },
   "source": [
    "### Increasing model capacity"
   ]
  },
  {
   "cell_type": "markdown",
   "metadata": {
    "colab_type": "text"
   },
   "source": [
    "**A simple logistic regression on MNIST**"
   ]
  },
  {
   "cell_type": "code",
   "execution_count": 7,
   "metadata": {
    "colab_type": "code"
   },
   "outputs": [
    {
     "name": "stdout",
     "output_type": "stream",
     "text": [
      "Train on 48000 samples, validate on 12000 samples\n",
      "Epoch 1/20\n",
      "48000/48000 [==============================] - 1s 13us/sample - loss: 0.6735 - acc: 0.8324 - val_loss: 0.3594 - val_acc: 0.9047\n",
      "Epoch 2/20\n",
      "48000/48000 [==============================] - 1s 12us/sample - loss: 0.3514 - acc: 0.9030 - val_loss: 0.3083 - val_acc: 0.9144\n",
      "Epoch 3/20\n",
      "48000/48000 [==============================] - 1s 12us/sample - loss: 0.3154 - acc: 0.9125 - val_loss: 0.2935 - val_acc: 0.9181\n",
      "Epoch 4/20\n",
      "48000/48000 [==============================] - 1s 12us/sample - loss: 0.2995 - acc: 0.9164 - val_loss: 0.2827 - val_acc: 0.9208\n",
      "Epoch 5/20\n",
      "48000/48000 [==============================] - 1s 12us/sample - loss: 0.2898 - acc: 0.9185 - val_loss: 0.2766 - val_acc: 0.9241\n",
      "Epoch 6/20\n",
      "48000/48000 [==============================] - 1s 12us/sample - loss: 0.2831 - acc: 0.9209 - val_loss: 0.2729 - val_acc: 0.9253\n",
      "Epoch 7/20\n",
      "48000/48000 [==============================] - 1s 12us/sample - loss: 0.2780 - acc: 0.9224 - val_loss: 0.2710 - val_acc: 0.9257\n",
      "Epoch 8/20\n",
      "48000/48000 [==============================] - 1s 12us/sample - loss: 0.2742 - acc: 0.9234 - val_loss: 0.2683 - val_acc: 0.9275\n",
      "Epoch 9/20\n",
      "48000/48000 [==============================] - 1s 12us/sample - loss: 0.2710 - acc: 0.9235 - val_loss: 0.2666 - val_acc: 0.9271\n",
      "Epoch 10/20\n",
      "48000/48000 [==============================] - 1s 12us/sample - loss: 0.2687 - acc: 0.9256 - val_loss: 0.2653 - val_acc: 0.9281\n",
      "Epoch 11/20\n",
      "48000/48000 [==============================] - 1s 12us/sample - loss: 0.2663 - acc: 0.9261 - val_loss: 0.2632 - val_acc: 0.9296\n",
      "Epoch 12/20\n",
      "48000/48000 [==============================] - 1s 12us/sample - loss: 0.2645 - acc: 0.9266 - val_loss: 0.2644 - val_acc: 0.9297\n",
      "Epoch 13/20\n",
      "48000/48000 [==============================] - 1s 12us/sample - loss: 0.2629 - acc: 0.9280 - val_loss: 0.2622 - val_acc: 0.9304\n",
      "Epoch 14/20\n",
      "48000/48000 [==============================] - 1s 13us/sample - loss: 0.2614 - acc: 0.9280 - val_loss: 0.2614 - val_acc: 0.9306\n",
      "Epoch 15/20\n",
      "48000/48000 [==============================] - 1s 12us/sample - loss: 0.2601 - acc: 0.9281 - val_loss: 0.2630 - val_acc: 0.9308\n",
      "Epoch 16/20\n",
      "48000/48000 [==============================] - 1s 12us/sample - loss: 0.2588 - acc: 0.9287 - val_loss: 0.2626 - val_acc: 0.9303\n",
      "Epoch 17/20\n",
      "48000/48000 [==============================] - 1s 12us/sample - loss: 0.2578 - acc: 0.9289 - val_loss: 0.2644 - val_acc: 0.9295\n",
      "Epoch 18/20\n",
      "48000/48000 [==============================] - 1s 12us/sample - loss: 0.2570 - acc: 0.9293 - val_loss: 0.2620 - val_acc: 0.9308\n",
      "Epoch 19/20\n",
      "48000/48000 [==============================] - 1s 12us/sample - loss: 0.2561 - acc: 0.9298 - val_loss: 0.2610 - val_acc: 0.9306\n",
      "Epoch 20/20\n",
      "48000/48000 [==============================] - 1s 12us/sample - loss: 0.2549 - acc: 0.9303 - val_loss: 0.2620 - val_acc: 0.9305\n"
     ]
    }
   ],
   "source": [
    "model = keras.Sequential([layers.Dense(10, activation=\"softmax\")])\n",
    "model.compile(optimizer=\"rmsprop\",\n",
    "              loss=\"sparse_categorical_crossentropy\",\n",
    "              metrics=[\"accuracy\"])\n",
    "history_small_model = model.fit(\n",
    "    train_images, train_labels,\n",
    "    epochs=20,\n",
    "    batch_size=128,\n",
    "    validation_split=0.2)"
   ]
  },
  {
   "cell_type": "code",
   "execution_count": 8,
   "metadata": {
    "colab_type": "code"
   },
   "outputs": [
    {
     "data": {
      "text/plain": [
       "<matplotlib.legend.Legend at 0x2588e0cc688>"
      ]
     },
     "execution_count": 8,
     "metadata": {},
     "output_type": "execute_result"
    },
    {
     "data": {
      "image/png": "[encoded data removed]",
      "text/plain": [
       "<Figure size 640x480 with 1 Axes>"
      ]
     },
     "metadata": {},
     "output_type": "display_data"
    }
   ],
   "source": [
    "import matplotlib.pyplot as plt\n",
    "val_loss = history_small_model.history[\"val_loss\"]\n",
    "epochs = range(1, 21)\n",
    "plt.plot(epochs, val_loss, \"b--\",\n",
    "         label=\"Validation loss\")\n",
    "plt.title(\"Effect of insufficient model capacity on validation loss\")\n",
    "plt.xlabel(\"Epochs\")\n",
    "plt.ylabel(\"Loss\")\n",
    "plt.legend()"
   ]
  },
  {
   "cell_type": "code",
   "execution_count": 9,
   "metadata": {
    "colab_type": "code"
   },
   "outputs": [
    {
     "name": "stdout",
     "output_type": "stream",
     "text": [
      "Train on 48000 samples, validate on 12000 samples\n",
      "Epoch 1/20\n",
      "48000/48000 [==============================] - 1s 20us/sample - loss: 0.3511 - acc: 0.8995 - val_loss: 0.1829 - val_acc: 0.9485\n",
      "Epoch 2/20\n",
      "48000/48000 [==============================] - 1s 15us/sample - loss: 0.1566 - acc: 0.9532 - val_loss: 0.1330 - val_acc: 0.9611\n",
      "Epoch 3/20\n",
      "48000/48000 [==============================] - 1s 14us/sample - loss: 0.1098 - acc: 0.9676 - val_loss: 0.1129 - val_acc: 0.9681\n",
      "Epoch 4/20\n",
      "48000/48000 [==============================] - 1s 14us/sample - loss: 0.0845 - acc: 0.9745 - val_loss: 0.1071 - val_acc: 0.9688\n",
      "Epoch 5/20\n",
      "48000/48000 [==============================] - 1s 14us/sample - loss: 0.0674 - acc: 0.9797 - val_loss: 0.1034 - val_acc: 0.9711\n",
      "Epoch 6/20\n",
      "48000/48000 [==============================] - 1s 14us/sample - loss: 0.0561 - acc: 0.9827 - val_loss: 0.0915 - val_acc: 0.9738\n",
      "Epoch 7/20\n",
      "48000/48000 [==============================] - 1s 14us/sample - loss: 0.0463 - acc: 0.9854 - val_loss: 0.0927 - val_acc: 0.9750\n",
      "Epoch 8/20\n",
      "48000/48000 [==============================] - 1s 14us/sample - loss: 0.0388 - acc: 0.9885 - val_loss: 0.0983 - val_acc: 0.9733\n",
      "Epoch 9/20\n",
      "48000/48000 [==============================] - 1s 13us/sample - loss: 0.0322 - acc: 0.9905 - val_loss: 0.1014 - val_acc: 0.9721\n",
      "Epoch 10/20\n",
      "48000/48000 [==============================] - 1s 14us/sample - loss: 0.0275 - acc: 0.9915 - val_loss: 0.1140 - val_acc: 0.9712\n",
      "Epoch 11/20\n",
      "48000/48000 [==============================] - 1s 14us/sample - loss: 0.0223 - acc: 0.9931 - val_loss: 0.0958 - val_acc: 0.9772\n",
      "Epoch 12/20\n",
      "48000/48000 [==============================] - 1s 14us/sample - loss: 0.0191 - acc: 0.9939 - val_loss: 0.1081 - val_acc: 0.9726\n",
      "Epoch 13/20\n",
      "48000/48000 [==============================] - 1s 13us/sample - loss: 0.0156 - acc: 0.9952 - val_loss: 0.1154 - val_acc: 0.9739\n",
      "Epoch 14/20\n",
      "48000/48000 [==============================] - 1s 13us/sample - loss: 0.0132 - acc: 0.9957 - val_loss: 0.1208 - val_acc: 0.9740\n",
      "Epoch 15/20\n",
      "48000/48000 [==============================] - 1s 14us/sample - loss: 0.0119 - acc: 0.9961 - val_loss: 0.1236 - val_acc: 0.9728\n",
      "Epoch 16/20\n",
      "48000/48000 [==============================] - 1s 14us/sample - loss: 0.0096 - acc: 0.9970 - val_loss: 0.1183 - val_acc: 0.9767\n",
      "Epoch 17/20\n",
      "48000/48000 [==============================] - 1s 14us/sample - loss: 0.0087 - acc: 0.9973 - val_loss: 0.1276 - val_acc: 0.9762\n",
      "Epoch 18/20\n",
      "48000/48000 [==============================] - 1s 14us/sample - loss: 0.0079 - acc: 0.9974 - val_loss: 0.1208 - val_acc: 0.9772\n",
      "Epoch 19/20\n",
      "48000/48000 [==============================] - 1s 14us/sample - loss: 0.0064 - acc: 0.9980 - val_loss: 0.1287 - val_acc: 0.9773\n",
      "Epoch 20/20\n",
      "48000/48000 [==============================] - 1s 14us/sample - loss: 0.0061 - acc: 0.9981 - val_loss: 0.1447 - val_acc: 0.9733\n"
     ]
    }
   ],
   "source": [
    "model = keras.Sequential([\n",
    "    layers.Dense(96, activation=\"relu\"),\n",
    "    layers.Dense(96, activation=\"relu\"),\n",
    "    layers.Dense(10, activation=\"softmax\"),\n",
    "])\n",
    "model.compile(optimizer=\"rmsprop\",\n",
    "              loss=\"sparse_categorical_crossentropy\",\n",
    "              metrics=[\"accuracy\"])\n",
    "history_large_model = model.fit(\n",
    "    train_images, train_labels,\n",
    "    epochs=20,\n",
    "    batch_size=128,\n",
    "    validation_split=0.2)"
   ]
  },
  {
   "cell_type": "markdown",
   "metadata": {
    "colab_type": "text"
   },
   "source": [
    "## Improving generalization"
   ]
  },
  {
   "cell_type": "markdown",
   "metadata": {
    "colab_type": "text"
   },
   "source": [
    "### Dataset curation"
   ]
  },
  {
   "cell_type": "markdown",
   "metadata": {
    "colab_type": "text"
   },
   "source": [
    "### Feature engineering"
   ]
  },
  {
   "cell_type": "markdown",
   "metadata": {
    "colab_type": "text"
   },
   "source": [
    "### Using early stopping"
   ]
  },
  {
   "cell_type": "markdown",
   "metadata": {
    "colab_type": "text"
   },
   "source": [
    "### Regularizing your model"
   ]
  },
  {
   "cell_type": "markdown",
   "metadata": {
    "colab_type": "text"
   },
   "source": [
    "#### Reducing the network's size"
   ]
  },
  {
   "cell_type": "markdown",
   "metadata": {
    "colab_type": "text"
   },
   "source": [
    "**Original model**"
   ]
  },
  {
   "cell_type": "code",
   "execution_count": 10,
   "metadata": {
    "colab_type": "code"
   },
   "outputs": [
    {
     "name": "stderr",
     "output_type": "stream",
     "text": [
      "C:\\Users\\user\\anaconda3\\envs\\DL\\lib\\site-packages\\tensorflow\\python\\keras\\datasets\\imdb.py:128: VisibleDeprecationWarning: Creating an ndarray from ragged nested sequences (which is a list-or-tuple of lists-or-tuples-or ndarrays with different lengths or shapes) is deprecated. If you meant to do this, you must specify 'dtype=object' when creating the ndarray.\n",
      "  x_train, y_train = np.array(xs[:idx]), np.array(labels[:idx])\n",
      "C:\\Users\\user\\anaconda3\\envs\\DL\\lib\\site-packages\\tensorflow\\python\\keras\\datasets\\imdb.py:129: VisibleDeprecationWarning: Creating an ndarray from ragged nested sequences (which is a list-or-tuple of lists-or-tuples-or ndarrays with different lengths or shapes) is deprecated. If you meant to do this, you must specify 'dtype=object' when creating the ndarray.\n",
      "  x_test, y_test = np.array(xs[idx:]), np.array(labels[idx:])\n"
     ]
    },
    {
     "name": "stdout",
     "output_type": "stream",
     "text": [
      "Train on 15000 samples, validate on 10000 samples\n",
      "WARNING:tensorflow:From C:\\Users\\user\\anaconda3\\envs\\DL\\lib\\site-packages\\tensorflow\\python\\ops\\math_ops.py:3066: to_int32 (from tensorflow.python.ops.math_ops) is deprecated and will be removed in a future version.\n",
      "Instructions for updating:\n",
      "Use tf.cast instead.\n",
      "Epoch 1/20\n",
      "15000/15000 [==============================] - 2s 120us/sample - loss: 0.5075 - acc: 0.7809 - val_loss: 0.3902 - val_acc: 0.8521\n",
      "Epoch 2/20\n",
      "15000/15000 [==============================] - 1s 95us/sample - loss: 0.2979 - acc: 0.9038 - val_loss: 0.3091 - val_acc: 0.8806\n",
      "Epoch 3/20\n",
      "15000/15000 [==============================] - 1s 86us/sample - loss: 0.2188 - acc: 0.9297 - val_loss: 0.2816 - val_acc: 0.8867\n",
      "Epoch 4/20\n",
      "15000/15000 [==============================] - 1s 88us/sample - loss: 0.1711 - acc: 0.9443 - val_loss: 0.2984 - val_acc: 0.8804\n",
      "Epoch 5/20\n",
      "15000/15000 [==============================] - 1s 87us/sample - loss: 0.1372 - acc: 0.9561 - val_loss: 0.2952 - val_acc: 0.8861\n",
      "Epoch 6/20\n",
      "15000/15000 [==============================] - 1s 85us/sample - loss: 0.1123 - acc: 0.9647 - val_loss: 0.3469 - val_acc: 0.8718\n",
      "Epoch 7/20\n",
      "15000/15000 [==============================] - 1s 88us/sample - loss: 0.0926 - acc: 0.9735 - val_loss: 0.3329 - val_acc: 0.8804\n",
      "Epoch 8/20\n",
      "15000/15000 [==============================] - 1s 99us/sample - loss: 0.0782 - acc: 0.9775 - val_loss: 0.3397 - val_acc: 0.8836\n",
      "Epoch 9/20\n",
      "15000/15000 [==============================] - 1s 87us/sample - loss: 0.0637 - acc: 0.9826 - val_loss: 0.3647 - val_acc: 0.8803\n",
      "Epoch 10/20\n",
      "15000/15000 [==============================] - 1s 87us/sample - loss: 0.0513 - acc: 0.9864 - val_loss: 0.3938 - val_acc: 0.8773\n",
      "Epoch 11/20\n",
      "15000/15000 [==============================] - 1s 95us/sample - loss: 0.0431 - acc: 0.9892 - val_loss: 0.4272 - val_acc: 0.8734\n",
      "Epoch 12/20\n",
      "15000/15000 [==============================] - 1s 82us/sample - loss: 0.0359 - acc: 0.9920 - val_loss: 0.4577 - val_acc: 0.8747\n",
      "Epoch 13/20\n",
      "15000/15000 [==============================] - 1s 95us/sample - loss: 0.0262 - acc: 0.9945 - val_loss: 0.4860 - val_acc: 0.8728\n",
      "Epoch 14/20\n",
      "15000/15000 [==============================] - 1s 85us/sample - loss: 0.0220 - acc: 0.9950 - val_loss: 0.5200 - val_acc: 0.8712\n",
      "Epoch 15/20\n",
      "15000/15000 [==============================] - 1s 98us/sample - loss: 0.0159 - acc: 0.9977 - val_loss: 0.5599 - val_acc: 0.8692\n",
      "Epoch 16/20\n",
      "15000/15000 [==============================] - 1s 85us/sample - loss: 0.0133 - acc: 0.9982 - val_loss: 0.5820 - val_acc: 0.8681\n",
      "Epoch 17/20\n",
      "15000/15000 [==============================] - 1s 89us/sample - loss: 0.0142 - acc: 0.9969 - val_loss: 0.6123 - val_acc: 0.8675\n",
      "Epoch 18/20\n",
      "15000/15000 [==============================] - 1s 99us/sample - loss: 0.0061 - acc: 0.9996 - val_loss: 0.6451 - val_acc: 0.8662\n",
      "Epoch 19/20\n",
      "15000/15000 [==============================] - 1s 88us/sample - loss: 0.0105 - acc: 0.9977 - val_loss: 0.6780 - val_acc: 0.8652\n",
      "Epoch 20/20\n",
      "15000/15000 [==============================] - 1s 87us/sample - loss: 0.0036 - acc: 0.9996 - val_loss: 0.7054 - val_acc: 0.8633\n"
     ]
    }
   ],
   "source": [
    "from tensorflow.keras.datasets import imdb\n",
    "(train_data, train_labels), _ = imdb.load_data(num_words=10000)\n",
    "\n",
    "def vectorize_sequences(sequences, dimension=10000):\n",
    "    results = np.zeros((len(sequences), dimension))\n",
    "    for i, sequence in enumerate(sequences):\n",
    "        results[i, sequence] = 1.\n",
    "    return results\n",
    "train_data = vectorize_sequences(train_data)\n",
    "\n",
    "model = keras.Sequential([\n",
    "    layers.Dense(16, activation=\"relu\"),\n",
    "    layers.Dense(16, activation=\"relu\"),\n",
    "    layers.Dense(1, activation=\"sigmoid\")\n",
    "])\n",
    "model.compile(optimizer=\"rmsprop\",\n",
    "              loss=\"binary_crossentropy\",\n",
    "              metrics=[\"accuracy\"])\n",
    "history_original = model.fit(train_data, train_labels,\n",
    "                             epochs=20, batch_size=512, validation_split=0.4)"
   ]
  },
  {
   "cell_type": "markdown",
   "metadata": {
    "colab_type": "text"
   },
   "source": [
    "**Version of the model with lower capacity**"
   ]
  },
  {
   "cell_type": "code",
   "execution_count": 11,
   "metadata": {
    "colab_type": "code"
   },
   "outputs": [
    {
     "name": "stdout",
     "output_type": "stream",
     "text": [
      "Train on 15000 samples, validate on 10000 samples\n",
      "Epoch 1/20\n",
      "15000/15000 [==============================] - 2s 108us/sample - loss: 0.6223 - acc: 0.6323 - val_loss: 0.5756 - val_acc: 0.6643\n",
      "Epoch 2/20\n",
      "15000/15000 [==============================] - 1s 85us/sample - loss: 0.5297 - acc: 0.7720 - val_loss: 0.5346 - val_acc: 0.7389\n",
      "Epoch 3/20\n",
      "15000/15000 [==============================] - 1s 89us/sample - loss: 0.4794 - acc: 0.8505 - val_loss: 0.4989 - val_acc: 0.8408\n",
      "Epoch 4/20\n",
      "15000/15000 [==============================] - 1s 85us/sample - loss: 0.4436 - acc: 0.8873 - val_loss: 0.4901 - val_acc: 0.8258\n",
      "Epoch 5/20\n",
      "15000/15000 [==============================] - 1s 96us/sample - loss: 0.4159 - acc: 0.9110 - val_loss: 0.4699 - val_acc: 0.8654\n",
      "Epoch 6/20\n",
      "15000/15000 [==============================] - 1s 83us/sample - loss: 0.3926 - acc: 0.9279 - val_loss: 0.4613 - val_acc: 0.8702\n",
      "Epoch 7/20\n",
      "15000/15000 [==============================] - 1s 89us/sample - loss: 0.3714 - acc: 0.9424 - val_loss: 0.4692 - val_acc: 0.8528\n",
      "Epoch 8/20\n",
      "15000/15000 [==============================] - 1s 88us/sample - loss: 0.3510 - acc: 0.9519 - val_loss: 0.4509 - val_acc: 0.8737\n",
      "Epoch 9/20\n",
      "15000/15000 [==============================] - 1s 89us/sample - loss: 0.3330 - acc: 0.9619 - val_loss: 0.4464 - val_acc: 0.8722\n",
      "Epoch 10/20\n",
      "15000/15000 [==============================] - 1s 87us/sample - loss: 0.3167 - acc: 0.9687 - val_loss: 0.4588 - val_acc: 0.8652\n",
      "Epoch 11/20\n",
      "15000/15000 [==============================] - 1s 87us/sample - loss: 0.3008 - acc: 0.9745 - val_loss: 0.4561 - val_acc: 0.8668\n",
      "Epoch 12/20\n",
      "15000/15000 [==============================] - 1s 90us/sample - loss: 0.2849 - acc: 0.9785 - val_loss: 0.4746 - val_acc: 0.8602\n",
      "Epoch 13/20\n",
      "15000/15000 [==============================] - 1s 88us/sample - loss: 0.2708 - acc: 0.9819 - val_loss: 0.4647 - val_acc: 0.8653\n",
      "Epoch 14/20\n",
      "15000/15000 [==============================] - 1s 86us/sample - loss: 0.2572 - acc: 0.9850 - val_loss: 0.4850 - val_acc: 0.8615\n",
      "Epoch 15/20\n",
      "15000/15000 [==============================] - 1s 93us/sample - loss: 0.2435 - acc: 0.9869 - val_loss: 0.4867 - val_acc: 0.8617\n",
      "Epoch 16/20\n",
      "15000/15000 [==============================] - 1s 81us/sample - loss: 0.2309 - acc: 0.9881 - val_loss: 0.4884 - val_acc: 0.8624\n",
      "Epoch 17/20\n",
      "15000/15000 [==============================] - 1s 88us/sample - loss: 0.2191 - acc: 0.9892 - val_loss: 0.4843 - val_acc: 0.8659\n",
      "Epoch 18/20\n",
      "15000/15000 [==============================] - 1s 87us/sample - loss: 0.2069 - acc: 0.9903 - val_loss: 0.5112 - val_acc: 0.8615\n",
      "Epoch 19/20\n",
      "15000/15000 [==============================] - 1s 94us/sample - loss: 0.1961 - acc: 0.9911 - val_loss: 0.4781 - val_acc: 0.8680\n",
      "Epoch 20/20\n",
      "15000/15000 [==============================] - 1s 84us/sample - loss: 0.1853 - acc: 0.9919 - val_loss: 0.6163 - val_acc: 0.8453\n"
     ]
    }
   ],
   "source": [
    "model = keras.Sequential([\n",
    "    layers.Dense(4, activation=\"relu\"),\n",
    "    layers.Dense(4, activation=\"relu\"),\n",
    "    layers.Dense(1, activation=\"sigmoid\")\n",
    "])\n",
    "model.compile(optimizer=\"rmsprop\",\n",
    "              loss=\"binary_crossentropy\",\n",
    "              metrics=[\"accuracy\"])\n",
    "history_smaller_model = model.fit(\n",
    "    train_data, train_labels,\n",
    "    epochs=20, batch_size=512, validation_split=0.4)"
   ]
  },
  {
   "cell_type": "markdown",
   "metadata": {
    "colab_type": "text"
   },
   "source": [
    "**Version of the model with higher capacity**"
   ]
  },
  {
   "cell_type": "code",
   "execution_count": 12,
   "metadata": {
    "colab_type": "code"
   },
   "outputs": [
    {
     "name": "stdout",
     "output_type": "stream",
     "text": [
      "Train on 15000 samples, validate on 10000 samples\n",
      "Epoch 1/20\n",
      "15000/15000 [==============================] - 2s 110us/sample - loss: 0.5534 - acc: 0.7469 - val_loss: 0.3141 - val_acc: 0.8743\n",
      "Epoch 2/20\n",
      "15000/15000 [==============================] - 1s 82us/sample - loss: 0.2494 - acc: 0.9049 - val_loss: 0.3422 - val_acc: 0.8500\n",
      "Epoch 3/20\n",
      "15000/15000 [==============================] - 1s 81us/sample - loss: 0.1507 - acc: 0.9425 - val_loss: 0.2984 - val_acc: 0.8922\n",
      "Epoch 4/20\n",
      "15000/15000 [==============================] - 1s 86us/sample - loss: 0.1047 - acc: 0.9651 - val_loss: 0.3438 - val_acc: 0.8706\n",
      "Epoch 5/20\n",
      "15000/15000 [==============================] - 1s 88us/sample - loss: 0.0811 - acc: 0.9785 - val_loss: 0.3121 - val_acc: 0.8867\n",
      "Epoch 6/20\n",
      "15000/15000 [==============================] - 1s 88us/sample - loss: 0.0069 - acc: 0.9996 - val_loss: 0.4853 - val_acc: 0.8865\n",
      "Epoch 7/20\n",
      "15000/15000 [==============================] - 1s 100us/sample - loss: 8.3856e-04 - acc: 0.9999 - val_loss: 0.5879 - val_acc: 0.8867\n",
      "Epoch 8/20\n",
      "15000/15000 [==============================] - 1s 80us/sample - loss: 9.3391e-05 - acc: 1.0000 - val_loss: 0.6796 - val_acc: 0.8864\n",
      "Epoch 9/20\n",
      "15000/15000 [==============================] - 1s 83us/sample - loss: 1.6351e-05 - acc: 1.0000 - val_loss: 0.7517 - val_acc: 0.8848\n",
      "Epoch 10/20\n",
      "15000/15000 [==============================] - 1s 83us/sample - loss: 3.6843e-06 - acc: 1.0000 - val_loss: 0.8201 - val_acc: 0.8849\n",
      "Epoch 11/20\n",
      "15000/15000 [==============================] - 1s 85us/sample - loss: 1.0815e-06 - acc: 1.0000 - val_loss: 0.8580 - val_acc: 0.8861\n",
      "Epoch 12/20\n",
      "15000/15000 [==============================] - 1s 89us/sample - loss: 3.8547e-07 - acc: 1.0000 - val_loss: 0.9031 - val_acc: 0.8846\n",
      "Epoch 13/20\n",
      "15000/15000 [==============================] - 1s 97us/sample - loss: 1.9707e-07 - acc: 1.0000 - val_loss: 0.9320 - val_acc: 0.8861\n",
      "Epoch 14/20\n",
      "15000/15000 [==============================] - 1s 80us/sample - loss: 1.4160e-07 - acc: 1.0000 - val_loss: 0.9489 - val_acc: 0.8855\n",
      "Epoch 15/20\n",
      "15000/15000 [==============================] - 1s 85us/sample - loss: 1.2485e-07 - acc: 1.0000 - val_loss: 0.9643 - val_acc: 0.8864\n",
      "Epoch 16/20\n",
      "15000/15000 [==============================] - 1s 84us/sample - loss: 1.1878e-07 - acc: 1.0000 - val_loss: 0.9738 - val_acc: 0.8863\n",
      "Epoch 17/20\n",
      "15000/15000 [==============================] - 1s 86us/sample - loss: 1.1556e-07 - acc: 1.0000 - val_loss: 0.9816 - val_acc: 0.8857\n",
      "Epoch 18/20\n",
      "15000/15000 [==============================] - 1s 89us/sample - loss: 1.1390e-07 - acc: 1.0000 - val_loss: 0.9861 - val_acc: 0.8862\n",
      "Epoch 19/20\n",
      "15000/15000 [==============================] - 1s 89us/sample - loss: 1.1287e-07 - acc: 1.0000 - val_loss: 0.9895 - val_acc: 0.8864\n",
      "Epoch 20/20\n",
      "15000/15000 [==============================] - 1s 87us/sample - loss: 1.1207e-07 - acc: 1.0000 - val_loss: 0.9942 - val_acc: 0.8859\n"
     ]
    }
   ],
   "source": [
    "model = keras.Sequential([\n",
    "    layers.Dense(512, activation=\"relu\"),\n",
    "    layers.Dense(512, activation=\"relu\"),\n",
    "    layers.Dense(1, activation=\"sigmoid\")\n",
    "])\n",
    "model.compile(optimizer=\"rmsprop\",\n",
    "              loss=\"binary_crossentropy\",\n",
    "              metrics=[\"accuracy\"])\n",
    "history_larger_model = model.fit(\n",
    "    train_data, train_labels,\n",
    "    epochs=20, batch_size=512, validation_split=0.4)"
   ]
  },
  {
   "cell_type": "markdown",
   "metadata": {
    "colab_type": "text"
   },
   "source": [
    "#### Adding weight regularization"
   ]
  },
  {
   "cell_type": "markdown",
   "metadata": {
    "colab_type": "text"
   },
   "source": [
    "**Adding L2 weight regularization to the model**"
   ]
  },
  {
   "cell_type": "code",
   "execution_count": 13,
   "metadata": {
    "colab_type": "code"
   },
   "outputs": [
    {
     "name": "stdout",
     "output_type": "stream",
     "text": [
      "Train on 15000 samples, validate on 10000 samples\n",
      "Epoch 1/20\n",
      "15000/15000 [==============================] - 1s 97us/sample - loss: 0.6037 - acc: 0.7865 - val_loss: 0.4931 - val_acc: 0.8546\n",
      "Epoch 2/20\n",
      "15000/15000 [==============================] - 1s 93us/sample - loss: 0.4135 - acc: 0.8923 - val_loss: 0.4217 - val_acc: 0.8668\n",
      "Epoch 3/20\n",
      "15000/15000 [==============================] - 1s 85us/sample - loss: 0.3437 - acc: 0.9114 - val_loss: 0.3731 - val_acc: 0.8859\n",
      "Epoch 4/20\n",
      "15000/15000 [==============================] - 1s 100us/sample - loss: 0.3082 - acc: 0.9235 - val_loss: 0.3655 - val_acc: 0.8860\n",
      "Epoch 5/20\n",
      "15000/15000 [==============================] - 1s 86us/sample - loss: 0.2861 - acc: 0.9301 - val_loss: 0.3598 - val_acc: 0.8861\n",
      "Epoch 6/20\n",
      "15000/15000 [==============================] - 1s 88us/sample - loss: 0.2698 - acc: 0.9345 - val_loss: 0.3847 - val_acc: 0.8742\n",
      "Epoch 7/20\n",
      "15000/15000 [==============================] - 1s 85us/sample - loss: 0.2592 - acc: 0.9403 - val_loss: 0.3590 - val_acc: 0.8863\n",
      "Epoch 8/20\n",
      "15000/15000 [==============================] - 1s 91us/sample - loss: 0.2530 - acc: 0.9403 - val_loss: 0.3714 - val_acc: 0.8815\n",
      "Epoch 9/20\n",
      "15000/15000 [==============================] - 1s 86us/sample - loss: 0.2414 - acc: 0.9464 - val_loss: 0.3697 - val_acc: 0.8812\n",
      "Epoch 10/20\n",
      "15000/15000 [==============================] - 1s 86us/sample - loss: 0.2379 - acc: 0.9469 - val_loss: 0.3690 - val_acc: 0.8823\n",
      "Epoch 11/20\n",
      "15000/15000 [==============================] - 2s 100us/sample - loss: 0.2316 - acc: 0.9491 - val_loss: 0.3814 - val_acc: 0.8779\n",
      "Epoch 12/20\n",
      "15000/15000 [==============================] - 1s 89us/sample - loss: 0.2255 - acc: 0.9509 - val_loss: 0.3896 - val_acc: 0.8751\n",
      "Epoch 13/20\n",
      "15000/15000 [==============================] - 1s 87us/sample - loss: 0.2252 - acc: 0.9514 - val_loss: 0.3796 - val_acc: 0.8811\n",
      "Epoch 14/20\n",
      "15000/15000 [==============================] - 1s 93us/sample - loss: 0.2227 - acc: 0.9520 - val_loss: 0.3836 - val_acc: 0.8787\n",
      "Epoch 15/20\n",
      "15000/15000 [==============================] - 1s 90us/sample - loss: 0.2130 - acc: 0.9564 - val_loss: 0.3863 - val_acc: 0.8779\n",
      "Epoch 16/20\n",
      "15000/15000 [==============================] - 1s 89us/sample - loss: 0.2106 - acc: 0.9571 - val_loss: 0.4054 - val_acc: 0.8729\n",
      "Epoch 17/20\n",
      "15000/15000 [==============================] - 1s 89us/sample - loss: 0.2187 - acc: 0.9513 - val_loss: 0.4029 - val_acc: 0.8747\n",
      "Epoch 18/20\n",
      "15000/15000 [==============================] - 1s 90us/sample - loss: 0.2007 - acc: 0.9627 - val_loss: 0.4339 - val_acc: 0.8700\n",
      "Epoch 19/20\n",
      "15000/15000 [==============================] - 1s 89us/sample - loss: 0.2022 - acc: 0.9596 - val_loss: 0.4039 - val_acc: 0.8744\n",
      "Epoch 20/20\n",
      "15000/15000 [==============================] - 1s 95us/sample - loss: 0.2087 - acc: 0.9553 - val_loss: 0.4051 - val_acc: 0.8749\n"
     ]
    }
   ],
   "source": [
    "from tensorflow.keras import regularizers\n",
    "model = keras.Sequential([\n",
    "    layers.Dense(16,\n",
    "                 kernel_regularizer=regularizers.l2(0.002),\n",
    "                 activation=\"relu\"),\n",
    "    layers.Dense(16,\n",
    "                 kernel_regularizer=regularizers.l2(0.002),\n",
    "                 activation=\"relu\"),\n",
    "    layers.Dense(1, activation=\"sigmoid\")\n",
    "])\n",
    "model.compile(optimizer=\"rmsprop\",\n",
    "              loss=\"binary_crossentropy\",\n",
    "              metrics=[\"accuracy\"])\n",
    "history_l2_reg = model.fit(\n",
    "    train_data, train_labels,\n",
    "    epochs=20, batch_size=512, validation_split=0.4)"
   ]
  },
  {
   "cell_type": "markdown",
   "metadata": {
    "colab_type": "text"
   },
   "source": [
    "**Different weight regularizers available in Keras**"
   ]
  },
  {
   "cell_type": "code",
   "execution_count": 14,
   "metadata": {
    "colab_type": "code"
   },
   "outputs": [
    {
     "data": {
      "text/plain": [
       "<tensorflow.python.keras.regularizers.L1L2 at 0x2588ed9cb88>"
      ]
     },
     "execution_count": 14,
     "metadata": {},
     "output_type": "execute_result"
    }
   ],
   "source": [
    "from tensorflow.keras import regularizers\n",
    "regularizers.l1(0.001)\n",
    "regularizers.l1_l2(l1=0.001, l2=0.001)"
   ]
  },
  {
   "cell_type": "markdown",
   "metadata": {
    "colab_type": "text"
   },
   "source": [
    "#### Adding dropout"
   ]
  },
  {
   "cell_type": "markdown",
   "metadata": {
    "colab_type": "text"
   },
   "source": [
    "**Adding dropout to the IMDB model**"
   ]
  },
  {
   "cell_type": "code",
   "execution_count": 15,
   "metadata": {
    "colab_type": "code"
   },
   "outputs": [
    {
     "name": "stdout",
     "output_type": "stream",
     "text": [
      "WARNING:tensorflow:From C:\\Users\\user\\anaconda3\\envs\\DL\\lib\\site-packages\\tensorflow\\python\\keras\\layers\\core.py:143: calling dropout (from tensorflow.python.ops.nn_ops) with keep_prob is deprecated and will be removed in a future version.\n",
      "Instructions for updating:\n",
      "Please use `rate` instead of `keep_prob`. Rate should be set to `rate = 1 - keep_prob`.\n",
      "Train on 15000 samples, validate on 10000 samples\n",
      "Epoch 1/20\n",
      "15000/15000 [==============================] - 2s 108us/sample - loss: 0.6192 - acc: 0.6461 - val_loss: 0.4983 - val_acc: 0.8552\n",
      "Epoch 2/20\n",
      "15000/15000 [==============================] - 1s 99us/sample - loss: 0.4942 - acc: 0.7698 - val_loss: 0.3929 - val_acc: 0.8723\n",
      "Epoch 3/20\n",
      "15000/15000 [==============================] - 1s 96us/sample - loss: 0.4179 - acc: 0.8211 - val_loss: 0.3241 - val_acc: 0.8852\n",
      "Epoch 4/20\n",
      "15000/15000 [==============================] - 1s 97us/sample - loss: 0.3548 - acc: 0.8626 - val_loss: 0.2999 - val_acc: 0.8799\n",
      "Epoch 5/20\n",
      "15000/15000 [==============================] - 1s 96us/sample - loss: 0.3082 - acc: 0.8901 - val_loss: 0.2790 - val_acc: 0.8923\n",
      "Epoch 6/20\n",
      "15000/15000 [==============================] - 1s 100us/sample - loss: 0.2668 - acc: 0.9099 - val_loss: 0.2972 - val_acc: 0.8847\n",
      "Epoch 7/20\n",
      "15000/15000 [==============================] - 1s 96us/sample - loss: 0.2319 - acc: 0.9247 - val_loss: 0.2821 - val_acc: 0.8884\n",
      "Epoch 8/20\n",
      "15000/15000 [==============================] - 1s 98us/sample - loss: 0.2038 - acc: 0.9359 - val_loss: 0.2979 - val_acc: 0.8817\n",
      "Epoch 9/20\n",
      "15000/15000 [==============================] - 1s 96us/sample - loss: 0.1810 - acc: 0.9431 - val_loss: 0.3102 - val_acc: 0.8902\n",
      "Epoch 10/20\n",
      "15000/15000 [==============================] - 1s 96us/sample - loss: 0.1599 - acc: 0.9492 - val_loss: 0.3387 - val_acc: 0.8886\n",
      "Epoch 11/20\n",
      "15000/15000 [==============================] - 1s 96us/sample - loss: 0.1450 - acc: 0.9556 - val_loss: 0.3599 - val_acc: 0.8888\n",
      "Epoch 12/20\n",
      "15000/15000 [==============================] - 1s 97us/sample - loss: 0.1257 - acc: 0.9611 - val_loss: 0.3830 - val_acc: 0.8772\n",
      "Epoch 13/20\n",
      "15000/15000 [==============================] - 1s 98us/sample - loss: 0.1180 - acc: 0.9631 - val_loss: 0.3979 - val_acc: 0.8827\n",
      "Epoch 14/20\n",
      "15000/15000 [==============================] - 1s 97us/sample - loss: 0.1100 - acc: 0.9651 - val_loss: 0.4321 - val_acc: 0.8867\n",
      "Epoch 15/20\n",
      "15000/15000 [==============================] - 1s 97us/sample - loss: 0.0983 - acc: 0.9689 - val_loss: 0.5205 - val_acc: 0.8817\n",
      "Epoch 16/20\n",
      "15000/15000 [==============================] - 1s 96us/sample - loss: 0.0895 - acc: 0.9735 - val_loss: 0.4670 - val_acc: 0.8848\n",
      "Epoch 17/20\n",
      "15000/15000 [==============================] - 1s 98us/sample - loss: 0.0890 - acc: 0.9712 - val_loss: 0.5044 - val_acc: 0.8827\n",
      "Epoch 18/20\n",
      "15000/15000 [==============================] - 1s 96us/sample - loss: 0.0818 - acc: 0.9761 - val_loss: 0.5591 - val_acc: 0.8832\n",
      "Epoch 19/20\n",
      "15000/15000 [==============================] - 1s 99us/sample - loss: 0.0740 - acc: 0.9769 - val_loss: 0.5833 - val_acc: 0.8832\n",
      "Epoch 20/20\n",
      "15000/15000 [==============================] - 1s 96us/sample - loss: 0.0744 - acc: 0.9776 - val_loss: 0.5795 - val_acc: 0.8824\n"
     ]
    }
   ],
   "source": [
    "model = keras.Sequential([\n",
    "    layers.Dense(16, activation=\"relu\"),\n",
    "    layers.Dropout(0.5),\n",
    "    layers.Dense(16, activation=\"relu\"),\n",
    "    layers.Dropout(0.5),\n",
    "    layers.Dense(1, activation=\"sigmoid\")\n",
    "])\n",
    "model.compile(optimizer=\"rmsprop\",\n",
    "              loss=\"binary_crossentropy\",\n",
    "              metrics=[\"accuracy\"])\n",
    "history_dropout = model.fit(\n",
    "    train_data, train_labels,\n",
    "    epochs=20, batch_size=512, validation_split=0.4)"
   ]
  },
  {
   "cell_type": "markdown",
   "metadata": {
    "colab_type": "text"
   },
   "source": [
    "## Summary"
   ]
  },
  {
   "cell_type": "code",
   "execution_count": 21,
   "metadata": {},
   "outputs": [],
   "source": [
    "from tensorflow.keras.datasets import imdb\n",
    "(train_data, train_labels), (test_data, test_labels) = imdb.load_data(num_words=10000)\n",
    "\n",
    "def vectorize_sequences(sequences, dimension=10000):\n",
    "    results = np.zeros((len(sequences), dimension))\n",
    "    for i, sequence in enumerate(sequences):\n",
    "        results[i, sequence] = 1.\n",
    "    return results\n",
    "train_data = vectorize_sequences(train_data)\n",
    "test_data = vectorize_sequences(test_data)"
   ]
  },
  {
   "cell_type": "code",
   "execution_count": 22,
   "metadata": {},
   "outputs": [],
   "source": [
    "def build_model():\n",
    "    model = keras.Sequential([\n",
    "        layers.Dense(64, activation=\"relu\"),\n",
    "        layers.Dense(64, activation=\"relu\"),\n",
    "        layers.Dense(1)\n",
    "    ])\n",
    "    model.compile(optimizer=\"rmsprop\", loss=\"mse\", metrics=[\"mae\"])\n",
    "    return model\n",
    "\n"
   ]
  },
  {
   "cell_type": "code",
   "execution_count": 23,
   "metadata": {},
   "outputs": [
    {
     "name": "stdout",
     "output_type": "stream",
     "text": [
      "25000/25000 [==============================] - 3s 124us/sample - loss: 0.1200 - mean_absolute_error: 0.1832\n"
     ]
    }
   ],
   "source": [
    "model = build_model()\n",
    "model.fit(train_data, train_labels,\n",
    "          epochs=130, batch_size=512, verbose=0)\n",
    "test_mse_score, test_mae_score = model.evaluate(test_data, test_labels)"
   ]
  },
  {
   "cell_type": "code",
   "execution_count": 24,
   "metadata": {},
   "outputs": [
    {
     "data": {
      "text/plain": [
       "0.18316545"
      ]
     },
     "execution_count": 24,
     "metadata": {},
     "output_type": "execute_result"
    }
   ],
   "source": [
    "test_mae_score"
   ]
  },
  {
   "cell_type": "code",
   "execution_count": 25,
   "metadata": {},
   "outputs": [
    {
     "data": {
      "text/plain": [
       "array([0.6595273], dtype=float32)"
      ]
     },
     "execution_count": 25,
     "metadata": {},
     "output_type": "execute_result"
    }
   ],
   "source": [
    "\n",
    "predictions = model.predict(test_data)\n",
    "predictions[0]"
   ]
  },
  {
   "cell_type": "code",
   "execution_count": 27,
   "metadata": {},
   "outputs": [
    {
     "data": {
      "text/plain": [
       "25000"
      ]
     },
     "execution_count": 27,
     "metadata": {},
     "output_type": "execute_result"
    }
   ],
   "source": [
    "len(predictions)"
   ]
  },
  {
   "cell_type": "code",
   "execution_count": null,
   "metadata": {},
   "outputs": [],
   "source": []
  },
  {
   "cell_type": "code",
   "execution_count": null,
   "metadata": {},
   "outputs": [],
   "source": []
  }
 ],
 "metadata": {
  "colab": {
   "collapsed_sections": [],
   "name": "chapter05_fundamentals-of-ml.i",
   "private_outputs": false,
   "provenance": [],
   "toc_visible": true
  },
  "kernelspec": {
   "display_name": "Python 3 (ipykernel)",
   "language": "python",
   "name": "python3"
  },
  "language_info": {
   "codemirror_mode": {
    "name": "ipython",
    "version": 3
   },
   "file_extension": ".py",
   "mimetype": "text/x-python",
   "name": "python",
   "nbconvert_exporter": "python",
   "pygments_lexer": "ipython3",
   "version": "3.8.13"
  }
 },
 "nbformat": 4,
 "nbformat_minor": 4
}
