{
 "cells": [
  {
   "cell_type": "markdown",
   "metadata": {
    "colab_type": "text"
   },
   "source": [
    "This is a companion notebook for the book [Deep Learning with Python, Second Edition](https://www.manning.com/books/deep-learning-with-python-second-edition?a_aid=keras&a_bid=76564dff). For readability, it only contains runnable code blocks and section titles, and omits everything else in the book: text paragraphs, figures, and pseudocode.\n",
    "\n",
    "**If you want to be able to follow what's going on, I recommend reading the notebook side by side with your copy of the book.**\n",
    "\n",
    "This notebook was generated for TensorFlow 2.6."
   ]
  },
  {
   "cell_type": "markdown",
   "metadata": {
    "colab_type": "text"
   },
   "source": [
    "## Modern convnet architecture patterns"
   ]
  },
  {
   "cell_type": "markdown",
   "metadata": {
    "colab_type": "text"
   },
   "source": [
    "### Modularity, hierarchy, and reuse"
   ]
  },
  {
   "cell_type": "markdown",
   "metadata": {
    "colab_type": "text"
   },
   "source": [
    "### Residual connections"
   ]
  },
  {
   "cell_type": "markdown",
   "metadata": {},
   "source": [
    "## **Residual connections於一般卷積架構**"
   ]
  },
  {
   "cell_type": "markdown",
   "metadata": {
    "colab_type": "text"
   },
   "source": [
    "**Residual block where the number of filters changes**"
   ]
  },
  {
   "cell_type": "markdown",
   "metadata": {},
   "source": [
    "當濾波器變化時的Residual block"
   ]
  },
  {
   "cell_type": "code",
   "execution_count": 32,
   "metadata": {
    "colab_type": "code"
   },
   "outputs": [],
   "source": [
    "from tensorflow import keras\n",
    "from tensorflow.keras import layers\n",
    "\n",
    "inputs = keras.Input(shape=(32, 32, 3))\n",
    "x = layers.Conv2D(32, 3, activation=\"relu\")(inputs)\n",
    "residual = x\n",
    "x = layers.Conv2D(64, 3, activation=\"relu\", padding=\"same\")(x)\n",
    "residual = layers.Conv2D(64, 1)(residual)\n",
    "x = layers.add([x, residual])"
   ]
  },
  {
   "cell_type": "markdown",
   "metadata": {
    "colab_type": "text"
   },
   "source": [
    "**Case where target block includes a max pooling layer**"
   ]
  },
  {
   "cell_type": "markdown",
   "metadata": {},
   "source": [
    "含一個最大池化層的情況"
   ]
  },
  {
   "cell_type": "code",
   "execution_count": 33,
   "metadata": {
    "colab_type": "code"
   },
   "outputs": [],
   "source": [
    "inputs = keras.Input(shape=(32, 32, 3))\n",
    "x = layers.Conv2D(32, 3, activation=\"relu\")(inputs)\n",
    "residual = x\n",
    "x = layers.Conv2D(64, 3, activation=\"relu\", padding=\"same\")(x)\n",
    "x = layers.MaxPooling2D(2, padding=\"same\")(x)\n",
    "residual = layers.Conv2D(64, 1, strides=2)(residual)\n",
    "x = layers.add([x, residual])"
   ]
  },
  {
   "cell_type": "code",
   "execution_count": 34,
   "metadata": {
    "colab_type": "code"
   },
   "outputs": [
    {
     "name": "stdout",
     "output_type": "stream",
     "text": [
      "Model: \"model\"\n",
      "__________________________________________________________________________________________________\n",
      "Layer (type)                    Output Shape         Param #     Connected to                     \n",
      "==================================================================================================\n",
      "input_3 (InputLayer)            [(None, 32, 32, 3)]  0                                            \n",
      "__________________________________________________________________________________________________\n",
      "rescaling (Rescaling)           (None, 32, 32, 3)    0           input_3[0][0]                    \n",
      "__________________________________________________________________________________________________\n",
      "conv2d_6 (Conv2D)               (None, 32, 32, 32)   896         rescaling[0][0]                  \n",
      "__________________________________________________________________________________________________\n",
      "conv2d_7 (Conv2D)               (None, 32, 32, 32)   9248        conv2d_6[0][0]                   \n",
      "__________________________________________________________________________________________________\n",
      "max_pooling2d_1 (MaxPooling2D)  (None, 16, 16, 32)   0           conv2d_7[0][0]                   \n",
      "__________________________________________________________________________________________________\n",
      "conv2d_8 (Conv2D)               (None, 16, 16, 32)   128         rescaling[0][0]                  \n",
      "__________________________________________________________________________________________________\n",
      "add_2 (Add)                     (None, 16, 16, 32)   0           max_pooling2d_1[0][0]            \n",
      "                                                                 conv2d_8[0][0]                   \n",
      "__________________________________________________________________________________________________\n",
      "conv2d_9 (Conv2D)               (None, 16, 16, 64)   18496       add_2[0][0]                      \n",
      "__________________________________________________________________________________________________\n",
      "conv2d_10 (Conv2D)              (None, 16, 16, 64)   36928       conv2d_9[0][0]                   \n",
      "__________________________________________________________________________________________________\n",
      "max_pooling2d_2 (MaxPooling2D)  (None, 8, 8, 64)     0           conv2d_10[0][0]                  \n",
      "__________________________________________________________________________________________________\n",
      "conv2d_11 (Conv2D)              (None, 8, 8, 64)     2112        add_2[0][0]                      \n",
      "__________________________________________________________________________________________________\n",
      "add_3 (Add)                     (None, 8, 8, 64)     0           max_pooling2d_2[0][0]            \n",
      "                                                                 conv2d_11[0][0]                  \n",
      "__________________________________________________________________________________________________\n",
      "conv2d_12 (Conv2D)              (None, 8, 8, 128)    73856       add_3[0][0]                      \n",
      "__________________________________________________________________________________________________\n",
      "conv2d_13 (Conv2D)              (None, 8, 8, 128)    147584      conv2d_12[0][0]                  \n",
      "__________________________________________________________________________________________________\n",
      "conv2d_14 (Conv2D)              (None, 8, 8, 128)    8320        add_3[0][0]                      \n",
      "__________________________________________________________________________________________________\n",
      "add_4 (Add)                     (None, 8, 8, 128)    0           conv2d_13[0][0]                  \n",
      "                                                                 conv2d_14[0][0]                  \n",
      "__________________________________________________________________________________________________\n",
      "global_average_pooling2d (Globa (None, 128)          0           add_4[0][0]                      \n",
      "__________________________________________________________________________________________________\n",
      "dense (Dense)                   (None, 1)            129         global_average_pooling2d[0][0]   \n",
      "==================================================================================================\n",
      "Total params: 297,697\n",
      "Trainable params: 297,697\n",
      "Non-trainable params: 0\n",
      "__________________________________________________________________________________________________\n"
     ]
    }
   ],
   "source": [
    "inputs = keras.Input(shape=(32, 32, 3))\n",
    "x = layers.Rescaling(1./255)(inputs)\n",
    "\n",
    "def residual_block(x, filters, pooling=False):\n",
    "    residual = x\n",
    "    x = layers.Conv2D(filters, 3, activation=\"relu\", padding=\"same\")(x)\n",
    "    x = layers.Conv2D(filters, 3, activation=\"relu\", padding=\"same\")(x)\n",
    "    if pooling:\n",
    "        x = layers.MaxPooling2D(2, padding=\"same\")(x)\n",
    "        residual = layers.Conv2D(filters, 1, strides=2)(residual)\n",
    "    elif filters != residual.shape[-1]:\n",
    "        residual = layers.Conv2D(filters, 1)(residual)\n",
    "    x = layers.add([x, residual])\n",
    "    return x\n",
    "\n",
    "x = residual_block(x, filters=32, pooling=True)\n",
    "x = residual_block(x, filters=64, pooling=True)\n",
    "x = residual_block(x, filters=128, pooling=False)\n",
    "\n",
    "x = layers.GlobalAveragePooling2D()(x)\n",
    "outputs = layers.Dense(1, activation=\"sigmoid\")(x)\n",
    "model = keras.Model(inputs=inputs, outputs=outputs)\n",
    "model.summary()"
   ]
  },
  {
   "cell_type": "markdown",
   "metadata": {},
   "source": [
    "進行Batch normalization可以平均特徵的分布情況，增加整個網路的泛化能力，避免在中間的訓練過程中一些數據的影響在中後層的地方不斷放大，進而增加整個model的不穩定性，甚至影響訓練速度及導致overfitting。"
   ]
  },
  {
   "cell_type": "markdown",
   "metadata": {
    "colab_type": "text"
   },
   "source": [
    "### Batch normalization"
   ]
  },
  {
   "cell_type": "markdown",
   "metadata": {
    "colab_type": "text"
   },
   "source": [
    "### Depthwise separable convolutions"
   ]
  },
  {
   "cell_type": "markdown",
   "metadata": {
    "colab_type": "text"
   },
   "source": [
    "### Putting it together: A mini Xception-like model"
   ]
  },
  {
   "cell_type": "code",
   "execution_count": 46,
   "metadata": {
    "colab_type": "code"
   },
   "outputs": [],
   "source": [
    "#from google.colab import files\n",
    "#files.upload()"
   ]
  },
  {
   "cell_type": "code",
   "execution_count": 47,
   "metadata": {
    "colab_type": "code"
   },
   "outputs": [],
   "source": [
    "#!mkdir ~/.kaggle\n",
    "#!cp kaggle.json ~/.kaggle/\n",
    "#!chmod 600 ~/.kaggle/kaggle.json\n",
    "#!kaggle competitions download -c dogs-vs-cats\n",
    "#!unzip -qq train.zip"
   ]
  },
  {
   "cell_type": "markdown",
   "metadata": {},
   "source": [
    "#### 直接複製CH8的檔案，不用另外分割檔案出來"
   ]
  },
  {
   "cell_type": "code",
   "execution_count": 48,
   "metadata": {},
   "outputs": [],
   "source": [
    "import os\n",
    "import shutil\n",
    "\n",
    "old_path = 'E:\\\\deep-learning-with-python-notebooks-master\\\\HW\\\\CH8\\\\dogs-vs-cats'\n",
    "new_path = os.getcwd() + '\\\\dogs-vs-cats'\n",
    "\n",
    "if os.path.exists(new_path) == False:\n",
    "    shutil.copytree(old_path, new_path)"
   ]
  },
  {
   "cell_type": "code",
   "execution_count": 49,
   "metadata": {
    "colab_type": "code"
   },
   "outputs": [],
   "source": [
    "import os, shutil, pathlib\n",
    "from tensorflow.keras.utils import image_dataset_from_directory\n",
    "\n",
    "original_dir = pathlib.Path(\"train\")\n",
    "new_base_dir = pathlib.Path(\"cats_vs_dogs_small\")\n"
   ]
  },
  {
   "cell_type": "code",
   "execution_count": 50,
   "metadata": {},
   "outputs": [],
   "source": [
    "def make_subset(subset_name, start_index, end_index):\n",
    "    for category in (\"cat\", \"dog\"):\n",
    "        dir = new_base_dir / subset_name / category\n",
    "        os.makedirs(dir)\n",
    "        fnames = [f\"{category}.{i}.jpg\" for i in range(start_index, end_index)]\n",
    "        for fname in fnames:\n",
    "            shutil.copyfile(src=original_dir / fname,\n",
    "                            dst=dir / fname)\n",
    "\n",
    "#make_subset(\"train\", start_index=0, end_index=1000)\n",
    "#make_subset(\"validation\", start_index=1000, end_index=1500)\n",
    "#make_subset(\"test\", start_index=1500, end_index=2500)\n",
    "\n"
   ]
  },
  {
   "cell_type": "markdown",
   "metadata": {},
   "source": [
    "#### 建立train、validation、test集"
   ]
  },
  {
   "cell_type": "code",
   "execution_count": 51,
   "metadata": {},
   "outputs": [
    {
     "name": "stdout",
     "output_type": "stream",
     "text": [
      "Found 2000 files belonging to 2 classes.\n",
      "Found 1000 files belonging to 2 classes.\n",
      "Found 2000 files belonging to 2 classes.\n"
     ]
    }
   ],
   "source": [
    "import os, shutil, pathlib\n",
    "from tensorflow.keras.utils import image_dataset_from_directory\n",
    "\n",
    "new_base_dir = pathlib.Path(\"dogs-vs-cats/cats_vs_dogs_small\")\n",
    "\n",
    "train_dataset = image_dataset_from_directory(\n",
    "    new_base_dir / \"train\",\n",
    "    image_size=(180, 180),\n",
    "    batch_size=32)\n",
    "validation_dataset = image_dataset_from_directory(\n",
    "    new_base_dir / \"validation\",\n",
    "    image_size=(180, 180),\n",
    "    batch_size=32)\n",
    "test_dataset = image_dataset_from_directory(\n",
    "    new_base_dir / \"test\",\n",
    "    image_size=(180, 180),\n",
    "    batch_size=32)"
   ]
  },
  {
   "cell_type": "markdown",
   "metadata": {},
   "source": [
    "#### 使用翻轉、調整角度等方法增加圖片強度"
   ]
  },
  {
   "cell_type": "code",
   "execution_count": 52,
   "metadata": {
    "colab_type": "code"
   },
   "outputs": [],
   "source": [
    "data_augmentation = keras.Sequential(\n",
    "    [\n",
    "        layers.RandomFlip(\"horizontal\"),\n",
    "        layers.RandomRotation(0.1),\n",
    "        layers.RandomZoom(0.2),\n",
    "    ]\n",
    ")"
   ]
  },
  {
   "cell_type": "code",
   "execution_count": 53,
   "metadata": {
    "colab_type": "code"
   },
   "outputs": [],
   "source": [
    "inputs = keras.Input(shape=(180, 180, 3))\n",
    "x = data_augmentation(inputs)\n",
    "\n",
    "x = layers.Rescaling(1./255)(x)\n",
    "x = layers.Conv2D(filters=32, kernel_size=5, use_bias=False)(x)\n",
    "\n",
    "for size in [32, 64, 128, 256, 512]:\n",
    "    residual = x\n",
    "\n",
    "    x = layers.BatchNormalization()(x)\n",
    "    x = layers.Activation(\"relu\")(x)\n",
    "    x = layers.SeparableConv2D(size, 3, padding=\"same\", use_bias=False)(x)\n",
    "\n",
    "    x = layers.BatchNormalization()(x)\n",
    "    x = layers.Activation(\"relu\")(x)\n",
    "    x = layers.SeparableConv2D(size, 3, padding=\"same\", use_bias=False)(x)\n",
    "\n",
    "    x = layers.MaxPooling2D(3, strides=2, padding=\"same\")(x)\n",
    "\n",
    "    residual = layers.Conv2D(\n",
    "        size, 1, strides=2, padding=\"same\", use_bias=False)(residual)\n",
    "    x = layers.add([x, residual])\n",
    "\n",
    "x = layers.GlobalAveragePooling2D()(x)\n",
    "x = layers.Dropout(0.5)(x)\n",
    "outputs = layers.Dense(1, activation=\"sigmoid\")(x)\n",
    "model = keras.Model(inputs=inputs, outputs=outputs)"
   ]
  },
  {
   "cell_type": "markdown",
   "metadata": {},
   "source": [
    "#### 開始訓練"
   ]
  },
  {
   "cell_type": "code",
   "execution_count": 54,
   "metadata": {
    "colab_type": "code",
    "collapsed": true,
    "jupyter": {
     "outputs_hidden": true
    },
    "tags": []
   },
   "outputs": [
    {
     "name": "stdout",
     "output_type": "stream",
     "text": [
      "Epoch 1/100\n",
      "63/63 [==============================] - 27s 330ms/step - loss: 0.7014 - accuracy: 0.5640 - val_loss: 0.7001 - val_accuracy: 0.5000\n",
      "Epoch 2/100\n",
      "63/63 [==============================] - 20s 322ms/step - loss: 0.6584 - accuracy: 0.6225 - val_loss: 0.6957 - val_accuracy: 0.5000\n",
      "Epoch 3/100\n",
      "63/63 [==============================] - 20s 321ms/step - loss: 0.6366 - accuracy: 0.6410 - val_loss: 0.7069 - val_accuracy: 0.5000\n",
      "Epoch 4/100\n",
      "63/63 [==============================] - 20s 324ms/step - loss: 0.6164 - accuracy: 0.6590 - val_loss: 0.6957 - val_accuracy: 0.5040\n",
      "Epoch 5/100\n",
      "63/63 [==============================] - 20s 320ms/step - loss: 0.6071 - accuracy: 0.6730 - val_loss: 0.7240 - val_accuracy: 0.5000\n",
      "Epoch 6/100\n",
      "63/63 [==============================] - 20s 323ms/step - loss: 0.5816 - accuracy: 0.7065 - val_loss: 0.9078 - val_accuracy: 0.5000\n",
      "Epoch 7/100\n",
      "63/63 [==============================] - 20s 315ms/step - loss: 0.5756 - accuracy: 0.7135 - val_loss: 0.9815 - val_accuracy: 0.5040\n",
      "Epoch 8/100\n",
      "63/63 [==============================] - 20s 315ms/step - loss: 0.5611 - accuracy: 0.7260 - val_loss: 0.8849 - val_accuracy: 0.5100\n",
      "Epoch 9/100\n",
      "63/63 [==============================] - 20s 322ms/step - loss: 0.5422 - accuracy: 0.7325 - val_loss: 0.9133 - val_accuracy: 0.5510\n",
      "Epoch 10/100\n",
      "63/63 [==============================] - 20s 317ms/step - loss: 0.5241 - accuracy: 0.7400 - val_loss: 0.6453 - val_accuracy: 0.6350\n",
      "Epoch 11/100\n",
      "63/63 [==============================] - 20s 319ms/step - loss: 0.5142 - accuracy: 0.7540 - val_loss: 0.5780 - val_accuracy: 0.7100\n",
      "Epoch 12/100\n",
      "63/63 [==============================] - 20s 318ms/step - loss: 0.5011 - accuracy: 0.7625 - val_loss: 0.6059 - val_accuracy: 0.6860\n",
      "Epoch 13/100\n",
      "63/63 [==============================] - 20s 317ms/step - loss: 0.4805 - accuracy: 0.7795 - val_loss: 1.1030 - val_accuracy: 0.5360\n",
      "Epoch 14/100\n",
      "63/63 [==============================] - 21s 326ms/step - loss: 0.4614 - accuracy: 0.7865 - val_loss: 0.7931 - val_accuracy: 0.6680\n",
      "Epoch 15/100\n",
      "63/63 [==============================] - 20s 318ms/step - loss: 0.4430 - accuracy: 0.7995 - val_loss: 1.0315 - val_accuracy: 0.5390\n",
      "Epoch 16/100\n",
      "63/63 [==============================] - 20s 320ms/step - loss: 0.4356 - accuracy: 0.8130 - val_loss: 0.4514 - val_accuracy: 0.7860\n",
      "Epoch 17/100\n",
      "63/63 [==============================] - 23s 352ms/step - loss: 0.4241 - accuracy: 0.8125 - val_loss: 0.4766 - val_accuracy: 0.7770\n",
      "Epoch 18/100\n",
      "63/63 [==============================] - 23s 355ms/step - loss: 0.4027 - accuracy: 0.8180 - val_loss: 1.8613 - val_accuracy: 0.5270\n",
      "Epoch 19/100\n",
      "63/63 [==============================] - 22s 349ms/step - loss: 0.4143 - accuracy: 0.8035 - val_loss: 0.8741 - val_accuracy: 0.6560\n",
      "Epoch 20/100\n",
      "63/63 [==============================] - 22s 349ms/step - loss: 0.3915 - accuracy: 0.8385 - val_loss: 1.5530 - val_accuracy: 0.5090\n",
      "Epoch 21/100\n",
      "63/63 [==============================] - 23s 352ms/step - loss: 0.3809 - accuracy: 0.8340 - val_loss: 0.6769 - val_accuracy: 0.7450\n",
      "Epoch 22/100\n",
      "63/63 [==============================] - 22s 352ms/step - loss: 0.3604 - accuracy: 0.8400 - val_loss: 0.4818 - val_accuracy: 0.7880\n",
      "Epoch 23/100\n",
      "63/63 [==============================] - 22s 350ms/step - loss: 0.3621 - accuracy: 0.8450 - val_loss: 0.5244 - val_accuracy: 0.7820\n",
      "Epoch 24/100\n",
      "63/63 [==============================] - 22s 351ms/step - loss: 0.3462 - accuracy: 0.8480 - val_loss: 0.7139 - val_accuracy: 0.6920\n",
      "Epoch 25/100\n",
      "63/63 [==============================] - 22s 350ms/step - loss: 0.3486 - accuracy: 0.8505 - val_loss: 0.8950 - val_accuracy: 0.7280\n",
      "Epoch 26/100\n",
      "63/63 [==============================] - 23s 353ms/step - loss: 0.3456 - accuracy: 0.8485 - val_loss: 0.5615 - val_accuracy: 0.7780\n",
      "Epoch 27/100\n",
      "63/63 [==============================] - 23s 354ms/step - loss: 0.3129 - accuracy: 0.8575 - val_loss: 0.5747 - val_accuracy: 0.7960\n",
      "Epoch 28/100\n",
      "63/63 [==============================] - 22s 349ms/step - loss: 0.3255 - accuracy: 0.8555 - val_loss: 1.0117 - val_accuracy: 0.6500\n",
      "Epoch 29/100\n",
      "63/63 [==============================] - 22s 340ms/step - loss: 0.3139 - accuracy: 0.8645 - val_loss: 0.4634 - val_accuracy: 0.8150\n",
      "Epoch 30/100\n",
      "63/63 [==============================] - 22s 351ms/step - loss: 0.3060 - accuracy: 0.8715 - val_loss: 0.5727 - val_accuracy: 0.7790\n",
      "Epoch 31/100\n",
      "63/63 [==============================] - 22s 350ms/step - loss: 0.2770 - accuracy: 0.8855 - val_loss: 0.5439 - val_accuracy: 0.8010\n",
      "Epoch 32/100\n",
      "63/63 [==============================] - 22s 353ms/step - loss: 0.2754 - accuracy: 0.8685 - val_loss: 0.5079 - val_accuracy: 0.7800\n",
      "Epoch 33/100\n",
      "63/63 [==============================] - 23s 358ms/step - loss: 0.2946 - accuracy: 0.8740 - val_loss: 0.9630 - val_accuracy: 0.7140\n",
      "Epoch 34/100\n",
      "63/63 [==============================] - 22s 348ms/step - loss: 0.2754 - accuracy: 0.8855 - val_loss: 0.3818 - val_accuracy: 0.8320\n",
      "Epoch 35/100\n",
      "63/63 [==============================] - 22s 346ms/step - loss: 0.2873 - accuracy: 0.8775 - val_loss: 0.8039 - val_accuracy: 0.6570\n",
      "Epoch 36/100\n",
      "63/63 [==============================] - 22s 352ms/step - loss: 0.2679 - accuracy: 0.8795 - val_loss: 0.6263 - val_accuracy: 0.7920\n",
      "Epoch 37/100\n",
      "63/63 [==============================] - 23s 357ms/step - loss: 0.2492 - accuracy: 0.8925 - val_loss: 0.5001 - val_accuracy: 0.8430\n",
      "Epoch 38/100\n",
      "63/63 [==============================] - 22s 350ms/step - loss: 0.2459 - accuracy: 0.8900 - val_loss: 0.6681 - val_accuracy: 0.7530\n",
      "Epoch 39/100\n",
      "63/63 [==============================] - 22s 351ms/step - loss: 0.2479 - accuracy: 0.8955 - val_loss: 2.0392 - val_accuracy: 0.5840\n",
      "Epoch 40/100\n",
      "63/63 [==============================] - 22s 348ms/step - loss: 0.2392 - accuracy: 0.8975 - val_loss: 0.8890 - val_accuracy: 0.7600\n",
      "Epoch 41/100\n",
      "63/63 [==============================] - 23s 355ms/step - loss: 0.2352 - accuracy: 0.9035 - val_loss: 0.8198 - val_accuracy: 0.7300\n",
      "Epoch 42/100\n",
      "63/63 [==============================] - 23s 354ms/step - loss: 0.2109 - accuracy: 0.9165 - val_loss: 2.1763 - val_accuracy: 0.5730\n",
      "Epoch 43/100\n",
      "63/63 [==============================] - 22s 346ms/step - loss: 0.2365 - accuracy: 0.9070 - val_loss: 2.2837 - val_accuracy: 0.5890\n",
      "Epoch 44/100\n",
      "63/63 [==============================] - 22s 352ms/step - loss: 0.2171 - accuracy: 0.9100 - val_loss: 0.4602 - val_accuracy: 0.8350\n",
      "Epoch 45/100\n",
      "63/63 [==============================] - 22s 348ms/step - loss: 0.2139 - accuracy: 0.9145 - val_loss: 1.5910 - val_accuracy: 0.5910\n",
      "Epoch 46/100\n",
      "63/63 [==============================] - 22s 350ms/step - loss: 0.2102 - accuracy: 0.9145 - val_loss: 0.7444 - val_accuracy: 0.7430\n",
      "Epoch 47/100\n",
      "63/63 [==============================] - 22s 346ms/step - loss: 0.2242 - accuracy: 0.9095 - val_loss: 1.2265 - val_accuracy: 0.6560\n",
      "Epoch 48/100\n",
      "63/63 [==============================] - 23s 353ms/step - loss: 0.2020 - accuracy: 0.9135 - val_loss: 0.4637 - val_accuracy: 0.8190\n",
      "Epoch 49/100\n",
      "63/63 [==============================] - 22s 350ms/step - loss: 0.2060 - accuracy: 0.9100 - val_loss: 0.3751 - val_accuracy: 0.8520\n",
      "Epoch 50/100\n",
      "63/63 [==============================] - 22s 350ms/step - loss: 0.1773 - accuracy: 0.9250 - val_loss: 1.6473 - val_accuracy: 0.6660\n",
      "Epoch 51/100\n",
      "63/63 [==============================] - 22s 352ms/step - loss: 0.1931 - accuracy: 0.9205 - val_loss: 0.3601 - val_accuracy: 0.8720\n",
      "Epoch 52/100\n",
      "63/63 [==============================] - 22s 351ms/step - loss: 0.1980 - accuracy: 0.9180 - val_loss: 0.6199 - val_accuracy: 0.7930\n",
      "Epoch 53/100\n",
      "63/63 [==============================] - 23s 354ms/step - loss: 0.1652 - accuracy: 0.9330 - val_loss: 1.3125 - val_accuracy: 0.6310\n",
      "Epoch 54/100\n",
      "63/63 [==============================] - 22s 351ms/step - loss: 0.1902 - accuracy: 0.9270 - val_loss: 0.5368 - val_accuracy: 0.7940\n",
      "Epoch 55/100\n",
      "63/63 [==============================] - 22s 350ms/step - loss: 0.1818 - accuracy: 0.9250 - val_loss: 0.3532 - val_accuracy: 0.8730\n",
      "Epoch 56/100\n",
      "63/63 [==============================] - 22s 346ms/step - loss: 0.1535 - accuracy: 0.9400 - val_loss: 0.4434 - val_accuracy: 0.8500\n",
      "Epoch 57/100\n",
      "63/63 [==============================] - 20s 316ms/step - loss: 0.1915 - accuracy: 0.9250 - val_loss: 0.3474 - val_accuracy: 0.8590\n",
      "Epoch 58/100\n",
      "63/63 [==============================] - 20s 310ms/step - loss: 0.1769 - accuracy: 0.9265 - val_loss: 0.4932 - val_accuracy: 0.8350\n",
      "Epoch 59/100\n",
      "63/63 [==============================] - 20s 311ms/step - loss: 0.1773 - accuracy: 0.9245 - val_loss: 1.9279 - val_accuracy: 0.6710\n",
      "Epoch 60/100\n",
      "63/63 [==============================] - 20s 318ms/step - loss: 0.1703 - accuracy: 0.9320 - val_loss: 0.5404 - val_accuracy: 0.8120\n",
      "Epoch 61/100\n",
      "63/63 [==============================] - 20s 319ms/step - loss: 0.1701 - accuracy: 0.9365 - val_loss: 0.6401 - val_accuracy: 0.7970\n",
      "Epoch 62/100\n",
      "63/63 [==============================] - 20s 318ms/step - loss: 0.1619 - accuracy: 0.9335 - val_loss: 0.3266 - val_accuracy: 0.8760\n",
      "Epoch 63/100\n",
      "63/63 [==============================] - 20s 321ms/step - loss: 0.1598 - accuracy: 0.9395 - val_loss: 1.3730 - val_accuracy: 0.7610\n",
      "Epoch 64/100\n",
      "63/63 [==============================] - 20s 314ms/step - loss: 0.1534 - accuracy: 0.9400 - val_loss: 0.4007 - val_accuracy: 0.8710\n",
      "Epoch 65/100\n",
      "63/63 [==============================] - 20s 323ms/step - loss: 0.1628 - accuracy: 0.9350 - val_loss: 0.6074 - val_accuracy: 0.8380\n",
      "Epoch 66/100\n",
      "63/63 [==============================] - 20s 322ms/step - loss: 0.1647 - accuracy: 0.9350 - val_loss: 0.3975 - val_accuracy: 0.8530\n",
      "Epoch 67/100\n",
      "63/63 [==============================] - 20s 311ms/step - loss: 0.1464 - accuracy: 0.9405 - val_loss: 0.7474 - val_accuracy: 0.7970\n",
      "Epoch 68/100\n",
      "63/63 [==============================] - 20s 316ms/step - loss: 0.1464 - accuracy: 0.9435 - val_loss: 0.4001 - val_accuracy: 0.8490\n",
      "Epoch 69/100\n",
      "63/63 [==============================] - 20s 323ms/step - loss: 0.1443 - accuracy: 0.9415 - val_loss: 0.3289 - val_accuracy: 0.8870\n",
      "Epoch 70/100\n",
      "63/63 [==============================] - 20s 319ms/step - loss: 0.1456 - accuracy: 0.9445 - val_loss: 0.3835 - val_accuracy: 0.8640\n",
      "Epoch 71/100\n",
      "63/63 [==============================] - 20s 316ms/step - loss: 0.1268 - accuracy: 0.9520 - val_loss: 0.5496 - val_accuracy: 0.8370\n",
      "Epoch 72/100\n",
      "63/63 [==============================] - 20s 322ms/step - loss: 0.1462 - accuracy: 0.9420 - val_loss: 2.7912 - val_accuracy: 0.5900\n",
      "Epoch 73/100\n",
      "63/63 [==============================] - 20s 319ms/step - loss: 0.1252 - accuracy: 0.9565 - val_loss: 0.3138 - val_accuracy: 0.8980\n",
      "Epoch 74/100\n",
      "63/63 [==============================] - 20s 323ms/step - loss: 0.1452 - accuracy: 0.9490 - val_loss: 0.3555 - val_accuracy: 0.8870\n",
      "Epoch 75/100\n",
      "63/63 [==============================] - 20s 323ms/step - loss: 0.1240 - accuracy: 0.9555 - val_loss: 0.4072 - val_accuracy: 0.8690\n",
      "Epoch 76/100\n",
      "63/63 [==============================] - 20s 320ms/step - loss: 0.1176 - accuracy: 0.9540 - val_loss: 0.8151 - val_accuracy: 0.8150\n",
      "Epoch 77/100\n",
      "63/63 [==============================] - 20s 317ms/step - loss: 0.1190 - accuracy: 0.9545 - val_loss: 0.5951 - val_accuracy: 0.8430\n",
      "Epoch 78/100\n",
      "63/63 [==============================] - 21s 325ms/step - loss: 0.1203 - accuracy: 0.9590 - val_loss: 0.4020 - val_accuracy: 0.8720\n",
      "Epoch 79/100\n",
      "63/63 [==============================] - 20s 317ms/step - loss: 0.1163 - accuracy: 0.9530 - val_loss: 0.3667 - val_accuracy: 0.8840\n",
      "Epoch 80/100\n",
      "63/63 [==============================] - 20s 313ms/step - loss: 0.1228 - accuracy: 0.9550 - val_loss: 0.3282 - val_accuracy: 0.8680\n",
      "Epoch 81/100\n",
      "63/63 [==============================] - 20s 318ms/step - loss: 0.1173 - accuracy: 0.9540 - val_loss: 0.4808 - val_accuracy: 0.8500\n",
      "Epoch 82/100\n",
      "63/63 [==============================] - 20s 315ms/step - loss: 0.1065 - accuracy: 0.9615 - val_loss: 0.9047 - val_accuracy: 0.7780\n",
      "Epoch 83/100\n",
      "63/63 [==============================] - 20s 318ms/step - loss: 0.1200 - accuracy: 0.9560 - val_loss: 0.6606 - val_accuracy: 0.8420\n",
      "Epoch 84/100\n",
      "63/63 [==============================] - 20s 315ms/step - loss: 0.1287 - accuracy: 0.9495 - val_loss: 0.3572 - val_accuracy: 0.8940\n",
      "Epoch 85/100\n",
      "63/63 [==============================] - 20s 318ms/step - loss: 0.1188 - accuracy: 0.9550 - val_loss: 0.3139 - val_accuracy: 0.8760\n",
      "Epoch 86/100\n",
      "63/63 [==============================] - 20s 322ms/step - loss: 0.1123 - accuracy: 0.9575 - val_loss: 0.4623 - val_accuracy: 0.8590\n",
      "Epoch 87/100\n",
      "63/63 [==============================] - 20s 321ms/step - loss: 0.1185 - accuracy: 0.9560 - val_loss: 0.2765 - val_accuracy: 0.8950\n",
      "Epoch 88/100\n",
      "63/63 [==============================] - 20s 321ms/step - loss: 0.1077 - accuracy: 0.9565 - val_loss: 1.6255 - val_accuracy: 0.6330\n",
      "Epoch 89/100\n",
      "63/63 [==============================] - 20s 318ms/step - loss: 0.0969 - accuracy: 0.9590 - val_loss: 0.7628 - val_accuracy: 0.8300\n",
      "Epoch 90/100\n",
      "63/63 [==============================] - 20s 320ms/step - loss: 0.1171 - accuracy: 0.9525 - val_loss: 0.5089 - val_accuracy: 0.8540\n",
      "Epoch 91/100\n",
      "63/63 [==============================] - 20s 312ms/step - loss: 0.1039 - accuracy: 0.9630 - val_loss: 0.6131 - val_accuracy: 0.8220\n",
      "Epoch 92/100\n",
      "63/63 [==============================] - 20s 320ms/step - loss: 0.1036 - accuracy: 0.9595 - val_loss: 0.2625 - val_accuracy: 0.9160\n",
      "Epoch 93/100\n",
      "63/63 [==============================] - 20s 319ms/step - loss: 0.1497 - accuracy: 0.9475 - val_loss: 0.3644 - val_accuracy: 0.8770\n",
      "Epoch 94/100\n",
      "63/63 [==============================] - 20s 314ms/step - loss: 0.0957 - accuracy: 0.9670 - val_loss: 0.3737 - val_accuracy: 0.8810\n",
      "Epoch 95/100\n",
      "63/63 [==============================] - 20s 313ms/step - loss: 0.1044 - accuracy: 0.9615 - val_loss: 0.4543 - val_accuracy: 0.8400\n",
      "Epoch 96/100\n",
      "63/63 [==============================] - 20s 321ms/step - loss: 0.0970 - accuracy: 0.9630 - val_loss: 1.0066 - val_accuracy: 0.7950\n",
      "Epoch 97/100\n",
      "63/63 [==============================] - 20s 312ms/step - loss: 0.1008 - accuracy: 0.9580 - val_loss: 0.5599 - val_accuracy: 0.8370\n",
      "Epoch 98/100\n",
      "63/63 [==============================] - 20s 315ms/step - loss: 0.1079 - accuracy: 0.9595 - val_loss: 0.3810 - val_accuracy: 0.8780\n",
      "Epoch 99/100\n",
      "63/63 [==============================] - 20s 316ms/step - loss: 0.0990 - accuracy: 0.9640 - val_loss: 0.6402 - val_accuracy: 0.8200\n",
      "Epoch 100/100\n",
      "63/63 [==============================] - 20s 316ms/step - loss: 0.1012 - accuracy: 0.9560 - val_loss: 0.9986 - val_accuracy: 0.7760\n"
     ]
    }
   ],
   "source": [
    "model.compile(loss=\"binary_crossentropy\",\n",
    "              optimizer=\"rmsprop\",\n",
    "              metrics=[\"accuracy\"])\n",
    "history = model.fit(\n",
    "    train_dataset,\n",
    "    epochs=100,\n",
    "    batch_size=4,\n",
    "    validation_data=validation_dataset)"
   ]
  },
  {
   "cell_type": "markdown",
   "metadata": {},
   "source": [
    "#### 分別顯示訓練過程中loss跟accuracy的值"
   ]
  },
  {
   "cell_type": "code",
   "execution_count": 62,
   "metadata": {},
   "outputs": [
    {
     "data": {
      "text/plain": [
       "<matplotlib.legend.Legend at 0x2b4a622caf0>"
      ]
     },
     "execution_count": 62,
     "metadata": {},
     "output_type": "execute_result"
    },
    {
     "data": {
      "image/png": "[encoded data removed]",
      "text/plain": [
       "<Figure size 640x480 with 1 Axes>"
      ]
     },
     "metadata": {},
     "output_type": "display_data"
    }
   ],
   "source": [
    "import matplotlib.pyplot as plt\n",
    "\n",
    "epochs = range(1, len(history.history[\"loss\"]) + 1)\n",
    "loss = history.history[\"loss\"]\n",
    "val_loss = history.history[\"val_loss\"]\n",
    "plt.figure()\n",
    "plt.plot(epochs, loss, \"bo\", label=\"Training loss\")\n",
    "plt.plot(epochs, val_loss, \"b\", label=\"Validation loss\")\n",
    "plt.title(\"Training and validation loss\")\n",
    "plt.legend()"
   ]
  },
  {
   "cell_type": "code",
   "execution_count": 64,
   "metadata": {},
   "outputs": [
    {
     "data": {
      "text/plain": [
       "<matplotlib.legend.Legend at 0x2b81290d430>"
      ]
     },
     "execution_count": 64,
     "metadata": {},
     "output_type": "execute_result"
    },
    {
     "data": {
      "image/png": "[encoded data removed]",
      "text/plain": [
       "<Figure size 640x480 with 1 Axes>"
      ]
     },
     "metadata": {},
     "output_type": "display_data"
    }
   ],
   "source": [
    "epochs = range(1, len(history.history[\"accuracy\"]) + 1)\n",
    "accuracy = history.history[\"accuracy\"]\n",
    "val_accuracy = history.history[\"val_accuracy\"]\n",
    "plt.figure()\n",
    "plt.plot(epochs, accuracy, \"bo\", label=\"Training accuracy\")\n",
    "plt.plot(epochs, val_accuracy, \"b\", label=\"Validation accuracy\")\n",
    "plt.title(\"Training and validation accuracy\")\n",
    "plt.legend()"
   ]
  },
  {
   "cell_type": "code",
   "execution_count": null,
   "metadata": {},
   "outputs": [],
   "source": []
  }
 ],
 "metadata": {
  "colab": {
   "collapsed_sections": [],
   "name": "chapter09_part02_modern-convnet-architecture-patterns.i",
   "private_outputs": false,
   "provenance": [],
   "toc_visible": true
  },
  "kernelspec": {
   "display_name": "Python 3 (ipykernel)",
   "language": "python",
   "name": "python3"
  },
  "language_info": {
   "codemirror_mode": {
    "name": "ipython",
    "version": 3
   },
   "file_extension": ".py",
   "mimetype": "text/x-python",
   "name": "python",
   "nbconvert_exporter": "python",
   "pygments_lexer": "ipython3",
   "version": "3.8.15"
  }
 },
 "nbformat": 4,
 "nbformat_minor": 4
}
